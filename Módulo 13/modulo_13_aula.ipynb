{
  "nbformat": 4,
  "nbformat_minor": 0,
  "metadata": {
    "colab": {
      "name": "modulo_13_aula.ipynb",
      "provenance": [],
      "collapsed_sections": []
    },
    "kernelspec": {
      "name": "python3",
      "display_name": "Python 3"
    }
  },
  "cells": [
    {
      "cell_type": "markdown",
      "metadata": {
        "id": "KJqp9AANOCtf"
      },
      "source": [
        "<img src=\"https://raw.githubusercontent.com/andre-marcos-perez/ebac-course-utils/main/media/logo/newebac_logo_black_half.png\" alt=\"ebac-logo\">\n",
        "\n",
        "---\n",
        "\n",
        "# **Módulo** | Análise de Dados: Data Wrangling II\n",
        "Caderno de **Aula**<br> \n",
        "Professor [André Perez](https://www.linkedin.com/in/andremarcosperez/)\n",
        "\n",
        "---"
      ]
    },
    {
      "cell_type": "markdown",
      "metadata": {
        "id": "d9jDtUbDOE1-"
      },
      "source": [
        "# **Tópicos**\n",
        "\n",
        "<ol type=\"1\">\n",
        "  <li>Agregação e Ordenação;</li>\n",
        "  <li>Combinação;</li>\n",
        "  <li>Técnicas Avançadas.</li>\n",
        "</ol>"
      ]
    },
    {
      "cell_type": "markdown",
      "metadata": {
        "id": "SmoHgt-lwkpD"
      },
      "source": [
        "---"
      ]
    },
    {
      "cell_type": "markdown",
      "metadata": {
        "id": "GABI6OW8OfQ2"
      },
      "source": [
        "# **Aulas**"
      ]
    },
    {
      "cell_type": "markdown",
      "metadata": {
        "id": "eJ283bopLqLU"
      },
      "source": [
        "## 0\\. Estruturas de dados"
      ]
    },
    {
      "cell_type": "markdown",
      "metadata": {
        "id": "0gmSAOdOLqLU"
      },
      "source": [
        "*   **Não estruturado**: texto, imagem, aúdio, etc.\n",
        "*   **Semi estruturado**: html, json, etc.\n",
        "*   <font color='red'>**Estruturado**</font>: tabelas, planilhas, etc.\n",
        "\n"
      ]
    },
    {
      "cell_type": "markdown",
      "metadata": {
        "id": "muD1vxozykSC"
      },
      "source": [
        "## 1\\. Agregações e Ordenação"
      ]
    },
    {
      "cell_type": "markdown",
      "metadata": {
        "id": "fKMu_4U76NJu"
      },
      "source": [
        "**Arquivo CSV:** github.csv"
      ]
    },
    {
      "cell_type": "code",
      "metadata": {
        "id": "c3XbMbyT6NJv",
        "colab": {
          "base_uri": "https://localhost:8080/"
        },
        "outputId": "a44f10cc-703a-47ef-8e40-5d110a8dc422"
      },
      "source": [
        "%%writefile github.csv\n",
        "ranking;project;language;stars;stars_today;forks\n",
        "1;plow;go;1304;574;38\n",
        "2;n8n;typescript;15668;280;1370\n",
        "3;slides;go;3218;265;80\n",
        "4;defi-developer-road-map;;636;247;49\n",
        "5;pytorch-image-models;python;11065;101;1646\n",
        "6;javascript-algorithms;javascript;110768;248;18331\n",
        "7;paddleclas;python;1429;283;323\n",
        "8;reddit_sentiment_trader;python;369;71;60\n",
        "9;augly;python;2849;393;99\n",
        "10;self-taught-guide-to-cloud-computing;;863;179;84"
      ],
      "execution_count": null,
      "outputs": [
        {
          "output_type": "stream",
          "name": "stdout",
          "text": [
            "Writing github.csv\n"
          ]
        }
      ]
    },
    {
      "cell_type": "markdown",
      "metadata": {
        "id": "9y3xrTko6nd1"
      },
      "source": [
        "**DataFrame:** github_df"
      ]
    },
    {
      "cell_type": "code",
      "metadata": {
        "id": "ELMJkIhp6NJw"
      },
      "source": [
        "import pandas as pd\n",
        "\n",
        "github_df = pd.read_csv('github.csv', sep=';')"
      ],
      "execution_count": null,
      "outputs": []
    },
    {
      "cell_type": "code",
      "metadata": {
        "id": "aLeegU8R6NJx",
        "colab": {
          "base_uri": "https://localhost:8080/",
          "height": 359
        },
        "outputId": "fad90c8f-9187-4a86-d297-e27d50db857d"
      },
      "source": [
        "github_df"
      ],
      "execution_count": null,
      "outputs": [
        {
          "output_type": "execute_result",
          "data": {
            "text/html": [
              "<div>\n",
              "<style scoped>\n",
              "    .dataframe tbody tr th:only-of-type {\n",
              "        vertical-align: middle;\n",
              "    }\n",
              "\n",
              "    .dataframe tbody tr th {\n",
              "        vertical-align: top;\n",
              "    }\n",
              "\n",
              "    .dataframe thead th {\n",
              "        text-align: right;\n",
              "    }\n",
              "</style>\n",
              "<table border=\"1\" class=\"dataframe\">\n",
              "  <thead>\n",
              "    <tr style=\"text-align: right;\">\n",
              "      <th></th>\n",
              "      <th>ranking</th>\n",
              "      <th>project</th>\n",
              "      <th>language</th>\n",
              "      <th>stars</th>\n",
              "      <th>stars_today</th>\n",
              "      <th>forks</th>\n",
              "    </tr>\n",
              "  </thead>\n",
              "  <tbody>\n",
              "    <tr>\n",
              "      <th>0</th>\n",
              "      <td>1</td>\n",
              "      <td>plow</td>\n",
              "      <td>go</td>\n",
              "      <td>1304</td>\n",
              "      <td>574</td>\n",
              "      <td>38</td>\n",
              "    </tr>\n",
              "    <tr>\n",
              "      <th>1</th>\n",
              "      <td>2</td>\n",
              "      <td>n8n</td>\n",
              "      <td>typescript</td>\n",
              "      <td>15668</td>\n",
              "      <td>280</td>\n",
              "      <td>1370</td>\n",
              "    </tr>\n",
              "    <tr>\n",
              "      <th>2</th>\n",
              "      <td>3</td>\n",
              "      <td>slides</td>\n",
              "      <td>go</td>\n",
              "      <td>3218</td>\n",
              "      <td>265</td>\n",
              "      <td>80</td>\n",
              "    </tr>\n",
              "    <tr>\n",
              "      <th>3</th>\n",
              "      <td>4</td>\n",
              "      <td>defi-developer-road-map</td>\n",
              "      <td>NaN</td>\n",
              "      <td>636</td>\n",
              "      <td>247</td>\n",
              "      <td>49</td>\n",
              "    </tr>\n",
              "    <tr>\n",
              "      <th>4</th>\n",
              "      <td>5</td>\n",
              "      <td>pytorch-image-models</td>\n",
              "      <td>python</td>\n",
              "      <td>11065</td>\n",
              "      <td>101</td>\n",
              "      <td>1646</td>\n",
              "    </tr>\n",
              "    <tr>\n",
              "      <th>5</th>\n",
              "      <td>6</td>\n",
              "      <td>javascript-algorithms</td>\n",
              "      <td>javascript</td>\n",
              "      <td>110768</td>\n",
              "      <td>248</td>\n",
              "      <td>18331</td>\n",
              "    </tr>\n",
              "    <tr>\n",
              "      <th>6</th>\n",
              "      <td>7</td>\n",
              "      <td>paddleclas</td>\n",
              "      <td>python</td>\n",
              "      <td>1429</td>\n",
              "      <td>283</td>\n",
              "      <td>323</td>\n",
              "    </tr>\n",
              "    <tr>\n",
              "      <th>7</th>\n",
              "      <td>8</td>\n",
              "      <td>reddit_sentiment_trader</td>\n",
              "      <td>python</td>\n",
              "      <td>369</td>\n",
              "      <td>71</td>\n",
              "      <td>60</td>\n",
              "    </tr>\n",
              "    <tr>\n",
              "      <th>8</th>\n",
              "      <td>9</td>\n",
              "      <td>augly</td>\n",
              "      <td>python</td>\n",
              "      <td>2849</td>\n",
              "      <td>393</td>\n",
              "      <td>99</td>\n",
              "    </tr>\n",
              "    <tr>\n",
              "      <th>9</th>\n",
              "      <td>10</td>\n",
              "      <td>self-taught-guide-to-cloud-computing</td>\n",
              "      <td>NaN</td>\n",
              "      <td>863</td>\n",
              "      <td>179</td>\n",
              "      <td>84</td>\n",
              "    </tr>\n",
              "  </tbody>\n",
              "</table>\n",
              "</div>"
            ],
            "text/plain": [
              "   ranking                               project  ... stars_today  forks\n",
              "0        1                                  plow  ...         574     38\n",
              "1        2                                   n8n  ...         280   1370\n",
              "2        3                                slides  ...         265     80\n",
              "3        4               defi-developer-road-map  ...         247     49\n",
              "4        5                  pytorch-image-models  ...         101   1646\n",
              "5        6                 javascript-algorithms  ...         248  18331\n",
              "6        7                            paddleclas  ...         283    323\n",
              "7        8               reddit_sentiment_trader  ...          71     60\n",
              "8        9                                 augly  ...         393     99\n",
              "9       10  self-taught-guide-to-cloud-computing  ...         179     84\n",
              "\n",
              "[10 rows x 6 columns]"
            ]
          },
          "metadata": {},
          "execution_count": 3
        }
      ]
    },
    {
      "cell_type": "markdown",
      "metadata": {
        "id": "5a3_syBIP6yO"
      },
      "source": [
        "### **1.1. Agregações** "
      ]
    },
    {
      "cell_type": "markdown",
      "metadata": {
        "id": "NglCEvJDmqkw"
      },
      "source": [
        "Uma agregação é o processo de resumir um conjunto de dados através de uma métrica agregada, como soma, média, máximo, mínimo, etc."
      ]
    },
    {
      "cell_type": "markdown",
      "metadata": {
        "id": "eBpN50Xn692K"
      },
      "source": [
        "**Exemplo**: Agregação de dados com o método `describe`."
      ]
    },
    {
      "cell_type": "code",
      "metadata": {
        "id": "da_FFYmvGk02"
      },
      "source": [
        "describe_df = github_df[['ranking', 'stars', 'stars_today', 'forks']].describe().T # colunas numéricas"
      ],
      "execution_count": null,
      "outputs": []
    },
    {
      "cell_type": "code",
      "metadata": {
        "id": "pvq6nMap6fet",
        "colab": {
          "base_uri": "https://localhost:8080/",
          "height": 173
        },
        "outputId": "29e2535a-64e3-4599-f73d-910251abec4c"
      },
      "source": [
        "describe_df"
      ],
      "execution_count": null,
      "outputs": [
        {
          "output_type": "execute_result",
          "data": {
            "text/html": [
              "<div>\n",
              "<style scoped>\n",
              "    .dataframe tbody tr th:only-of-type {\n",
              "        vertical-align: middle;\n",
              "    }\n",
              "\n",
              "    .dataframe tbody tr th {\n",
              "        vertical-align: top;\n",
              "    }\n",
              "\n",
              "    .dataframe thead th {\n",
              "        text-align: right;\n",
              "    }\n",
              "</style>\n",
              "<table border=\"1\" class=\"dataframe\">\n",
              "  <thead>\n",
              "    <tr style=\"text-align: right;\">\n",
              "      <th></th>\n",
              "      <th>count</th>\n",
              "      <th>mean</th>\n",
              "      <th>std</th>\n",
              "      <th>min</th>\n",
              "      <th>25%</th>\n",
              "      <th>50%</th>\n",
              "      <th>75%</th>\n",
              "      <th>max</th>\n",
              "    </tr>\n",
              "  </thead>\n",
              "  <tbody>\n",
              "    <tr>\n",
              "      <th>ranking</th>\n",
              "      <td>10.0</td>\n",
              "      <td>5.5</td>\n",
              "      <td>3.027650</td>\n",
              "      <td>1.0</td>\n",
              "      <td>3.25</td>\n",
              "      <td>5.5</td>\n",
              "      <td>7.75</td>\n",
              "      <td>10.0</td>\n",
              "    </tr>\n",
              "    <tr>\n",
              "      <th>stars</th>\n",
              "      <td>10.0</td>\n",
              "      <td>14816.9</td>\n",
              "      <td>34100.448392</td>\n",
              "      <td>369.0</td>\n",
              "      <td>973.25</td>\n",
              "      <td>2139.0</td>\n",
              "      <td>9103.25</td>\n",
              "      <td>110768.0</td>\n",
              "    </tr>\n",
              "    <tr>\n",
              "      <th>stars_today</th>\n",
              "      <td>10.0</td>\n",
              "      <td>264.1</td>\n",
              "      <td>143.351510</td>\n",
              "      <td>71.0</td>\n",
              "      <td>196.00</td>\n",
              "      <td>256.5</td>\n",
              "      <td>282.25</td>\n",
              "      <td>574.0</td>\n",
              "    </tr>\n",
              "    <tr>\n",
              "      <th>forks</th>\n",
              "      <td>10.0</td>\n",
              "      <td>2208.0</td>\n",
              "      <td>5695.945615</td>\n",
              "      <td>38.0</td>\n",
              "      <td>65.00</td>\n",
              "      <td>91.5</td>\n",
              "      <td>1108.25</td>\n",
              "      <td>18331.0</td>\n",
              "    </tr>\n",
              "  </tbody>\n",
              "</table>\n",
              "</div>"
            ],
            "text/plain": [
              "             count     mean           std  ...     50%      75%       max\n",
              "ranking       10.0      5.5      3.027650  ...     5.5     7.75      10.0\n",
              "stars         10.0  14816.9  34100.448392  ...  2139.0  9103.25  110768.0\n",
              "stars_today   10.0    264.1    143.351510  ...   256.5   282.25     574.0\n",
              "forks         10.0   2208.0   5695.945615  ...    91.5  1108.25   18331.0\n",
              "\n",
              "[4 rows x 8 columns]"
            ]
          },
          "metadata": {},
          "execution_count": 5
        }
      ]
    },
    {
      "cell_type": "code",
      "metadata": {
        "id": "Uw1IObLV6gdn",
        "colab": {
          "base_uri": "https://localhost:8080/"
        },
        "outputId": "96402716-4ecd-42d8-bb8c-16315ad1e8f1"
      },
      "source": [
        "describe_df.loc['stars', 'max']"
      ],
      "execution_count": null,
      "outputs": [
        {
          "output_type": "execute_result",
          "data": {
            "text/plain": [
              "110768.0"
            ]
          },
          "metadata": {},
          "execution_count": 6
        }
      ]
    },
    {
      "cell_type": "code",
      "metadata": {
        "colab": {
          "base_uri": "https://localhost:8080/"
        },
        "id": "qsdNeuBXHGXw",
        "outputId": "a12aa3f9-0242-4614-96b9-93e43706e3a7"
      },
      "source": [
        "describe_df.loc['forks', 'std']"
      ],
      "execution_count": null,
      "outputs": [
        {
          "output_type": "execute_result",
          "data": {
            "text/plain": [
              "5695.945614596793"
            ]
          },
          "metadata": {},
          "execution_count": 7
        }
      ]
    },
    {
      "cell_type": "code",
      "metadata": {
        "colab": {
          "base_uri": "https://localhost:8080/"
        },
        "id": "f4SxJBcQHVSy",
        "outputId": "158194d1-dde4-4047-cecb-4cfaef178f46"
      },
      "source": [
        "describe_df.iloc[2,1]"
      ],
      "execution_count": null,
      "outputs": [
        {
          "output_type": "execute_result",
          "data": {
            "text/plain": [
              "264.1"
            ]
          },
          "metadata": {},
          "execution_count": 8
        }
      ]
    },
    {
      "cell_type": "markdown",
      "metadata": {
        "id": "Z9atO2Ri5Ono"
      },
      "source": [
        "**Exemplo**: Agregação com o método `agg`.\n"
      ]
    },
    {
      "cell_type": "code",
      "metadata": {
        "id": "lCHiVPtL4lPr"
      },
      "source": [
        "sum_series = github_df[['stars', 'stars_today', 'forks']].agg('sum')"
      ],
      "execution_count": null,
      "outputs": []
    },
    {
      "cell_type": "code",
      "metadata": {
        "id": "8pqLFwHk6Vue",
        "colab": {
          "base_uri": "https://localhost:8080/"
        },
        "outputId": "3122e8c8-8ea2-4d83-fe47-aad531e6e0cd"
      },
      "source": [
        "sum_series"
      ],
      "execution_count": null,
      "outputs": [
        {
          "output_type": "execute_result",
          "data": {
            "text/plain": [
              "stars          148169\n",
              "stars_today      2641\n",
              "forks           22080\n",
              "dtype: int64"
            ]
          },
          "metadata": {},
          "execution_count": 10
        }
      ]
    },
    {
      "cell_type": "code",
      "metadata": {
        "id": "CUrdORYu6rmS",
        "colab": {
          "base_uri": "https://localhost:8080/"
        },
        "outputId": "1bc59141-4d0b-4449-fe48-ba4e035bca66"
      },
      "source": [
        "sum_series.loc['stars']"
      ],
      "execution_count": null,
      "outputs": [
        {
          "output_type": "execute_result",
          "data": {
            "text/plain": [
              "148169"
            ]
          },
          "metadata": {},
          "execution_count": 11
        }
      ]
    },
    {
      "cell_type": "markdown",
      "metadata": {
        "id": "0ZB6_PNi86G5"
      },
      "source": [
        "**Exemplo**: Agregação com o método `agg` com múltiplas métricas."
      ]
    },
    {
      "cell_type": "code",
      "metadata": {
        "id": "1tPYQsg57L82"
      },
      "source": [
        "mean_max_df = github_df[['stars', 'stars_today', 'forks']].agg(['mean','max',])"
      ],
      "execution_count": null,
      "outputs": []
    },
    {
      "cell_type": "code",
      "metadata": {
        "id": "DOGSp3f29GgM",
        "colab": {
          "base_uri": "https://localhost:8080/",
          "height": 111
        },
        "outputId": "af0aba77-bea0-4af8-cbe2-baefcc8e16c0"
      },
      "source": [
        "mean_max_df"
      ],
      "execution_count": null,
      "outputs": [
        {
          "output_type": "execute_result",
          "data": {
            "text/html": [
              "<div>\n",
              "<style scoped>\n",
              "    .dataframe tbody tr th:only-of-type {\n",
              "        vertical-align: middle;\n",
              "    }\n",
              "\n",
              "    .dataframe tbody tr th {\n",
              "        vertical-align: top;\n",
              "    }\n",
              "\n",
              "    .dataframe thead th {\n",
              "        text-align: right;\n",
              "    }\n",
              "</style>\n",
              "<table border=\"1\" class=\"dataframe\">\n",
              "  <thead>\n",
              "    <tr style=\"text-align: right;\">\n",
              "      <th></th>\n",
              "      <th>stars</th>\n",
              "      <th>stars_today</th>\n",
              "      <th>forks</th>\n",
              "    </tr>\n",
              "  </thead>\n",
              "  <tbody>\n",
              "    <tr>\n",
              "      <th>mean</th>\n",
              "      <td>14816.9</td>\n",
              "      <td>264.1</td>\n",
              "      <td>2208.0</td>\n",
              "    </tr>\n",
              "    <tr>\n",
              "      <th>max</th>\n",
              "      <td>110768.0</td>\n",
              "      <td>574.0</td>\n",
              "      <td>18331.0</td>\n",
              "    </tr>\n",
              "  </tbody>\n",
              "</table>\n",
              "</div>"
            ],
            "text/plain": [
              "         stars  stars_today    forks\n",
              "mean   14816.9        264.1   2208.0\n",
              "max   110768.0        574.0  18331.0"
            ]
          },
          "metadata": {},
          "execution_count": 13
        }
      ]
    },
    {
      "cell_type": "code",
      "metadata": {
        "id": "RrIWDxp79G42",
        "colab": {
          "base_uri": "https://localhost:8080/"
        },
        "outputId": "7c860c28-aec9-4320-a9b6-67a2738d451c"
      },
      "source": [
        "mean_max_df.loc['mean', 'stars']"
      ],
      "execution_count": null,
      "outputs": [
        {
          "output_type": "execute_result",
          "data": {
            "text/plain": [
              "14816.9"
            ]
          },
          "metadata": {},
          "execution_count": 14
        }
      ]
    },
    {
      "cell_type": "code",
      "metadata": {
        "colab": {
          "base_uri": "https://localhost:8080/",
          "height": 111
        },
        "id": "6tpYvPaUIV8S",
        "outputId": "8b76dd08-4e8d-4971-a627-1ae6092654f9"
      },
      "source": [
        "mean_std_df = github_df[['stars', 'forks']].agg(['mean','std'])\n",
        "mean_std_df"
      ],
      "execution_count": null,
      "outputs": [
        {
          "output_type": "execute_result",
          "data": {
            "text/html": [
              "<div>\n",
              "<style scoped>\n",
              "    .dataframe tbody tr th:only-of-type {\n",
              "        vertical-align: middle;\n",
              "    }\n",
              "\n",
              "    .dataframe tbody tr th {\n",
              "        vertical-align: top;\n",
              "    }\n",
              "\n",
              "    .dataframe thead th {\n",
              "        text-align: right;\n",
              "    }\n",
              "</style>\n",
              "<table border=\"1\" class=\"dataframe\">\n",
              "  <thead>\n",
              "    <tr style=\"text-align: right;\">\n",
              "      <th></th>\n",
              "      <th>stars</th>\n",
              "      <th>forks</th>\n",
              "    </tr>\n",
              "  </thead>\n",
              "  <tbody>\n",
              "    <tr>\n",
              "      <th>mean</th>\n",
              "      <td>14816.900000</td>\n",
              "      <td>2208.000000</td>\n",
              "    </tr>\n",
              "    <tr>\n",
              "      <th>std</th>\n",
              "      <td>34100.448392</td>\n",
              "      <td>5695.945615</td>\n",
              "    </tr>\n",
              "  </tbody>\n",
              "</table>\n",
              "</div>"
            ],
            "text/plain": [
              "             stars        forks\n",
              "mean  14816.900000  2208.000000\n",
              "std   34100.448392  5695.945615"
            ]
          },
          "metadata": {},
          "execution_count": 15
        }
      ]
    },
    {
      "cell_type": "code",
      "metadata": {
        "colab": {
          "base_uri": "https://localhost:8080/"
        },
        "id": "eJWquO93IjlF",
        "outputId": "e923b361-02ee-4353-c072-00859a9e9f3f"
      },
      "source": [
        "#retornando a 'std' de forks:\n",
        "mean_std_df.loc['std','forks']"
      ],
      "execution_count": null,
      "outputs": [
        {
          "output_type": "execute_result",
          "data": {
            "text/plain": [
              "5695.945614596793"
            ]
          },
          "metadata": {},
          "execution_count": 16
        }
      ]
    },
    {
      "cell_type": "markdown",
      "metadata": {
        "id": "ww4Bwr5H7YZz"
      },
      "source": [
        "**Exemplo**: Agregação por grupos com os métodos `groupby` e `agg`.\n"
      ]
    },
    {
      "cell_type": "code",
      "metadata": {
        "id": "FRcRvEU57ygV"
      },
      "source": [
        "grouped_sum_df = github_df[['language', 'stars', 'stars_today', 'forks']].groupby('language').agg('sum')"
      ],
      "execution_count": null,
      "outputs": []
    },
    {
      "cell_type": "code",
      "metadata": {
        "id": "rShIT84Q7qAW",
        "colab": {
          "base_uri": "https://localhost:8080/",
          "height": 204
        },
        "outputId": "14f17e72-242e-4624-fe97-60e12923a7eb"
      },
      "source": [
        "grouped_sum_df"
      ],
      "execution_count": null,
      "outputs": [
        {
          "output_type": "execute_result",
          "data": {
            "text/html": [
              "<div>\n",
              "<style scoped>\n",
              "    .dataframe tbody tr th:only-of-type {\n",
              "        vertical-align: middle;\n",
              "    }\n",
              "\n",
              "    .dataframe tbody tr th {\n",
              "        vertical-align: top;\n",
              "    }\n",
              "\n",
              "    .dataframe thead th {\n",
              "        text-align: right;\n",
              "    }\n",
              "</style>\n",
              "<table border=\"1\" class=\"dataframe\">\n",
              "  <thead>\n",
              "    <tr style=\"text-align: right;\">\n",
              "      <th></th>\n",
              "      <th>stars</th>\n",
              "      <th>stars_today</th>\n",
              "      <th>forks</th>\n",
              "    </tr>\n",
              "    <tr>\n",
              "      <th>language</th>\n",
              "      <th></th>\n",
              "      <th></th>\n",
              "      <th></th>\n",
              "    </tr>\n",
              "  </thead>\n",
              "  <tbody>\n",
              "    <tr>\n",
              "      <th>go</th>\n",
              "      <td>4522</td>\n",
              "      <td>839</td>\n",
              "      <td>118</td>\n",
              "    </tr>\n",
              "    <tr>\n",
              "      <th>javascript</th>\n",
              "      <td>110768</td>\n",
              "      <td>248</td>\n",
              "      <td>18331</td>\n",
              "    </tr>\n",
              "    <tr>\n",
              "      <th>python</th>\n",
              "      <td>15712</td>\n",
              "      <td>848</td>\n",
              "      <td>2128</td>\n",
              "    </tr>\n",
              "    <tr>\n",
              "      <th>typescript</th>\n",
              "      <td>15668</td>\n",
              "      <td>280</td>\n",
              "      <td>1370</td>\n",
              "    </tr>\n",
              "  </tbody>\n",
              "</table>\n",
              "</div>"
            ],
            "text/plain": [
              "             stars  stars_today  forks\n",
              "language                              \n",
              "go            4522          839    118\n",
              "javascript  110768          248  18331\n",
              "python       15712          848   2128\n",
              "typescript   15668          280   1370"
            ]
          },
          "metadata": {},
          "execution_count": 18
        }
      ]
    },
    {
      "cell_type": "code",
      "metadata": {
        "id": "3v6xYTXx7ui5",
        "colab": {
          "base_uri": "https://localhost:8080/"
        },
        "outputId": "639f28e3-82ca-4927-fdc2-a900cd14cacb"
      },
      "source": [
        "grouped_sum_df.loc['python', 'stars']"
      ],
      "execution_count": null,
      "outputs": [
        {
          "output_type": "execute_result",
          "data": {
            "text/plain": [
              "15712"
            ]
          },
          "metadata": {},
          "execution_count": 19
        }
      ]
    },
    {
      "cell_type": "code",
      "metadata": {
        "colab": {
          "base_uri": "https://localhost:8080/",
          "height": 235
        },
        "id": "qwcQ0NL3Jbd7",
        "outputId": "c3b28fc0-e4e6-49f4-8839-27a652515f36"
      },
      "source": [
        "#Agrupando por outras métricas:\n",
        "grouped_df = github_df[['language','stars', 'stars_today', 'forks']].groupby('language').agg(['count','mean'])\n",
        "grouped_df"
      ],
      "execution_count": null,
      "outputs": [
        {
          "output_type": "execute_result",
          "data": {
            "text/html": [
              "<div>\n",
              "<style scoped>\n",
              "    .dataframe tbody tr th:only-of-type {\n",
              "        vertical-align: middle;\n",
              "    }\n",
              "\n",
              "    .dataframe tbody tr th {\n",
              "        vertical-align: top;\n",
              "    }\n",
              "\n",
              "    .dataframe thead tr th {\n",
              "        text-align: left;\n",
              "    }\n",
              "\n",
              "    .dataframe thead tr:last-of-type th {\n",
              "        text-align: right;\n",
              "    }\n",
              "</style>\n",
              "<table border=\"1\" class=\"dataframe\">\n",
              "  <thead>\n",
              "    <tr>\n",
              "      <th></th>\n",
              "      <th colspan=\"2\" halign=\"left\">stars</th>\n",
              "      <th colspan=\"2\" halign=\"left\">stars_today</th>\n",
              "      <th colspan=\"2\" halign=\"left\">forks</th>\n",
              "    </tr>\n",
              "    <tr>\n",
              "      <th></th>\n",
              "      <th>count</th>\n",
              "      <th>mean</th>\n",
              "      <th>count</th>\n",
              "      <th>mean</th>\n",
              "      <th>count</th>\n",
              "      <th>mean</th>\n",
              "    </tr>\n",
              "    <tr>\n",
              "      <th>language</th>\n",
              "      <th></th>\n",
              "      <th></th>\n",
              "      <th></th>\n",
              "      <th></th>\n",
              "      <th></th>\n",
              "      <th></th>\n",
              "    </tr>\n",
              "  </thead>\n",
              "  <tbody>\n",
              "    <tr>\n",
              "      <th>go</th>\n",
              "      <td>2</td>\n",
              "      <td>2261</td>\n",
              "      <td>2</td>\n",
              "      <td>419.5</td>\n",
              "      <td>2</td>\n",
              "      <td>59</td>\n",
              "    </tr>\n",
              "    <tr>\n",
              "      <th>javascript</th>\n",
              "      <td>1</td>\n",
              "      <td>110768</td>\n",
              "      <td>1</td>\n",
              "      <td>248.0</td>\n",
              "      <td>1</td>\n",
              "      <td>18331</td>\n",
              "    </tr>\n",
              "    <tr>\n",
              "      <th>python</th>\n",
              "      <td>4</td>\n",
              "      <td>3928</td>\n",
              "      <td>4</td>\n",
              "      <td>212.0</td>\n",
              "      <td>4</td>\n",
              "      <td>532</td>\n",
              "    </tr>\n",
              "    <tr>\n",
              "      <th>typescript</th>\n",
              "      <td>1</td>\n",
              "      <td>15668</td>\n",
              "      <td>1</td>\n",
              "      <td>280.0</td>\n",
              "      <td>1</td>\n",
              "      <td>1370</td>\n",
              "    </tr>\n",
              "  </tbody>\n",
              "</table>\n",
              "</div>"
            ],
            "text/plain": [
              "           stars         stars_today        forks       \n",
              "           count    mean       count   mean count   mean\n",
              "language                                                \n",
              "go             2    2261           2  419.5     2     59\n",
              "javascript     1  110768           1  248.0     1  18331\n",
              "python         4    3928           4  212.0     4    532\n",
              "typescript     1   15668           1  280.0     1   1370"
            ]
          },
          "metadata": {},
          "execution_count": 20
        }
      ]
    },
    {
      "cell_type": "markdown",
      "metadata": {
        "id": "UONWi7ze8mC9"
      },
      "source": [
        "**Exemplo**: Agregação por grupos com os métodos `groupby` e `agg` com multiplas métricas."
      ]
    },
    {
      "cell_type": "code",
      "metadata": {
        "id": "8dA9dB_O7f-T"
      },
      "source": [
        "grouped_count_sum_mean_std_df = github_df[['language', 'stars', 'stars_today', 'forks']].groupby('language').agg(['count', 'sum', 'mean', 'std'])"
      ],
      "execution_count": null,
      "outputs": []
    },
    {
      "cell_type": "code",
      "metadata": {
        "id": "9WxGoTnC7OC4",
        "colab": {
          "base_uri": "https://localhost:8080/",
          "height": 235
        },
        "outputId": "62efee7e-66f0-4071-a762-ff02264b73fa"
      },
      "source": [
        "grouped_count_sum_mean_std_df"
      ],
      "execution_count": null,
      "outputs": [
        {
          "output_type": "execute_result",
          "data": {
            "text/html": [
              "<div>\n",
              "<style scoped>\n",
              "    .dataframe tbody tr th:only-of-type {\n",
              "        vertical-align: middle;\n",
              "    }\n",
              "\n",
              "    .dataframe tbody tr th {\n",
              "        vertical-align: top;\n",
              "    }\n",
              "\n",
              "    .dataframe thead tr th {\n",
              "        text-align: left;\n",
              "    }\n",
              "\n",
              "    .dataframe thead tr:last-of-type th {\n",
              "        text-align: right;\n",
              "    }\n",
              "</style>\n",
              "<table border=\"1\" class=\"dataframe\">\n",
              "  <thead>\n",
              "    <tr>\n",
              "      <th></th>\n",
              "      <th colspan=\"4\" halign=\"left\">stars</th>\n",
              "      <th colspan=\"4\" halign=\"left\">stars_today</th>\n",
              "      <th colspan=\"4\" halign=\"left\">forks</th>\n",
              "    </tr>\n",
              "    <tr>\n",
              "      <th></th>\n",
              "      <th>count</th>\n",
              "      <th>sum</th>\n",
              "      <th>mean</th>\n",
              "      <th>std</th>\n",
              "      <th>count</th>\n",
              "      <th>sum</th>\n",
              "      <th>mean</th>\n",
              "      <th>std</th>\n",
              "      <th>count</th>\n",
              "      <th>sum</th>\n",
              "      <th>mean</th>\n",
              "      <th>std</th>\n",
              "    </tr>\n",
              "    <tr>\n",
              "      <th>language</th>\n",
              "      <th></th>\n",
              "      <th></th>\n",
              "      <th></th>\n",
              "      <th></th>\n",
              "      <th></th>\n",
              "      <th></th>\n",
              "      <th></th>\n",
              "      <th></th>\n",
              "      <th></th>\n",
              "      <th></th>\n",
              "      <th></th>\n",
              "      <th></th>\n",
              "    </tr>\n",
              "  </thead>\n",
              "  <tbody>\n",
              "    <tr>\n",
              "      <th>go</th>\n",
              "      <td>2</td>\n",
              "      <td>4522</td>\n",
              "      <td>2261</td>\n",
              "      <td>1353.402379</td>\n",
              "      <td>2</td>\n",
              "      <td>839</td>\n",
              "      <td>419.5</td>\n",
              "      <td>218.495995</td>\n",
              "      <td>2</td>\n",
              "      <td>118</td>\n",
              "      <td>59</td>\n",
              "      <td>29.698485</td>\n",
              "    </tr>\n",
              "    <tr>\n",
              "      <th>javascript</th>\n",
              "      <td>1</td>\n",
              "      <td>110768</td>\n",
              "      <td>110768</td>\n",
              "      <td>NaN</td>\n",
              "      <td>1</td>\n",
              "      <td>248</td>\n",
              "      <td>248.0</td>\n",
              "      <td>NaN</td>\n",
              "      <td>1</td>\n",
              "      <td>18331</td>\n",
              "      <td>18331</td>\n",
              "      <td>NaN</td>\n",
              "    </tr>\n",
              "    <tr>\n",
              "      <th>python</th>\n",
              "      <td>4</td>\n",
              "      <td>15712</td>\n",
              "      <td>3928</td>\n",
              "      <td>4865.267790</td>\n",
              "      <td>4</td>\n",
              "      <td>848</td>\n",
              "      <td>212.0</td>\n",
              "      <td>152.756887</td>\n",
              "      <td>4</td>\n",
              "      <td>2128</td>\n",
              "      <td>532</td>\n",
              "      <td>751.653732</td>\n",
              "    </tr>\n",
              "    <tr>\n",
              "      <th>typescript</th>\n",
              "      <td>1</td>\n",
              "      <td>15668</td>\n",
              "      <td>15668</td>\n",
              "      <td>NaN</td>\n",
              "      <td>1</td>\n",
              "      <td>280</td>\n",
              "      <td>280.0</td>\n",
              "      <td>NaN</td>\n",
              "      <td>1</td>\n",
              "      <td>1370</td>\n",
              "      <td>1370</td>\n",
              "      <td>NaN</td>\n",
              "    </tr>\n",
              "  </tbody>\n",
              "</table>\n",
              "</div>"
            ],
            "text/plain": [
              "           stars                               ... forks                          \n",
              "           count     sum    mean          std  ... count    sum   mean         std\n",
              "language                                       ...                                \n",
              "go             2    4522    2261  1353.402379  ...     2    118     59   29.698485\n",
              "javascript     1  110768  110768          NaN  ...     1  18331  18331         NaN\n",
              "python         4   15712    3928  4865.267790  ...     4   2128    532  751.653732\n",
              "typescript     1   15668   15668          NaN  ...     1   1370   1370         NaN\n",
              "\n",
              "[4 rows x 12 columns]"
            ]
          },
          "metadata": {},
          "execution_count": 22
        }
      ]
    },
    {
      "cell_type": "code",
      "metadata": {
        "id": "XivpX3f_7kgk",
        "colab": {
          "base_uri": "https://localhost:8080/"
        },
        "outputId": "5f6f27f7-be84-4f5e-87ed-de5126a158af"
      },
      "source": [
        "grouped_count_sum_mean_std_df.loc['python', 'stars']"
      ],
      "execution_count": null,
      "outputs": [
        {
          "output_type": "execute_result",
          "data": {
            "text/plain": [
              "count        4.00000\n",
              "sum      15712.00000\n",
              "mean      3928.00000\n",
              "std       4865.26779\n",
              "Name: python, dtype: float64"
            ]
          },
          "metadata": {},
          "execution_count": 23
        }
      ]
    },
    {
      "cell_type": "code",
      "metadata": {
        "id": "RJPXFS0Q7HDd",
        "colab": {
          "base_uri": "https://localhost:8080/"
        },
        "outputId": "1cb59de3-45b7-406f-f265-da0529cb92f8"
      },
      "source": [
        "grouped_count_sum_mean_std_df.loc['python', 'stars'].loc['sum']"
      ],
      "execution_count": null,
      "outputs": [
        {
          "output_type": "execute_result",
          "data": {
            "text/plain": [
              "15712.0"
            ]
          },
          "metadata": {},
          "execution_count": 24
        }
      ]
    },
    {
      "cell_type": "markdown",
      "metadata": {
        "id": "ymoAXSbFEcvt"
      },
      "source": [
        "### **1.2. Ordenação** "
      ]
    },
    {
      "cell_type": "markdown",
      "metadata": {
        "id": "fBx76tlzEmaQ"
      },
      "source": [
        "Uma ordenação é o processo de ordernar um conjunto de dados a partir de um conjunto de colunas e um critério (ascendente ou descendente). "
      ]
    },
    {
      "cell_type": "markdown",
      "metadata": {
        "id": "kW6_hdDj-3Mq"
      },
      "source": [
        "**Exemplo**: Ordernação com uma coluna de referência através do método `sort_values`."
      ]
    },
    {
      "cell_type": "code",
      "metadata": {
        "id": "oxYkPTvJE6Ug",
        "colab": {
          "base_uri": "https://localhost:8080/",
          "height": 359
        },
        "outputId": "3374f0a3-53a5-4d51-e665-07647e60055d"
      },
      "source": [
        "github_df.sort_values(by=['stars'])"
      ],
      "execution_count": null,
      "outputs": [
        {
          "output_type": "execute_result",
          "data": {
            "text/html": [
              "<div>\n",
              "<style scoped>\n",
              "    .dataframe tbody tr th:only-of-type {\n",
              "        vertical-align: middle;\n",
              "    }\n",
              "\n",
              "    .dataframe tbody tr th {\n",
              "        vertical-align: top;\n",
              "    }\n",
              "\n",
              "    .dataframe thead th {\n",
              "        text-align: right;\n",
              "    }\n",
              "</style>\n",
              "<table border=\"1\" class=\"dataframe\">\n",
              "  <thead>\n",
              "    <tr style=\"text-align: right;\">\n",
              "      <th></th>\n",
              "      <th>ranking</th>\n",
              "      <th>project</th>\n",
              "      <th>language</th>\n",
              "      <th>stars</th>\n",
              "      <th>stars_today</th>\n",
              "      <th>forks</th>\n",
              "    </tr>\n",
              "  </thead>\n",
              "  <tbody>\n",
              "    <tr>\n",
              "      <th>7</th>\n",
              "      <td>8</td>\n",
              "      <td>reddit_sentiment_trader</td>\n",
              "      <td>python</td>\n",
              "      <td>369</td>\n",
              "      <td>71</td>\n",
              "      <td>60</td>\n",
              "    </tr>\n",
              "    <tr>\n",
              "      <th>3</th>\n",
              "      <td>4</td>\n",
              "      <td>defi-developer-road-map</td>\n",
              "      <td>NaN</td>\n",
              "      <td>636</td>\n",
              "      <td>247</td>\n",
              "      <td>49</td>\n",
              "    </tr>\n",
              "    <tr>\n",
              "      <th>9</th>\n",
              "      <td>10</td>\n",
              "      <td>self-taught-guide-to-cloud-computing</td>\n",
              "      <td>NaN</td>\n",
              "      <td>863</td>\n",
              "      <td>179</td>\n",
              "      <td>84</td>\n",
              "    </tr>\n",
              "    <tr>\n",
              "      <th>0</th>\n",
              "      <td>1</td>\n",
              "      <td>plow</td>\n",
              "      <td>go</td>\n",
              "      <td>1304</td>\n",
              "      <td>574</td>\n",
              "      <td>38</td>\n",
              "    </tr>\n",
              "    <tr>\n",
              "      <th>6</th>\n",
              "      <td>7</td>\n",
              "      <td>paddleclas</td>\n",
              "      <td>python</td>\n",
              "      <td>1429</td>\n",
              "      <td>283</td>\n",
              "      <td>323</td>\n",
              "    </tr>\n",
              "    <tr>\n",
              "      <th>8</th>\n",
              "      <td>9</td>\n",
              "      <td>augly</td>\n",
              "      <td>python</td>\n",
              "      <td>2849</td>\n",
              "      <td>393</td>\n",
              "      <td>99</td>\n",
              "    </tr>\n",
              "    <tr>\n",
              "      <th>2</th>\n",
              "      <td>3</td>\n",
              "      <td>slides</td>\n",
              "      <td>go</td>\n",
              "      <td>3218</td>\n",
              "      <td>265</td>\n",
              "      <td>80</td>\n",
              "    </tr>\n",
              "    <tr>\n",
              "      <th>4</th>\n",
              "      <td>5</td>\n",
              "      <td>pytorch-image-models</td>\n",
              "      <td>python</td>\n",
              "      <td>11065</td>\n",
              "      <td>101</td>\n",
              "      <td>1646</td>\n",
              "    </tr>\n",
              "    <tr>\n",
              "      <th>1</th>\n",
              "      <td>2</td>\n",
              "      <td>n8n</td>\n",
              "      <td>typescript</td>\n",
              "      <td>15668</td>\n",
              "      <td>280</td>\n",
              "      <td>1370</td>\n",
              "    </tr>\n",
              "    <tr>\n",
              "      <th>5</th>\n",
              "      <td>6</td>\n",
              "      <td>javascript-algorithms</td>\n",
              "      <td>javascript</td>\n",
              "      <td>110768</td>\n",
              "      <td>248</td>\n",
              "      <td>18331</td>\n",
              "    </tr>\n",
              "  </tbody>\n",
              "</table>\n",
              "</div>"
            ],
            "text/plain": [
              "   ranking                               project  ... stars_today  forks\n",
              "7        8               reddit_sentiment_trader  ...          71     60\n",
              "3        4               defi-developer-road-map  ...         247     49\n",
              "9       10  self-taught-guide-to-cloud-computing  ...         179     84\n",
              "0        1                                  plow  ...         574     38\n",
              "6        7                            paddleclas  ...         283    323\n",
              "8        9                                 augly  ...         393     99\n",
              "2        3                                slides  ...         265     80\n",
              "4        5                  pytorch-image-models  ...         101   1646\n",
              "1        2                                   n8n  ...         280   1370\n",
              "5        6                 javascript-algorithms  ...         248  18331\n",
              "\n",
              "[10 rows x 6 columns]"
            ]
          },
          "metadata": {},
          "execution_count": 25
        }
      ]
    },
    {
      "cell_type": "code",
      "metadata": {
        "id": "BGAOxFLb_SDv",
        "colab": {
          "base_uri": "https://localhost:8080/",
          "height": 359
        },
        "outputId": "e621879e-0868-48e6-bd59-4148e530f35b"
      },
      "source": [
        "github_df.sort_values(by=['stars'], ascending=False)"
      ],
      "execution_count": null,
      "outputs": [
        {
          "output_type": "execute_result",
          "data": {
            "text/html": [
              "<div>\n",
              "<style scoped>\n",
              "    .dataframe tbody tr th:only-of-type {\n",
              "        vertical-align: middle;\n",
              "    }\n",
              "\n",
              "    .dataframe tbody tr th {\n",
              "        vertical-align: top;\n",
              "    }\n",
              "\n",
              "    .dataframe thead th {\n",
              "        text-align: right;\n",
              "    }\n",
              "</style>\n",
              "<table border=\"1\" class=\"dataframe\">\n",
              "  <thead>\n",
              "    <tr style=\"text-align: right;\">\n",
              "      <th></th>\n",
              "      <th>ranking</th>\n",
              "      <th>project</th>\n",
              "      <th>language</th>\n",
              "      <th>stars</th>\n",
              "      <th>stars_today</th>\n",
              "      <th>forks</th>\n",
              "    </tr>\n",
              "  </thead>\n",
              "  <tbody>\n",
              "    <tr>\n",
              "      <th>5</th>\n",
              "      <td>6</td>\n",
              "      <td>javascript-algorithms</td>\n",
              "      <td>javascript</td>\n",
              "      <td>110768</td>\n",
              "      <td>248</td>\n",
              "      <td>18331</td>\n",
              "    </tr>\n",
              "    <tr>\n",
              "      <th>1</th>\n",
              "      <td>2</td>\n",
              "      <td>n8n</td>\n",
              "      <td>typescript</td>\n",
              "      <td>15668</td>\n",
              "      <td>280</td>\n",
              "      <td>1370</td>\n",
              "    </tr>\n",
              "    <tr>\n",
              "      <th>4</th>\n",
              "      <td>5</td>\n",
              "      <td>pytorch-image-models</td>\n",
              "      <td>python</td>\n",
              "      <td>11065</td>\n",
              "      <td>101</td>\n",
              "      <td>1646</td>\n",
              "    </tr>\n",
              "    <tr>\n",
              "      <th>2</th>\n",
              "      <td>3</td>\n",
              "      <td>slides</td>\n",
              "      <td>go</td>\n",
              "      <td>3218</td>\n",
              "      <td>265</td>\n",
              "      <td>80</td>\n",
              "    </tr>\n",
              "    <tr>\n",
              "      <th>8</th>\n",
              "      <td>9</td>\n",
              "      <td>augly</td>\n",
              "      <td>python</td>\n",
              "      <td>2849</td>\n",
              "      <td>393</td>\n",
              "      <td>99</td>\n",
              "    </tr>\n",
              "    <tr>\n",
              "      <th>6</th>\n",
              "      <td>7</td>\n",
              "      <td>paddleclas</td>\n",
              "      <td>python</td>\n",
              "      <td>1429</td>\n",
              "      <td>283</td>\n",
              "      <td>323</td>\n",
              "    </tr>\n",
              "    <tr>\n",
              "      <th>0</th>\n",
              "      <td>1</td>\n",
              "      <td>plow</td>\n",
              "      <td>go</td>\n",
              "      <td>1304</td>\n",
              "      <td>574</td>\n",
              "      <td>38</td>\n",
              "    </tr>\n",
              "    <tr>\n",
              "      <th>9</th>\n",
              "      <td>10</td>\n",
              "      <td>self-taught-guide-to-cloud-computing</td>\n",
              "      <td>NaN</td>\n",
              "      <td>863</td>\n",
              "      <td>179</td>\n",
              "      <td>84</td>\n",
              "    </tr>\n",
              "    <tr>\n",
              "      <th>3</th>\n",
              "      <td>4</td>\n",
              "      <td>defi-developer-road-map</td>\n",
              "      <td>NaN</td>\n",
              "      <td>636</td>\n",
              "      <td>247</td>\n",
              "      <td>49</td>\n",
              "    </tr>\n",
              "    <tr>\n",
              "      <th>7</th>\n",
              "      <td>8</td>\n",
              "      <td>reddit_sentiment_trader</td>\n",
              "      <td>python</td>\n",
              "      <td>369</td>\n",
              "      <td>71</td>\n",
              "      <td>60</td>\n",
              "    </tr>\n",
              "  </tbody>\n",
              "</table>\n",
              "</div>"
            ],
            "text/plain": [
              "   ranking                               project  ... stars_today  forks\n",
              "5        6                 javascript-algorithms  ...         248  18331\n",
              "1        2                                   n8n  ...         280   1370\n",
              "4        5                  pytorch-image-models  ...         101   1646\n",
              "2        3                                slides  ...         265     80\n",
              "8        9                                 augly  ...         393     99\n",
              "6        7                            paddleclas  ...         283    323\n",
              "0        1                                  plow  ...         574     38\n",
              "9       10  self-taught-guide-to-cloud-computing  ...         179     84\n",
              "3        4               defi-developer-road-map  ...         247     49\n",
              "7        8               reddit_sentiment_trader  ...          71     60\n",
              "\n",
              "[10 rows x 6 columns]"
            ]
          },
          "metadata": {},
          "execution_count": 26
        }
      ]
    },
    {
      "cell_type": "markdown",
      "metadata": {
        "id": "rCiKldQi_kWg"
      },
      "source": [
        "**Exemplo**: Ordernação com um conjunto de colunas de referência através do método `sort_values`."
      ]
    },
    {
      "cell_type": "code",
      "metadata": {
        "id": "JmtXs8Pj_dit",
        "colab": {
          "base_uri": "https://localhost:8080/",
          "height": 359
        },
        "outputId": "6bd2f4a4-5dc5-46c5-e729-6068b65dd870"
      },
      "source": [
        "github_df.sort_values(by=['language', 'forks'], ascending=False)"
      ],
      "execution_count": null,
      "outputs": [
        {
          "output_type": "execute_result",
          "data": {
            "text/html": [
              "<div>\n",
              "<style scoped>\n",
              "    .dataframe tbody tr th:only-of-type {\n",
              "        vertical-align: middle;\n",
              "    }\n",
              "\n",
              "    .dataframe tbody tr th {\n",
              "        vertical-align: top;\n",
              "    }\n",
              "\n",
              "    .dataframe thead th {\n",
              "        text-align: right;\n",
              "    }\n",
              "</style>\n",
              "<table border=\"1\" class=\"dataframe\">\n",
              "  <thead>\n",
              "    <tr style=\"text-align: right;\">\n",
              "      <th></th>\n",
              "      <th>ranking</th>\n",
              "      <th>project</th>\n",
              "      <th>language</th>\n",
              "      <th>stars</th>\n",
              "      <th>stars_today</th>\n",
              "      <th>forks</th>\n",
              "    </tr>\n",
              "  </thead>\n",
              "  <tbody>\n",
              "    <tr>\n",
              "      <th>1</th>\n",
              "      <td>2</td>\n",
              "      <td>n8n</td>\n",
              "      <td>typescript</td>\n",
              "      <td>15668</td>\n",
              "      <td>280</td>\n",
              "      <td>1370</td>\n",
              "    </tr>\n",
              "    <tr>\n",
              "      <th>4</th>\n",
              "      <td>5</td>\n",
              "      <td>pytorch-image-models</td>\n",
              "      <td>python</td>\n",
              "      <td>11065</td>\n",
              "      <td>101</td>\n",
              "      <td>1646</td>\n",
              "    </tr>\n",
              "    <tr>\n",
              "      <th>6</th>\n",
              "      <td>7</td>\n",
              "      <td>paddleclas</td>\n",
              "      <td>python</td>\n",
              "      <td>1429</td>\n",
              "      <td>283</td>\n",
              "      <td>323</td>\n",
              "    </tr>\n",
              "    <tr>\n",
              "      <th>8</th>\n",
              "      <td>9</td>\n",
              "      <td>augly</td>\n",
              "      <td>python</td>\n",
              "      <td>2849</td>\n",
              "      <td>393</td>\n",
              "      <td>99</td>\n",
              "    </tr>\n",
              "    <tr>\n",
              "      <th>7</th>\n",
              "      <td>8</td>\n",
              "      <td>reddit_sentiment_trader</td>\n",
              "      <td>python</td>\n",
              "      <td>369</td>\n",
              "      <td>71</td>\n",
              "      <td>60</td>\n",
              "    </tr>\n",
              "    <tr>\n",
              "      <th>5</th>\n",
              "      <td>6</td>\n",
              "      <td>javascript-algorithms</td>\n",
              "      <td>javascript</td>\n",
              "      <td>110768</td>\n",
              "      <td>248</td>\n",
              "      <td>18331</td>\n",
              "    </tr>\n",
              "    <tr>\n",
              "      <th>2</th>\n",
              "      <td>3</td>\n",
              "      <td>slides</td>\n",
              "      <td>go</td>\n",
              "      <td>3218</td>\n",
              "      <td>265</td>\n",
              "      <td>80</td>\n",
              "    </tr>\n",
              "    <tr>\n",
              "      <th>0</th>\n",
              "      <td>1</td>\n",
              "      <td>plow</td>\n",
              "      <td>go</td>\n",
              "      <td>1304</td>\n",
              "      <td>574</td>\n",
              "      <td>38</td>\n",
              "    </tr>\n",
              "    <tr>\n",
              "      <th>9</th>\n",
              "      <td>10</td>\n",
              "      <td>self-taught-guide-to-cloud-computing</td>\n",
              "      <td>NaN</td>\n",
              "      <td>863</td>\n",
              "      <td>179</td>\n",
              "      <td>84</td>\n",
              "    </tr>\n",
              "    <tr>\n",
              "      <th>3</th>\n",
              "      <td>4</td>\n",
              "      <td>defi-developer-road-map</td>\n",
              "      <td>NaN</td>\n",
              "      <td>636</td>\n",
              "      <td>247</td>\n",
              "      <td>49</td>\n",
              "    </tr>\n",
              "  </tbody>\n",
              "</table>\n",
              "</div>"
            ],
            "text/plain": [
              "   ranking                               project  ... stars_today  forks\n",
              "1        2                                   n8n  ...         280   1370\n",
              "4        5                  pytorch-image-models  ...         101   1646\n",
              "6        7                            paddleclas  ...         283    323\n",
              "8        9                                 augly  ...         393     99\n",
              "7        8               reddit_sentiment_trader  ...          71     60\n",
              "5        6                 javascript-algorithms  ...         248  18331\n",
              "2        3                                slides  ...         265     80\n",
              "0        1                                  plow  ...         574     38\n",
              "9       10  self-taught-guide-to-cloud-computing  ...         179     84\n",
              "3        4               defi-developer-road-map  ...         247     49\n",
              "\n",
              "[10 rows x 6 columns]"
            ]
          },
          "metadata": {},
          "execution_count": 27
        }
      ]
    },
    {
      "cell_type": "code",
      "metadata": {
        "colab": {
          "base_uri": "https://localhost:8080/",
          "height": 359
        },
        "id": "JvAH_1ilL95J",
        "outputId": "72e08a60-19a3-499e-cdfd-e0331d6b7e8b"
      },
      "source": [
        "github_df.sort_values(by=['language'])"
      ],
      "execution_count": null,
      "outputs": [
        {
          "output_type": "execute_result",
          "data": {
            "text/html": [
              "<div>\n",
              "<style scoped>\n",
              "    .dataframe tbody tr th:only-of-type {\n",
              "        vertical-align: middle;\n",
              "    }\n",
              "\n",
              "    .dataframe tbody tr th {\n",
              "        vertical-align: top;\n",
              "    }\n",
              "\n",
              "    .dataframe thead th {\n",
              "        text-align: right;\n",
              "    }\n",
              "</style>\n",
              "<table border=\"1\" class=\"dataframe\">\n",
              "  <thead>\n",
              "    <tr style=\"text-align: right;\">\n",
              "      <th></th>\n",
              "      <th>ranking</th>\n",
              "      <th>project</th>\n",
              "      <th>language</th>\n",
              "      <th>stars</th>\n",
              "      <th>stars_today</th>\n",
              "      <th>forks</th>\n",
              "    </tr>\n",
              "  </thead>\n",
              "  <tbody>\n",
              "    <tr>\n",
              "      <th>0</th>\n",
              "      <td>1</td>\n",
              "      <td>plow</td>\n",
              "      <td>go</td>\n",
              "      <td>1304</td>\n",
              "      <td>574</td>\n",
              "      <td>38</td>\n",
              "    </tr>\n",
              "    <tr>\n",
              "      <th>2</th>\n",
              "      <td>3</td>\n",
              "      <td>slides</td>\n",
              "      <td>go</td>\n",
              "      <td>3218</td>\n",
              "      <td>265</td>\n",
              "      <td>80</td>\n",
              "    </tr>\n",
              "    <tr>\n",
              "      <th>5</th>\n",
              "      <td>6</td>\n",
              "      <td>javascript-algorithms</td>\n",
              "      <td>javascript</td>\n",
              "      <td>110768</td>\n",
              "      <td>248</td>\n",
              "      <td>18331</td>\n",
              "    </tr>\n",
              "    <tr>\n",
              "      <th>4</th>\n",
              "      <td>5</td>\n",
              "      <td>pytorch-image-models</td>\n",
              "      <td>python</td>\n",
              "      <td>11065</td>\n",
              "      <td>101</td>\n",
              "      <td>1646</td>\n",
              "    </tr>\n",
              "    <tr>\n",
              "      <th>6</th>\n",
              "      <td>7</td>\n",
              "      <td>paddleclas</td>\n",
              "      <td>python</td>\n",
              "      <td>1429</td>\n",
              "      <td>283</td>\n",
              "      <td>323</td>\n",
              "    </tr>\n",
              "    <tr>\n",
              "      <th>7</th>\n",
              "      <td>8</td>\n",
              "      <td>reddit_sentiment_trader</td>\n",
              "      <td>python</td>\n",
              "      <td>369</td>\n",
              "      <td>71</td>\n",
              "      <td>60</td>\n",
              "    </tr>\n",
              "    <tr>\n",
              "      <th>8</th>\n",
              "      <td>9</td>\n",
              "      <td>augly</td>\n",
              "      <td>python</td>\n",
              "      <td>2849</td>\n",
              "      <td>393</td>\n",
              "      <td>99</td>\n",
              "    </tr>\n",
              "    <tr>\n",
              "      <th>1</th>\n",
              "      <td>2</td>\n",
              "      <td>n8n</td>\n",
              "      <td>typescript</td>\n",
              "      <td>15668</td>\n",
              "      <td>280</td>\n",
              "      <td>1370</td>\n",
              "    </tr>\n",
              "    <tr>\n",
              "      <th>3</th>\n",
              "      <td>4</td>\n",
              "      <td>defi-developer-road-map</td>\n",
              "      <td>NaN</td>\n",
              "      <td>636</td>\n",
              "      <td>247</td>\n",
              "      <td>49</td>\n",
              "    </tr>\n",
              "    <tr>\n",
              "      <th>9</th>\n",
              "      <td>10</td>\n",
              "      <td>self-taught-guide-to-cloud-computing</td>\n",
              "      <td>NaN</td>\n",
              "      <td>863</td>\n",
              "      <td>179</td>\n",
              "      <td>84</td>\n",
              "    </tr>\n",
              "  </tbody>\n",
              "</table>\n",
              "</div>"
            ],
            "text/plain": [
              "   ranking                               project  ... stars_today  forks\n",
              "0        1                                  plow  ...         574     38\n",
              "2        3                                slides  ...         265     80\n",
              "5        6                 javascript-algorithms  ...         248  18331\n",
              "4        5                  pytorch-image-models  ...         101   1646\n",
              "6        7                            paddleclas  ...         283    323\n",
              "7        8               reddit_sentiment_trader  ...          71     60\n",
              "8        9                                 augly  ...         393     99\n",
              "1        2                                   n8n  ...         280   1370\n",
              "3        4               defi-developer-road-map  ...         247     49\n",
              "9       10  self-taught-guide-to-cloud-computing  ...         179     84\n",
              "\n",
              "[10 rows x 6 columns]"
            ]
          },
          "metadata": {},
          "execution_count": 28
        }
      ]
    },
    {
      "cell_type": "markdown",
      "metadata": {
        "id": "PbisNZZiANNB"
      },
      "source": [
        "**Exemplo**: Ordernação com a \"coluna\" de indices como referência através do método `sort_index`."
      ]
    },
    {
      "cell_type": "code",
      "metadata": {
        "id": "1Ip2NL5xAZiI",
        "colab": {
          "base_uri": "https://localhost:8080/",
          "height": 359
        },
        "outputId": "772eeb00-9aa3-4ebe-b954-a916674a94af"
      },
      "source": [
        "github_df.sort_index()"
      ],
      "execution_count": null,
      "outputs": [
        {
          "output_type": "execute_result",
          "data": {
            "text/html": [
              "<div>\n",
              "<style scoped>\n",
              "    .dataframe tbody tr th:only-of-type {\n",
              "        vertical-align: middle;\n",
              "    }\n",
              "\n",
              "    .dataframe tbody tr th {\n",
              "        vertical-align: top;\n",
              "    }\n",
              "\n",
              "    .dataframe thead th {\n",
              "        text-align: right;\n",
              "    }\n",
              "</style>\n",
              "<table border=\"1\" class=\"dataframe\">\n",
              "  <thead>\n",
              "    <tr style=\"text-align: right;\">\n",
              "      <th></th>\n",
              "      <th>ranking</th>\n",
              "      <th>project</th>\n",
              "      <th>language</th>\n",
              "      <th>stars</th>\n",
              "      <th>stars_today</th>\n",
              "      <th>forks</th>\n",
              "    </tr>\n",
              "  </thead>\n",
              "  <tbody>\n",
              "    <tr>\n",
              "      <th>0</th>\n",
              "      <td>1</td>\n",
              "      <td>plow</td>\n",
              "      <td>go</td>\n",
              "      <td>1304</td>\n",
              "      <td>574</td>\n",
              "      <td>38</td>\n",
              "    </tr>\n",
              "    <tr>\n",
              "      <th>1</th>\n",
              "      <td>2</td>\n",
              "      <td>n8n</td>\n",
              "      <td>typescript</td>\n",
              "      <td>15668</td>\n",
              "      <td>280</td>\n",
              "      <td>1370</td>\n",
              "    </tr>\n",
              "    <tr>\n",
              "      <th>2</th>\n",
              "      <td>3</td>\n",
              "      <td>slides</td>\n",
              "      <td>go</td>\n",
              "      <td>3218</td>\n",
              "      <td>265</td>\n",
              "      <td>80</td>\n",
              "    </tr>\n",
              "    <tr>\n",
              "      <th>3</th>\n",
              "      <td>4</td>\n",
              "      <td>defi-developer-road-map</td>\n",
              "      <td>NaN</td>\n",
              "      <td>636</td>\n",
              "      <td>247</td>\n",
              "      <td>49</td>\n",
              "    </tr>\n",
              "    <tr>\n",
              "      <th>4</th>\n",
              "      <td>5</td>\n",
              "      <td>pytorch-image-models</td>\n",
              "      <td>python</td>\n",
              "      <td>11065</td>\n",
              "      <td>101</td>\n",
              "      <td>1646</td>\n",
              "    </tr>\n",
              "    <tr>\n",
              "      <th>5</th>\n",
              "      <td>6</td>\n",
              "      <td>javascript-algorithms</td>\n",
              "      <td>javascript</td>\n",
              "      <td>110768</td>\n",
              "      <td>248</td>\n",
              "      <td>18331</td>\n",
              "    </tr>\n",
              "    <tr>\n",
              "      <th>6</th>\n",
              "      <td>7</td>\n",
              "      <td>paddleclas</td>\n",
              "      <td>python</td>\n",
              "      <td>1429</td>\n",
              "      <td>283</td>\n",
              "      <td>323</td>\n",
              "    </tr>\n",
              "    <tr>\n",
              "      <th>7</th>\n",
              "      <td>8</td>\n",
              "      <td>reddit_sentiment_trader</td>\n",
              "      <td>python</td>\n",
              "      <td>369</td>\n",
              "      <td>71</td>\n",
              "      <td>60</td>\n",
              "    </tr>\n",
              "    <tr>\n",
              "      <th>8</th>\n",
              "      <td>9</td>\n",
              "      <td>augly</td>\n",
              "      <td>python</td>\n",
              "      <td>2849</td>\n",
              "      <td>393</td>\n",
              "      <td>99</td>\n",
              "    </tr>\n",
              "    <tr>\n",
              "      <th>9</th>\n",
              "      <td>10</td>\n",
              "      <td>self-taught-guide-to-cloud-computing</td>\n",
              "      <td>NaN</td>\n",
              "      <td>863</td>\n",
              "      <td>179</td>\n",
              "      <td>84</td>\n",
              "    </tr>\n",
              "  </tbody>\n",
              "</table>\n",
              "</div>"
            ],
            "text/plain": [
              "   ranking                               project  ... stars_today  forks\n",
              "0        1                                  plow  ...         574     38\n",
              "1        2                                   n8n  ...         280   1370\n",
              "2        3                                slides  ...         265     80\n",
              "3        4               defi-developer-road-map  ...         247     49\n",
              "4        5                  pytorch-image-models  ...         101   1646\n",
              "5        6                 javascript-algorithms  ...         248  18331\n",
              "6        7                            paddleclas  ...         283    323\n",
              "7        8               reddit_sentiment_trader  ...          71     60\n",
              "8        9                                 augly  ...         393     99\n",
              "9       10  self-taught-guide-to-cloud-computing  ...         179     84\n",
              "\n",
              "[10 rows x 6 columns]"
            ]
          },
          "metadata": {},
          "execution_count": 29
        }
      ]
    },
    {
      "cell_type": "code",
      "metadata": {
        "id": "ilKEUeAtAfmQ",
        "colab": {
          "base_uri": "https://localhost:8080/",
          "height": 359
        },
        "outputId": "dc1e82e1-6c72-4d08-9769-ecb8850af1fb"
      },
      "source": [
        "github_df.sort_index(ascending=False)"
      ],
      "execution_count": null,
      "outputs": [
        {
          "output_type": "execute_result",
          "data": {
            "text/html": [
              "<div>\n",
              "<style scoped>\n",
              "    .dataframe tbody tr th:only-of-type {\n",
              "        vertical-align: middle;\n",
              "    }\n",
              "\n",
              "    .dataframe tbody tr th {\n",
              "        vertical-align: top;\n",
              "    }\n",
              "\n",
              "    .dataframe thead th {\n",
              "        text-align: right;\n",
              "    }\n",
              "</style>\n",
              "<table border=\"1\" class=\"dataframe\">\n",
              "  <thead>\n",
              "    <tr style=\"text-align: right;\">\n",
              "      <th></th>\n",
              "      <th>ranking</th>\n",
              "      <th>project</th>\n",
              "      <th>language</th>\n",
              "      <th>stars</th>\n",
              "      <th>stars_today</th>\n",
              "      <th>forks</th>\n",
              "    </tr>\n",
              "  </thead>\n",
              "  <tbody>\n",
              "    <tr>\n",
              "      <th>9</th>\n",
              "      <td>10</td>\n",
              "      <td>self-taught-guide-to-cloud-computing</td>\n",
              "      <td>NaN</td>\n",
              "      <td>863</td>\n",
              "      <td>179</td>\n",
              "      <td>84</td>\n",
              "    </tr>\n",
              "    <tr>\n",
              "      <th>8</th>\n",
              "      <td>9</td>\n",
              "      <td>augly</td>\n",
              "      <td>python</td>\n",
              "      <td>2849</td>\n",
              "      <td>393</td>\n",
              "      <td>99</td>\n",
              "    </tr>\n",
              "    <tr>\n",
              "      <th>7</th>\n",
              "      <td>8</td>\n",
              "      <td>reddit_sentiment_trader</td>\n",
              "      <td>python</td>\n",
              "      <td>369</td>\n",
              "      <td>71</td>\n",
              "      <td>60</td>\n",
              "    </tr>\n",
              "    <tr>\n",
              "      <th>6</th>\n",
              "      <td>7</td>\n",
              "      <td>paddleclas</td>\n",
              "      <td>python</td>\n",
              "      <td>1429</td>\n",
              "      <td>283</td>\n",
              "      <td>323</td>\n",
              "    </tr>\n",
              "    <tr>\n",
              "      <th>5</th>\n",
              "      <td>6</td>\n",
              "      <td>javascript-algorithms</td>\n",
              "      <td>javascript</td>\n",
              "      <td>110768</td>\n",
              "      <td>248</td>\n",
              "      <td>18331</td>\n",
              "    </tr>\n",
              "    <tr>\n",
              "      <th>4</th>\n",
              "      <td>5</td>\n",
              "      <td>pytorch-image-models</td>\n",
              "      <td>python</td>\n",
              "      <td>11065</td>\n",
              "      <td>101</td>\n",
              "      <td>1646</td>\n",
              "    </tr>\n",
              "    <tr>\n",
              "      <th>3</th>\n",
              "      <td>4</td>\n",
              "      <td>defi-developer-road-map</td>\n",
              "      <td>NaN</td>\n",
              "      <td>636</td>\n",
              "      <td>247</td>\n",
              "      <td>49</td>\n",
              "    </tr>\n",
              "    <tr>\n",
              "      <th>2</th>\n",
              "      <td>3</td>\n",
              "      <td>slides</td>\n",
              "      <td>go</td>\n",
              "      <td>3218</td>\n",
              "      <td>265</td>\n",
              "      <td>80</td>\n",
              "    </tr>\n",
              "    <tr>\n",
              "      <th>1</th>\n",
              "      <td>2</td>\n",
              "      <td>n8n</td>\n",
              "      <td>typescript</td>\n",
              "      <td>15668</td>\n",
              "      <td>280</td>\n",
              "      <td>1370</td>\n",
              "    </tr>\n",
              "    <tr>\n",
              "      <th>0</th>\n",
              "      <td>1</td>\n",
              "      <td>plow</td>\n",
              "      <td>go</td>\n",
              "      <td>1304</td>\n",
              "      <td>574</td>\n",
              "      <td>38</td>\n",
              "    </tr>\n",
              "  </tbody>\n",
              "</table>\n",
              "</div>"
            ],
            "text/plain": [
              "   ranking                               project  ... stars_today  forks\n",
              "9       10  self-taught-guide-to-cloud-computing  ...         179     84\n",
              "8        9                                 augly  ...         393     99\n",
              "7        8               reddit_sentiment_trader  ...          71     60\n",
              "6        7                            paddleclas  ...         283    323\n",
              "5        6                 javascript-algorithms  ...         248  18331\n",
              "4        5                  pytorch-image-models  ...         101   1646\n",
              "3        4               defi-developer-road-map  ...         247     49\n",
              "2        3                                slides  ...         265     80\n",
              "1        2                                   n8n  ...         280   1370\n",
              "0        1                                  plow  ...         574     38\n",
              "\n",
              "[10 rows x 6 columns]"
            ]
          },
          "metadata": {},
          "execution_count": 30
        }
      ]
    },
    {
      "cell_type": "markdown",
      "metadata": {
        "id": "4rRCvy_UURrM"
      },
      "source": [
        "## 2\\. Combinação"
      ]
    },
    {
      "cell_type": "markdown",
      "metadata": {
        "id": "78RHF81A3tat"
      },
      "source": [
        "### **2.1. Método `concat`** "
      ]
    },
    {
      "cell_type": "markdown",
      "metadata": {
        "id": "bV_cw2IibzL8"
      },
      "source": [
        "Combina dataframes baseado nas **linhas**, de maneira simples, **sem lógica de combinação**."
      ]
    },
    {
      "cell_type": "code",
      "metadata": {
        "id": "0E_qlrvtayge"
      },
      "source": [
        "primeiros_5 = github_df.query('ranking <= 5')"
      ],
      "execution_count": null,
      "outputs": []
    },
    {
      "cell_type": "code",
      "metadata": {
        "id": "jUGCDKX3001T",
        "colab": {
          "base_uri": "https://localhost:8080/",
          "height": 204
        },
        "outputId": "8bd1fcb4-9387-428e-efbd-0461e2d3fbf5"
      },
      "source": [
        "primeiros_5"
      ],
      "execution_count": null,
      "outputs": [
        {
          "output_type": "execute_result",
          "data": {
            "text/html": [
              "<div>\n",
              "<style scoped>\n",
              "    .dataframe tbody tr th:only-of-type {\n",
              "        vertical-align: middle;\n",
              "    }\n",
              "\n",
              "    .dataframe tbody tr th {\n",
              "        vertical-align: top;\n",
              "    }\n",
              "\n",
              "    .dataframe thead th {\n",
              "        text-align: right;\n",
              "    }\n",
              "</style>\n",
              "<table border=\"1\" class=\"dataframe\">\n",
              "  <thead>\n",
              "    <tr style=\"text-align: right;\">\n",
              "      <th></th>\n",
              "      <th>ranking</th>\n",
              "      <th>project</th>\n",
              "      <th>language</th>\n",
              "      <th>stars</th>\n",
              "      <th>stars_today</th>\n",
              "      <th>forks</th>\n",
              "    </tr>\n",
              "  </thead>\n",
              "  <tbody>\n",
              "    <tr>\n",
              "      <th>0</th>\n",
              "      <td>1</td>\n",
              "      <td>plow</td>\n",
              "      <td>go</td>\n",
              "      <td>1304</td>\n",
              "      <td>574</td>\n",
              "      <td>38</td>\n",
              "    </tr>\n",
              "    <tr>\n",
              "      <th>1</th>\n",
              "      <td>2</td>\n",
              "      <td>n8n</td>\n",
              "      <td>typescript</td>\n",
              "      <td>15668</td>\n",
              "      <td>280</td>\n",
              "      <td>1370</td>\n",
              "    </tr>\n",
              "    <tr>\n",
              "      <th>2</th>\n",
              "      <td>3</td>\n",
              "      <td>slides</td>\n",
              "      <td>go</td>\n",
              "      <td>3218</td>\n",
              "      <td>265</td>\n",
              "      <td>80</td>\n",
              "    </tr>\n",
              "    <tr>\n",
              "      <th>3</th>\n",
              "      <td>4</td>\n",
              "      <td>defi-developer-road-map</td>\n",
              "      <td>NaN</td>\n",
              "      <td>636</td>\n",
              "      <td>247</td>\n",
              "      <td>49</td>\n",
              "    </tr>\n",
              "    <tr>\n",
              "      <th>4</th>\n",
              "      <td>5</td>\n",
              "      <td>pytorch-image-models</td>\n",
              "      <td>python</td>\n",
              "      <td>11065</td>\n",
              "      <td>101</td>\n",
              "      <td>1646</td>\n",
              "    </tr>\n",
              "  </tbody>\n",
              "</table>\n",
              "</div>"
            ],
            "text/plain": [
              "   ranking                  project    language  stars  stars_today  forks\n",
              "0        1                     plow          go   1304          574     38\n",
              "1        2                      n8n  typescript  15668          280   1370\n",
              "2        3                   slides          go   3218          265     80\n",
              "3        4  defi-developer-road-map         NaN    636          247     49\n",
              "4        5     pytorch-image-models      python  11065          101   1646"
            ]
          },
          "metadata": {},
          "execution_count": 32
        }
      ]
    },
    {
      "cell_type": "code",
      "metadata": {
        "id": "UNBNMSbUhU4l"
      },
      "source": [
        "ultimos_5 = github_df.query('ranking > 5')"
      ],
      "execution_count": null,
      "outputs": []
    },
    {
      "cell_type": "code",
      "metadata": {
        "id": "UDvwMTvDhcQU",
        "colab": {
          "base_uri": "https://localhost:8080/",
          "height": 204
        },
        "outputId": "c01de3be-ecba-4e83-a4a5-e686a518396e"
      },
      "source": [
        "ultimos_5"
      ],
      "execution_count": null,
      "outputs": [
        {
          "output_type": "execute_result",
          "data": {
            "text/html": [
              "<div>\n",
              "<style scoped>\n",
              "    .dataframe tbody tr th:only-of-type {\n",
              "        vertical-align: middle;\n",
              "    }\n",
              "\n",
              "    .dataframe tbody tr th {\n",
              "        vertical-align: top;\n",
              "    }\n",
              "\n",
              "    .dataframe thead th {\n",
              "        text-align: right;\n",
              "    }\n",
              "</style>\n",
              "<table border=\"1\" class=\"dataframe\">\n",
              "  <thead>\n",
              "    <tr style=\"text-align: right;\">\n",
              "      <th></th>\n",
              "      <th>ranking</th>\n",
              "      <th>project</th>\n",
              "      <th>language</th>\n",
              "      <th>stars</th>\n",
              "      <th>stars_today</th>\n",
              "      <th>forks</th>\n",
              "    </tr>\n",
              "  </thead>\n",
              "  <tbody>\n",
              "    <tr>\n",
              "      <th>5</th>\n",
              "      <td>6</td>\n",
              "      <td>javascript-algorithms</td>\n",
              "      <td>javascript</td>\n",
              "      <td>110768</td>\n",
              "      <td>248</td>\n",
              "      <td>18331</td>\n",
              "    </tr>\n",
              "    <tr>\n",
              "      <th>6</th>\n",
              "      <td>7</td>\n",
              "      <td>paddleclas</td>\n",
              "      <td>python</td>\n",
              "      <td>1429</td>\n",
              "      <td>283</td>\n",
              "      <td>323</td>\n",
              "    </tr>\n",
              "    <tr>\n",
              "      <th>7</th>\n",
              "      <td>8</td>\n",
              "      <td>reddit_sentiment_trader</td>\n",
              "      <td>python</td>\n",
              "      <td>369</td>\n",
              "      <td>71</td>\n",
              "      <td>60</td>\n",
              "    </tr>\n",
              "    <tr>\n",
              "      <th>8</th>\n",
              "      <td>9</td>\n",
              "      <td>augly</td>\n",
              "      <td>python</td>\n",
              "      <td>2849</td>\n",
              "      <td>393</td>\n",
              "      <td>99</td>\n",
              "    </tr>\n",
              "    <tr>\n",
              "      <th>9</th>\n",
              "      <td>10</td>\n",
              "      <td>self-taught-guide-to-cloud-computing</td>\n",
              "      <td>NaN</td>\n",
              "      <td>863</td>\n",
              "      <td>179</td>\n",
              "      <td>84</td>\n",
              "    </tr>\n",
              "  </tbody>\n",
              "</table>\n",
              "</div>"
            ],
            "text/plain": [
              "   ranking                               project  ... stars_today  forks\n",
              "5        6                 javascript-algorithms  ...         248  18331\n",
              "6        7                            paddleclas  ...         283    323\n",
              "7        8               reddit_sentiment_trader  ...          71     60\n",
              "8        9                                 augly  ...         393     99\n",
              "9       10  self-taught-guide-to-cloud-computing  ...         179     84\n",
              "\n",
              "[5 rows x 6 columns]"
            ]
          },
          "metadata": {},
          "execution_count": 34
        }
      ]
    },
    {
      "cell_type": "markdown",
      "metadata": {
        "id": "jOj6yl9gdKMX"
      },
      "source": [
        "---\n",
        "\n",
        "**Meu exemplo**\n",
        "\n",
        "---"
      ]
    },
    {
      "cell_type": "code",
      "metadata": {
        "id": "exj2JQHDdLBP"
      },
      "source": [
        "tres_primeiros = github_df.query('ranking <= 3')\n",
        "tres_ultimos = github_df.query('ranking >= 8')\n",
        "\n",
        "tres_primeiros_e_ultimos = pd.concat([tres_primeiros, tres_ultimos])\n",
        "#tres_primeiros_e_ultimos.sort_values(by='ranking')"
      ],
      "execution_count": null,
      "outputs": []
    },
    {
      "cell_type": "markdown",
      "metadata": {
        "id": "V6G3Sc1rh-Ow"
      },
      "source": [
        "*   **Exemplo**: Concatenação com colunas iguais:"
      ]
    },
    {
      "cell_type": "code",
      "metadata": {
        "id": "yQUsJfGJhd8U",
        "colab": {
          "base_uri": "https://localhost:8080/",
          "height": 359
        },
        "outputId": "82896e76-435e-47da-c7f0-91b6b724a4ab"
      },
      "source": [
        "pd.concat([primeiros_5, ultimos_5])"
      ],
      "execution_count": null,
      "outputs": [
        {
          "output_type": "execute_result",
          "data": {
            "text/html": [
              "<div>\n",
              "<style scoped>\n",
              "    .dataframe tbody tr th:only-of-type {\n",
              "        vertical-align: middle;\n",
              "    }\n",
              "\n",
              "    .dataframe tbody tr th {\n",
              "        vertical-align: top;\n",
              "    }\n",
              "\n",
              "    .dataframe thead th {\n",
              "        text-align: right;\n",
              "    }\n",
              "</style>\n",
              "<table border=\"1\" class=\"dataframe\">\n",
              "  <thead>\n",
              "    <tr style=\"text-align: right;\">\n",
              "      <th></th>\n",
              "      <th>ranking</th>\n",
              "      <th>project</th>\n",
              "      <th>language</th>\n",
              "      <th>stars</th>\n",
              "      <th>stars_today</th>\n",
              "      <th>forks</th>\n",
              "    </tr>\n",
              "  </thead>\n",
              "  <tbody>\n",
              "    <tr>\n",
              "      <th>0</th>\n",
              "      <td>1</td>\n",
              "      <td>plow</td>\n",
              "      <td>go</td>\n",
              "      <td>1304</td>\n",
              "      <td>574</td>\n",
              "      <td>38</td>\n",
              "    </tr>\n",
              "    <tr>\n",
              "      <th>1</th>\n",
              "      <td>2</td>\n",
              "      <td>n8n</td>\n",
              "      <td>typescript</td>\n",
              "      <td>15668</td>\n",
              "      <td>280</td>\n",
              "      <td>1370</td>\n",
              "    </tr>\n",
              "    <tr>\n",
              "      <th>2</th>\n",
              "      <td>3</td>\n",
              "      <td>slides</td>\n",
              "      <td>go</td>\n",
              "      <td>3218</td>\n",
              "      <td>265</td>\n",
              "      <td>80</td>\n",
              "    </tr>\n",
              "    <tr>\n",
              "      <th>3</th>\n",
              "      <td>4</td>\n",
              "      <td>defi-developer-road-map</td>\n",
              "      <td>NaN</td>\n",
              "      <td>636</td>\n",
              "      <td>247</td>\n",
              "      <td>49</td>\n",
              "    </tr>\n",
              "    <tr>\n",
              "      <th>4</th>\n",
              "      <td>5</td>\n",
              "      <td>pytorch-image-models</td>\n",
              "      <td>python</td>\n",
              "      <td>11065</td>\n",
              "      <td>101</td>\n",
              "      <td>1646</td>\n",
              "    </tr>\n",
              "    <tr>\n",
              "      <th>5</th>\n",
              "      <td>6</td>\n",
              "      <td>javascript-algorithms</td>\n",
              "      <td>javascript</td>\n",
              "      <td>110768</td>\n",
              "      <td>248</td>\n",
              "      <td>18331</td>\n",
              "    </tr>\n",
              "    <tr>\n",
              "      <th>6</th>\n",
              "      <td>7</td>\n",
              "      <td>paddleclas</td>\n",
              "      <td>python</td>\n",
              "      <td>1429</td>\n",
              "      <td>283</td>\n",
              "      <td>323</td>\n",
              "    </tr>\n",
              "    <tr>\n",
              "      <th>7</th>\n",
              "      <td>8</td>\n",
              "      <td>reddit_sentiment_trader</td>\n",
              "      <td>python</td>\n",
              "      <td>369</td>\n",
              "      <td>71</td>\n",
              "      <td>60</td>\n",
              "    </tr>\n",
              "    <tr>\n",
              "      <th>8</th>\n",
              "      <td>9</td>\n",
              "      <td>augly</td>\n",
              "      <td>python</td>\n",
              "      <td>2849</td>\n",
              "      <td>393</td>\n",
              "      <td>99</td>\n",
              "    </tr>\n",
              "    <tr>\n",
              "      <th>9</th>\n",
              "      <td>10</td>\n",
              "      <td>self-taught-guide-to-cloud-computing</td>\n",
              "      <td>NaN</td>\n",
              "      <td>863</td>\n",
              "      <td>179</td>\n",
              "      <td>84</td>\n",
              "    </tr>\n",
              "  </tbody>\n",
              "</table>\n",
              "</div>"
            ],
            "text/plain": [
              "   ranking                               project  ... stars_today  forks\n",
              "0        1                                  plow  ...         574     38\n",
              "1        2                                   n8n  ...         280   1370\n",
              "2        3                                slides  ...         265     80\n",
              "3        4               defi-developer-road-map  ...         247     49\n",
              "4        5                  pytorch-image-models  ...         101   1646\n",
              "5        6                 javascript-algorithms  ...         248  18331\n",
              "6        7                            paddleclas  ...         283    323\n",
              "7        8               reddit_sentiment_trader  ...          71     60\n",
              "8        9                                 augly  ...         393     99\n",
              "9       10  self-taught-guide-to-cloud-computing  ...         179     84\n",
              "\n",
              "[10 rows x 6 columns]"
            ]
          },
          "metadata": {},
          "execution_count": 36
        }
      ]
    },
    {
      "cell_type": "code",
      "metadata": {
        "id": "ZwamhV5uhqzT",
        "colab": {
          "base_uri": "https://localhost:8080/",
          "height": 359
        },
        "outputId": "de26b241-8d40-4208-828b-c4fe29df98b8"
      },
      "source": [
        "pd.concat([ultimos_5, primeiros_5])"
      ],
      "execution_count": null,
      "outputs": [
        {
          "output_type": "execute_result",
          "data": {
            "text/html": [
              "<div>\n",
              "<style scoped>\n",
              "    .dataframe tbody tr th:only-of-type {\n",
              "        vertical-align: middle;\n",
              "    }\n",
              "\n",
              "    .dataframe tbody tr th {\n",
              "        vertical-align: top;\n",
              "    }\n",
              "\n",
              "    .dataframe thead th {\n",
              "        text-align: right;\n",
              "    }\n",
              "</style>\n",
              "<table border=\"1\" class=\"dataframe\">\n",
              "  <thead>\n",
              "    <tr style=\"text-align: right;\">\n",
              "      <th></th>\n",
              "      <th>ranking</th>\n",
              "      <th>project</th>\n",
              "      <th>language</th>\n",
              "      <th>stars</th>\n",
              "      <th>stars_today</th>\n",
              "      <th>forks</th>\n",
              "    </tr>\n",
              "  </thead>\n",
              "  <tbody>\n",
              "    <tr>\n",
              "      <th>5</th>\n",
              "      <td>6</td>\n",
              "      <td>javascript-algorithms</td>\n",
              "      <td>javascript</td>\n",
              "      <td>110768</td>\n",
              "      <td>248</td>\n",
              "      <td>18331</td>\n",
              "    </tr>\n",
              "    <tr>\n",
              "      <th>6</th>\n",
              "      <td>7</td>\n",
              "      <td>paddleclas</td>\n",
              "      <td>python</td>\n",
              "      <td>1429</td>\n",
              "      <td>283</td>\n",
              "      <td>323</td>\n",
              "    </tr>\n",
              "    <tr>\n",
              "      <th>7</th>\n",
              "      <td>8</td>\n",
              "      <td>reddit_sentiment_trader</td>\n",
              "      <td>python</td>\n",
              "      <td>369</td>\n",
              "      <td>71</td>\n",
              "      <td>60</td>\n",
              "    </tr>\n",
              "    <tr>\n",
              "      <th>8</th>\n",
              "      <td>9</td>\n",
              "      <td>augly</td>\n",
              "      <td>python</td>\n",
              "      <td>2849</td>\n",
              "      <td>393</td>\n",
              "      <td>99</td>\n",
              "    </tr>\n",
              "    <tr>\n",
              "      <th>9</th>\n",
              "      <td>10</td>\n",
              "      <td>self-taught-guide-to-cloud-computing</td>\n",
              "      <td>NaN</td>\n",
              "      <td>863</td>\n",
              "      <td>179</td>\n",
              "      <td>84</td>\n",
              "    </tr>\n",
              "    <tr>\n",
              "      <th>0</th>\n",
              "      <td>1</td>\n",
              "      <td>plow</td>\n",
              "      <td>go</td>\n",
              "      <td>1304</td>\n",
              "      <td>574</td>\n",
              "      <td>38</td>\n",
              "    </tr>\n",
              "    <tr>\n",
              "      <th>1</th>\n",
              "      <td>2</td>\n",
              "      <td>n8n</td>\n",
              "      <td>typescript</td>\n",
              "      <td>15668</td>\n",
              "      <td>280</td>\n",
              "      <td>1370</td>\n",
              "    </tr>\n",
              "    <tr>\n",
              "      <th>2</th>\n",
              "      <td>3</td>\n",
              "      <td>slides</td>\n",
              "      <td>go</td>\n",
              "      <td>3218</td>\n",
              "      <td>265</td>\n",
              "      <td>80</td>\n",
              "    </tr>\n",
              "    <tr>\n",
              "      <th>3</th>\n",
              "      <td>4</td>\n",
              "      <td>defi-developer-road-map</td>\n",
              "      <td>NaN</td>\n",
              "      <td>636</td>\n",
              "      <td>247</td>\n",
              "      <td>49</td>\n",
              "    </tr>\n",
              "    <tr>\n",
              "      <th>4</th>\n",
              "      <td>5</td>\n",
              "      <td>pytorch-image-models</td>\n",
              "      <td>python</td>\n",
              "      <td>11065</td>\n",
              "      <td>101</td>\n",
              "      <td>1646</td>\n",
              "    </tr>\n",
              "  </tbody>\n",
              "</table>\n",
              "</div>"
            ],
            "text/plain": [
              "   ranking                               project  ... stars_today  forks\n",
              "5        6                 javascript-algorithms  ...         248  18331\n",
              "6        7                            paddleclas  ...         283    323\n",
              "7        8               reddit_sentiment_trader  ...          71     60\n",
              "8        9                                 augly  ...         393     99\n",
              "9       10  self-taught-guide-to-cloud-computing  ...         179     84\n",
              "0        1                                  plow  ...         574     38\n",
              "1        2                                   n8n  ...         280   1370\n",
              "2        3                                slides  ...         265     80\n",
              "3        4               defi-developer-road-map  ...         247     49\n",
              "4        5                  pytorch-image-models  ...         101   1646\n",
              "\n",
              "[10 rows x 6 columns]"
            ]
          },
          "metadata": {},
          "execution_count": 37
        }
      ]
    },
    {
      "cell_type": "markdown",
      "metadata": {
        "id": "CwmtNTBWiEJ1"
      },
      "source": [
        "*   **Exemplo**: Concatenação com colunas diferentes:"
      ]
    },
    {
      "cell_type": "code",
      "metadata": {
        "id": "E7p_84-khxmz",
        "colab": {
          "base_uri": "https://localhost:8080/",
          "height": 359
        },
        "outputId": "37d1d7bb-3d3b-41a7-983e-c5b64236e6e1"
      },
      "source": [
        "pd.concat([primeiros_5[['ranking', 'stars']], ultimos_5[['ranking', 'language']]])"
      ],
      "execution_count": null,
      "outputs": [
        {
          "output_type": "execute_result",
          "data": {
            "text/html": [
              "<div>\n",
              "<style scoped>\n",
              "    .dataframe tbody tr th:only-of-type {\n",
              "        vertical-align: middle;\n",
              "    }\n",
              "\n",
              "    .dataframe tbody tr th {\n",
              "        vertical-align: top;\n",
              "    }\n",
              "\n",
              "    .dataframe thead th {\n",
              "        text-align: right;\n",
              "    }\n",
              "</style>\n",
              "<table border=\"1\" class=\"dataframe\">\n",
              "  <thead>\n",
              "    <tr style=\"text-align: right;\">\n",
              "      <th></th>\n",
              "      <th>ranking</th>\n",
              "      <th>stars</th>\n",
              "      <th>language</th>\n",
              "    </tr>\n",
              "  </thead>\n",
              "  <tbody>\n",
              "    <tr>\n",
              "      <th>0</th>\n",
              "      <td>1</td>\n",
              "      <td>1304.0</td>\n",
              "      <td>NaN</td>\n",
              "    </tr>\n",
              "    <tr>\n",
              "      <th>1</th>\n",
              "      <td>2</td>\n",
              "      <td>15668.0</td>\n",
              "      <td>NaN</td>\n",
              "    </tr>\n",
              "    <tr>\n",
              "      <th>2</th>\n",
              "      <td>3</td>\n",
              "      <td>3218.0</td>\n",
              "      <td>NaN</td>\n",
              "    </tr>\n",
              "    <tr>\n",
              "      <th>3</th>\n",
              "      <td>4</td>\n",
              "      <td>636.0</td>\n",
              "      <td>NaN</td>\n",
              "    </tr>\n",
              "    <tr>\n",
              "      <th>4</th>\n",
              "      <td>5</td>\n",
              "      <td>11065.0</td>\n",
              "      <td>NaN</td>\n",
              "    </tr>\n",
              "    <tr>\n",
              "      <th>5</th>\n",
              "      <td>6</td>\n",
              "      <td>NaN</td>\n",
              "      <td>javascript</td>\n",
              "    </tr>\n",
              "    <tr>\n",
              "      <th>6</th>\n",
              "      <td>7</td>\n",
              "      <td>NaN</td>\n",
              "      <td>python</td>\n",
              "    </tr>\n",
              "    <tr>\n",
              "      <th>7</th>\n",
              "      <td>8</td>\n",
              "      <td>NaN</td>\n",
              "      <td>python</td>\n",
              "    </tr>\n",
              "    <tr>\n",
              "      <th>8</th>\n",
              "      <td>9</td>\n",
              "      <td>NaN</td>\n",
              "      <td>python</td>\n",
              "    </tr>\n",
              "    <tr>\n",
              "      <th>9</th>\n",
              "      <td>10</td>\n",
              "      <td>NaN</td>\n",
              "      <td>NaN</td>\n",
              "    </tr>\n",
              "  </tbody>\n",
              "</table>\n",
              "</div>"
            ],
            "text/plain": [
              "   ranking    stars    language\n",
              "0        1   1304.0         NaN\n",
              "1        2  15668.0         NaN\n",
              "2        3   3218.0         NaN\n",
              "3        4    636.0         NaN\n",
              "4        5  11065.0         NaN\n",
              "5        6      NaN  javascript\n",
              "6        7      NaN      python\n",
              "7        8      NaN      python\n",
              "8        9      NaN      python\n",
              "9       10      NaN         NaN"
            ]
          },
          "metadata": {},
          "execution_count": 38
        }
      ]
    },
    {
      "cell_type": "markdown",
      "metadata": {
        "id": "fzU5v17l8kHf"
      },
      "source": [
        "### **2.2. Método `merge`** "
      ]
    },
    {
      "cell_type": "markdown",
      "metadata": {
        "id": "XC2gIbHs8kHg"
      },
      "source": [
        "Combina dataframes baseado em **colunas**, com **lógica de combinação**."
      ]
    },
    {
      "cell_type": "code",
      "metadata": {
        "id": "dO9sVjPa9HsZ"
      },
      "source": [
        "linguagem_df = pd.DataFrame({\n",
        "    'language': ['c', 'go', 'python', 'javascript', 'typescript'], \n",
        "    'creation_year': [1972, 2009, 1991, 1995, 2012], \n",
        "    'paradigm': ['imperative', 'imperative', 'imperative, object-oriented', 'imperative, object-oriented', 'imperative, object-oriented']\n",
        "})"
      ],
      "execution_count": null,
      "outputs": []
    },
    {
      "cell_type": "code",
      "metadata": {
        "id": "NqBRmkf3JEzh",
        "colab": {
          "base_uri": "https://localhost:8080/",
          "height": 204
        },
        "outputId": "e784b2fe-1cb3-4fa5-a69e-a213643f6563"
      },
      "source": [
        "linguagem_df"
      ],
      "execution_count": null,
      "outputs": [
        {
          "output_type": "execute_result",
          "data": {
            "text/html": [
              "<div>\n",
              "<style scoped>\n",
              "    .dataframe tbody tr th:only-of-type {\n",
              "        vertical-align: middle;\n",
              "    }\n",
              "\n",
              "    .dataframe tbody tr th {\n",
              "        vertical-align: top;\n",
              "    }\n",
              "\n",
              "    .dataframe thead th {\n",
              "        text-align: right;\n",
              "    }\n",
              "</style>\n",
              "<table border=\"1\" class=\"dataframe\">\n",
              "  <thead>\n",
              "    <tr style=\"text-align: right;\">\n",
              "      <th></th>\n",
              "      <th>language</th>\n",
              "      <th>creation_year</th>\n",
              "      <th>paradigm</th>\n",
              "    </tr>\n",
              "  </thead>\n",
              "  <tbody>\n",
              "    <tr>\n",
              "      <th>0</th>\n",
              "      <td>c</td>\n",
              "      <td>1972</td>\n",
              "      <td>imperative</td>\n",
              "    </tr>\n",
              "    <tr>\n",
              "      <th>1</th>\n",
              "      <td>go</td>\n",
              "      <td>2009</td>\n",
              "      <td>imperative</td>\n",
              "    </tr>\n",
              "    <tr>\n",
              "      <th>2</th>\n",
              "      <td>python</td>\n",
              "      <td>1991</td>\n",
              "      <td>imperative, object-oriented</td>\n",
              "    </tr>\n",
              "    <tr>\n",
              "      <th>3</th>\n",
              "      <td>javascript</td>\n",
              "      <td>1995</td>\n",
              "      <td>imperative, object-oriented</td>\n",
              "    </tr>\n",
              "    <tr>\n",
              "      <th>4</th>\n",
              "      <td>typescript</td>\n",
              "      <td>2012</td>\n",
              "      <td>imperative, object-oriented</td>\n",
              "    </tr>\n",
              "  </tbody>\n",
              "</table>\n",
              "</div>"
            ],
            "text/plain": [
              "     language  creation_year                     paradigm\n",
              "0           c           1972                   imperative\n",
              "1          go           2009                   imperative\n",
              "2      python           1991  imperative, object-oriented\n",
              "3  javascript           1995  imperative, object-oriented\n",
              "4  typescript           2012  imperative, object-oriented"
            ]
          },
          "metadata": {},
          "execution_count": 40
        }
      ]
    },
    {
      "cell_type": "markdown",
      "metadata": {
        "id": "gj4U2E7Dk_u8"
      },
      "source": [
        "*   **Exemplo**: Combinação do tipo `inner`:"
      ]
    },
    {
      "cell_type": "code",
      "metadata": {
        "id": "stRxObnBlW2X",
        "colab": {
          "base_uri": "https://localhost:8080/",
          "height": 297
        },
        "outputId": "4eff1770-75d9-4e9c-cde4-1d9e2e0b3254"
      },
      "source": [
        "pd.merge(left=github_df, right=linguagem_df, on='language', how='inner')"
      ],
      "execution_count": null,
      "outputs": [
        {
          "output_type": "execute_result",
          "data": {
            "text/html": [
              "<div>\n",
              "<style scoped>\n",
              "    .dataframe tbody tr th:only-of-type {\n",
              "        vertical-align: middle;\n",
              "    }\n",
              "\n",
              "    .dataframe tbody tr th {\n",
              "        vertical-align: top;\n",
              "    }\n",
              "\n",
              "    .dataframe thead th {\n",
              "        text-align: right;\n",
              "    }\n",
              "</style>\n",
              "<table border=\"1\" class=\"dataframe\">\n",
              "  <thead>\n",
              "    <tr style=\"text-align: right;\">\n",
              "      <th></th>\n",
              "      <th>ranking</th>\n",
              "      <th>project</th>\n",
              "      <th>language</th>\n",
              "      <th>stars</th>\n",
              "      <th>stars_today</th>\n",
              "      <th>forks</th>\n",
              "      <th>creation_year</th>\n",
              "      <th>paradigm</th>\n",
              "    </tr>\n",
              "  </thead>\n",
              "  <tbody>\n",
              "    <tr>\n",
              "      <th>0</th>\n",
              "      <td>1</td>\n",
              "      <td>plow</td>\n",
              "      <td>go</td>\n",
              "      <td>1304</td>\n",
              "      <td>574</td>\n",
              "      <td>38</td>\n",
              "      <td>2009</td>\n",
              "      <td>imperative</td>\n",
              "    </tr>\n",
              "    <tr>\n",
              "      <th>1</th>\n",
              "      <td>3</td>\n",
              "      <td>slides</td>\n",
              "      <td>go</td>\n",
              "      <td>3218</td>\n",
              "      <td>265</td>\n",
              "      <td>80</td>\n",
              "      <td>2009</td>\n",
              "      <td>imperative</td>\n",
              "    </tr>\n",
              "    <tr>\n",
              "      <th>2</th>\n",
              "      <td>2</td>\n",
              "      <td>n8n</td>\n",
              "      <td>typescript</td>\n",
              "      <td>15668</td>\n",
              "      <td>280</td>\n",
              "      <td>1370</td>\n",
              "      <td>2012</td>\n",
              "      <td>imperative, object-oriented</td>\n",
              "    </tr>\n",
              "    <tr>\n",
              "      <th>3</th>\n",
              "      <td>5</td>\n",
              "      <td>pytorch-image-models</td>\n",
              "      <td>python</td>\n",
              "      <td>11065</td>\n",
              "      <td>101</td>\n",
              "      <td>1646</td>\n",
              "      <td>1991</td>\n",
              "      <td>imperative, object-oriented</td>\n",
              "    </tr>\n",
              "    <tr>\n",
              "      <th>4</th>\n",
              "      <td>7</td>\n",
              "      <td>paddleclas</td>\n",
              "      <td>python</td>\n",
              "      <td>1429</td>\n",
              "      <td>283</td>\n",
              "      <td>323</td>\n",
              "      <td>1991</td>\n",
              "      <td>imperative, object-oriented</td>\n",
              "    </tr>\n",
              "    <tr>\n",
              "      <th>5</th>\n",
              "      <td>8</td>\n",
              "      <td>reddit_sentiment_trader</td>\n",
              "      <td>python</td>\n",
              "      <td>369</td>\n",
              "      <td>71</td>\n",
              "      <td>60</td>\n",
              "      <td>1991</td>\n",
              "      <td>imperative, object-oriented</td>\n",
              "    </tr>\n",
              "    <tr>\n",
              "      <th>6</th>\n",
              "      <td>9</td>\n",
              "      <td>augly</td>\n",
              "      <td>python</td>\n",
              "      <td>2849</td>\n",
              "      <td>393</td>\n",
              "      <td>99</td>\n",
              "      <td>1991</td>\n",
              "      <td>imperative, object-oriented</td>\n",
              "    </tr>\n",
              "    <tr>\n",
              "      <th>7</th>\n",
              "      <td>6</td>\n",
              "      <td>javascript-algorithms</td>\n",
              "      <td>javascript</td>\n",
              "      <td>110768</td>\n",
              "      <td>248</td>\n",
              "      <td>18331</td>\n",
              "      <td>1995</td>\n",
              "      <td>imperative, object-oriented</td>\n",
              "    </tr>\n",
              "  </tbody>\n",
              "</table>\n",
              "</div>"
            ],
            "text/plain": [
              "   ranking                  project  ... creation_year                     paradigm\n",
              "0        1                     plow  ...          2009                   imperative\n",
              "1        3                   slides  ...          2009                   imperative\n",
              "2        2                      n8n  ...          2012  imperative, object-oriented\n",
              "3        5     pytorch-image-models  ...          1991  imperative, object-oriented\n",
              "4        7               paddleclas  ...          1991  imperative, object-oriented\n",
              "5        8  reddit_sentiment_trader  ...          1991  imperative, object-oriented\n",
              "6        9                    augly  ...          1991  imperative, object-oriented\n",
              "7        6    javascript-algorithms  ...          1995  imperative, object-oriented\n",
              "\n",
              "[8 rows x 8 columns]"
            ]
          },
          "metadata": {},
          "execution_count": 41
        }
      ]
    },
    {
      "cell_type": "markdown",
      "metadata": {
        "id": "OPEKHbYNmR1k"
      },
      "source": [
        "*   **Exemplo**: Combinação do tipo `left` e `right`:"
      ]
    },
    {
      "cell_type": "code",
      "metadata": {
        "id": "dFVSLE0WmR1l",
        "colab": {
          "base_uri": "https://localhost:8080/",
          "height": 359
        },
        "outputId": "5c3af313-963d-4cec-8139-d08b52b1ec82"
      },
      "source": [
        "pd.merge(left=github_df, right=linguagem_df, on='language', how='left')"
      ],
      "execution_count": null,
      "outputs": [
        {
          "output_type": "execute_result",
          "data": {
            "text/html": [
              "<div>\n",
              "<style scoped>\n",
              "    .dataframe tbody tr th:only-of-type {\n",
              "        vertical-align: middle;\n",
              "    }\n",
              "\n",
              "    .dataframe tbody tr th {\n",
              "        vertical-align: top;\n",
              "    }\n",
              "\n",
              "    .dataframe thead th {\n",
              "        text-align: right;\n",
              "    }\n",
              "</style>\n",
              "<table border=\"1\" class=\"dataframe\">\n",
              "  <thead>\n",
              "    <tr style=\"text-align: right;\">\n",
              "      <th></th>\n",
              "      <th>ranking</th>\n",
              "      <th>project</th>\n",
              "      <th>language</th>\n",
              "      <th>stars</th>\n",
              "      <th>stars_today</th>\n",
              "      <th>forks</th>\n",
              "      <th>creation_year</th>\n",
              "      <th>paradigm</th>\n",
              "    </tr>\n",
              "  </thead>\n",
              "  <tbody>\n",
              "    <tr>\n",
              "      <th>0</th>\n",
              "      <td>1</td>\n",
              "      <td>plow</td>\n",
              "      <td>go</td>\n",
              "      <td>1304</td>\n",
              "      <td>574</td>\n",
              "      <td>38</td>\n",
              "      <td>2009.0</td>\n",
              "      <td>imperative</td>\n",
              "    </tr>\n",
              "    <tr>\n",
              "      <th>1</th>\n",
              "      <td>2</td>\n",
              "      <td>n8n</td>\n",
              "      <td>typescript</td>\n",
              "      <td>15668</td>\n",
              "      <td>280</td>\n",
              "      <td>1370</td>\n",
              "      <td>2012.0</td>\n",
              "      <td>imperative, object-oriented</td>\n",
              "    </tr>\n",
              "    <tr>\n",
              "      <th>2</th>\n",
              "      <td>3</td>\n",
              "      <td>slides</td>\n",
              "      <td>go</td>\n",
              "      <td>3218</td>\n",
              "      <td>265</td>\n",
              "      <td>80</td>\n",
              "      <td>2009.0</td>\n",
              "      <td>imperative</td>\n",
              "    </tr>\n",
              "    <tr>\n",
              "      <th>3</th>\n",
              "      <td>4</td>\n",
              "      <td>defi-developer-road-map</td>\n",
              "      <td>NaN</td>\n",
              "      <td>636</td>\n",
              "      <td>247</td>\n",
              "      <td>49</td>\n",
              "      <td>NaN</td>\n",
              "      <td>NaN</td>\n",
              "    </tr>\n",
              "    <tr>\n",
              "      <th>4</th>\n",
              "      <td>5</td>\n",
              "      <td>pytorch-image-models</td>\n",
              "      <td>python</td>\n",
              "      <td>11065</td>\n",
              "      <td>101</td>\n",
              "      <td>1646</td>\n",
              "      <td>1991.0</td>\n",
              "      <td>imperative, object-oriented</td>\n",
              "    </tr>\n",
              "    <tr>\n",
              "      <th>5</th>\n",
              "      <td>6</td>\n",
              "      <td>javascript-algorithms</td>\n",
              "      <td>javascript</td>\n",
              "      <td>110768</td>\n",
              "      <td>248</td>\n",
              "      <td>18331</td>\n",
              "      <td>1995.0</td>\n",
              "      <td>imperative, object-oriented</td>\n",
              "    </tr>\n",
              "    <tr>\n",
              "      <th>6</th>\n",
              "      <td>7</td>\n",
              "      <td>paddleclas</td>\n",
              "      <td>python</td>\n",
              "      <td>1429</td>\n",
              "      <td>283</td>\n",
              "      <td>323</td>\n",
              "      <td>1991.0</td>\n",
              "      <td>imperative, object-oriented</td>\n",
              "    </tr>\n",
              "    <tr>\n",
              "      <th>7</th>\n",
              "      <td>8</td>\n",
              "      <td>reddit_sentiment_trader</td>\n",
              "      <td>python</td>\n",
              "      <td>369</td>\n",
              "      <td>71</td>\n",
              "      <td>60</td>\n",
              "      <td>1991.0</td>\n",
              "      <td>imperative, object-oriented</td>\n",
              "    </tr>\n",
              "    <tr>\n",
              "      <th>8</th>\n",
              "      <td>9</td>\n",
              "      <td>augly</td>\n",
              "      <td>python</td>\n",
              "      <td>2849</td>\n",
              "      <td>393</td>\n",
              "      <td>99</td>\n",
              "      <td>1991.0</td>\n",
              "      <td>imperative, object-oriented</td>\n",
              "    </tr>\n",
              "    <tr>\n",
              "      <th>9</th>\n",
              "      <td>10</td>\n",
              "      <td>self-taught-guide-to-cloud-computing</td>\n",
              "      <td>NaN</td>\n",
              "      <td>863</td>\n",
              "      <td>179</td>\n",
              "      <td>84</td>\n",
              "      <td>NaN</td>\n",
              "      <td>NaN</td>\n",
              "    </tr>\n",
              "  </tbody>\n",
              "</table>\n",
              "</div>"
            ],
            "text/plain": [
              "   ranking  ...                     paradigm\n",
              "0        1  ...                   imperative\n",
              "1        2  ...  imperative, object-oriented\n",
              "2        3  ...                   imperative\n",
              "3        4  ...                          NaN\n",
              "4        5  ...  imperative, object-oriented\n",
              "5        6  ...  imperative, object-oriented\n",
              "6        7  ...  imperative, object-oriented\n",
              "7        8  ...  imperative, object-oriented\n",
              "8        9  ...  imperative, object-oriented\n",
              "9       10  ...                          NaN\n",
              "\n",
              "[10 rows x 8 columns]"
            ]
          },
          "metadata": {},
          "execution_count": 42
        }
      ]
    },
    {
      "cell_type": "code",
      "metadata": {
        "id": "AluHh6R7mcQi",
        "colab": {
          "base_uri": "https://localhost:8080/",
          "height": 328
        },
        "outputId": "d3d53055-4756-4c03-dfc6-dc312dc3cb4f"
      },
      "source": [
        "pd.merge(left=github_df, right=linguagem_df, on='language', how='right')"
      ],
      "execution_count": null,
      "outputs": [
        {
          "output_type": "execute_result",
          "data": {
            "text/html": [
              "<div>\n",
              "<style scoped>\n",
              "    .dataframe tbody tr th:only-of-type {\n",
              "        vertical-align: middle;\n",
              "    }\n",
              "\n",
              "    .dataframe tbody tr th {\n",
              "        vertical-align: top;\n",
              "    }\n",
              "\n",
              "    .dataframe thead th {\n",
              "        text-align: right;\n",
              "    }\n",
              "</style>\n",
              "<table border=\"1\" class=\"dataframe\">\n",
              "  <thead>\n",
              "    <tr style=\"text-align: right;\">\n",
              "      <th></th>\n",
              "      <th>ranking</th>\n",
              "      <th>project</th>\n",
              "      <th>language</th>\n",
              "      <th>stars</th>\n",
              "      <th>stars_today</th>\n",
              "      <th>forks</th>\n",
              "      <th>creation_year</th>\n",
              "      <th>paradigm</th>\n",
              "    </tr>\n",
              "  </thead>\n",
              "  <tbody>\n",
              "    <tr>\n",
              "      <th>0</th>\n",
              "      <td>NaN</td>\n",
              "      <td>NaN</td>\n",
              "      <td>c</td>\n",
              "      <td>NaN</td>\n",
              "      <td>NaN</td>\n",
              "      <td>NaN</td>\n",
              "      <td>1972</td>\n",
              "      <td>imperative</td>\n",
              "    </tr>\n",
              "    <tr>\n",
              "      <th>1</th>\n",
              "      <td>1.0</td>\n",
              "      <td>plow</td>\n",
              "      <td>go</td>\n",
              "      <td>1304.0</td>\n",
              "      <td>574.0</td>\n",
              "      <td>38.0</td>\n",
              "      <td>2009</td>\n",
              "      <td>imperative</td>\n",
              "    </tr>\n",
              "    <tr>\n",
              "      <th>2</th>\n",
              "      <td>3.0</td>\n",
              "      <td>slides</td>\n",
              "      <td>go</td>\n",
              "      <td>3218.0</td>\n",
              "      <td>265.0</td>\n",
              "      <td>80.0</td>\n",
              "      <td>2009</td>\n",
              "      <td>imperative</td>\n",
              "    </tr>\n",
              "    <tr>\n",
              "      <th>3</th>\n",
              "      <td>5.0</td>\n",
              "      <td>pytorch-image-models</td>\n",
              "      <td>python</td>\n",
              "      <td>11065.0</td>\n",
              "      <td>101.0</td>\n",
              "      <td>1646.0</td>\n",
              "      <td>1991</td>\n",
              "      <td>imperative, object-oriented</td>\n",
              "    </tr>\n",
              "    <tr>\n",
              "      <th>4</th>\n",
              "      <td>7.0</td>\n",
              "      <td>paddleclas</td>\n",
              "      <td>python</td>\n",
              "      <td>1429.0</td>\n",
              "      <td>283.0</td>\n",
              "      <td>323.0</td>\n",
              "      <td>1991</td>\n",
              "      <td>imperative, object-oriented</td>\n",
              "    </tr>\n",
              "    <tr>\n",
              "      <th>5</th>\n",
              "      <td>8.0</td>\n",
              "      <td>reddit_sentiment_trader</td>\n",
              "      <td>python</td>\n",
              "      <td>369.0</td>\n",
              "      <td>71.0</td>\n",
              "      <td>60.0</td>\n",
              "      <td>1991</td>\n",
              "      <td>imperative, object-oriented</td>\n",
              "    </tr>\n",
              "    <tr>\n",
              "      <th>6</th>\n",
              "      <td>9.0</td>\n",
              "      <td>augly</td>\n",
              "      <td>python</td>\n",
              "      <td>2849.0</td>\n",
              "      <td>393.0</td>\n",
              "      <td>99.0</td>\n",
              "      <td>1991</td>\n",
              "      <td>imperative, object-oriented</td>\n",
              "    </tr>\n",
              "    <tr>\n",
              "      <th>7</th>\n",
              "      <td>6.0</td>\n",
              "      <td>javascript-algorithms</td>\n",
              "      <td>javascript</td>\n",
              "      <td>110768.0</td>\n",
              "      <td>248.0</td>\n",
              "      <td>18331.0</td>\n",
              "      <td>1995</td>\n",
              "      <td>imperative, object-oriented</td>\n",
              "    </tr>\n",
              "    <tr>\n",
              "      <th>8</th>\n",
              "      <td>2.0</td>\n",
              "      <td>n8n</td>\n",
              "      <td>typescript</td>\n",
              "      <td>15668.0</td>\n",
              "      <td>280.0</td>\n",
              "      <td>1370.0</td>\n",
              "      <td>2012</td>\n",
              "      <td>imperative, object-oriented</td>\n",
              "    </tr>\n",
              "  </tbody>\n",
              "</table>\n",
              "</div>"
            ],
            "text/plain": [
              "   ranking                  project  ... creation_year                     paradigm\n",
              "0      NaN                      NaN  ...          1972                   imperative\n",
              "1      1.0                     plow  ...          2009                   imperative\n",
              "2      3.0                   slides  ...          2009                   imperative\n",
              "3      5.0     pytorch-image-models  ...          1991  imperative, object-oriented\n",
              "4      7.0               paddleclas  ...          1991  imperative, object-oriented\n",
              "5      8.0  reddit_sentiment_trader  ...          1991  imperative, object-oriented\n",
              "6      9.0                    augly  ...          1991  imperative, object-oriented\n",
              "7      6.0    javascript-algorithms  ...          1995  imperative, object-oriented\n",
              "8      2.0                      n8n  ...          2012  imperative, object-oriented\n",
              "\n",
              "[9 rows x 8 columns]"
            ]
          },
          "metadata": {},
          "execution_count": 43
        }
      ]
    },
    {
      "cell_type": "markdown",
      "metadata": {
        "id": "bWpMyjJami5f"
      },
      "source": [
        "*   **Exemplo**: Combinação do tipo `outer`:"
      ]
    },
    {
      "cell_type": "code",
      "metadata": {
        "id": "_gSQTULfmi5f",
        "colab": {
          "base_uri": "https://localhost:8080/",
          "height": 390
        },
        "outputId": "950f49d5-02a5-425d-e028-d8e2a77d145a"
      },
      "source": [
        "pd.merge(left=github_df, right=linguagem_df, on='language', how='outer')"
      ],
      "execution_count": null,
      "outputs": [
        {
          "output_type": "execute_result",
          "data": {
            "text/html": [
              "<div>\n",
              "<style scoped>\n",
              "    .dataframe tbody tr th:only-of-type {\n",
              "        vertical-align: middle;\n",
              "    }\n",
              "\n",
              "    .dataframe tbody tr th {\n",
              "        vertical-align: top;\n",
              "    }\n",
              "\n",
              "    .dataframe thead th {\n",
              "        text-align: right;\n",
              "    }\n",
              "</style>\n",
              "<table border=\"1\" class=\"dataframe\">\n",
              "  <thead>\n",
              "    <tr style=\"text-align: right;\">\n",
              "      <th></th>\n",
              "      <th>ranking</th>\n",
              "      <th>project</th>\n",
              "      <th>language</th>\n",
              "      <th>stars</th>\n",
              "      <th>stars_today</th>\n",
              "      <th>forks</th>\n",
              "      <th>creation_year</th>\n",
              "      <th>paradigm</th>\n",
              "    </tr>\n",
              "  </thead>\n",
              "  <tbody>\n",
              "    <tr>\n",
              "      <th>0</th>\n",
              "      <td>1.0</td>\n",
              "      <td>plow</td>\n",
              "      <td>go</td>\n",
              "      <td>1304.0</td>\n",
              "      <td>574.0</td>\n",
              "      <td>38.0</td>\n",
              "      <td>2009.0</td>\n",
              "      <td>imperative</td>\n",
              "    </tr>\n",
              "    <tr>\n",
              "      <th>1</th>\n",
              "      <td>3.0</td>\n",
              "      <td>slides</td>\n",
              "      <td>go</td>\n",
              "      <td>3218.0</td>\n",
              "      <td>265.0</td>\n",
              "      <td>80.0</td>\n",
              "      <td>2009.0</td>\n",
              "      <td>imperative</td>\n",
              "    </tr>\n",
              "    <tr>\n",
              "      <th>2</th>\n",
              "      <td>2.0</td>\n",
              "      <td>n8n</td>\n",
              "      <td>typescript</td>\n",
              "      <td>15668.0</td>\n",
              "      <td>280.0</td>\n",
              "      <td>1370.0</td>\n",
              "      <td>2012.0</td>\n",
              "      <td>imperative, object-oriented</td>\n",
              "    </tr>\n",
              "    <tr>\n",
              "      <th>3</th>\n",
              "      <td>4.0</td>\n",
              "      <td>defi-developer-road-map</td>\n",
              "      <td>NaN</td>\n",
              "      <td>636.0</td>\n",
              "      <td>247.0</td>\n",
              "      <td>49.0</td>\n",
              "      <td>NaN</td>\n",
              "      <td>NaN</td>\n",
              "    </tr>\n",
              "    <tr>\n",
              "      <th>4</th>\n",
              "      <td>10.0</td>\n",
              "      <td>self-taught-guide-to-cloud-computing</td>\n",
              "      <td>NaN</td>\n",
              "      <td>863.0</td>\n",
              "      <td>179.0</td>\n",
              "      <td>84.0</td>\n",
              "      <td>NaN</td>\n",
              "      <td>NaN</td>\n",
              "    </tr>\n",
              "    <tr>\n",
              "      <th>5</th>\n",
              "      <td>5.0</td>\n",
              "      <td>pytorch-image-models</td>\n",
              "      <td>python</td>\n",
              "      <td>11065.0</td>\n",
              "      <td>101.0</td>\n",
              "      <td>1646.0</td>\n",
              "      <td>1991.0</td>\n",
              "      <td>imperative, object-oriented</td>\n",
              "    </tr>\n",
              "    <tr>\n",
              "      <th>6</th>\n",
              "      <td>7.0</td>\n",
              "      <td>paddleclas</td>\n",
              "      <td>python</td>\n",
              "      <td>1429.0</td>\n",
              "      <td>283.0</td>\n",
              "      <td>323.0</td>\n",
              "      <td>1991.0</td>\n",
              "      <td>imperative, object-oriented</td>\n",
              "    </tr>\n",
              "    <tr>\n",
              "      <th>7</th>\n",
              "      <td>8.0</td>\n",
              "      <td>reddit_sentiment_trader</td>\n",
              "      <td>python</td>\n",
              "      <td>369.0</td>\n",
              "      <td>71.0</td>\n",
              "      <td>60.0</td>\n",
              "      <td>1991.0</td>\n",
              "      <td>imperative, object-oriented</td>\n",
              "    </tr>\n",
              "    <tr>\n",
              "      <th>8</th>\n",
              "      <td>9.0</td>\n",
              "      <td>augly</td>\n",
              "      <td>python</td>\n",
              "      <td>2849.0</td>\n",
              "      <td>393.0</td>\n",
              "      <td>99.0</td>\n",
              "      <td>1991.0</td>\n",
              "      <td>imperative, object-oriented</td>\n",
              "    </tr>\n",
              "    <tr>\n",
              "      <th>9</th>\n",
              "      <td>6.0</td>\n",
              "      <td>javascript-algorithms</td>\n",
              "      <td>javascript</td>\n",
              "      <td>110768.0</td>\n",
              "      <td>248.0</td>\n",
              "      <td>18331.0</td>\n",
              "      <td>1995.0</td>\n",
              "      <td>imperative, object-oriented</td>\n",
              "    </tr>\n",
              "    <tr>\n",
              "      <th>10</th>\n",
              "      <td>NaN</td>\n",
              "      <td>NaN</td>\n",
              "      <td>c</td>\n",
              "      <td>NaN</td>\n",
              "      <td>NaN</td>\n",
              "      <td>NaN</td>\n",
              "      <td>1972.0</td>\n",
              "      <td>imperative</td>\n",
              "    </tr>\n",
              "  </tbody>\n",
              "</table>\n",
              "</div>"
            ],
            "text/plain": [
              "    ranking  ...                     paradigm\n",
              "0       1.0  ...                   imperative\n",
              "1       3.0  ...                   imperative\n",
              "2       2.0  ...  imperative, object-oriented\n",
              "3       4.0  ...                          NaN\n",
              "4      10.0  ...                          NaN\n",
              "5       5.0  ...  imperative, object-oriented\n",
              "6       7.0  ...  imperative, object-oriented\n",
              "7       8.0  ...  imperative, object-oriented\n",
              "8       9.0  ...  imperative, object-oriented\n",
              "9       6.0  ...  imperative, object-oriented\n",
              "10      NaN  ...                   imperative\n",
              "\n",
              "[11 rows x 8 columns]"
            ]
          },
          "metadata": {},
          "execution_count": 44
        }
      ]
    },
    {
      "cell_type": "markdown",
      "metadata": {
        "id": "ELgoMRAAUSjv"
      },
      "source": [
        "## 3\\. Técnicas Avançadas"
      ]
    },
    {
      "cell_type": "markdown",
      "metadata": {
        "id": "gdukZft-DRcG"
      },
      "source": [
        "### **3.1. Gráficos** "
      ]
    },
    {
      "cell_type": "markdown",
      "metadata": {
        "id": "iFJvZ8CubGfw"
      },
      "source": [
        "O Pandas possuí o método `plot` ([documentação](https://pandas.pydata.org/docs/reference/api/pandas.DataFrame.plot.html)) para a geração de gráficos a partir de DataFrames. Por padrão, utiliza o pacote Python de geração de gráficos **MatplotLib** ([documentação](https://matplotlib.org/stable/index.html))."
      ]
    },
    {
      "cell_type": "markdown",
      "metadata": {
        "id": "z--x9j7jNMFw"
      },
      "source": [
        "#### 3.1.1 Pizza "
      ]
    },
    {
      "cell_type": "markdown",
      "metadata": {
        "id": "2mwK86zXXQBl"
      },
      "source": [
        "Gráfico que relaciona uma variável **categórica** com uma variável **numérica**. Vamos utilizar o método `pie` ([documentação](https://matplotlib.org/stable/api/_as_gen/matplotlib.pyplot.pie.html)) do pacote MatplotLib."
      ]
    },
    {
      "cell_type": "markdown",
      "metadata": {
        "id": "owu5-rt-OW3D"
      },
      "source": [
        "*   **Exemplo**: Proporção das linguagens de programação no ranking:"
      ]
    },
    {
      "cell_type": "code",
      "metadata": {
        "id": "5pWe-UPZTO4l",
        "colab": {
          "base_uri": "https://localhost:8080/"
        },
        "outputId": "c9c7e9c9-39ed-4244-aee3-55d6986a926a"
      },
      "source": [
        "{'amount': len(github_df)*[1]}"
      ],
      "execution_count": null,
      "outputs": [
        {
          "output_type": "execute_result",
          "data": {
            "text/plain": [
              "{'amount': [1, 1, 1, 1, 1, 1, 1, 1, 1, 1]}"
            ]
          },
          "metadata": {},
          "execution_count": 45
        }
      ]
    },
    {
      "cell_type": "code",
      "metadata": {
        "id": "FNOoK4ivS8Nw"
      },
      "source": [
        "languages_df = pd.concat([github_df[['language']], pd.DataFrame({'amount': len(github_df)*[1]})], axis=1)"
      ],
      "execution_count": null,
      "outputs": []
    },
    {
      "cell_type": "code",
      "metadata": {
        "id": "BslM9zN7Ti5z",
        "colab": {
          "base_uri": "https://localhost:8080/",
          "height": 359
        },
        "outputId": "55728a73-7752-4d78-a876-f7e485372e24"
      },
      "source": [
        "languages_df"
      ],
      "execution_count": null,
      "outputs": [
        {
          "output_type": "execute_result",
          "data": {
            "text/html": [
              "<div>\n",
              "<style scoped>\n",
              "    .dataframe tbody tr th:only-of-type {\n",
              "        vertical-align: middle;\n",
              "    }\n",
              "\n",
              "    .dataframe tbody tr th {\n",
              "        vertical-align: top;\n",
              "    }\n",
              "\n",
              "    .dataframe thead th {\n",
              "        text-align: right;\n",
              "    }\n",
              "</style>\n",
              "<table border=\"1\" class=\"dataframe\">\n",
              "  <thead>\n",
              "    <tr style=\"text-align: right;\">\n",
              "      <th></th>\n",
              "      <th>language</th>\n",
              "      <th>amount</th>\n",
              "    </tr>\n",
              "  </thead>\n",
              "  <tbody>\n",
              "    <tr>\n",
              "      <th>0</th>\n",
              "      <td>go</td>\n",
              "      <td>1</td>\n",
              "    </tr>\n",
              "    <tr>\n",
              "      <th>1</th>\n",
              "      <td>typescript</td>\n",
              "      <td>1</td>\n",
              "    </tr>\n",
              "    <tr>\n",
              "      <th>2</th>\n",
              "      <td>go</td>\n",
              "      <td>1</td>\n",
              "    </tr>\n",
              "    <tr>\n",
              "      <th>3</th>\n",
              "      <td>NaN</td>\n",
              "      <td>1</td>\n",
              "    </tr>\n",
              "    <tr>\n",
              "      <th>4</th>\n",
              "      <td>python</td>\n",
              "      <td>1</td>\n",
              "    </tr>\n",
              "    <tr>\n",
              "      <th>5</th>\n",
              "      <td>javascript</td>\n",
              "      <td>1</td>\n",
              "    </tr>\n",
              "    <tr>\n",
              "      <th>6</th>\n",
              "      <td>python</td>\n",
              "      <td>1</td>\n",
              "    </tr>\n",
              "    <tr>\n",
              "      <th>7</th>\n",
              "      <td>python</td>\n",
              "      <td>1</td>\n",
              "    </tr>\n",
              "    <tr>\n",
              "      <th>8</th>\n",
              "      <td>python</td>\n",
              "      <td>1</td>\n",
              "    </tr>\n",
              "    <tr>\n",
              "      <th>9</th>\n",
              "      <td>NaN</td>\n",
              "      <td>1</td>\n",
              "    </tr>\n",
              "  </tbody>\n",
              "</table>\n",
              "</div>"
            ],
            "text/plain": [
              "     language  amount\n",
              "0          go       1\n",
              "1  typescript       1\n",
              "2          go       1\n",
              "3         NaN       1\n",
              "4      python       1\n",
              "5  javascript       1\n",
              "6      python       1\n",
              "7      python       1\n",
              "8      python       1\n",
              "9         NaN       1"
            ]
          },
          "metadata": {},
          "execution_count": 47
        }
      ]
    },
    {
      "cell_type": "code",
      "metadata": {
        "id": "yjlgmbEVMsMo"
      },
      "source": [
        "grouped_languages_df = languages_df.groupby('language').agg('sum')"
      ],
      "execution_count": null,
      "outputs": []
    },
    {
      "cell_type": "code",
      "metadata": {
        "id": "_7nq9EE_NXbD",
        "colab": {
          "base_uri": "https://localhost:8080/",
          "height": 204
        },
        "outputId": "de18ded8-5b7a-4704-898d-220d3169b8fc"
      },
      "source": [
        "grouped_languages_df"
      ],
      "execution_count": null,
      "outputs": [
        {
          "output_type": "execute_result",
          "data": {
            "text/html": [
              "<div>\n",
              "<style scoped>\n",
              "    .dataframe tbody tr th:only-of-type {\n",
              "        vertical-align: middle;\n",
              "    }\n",
              "\n",
              "    .dataframe tbody tr th {\n",
              "        vertical-align: top;\n",
              "    }\n",
              "\n",
              "    .dataframe thead th {\n",
              "        text-align: right;\n",
              "    }\n",
              "</style>\n",
              "<table border=\"1\" class=\"dataframe\">\n",
              "  <thead>\n",
              "    <tr style=\"text-align: right;\">\n",
              "      <th></th>\n",
              "      <th>amount</th>\n",
              "    </tr>\n",
              "    <tr>\n",
              "      <th>language</th>\n",
              "      <th></th>\n",
              "    </tr>\n",
              "  </thead>\n",
              "  <tbody>\n",
              "    <tr>\n",
              "      <th>go</th>\n",
              "      <td>2</td>\n",
              "    </tr>\n",
              "    <tr>\n",
              "      <th>javascript</th>\n",
              "      <td>1</td>\n",
              "    </tr>\n",
              "    <tr>\n",
              "      <th>python</th>\n",
              "      <td>4</td>\n",
              "    </tr>\n",
              "    <tr>\n",
              "      <th>typescript</th>\n",
              "      <td>1</td>\n",
              "    </tr>\n",
              "  </tbody>\n",
              "</table>\n",
              "</div>"
            ],
            "text/plain": [
              "            amount\n",
              "language          \n",
              "go               2\n",
              "javascript       1\n",
              "python           4\n",
              "typescript       1"
            ]
          },
          "metadata": {},
          "execution_count": 49
        }
      ]
    },
    {
      "cell_type": "code",
      "metadata": {
        "id": "k5lf6ReZNbjK",
        "colab": {
          "base_uri": "https://localhost:8080/",
          "height": 374
        },
        "outputId": "04649191-cfdd-403e-8139-540587a020d3"
      },
      "source": [
        "grouped_languages_df.plot.pie(y='amount', figsize=(11, 6))"
      ],
      "execution_count": null,
      "outputs": [
        {
          "output_type": "execute_result",
          "data": {
            "text/plain": [
              "<matplotlib.axes._subplots.AxesSubplot at 0x7f4e8c160210>"
            ]
          },
          "metadata": {},
          "execution_count": 50
        },
        {
          "output_type": "display_data",
          "data": {
            "image/png": "[encoded data removed]",
            "text/plain": [
              "<Figure size 792x432 with 1 Axes>"
            ]
          },
          "metadata": {}
        }
      ]
    },
    {
      "cell_type": "markdown",
      "metadata": {
        "id": "bUB9ylHuN2rG"
      },
      "source": [
        "#### 3.1.2 Pontos "
      ]
    },
    {
      "cell_type": "markdown",
      "metadata": {
        "id": "jyN-6br5XfV9"
      },
      "source": [
        "Gráfico que relaciona variáveis **numéricas**. Vamos utilizar o método `scatter` ([documentação](https://matplotlib.org/stable/api/_as_gen/matplotlib.pyplot.scatter.html)) do pacote MatplotLib."
      ]
    },
    {
      "cell_type": "markdown",
      "metadata": {
        "id": "tMakhpZBOlOS"
      },
      "source": [
        "*   **Exemplo**: Relação entre o número de `stars` com o `forks`:"
      ]
    },
    {
      "cell_type": "code",
      "metadata": {
        "id": "AQJkyhOHOMtA",
        "colab": {
          "base_uri": "https://localhost:8080/",
          "height": 296
        },
        "outputId": "6fc8dc42-cf91-412c-cd7c-a5c3e497f9d9"
      },
      "source": [
        "github_df.plot.scatter(x='stars', y='forks')"
      ],
      "execution_count": null,
      "outputs": [
        {
          "output_type": "execute_result",
          "data": {
            "text/plain": [
              "<matplotlib.axes._subplots.AxesSubplot at 0x7f4e859d6190>"
            ]
          },
          "metadata": {},
          "execution_count": 51
        },
        {
          "output_type": "display_data",
          "data": {
            "image/png": "[encoded data removed]",
            "text/plain": [
              "<Figure size 432x288 with 1 Axes>"
            ]
          },
          "metadata": {
            "needs_background": "light"
          }
        }
      ]
    },
    {
      "cell_type": "code",
      "metadata": {
        "id": "iJI2Zl-yY8Q5",
        "colab": {
          "base_uri": "https://localhost:8080/",
          "height": 275
        },
        "outputId": "79e76a50-ffe5-41e2-9e1d-c10e1ff72c2a"
      },
      "source": [
        "github_df.query('stars < 100000').plot.scatter(x='stars', y='forks', c='ranking', colormap='viridis')"
      ],
      "execution_count": null,
      "outputs": [
        {
          "output_type": "execute_result",
          "data": {
            "text/plain": [
              "<matplotlib.axes._subplots.AxesSubplot at 0x7f4e85510210>"
            ]
          },
          "metadata": {},
          "execution_count": 52
        },
        {
          "output_type": "display_data",
          "data": {
            "image/png": "[encoded data removed]",
            "text/plain": [
              "<Figure size 432x288 with 2 Axes>"
            ]
          },
          "metadata": {
            "needs_background": "light"
          }
        }
      ]
    },
    {
      "cell_type": "markdown",
      "metadata": {
        "id": "j611vH5T17VR"
      },
      "source": [
        "### **3.2. Valores Nulos** "
      ]
    },
    {
      "cell_type": "markdown",
      "metadata": {
        "id": "XIVLuhDme1Go"
      },
      "source": [
        "Valores nulos em um DataFrame Pandas ocorrem quando o pacote não consegue interpretar o dado da fonte de dados, exemplos:\n",
        "\n",
        "*   Colunas categóricas com valores vazios (` `);\n",
        "*   Colunas numéricas com valores nulos (`None`);\n",
        "*   etc.\n",
        "\n"
      ]
    },
    {
      "cell_type": "markdown",
      "metadata": {
        "id": "NaznIcTWc3t1"
      },
      "source": [
        "#### 3.2.1 Identificação"
      ]
    },
    {
      "cell_type": "markdown",
      "metadata": {
        "id": "yjq9-YWaeqhR"
      },
      "source": [
        "*   **Exemplo**: Identificaçao de linhas com algum valor nulo com os métodos `isnull` e `any`:"
      ]
    },
    {
      "cell_type": "code",
      "metadata": {
        "id": "dYfloOlncs6c",
        "colab": {
          "base_uri": "https://localhost:8080/",
          "height": 359
        },
        "outputId": "686bd814-ace8-4d2a-ef1f-e3ac178fc76f"
      },
      "source": [
        "github_df"
      ],
      "execution_count": null,
      "outputs": [
        {
          "output_type": "execute_result",
          "data": {
            "text/html": [
              "<div>\n",
              "<style scoped>\n",
              "    .dataframe tbody tr th:only-of-type {\n",
              "        vertical-align: middle;\n",
              "    }\n",
              "\n",
              "    .dataframe tbody tr th {\n",
              "        vertical-align: top;\n",
              "    }\n",
              "\n",
              "    .dataframe thead th {\n",
              "        text-align: right;\n",
              "    }\n",
              "</style>\n",
              "<table border=\"1\" class=\"dataframe\">\n",
              "  <thead>\n",
              "    <tr style=\"text-align: right;\">\n",
              "      <th></th>\n",
              "      <th>ranking</th>\n",
              "      <th>project</th>\n",
              "      <th>language</th>\n",
              "      <th>stars</th>\n",
              "      <th>stars_today</th>\n",
              "      <th>forks</th>\n",
              "    </tr>\n",
              "  </thead>\n",
              "  <tbody>\n",
              "    <tr>\n",
              "      <th>0</th>\n",
              "      <td>1</td>\n",
              "      <td>plow</td>\n",
              "      <td>go</td>\n",
              "      <td>1304</td>\n",
              "      <td>574</td>\n",
              "      <td>38</td>\n",
              "    </tr>\n",
              "    <tr>\n",
              "      <th>1</th>\n",
              "      <td>2</td>\n",
              "      <td>n8n</td>\n",
              "      <td>typescript</td>\n",
              "      <td>15668</td>\n",
              "      <td>280</td>\n",
              "      <td>1370</td>\n",
              "    </tr>\n",
              "    <tr>\n",
              "      <th>2</th>\n",
              "      <td>3</td>\n",
              "      <td>slides</td>\n",
              "      <td>go</td>\n",
              "      <td>3218</td>\n",
              "      <td>265</td>\n",
              "      <td>80</td>\n",
              "    </tr>\n",
              "    <tr>\n",
              "      <th>3</th>\n",
              "      <td>4</td>\n",
              "      <td>defi-developer-road-map</td>\n",
              "      <td>NaN</td>\n",
              "      <td>636</td>\n",
              "      <td>247</td>\n",
              "      <td>49</td>\n",
              "    </tr>\n",
              "    <tr>\n",
              "      <th>4</th>\n",
              "      <td>5</td>\n",
              "      <td>pytorch-image-models</td>\n",
              "      <td>python</td>\n",
              "      <td>11065</td>\n",
              "      <td>101</td>\n",
              "      <td>1646</td>\n",
              "    </tr>\n",
              "    <tr>\n",
              "      <th>5</th>\n",
              "      <td>6</td>\n",
              "      <td>javascript-algorithms</td>\n",
              "      <td>javascript</td>\n",
              "      <td>110768</td>\n",
              "      <td>248</td>\n",
              "      <td>18331</td>\n",
              "    </tr>\n",
              "    <tr>\n",
              "      <th>6</th>\n",
              "      <td>7</td>\n",
              "      <td>paddleclas</td>\n",
              "      <td>python</td>\n",
              "      <td>1429</td>\n",
              "      <td>283</td>\n",
              "      <td>323</td>\n",
              "    </tr>\n",
              "    <tr>\n",
              "      <th>7</th>\n",
              "      <td>8</td>\n",
              "      <td>reddit_sentiment_trader</td>\n",
              "      <td>python</td>\n",
              "      <td>369</td>\n",
              "      <td>71</td>\n",
              "      <td>60</td>\n",
              "    </tr>\n",
              "    <tr>\n",
              "      <th>8</th>\n",
              "      <td>9</td>\n",
              "      <td>augly</td>\n",
              "      <td>python</td>\n",
              "      <td>2849</td>\n",
              "      <td>393</td>\n",
              "      <td>99</td>\n",
              "    </tr>\n",
              "    <tr>\n",
              "      <th>9</th>\n",
              "      <td>10</td>\n",
              "      <td>self-taught-guide-to-cloud-computing</td>\n",
              "      <td>NaN</td>\n",
              "      <td>863</td>\n",
              "      <td>179</td>\n",
              "      <td>84</td>\n",
              "    </tr>\n",
              "  </tbody>\n",
              "</table>\n",
              "</div>"
            ],
            "text/plain": [
              "   ranking                               project  ... stars_today  forks\n",
              "0        1                                  plow  ...         574     38\n",
              "1        2                                   n8n  ...         280   1370\n",
              "2        3                                slides  ...         265     80\n",
              "3        4               defi-developer-road-map  ...         247     49\n",
              "4        5                  pytorch-image-models  ...         101   1646\n",
              "5        6                 javascript-algorithms  ...         248  18331\n",
              "6        7                            paddleclas  ...         283    323\n",
              "7        8               reddit_sentiment_trader  ...          71     60\n",
              "8        9                                 augly  ...         393     99\n",
              "9       10  self-taught-guide-to-cloud-computing  ...         179     84\n",
              "\n",
              "[10 rows x 6 columns]"
            ]
          },
          "metadata": {},
          "execution_count": 53
        }
      ]
    },
    {
      "cell_type": "code",
      "metadata": {
        "id": "vDSUM20Ib1kn",
        "colab": {
          "base_uri": "https://localhost:8080/",
          "height": 359
        },
        "outputId": "6b84114c-a857-495f-a50b-112df9358ca7"
      },
      "source": [
        "github_df.isnull()"
      ],
      "execution_count": null,
      "outputs": [
        {
          "output_type": "execute_result",
          "data": {
            "text/html": [
              "<div>\n",
              "<style scoped>\n",
              "    .dataframe tbody tr th:only-of-type {\n",
              "        vertical-align: middle;\n",
              "    }\n",
              "\n",
              "    .dataframe tbody tr th {\n",
              "        vertical-align: top;\n",
              "    }\n",
              "\n",
              "    .dataframe thead th {\n",
              "        text-align: right;\n",
              "    }\n",
              "</style>\n",
              "<table border=\"1\" class=\"dataframe\">\n",
              "  <thead>\n",
              "    <tr style=\"text-align: right;\">\n",
              "      <th></th>\n",
              "      <th>ranking</th>\n",
              "      <th>project</th>\n",
              "      <th>language</th>\n",
              "      <th>stars</th>\n",
              "      <th>stars_today</th>\n",
              "      <th>forks</th>\n",
              "    </tr>\n",
              "  </thead>\n",
              "  <tbody>\n",
              "    <tr>\n",
              "      <th>0</th>\n",
              "      <td>False</td>\n",
              "      <td>False</td>\n",
              "      <td>False</td>\n",
              "      <td>False</td>\n",
              "      <td>False</td>\n",
              "      <td>False</td>\n",
              "    </tr>\n",
              "    <tr>\n",
              "      <th>1</th>\n",
              "      <td>False</td>\n",
              "      <td>False</td>\n",
              "      <td>False</td>\n",
              "      <td>False</td>\n",
              "      <td>False</td>\n",
              "      <td>False</td>\n",
              "    </tr>\n",
              "    <tr>\n",
              "      <th>2</th>\n",
              "      <td>False</td>\n",
              "      <td>False</td>\n",
              "      <td>False</td>\n",
              "      <td>False</td>\n",
              "      <td>False</td>\n",
              "      <td>False</td>\n",
              "    </tr>\n",
              "    <tr>\n",
              "      <th>3</th>\n",
              "      <td>False</td>\n",
              "      <td>False</td>\n",
              "      <td>True</td>\n",
              "      <td>False</td>\n",
              "      <td>False</td>\n",
              "      <td>False</td>\n",
              "    </tr>\n",
              "    <tr>\n",
              "      <th>4</th>\n",
              "      <td>False</td>\n",
              "      <td>False</td>\n",
              "      <td>False</td>\n",
              "      <td>False</td>\n",
              "      <td>False</td>\n",
              "      <td>False</td>\n",
              "    </tr>\n",
              "    <tr>\n",
              "      <th>5</th>\n",
              "      <td>False</td>\n",
              "      <td>False</td>\n",
              "      <td>False</td>\n",
              "      <td>False</td>\n",
              "      <td>False</td>\n",
              "      <td>False</td>\n",
              "    </tr>\n",
              "    <tr>\n",
              "      <th>6</th>\n",
              "      <td>False</td>\n",
              "      <td>False</td>\n",
              "      <td>False</td>\n",
              "      <td>False</td>\n",
              "      <td>False</td>\n",
              "      <td>False</td>\n",
              "    </tr>\n",
              "    <tr>\n",
              "      <th>7</th>\n",
              "      <td>False</td>\n",
              "      <td>False</td>\n",
              "      <td>False</td>\n",
              "      <td>False</td>\n",
              "      <td>False</td>\n",
              "      <td>False</td>\n",
              "    </tr>\n",
              "    <tr>\n",
              "      <th>8</th>\n",
              "      <td>False</td>\n",
              "      <td>False</td>\n",
              "      <td>False</td>\n",
              "      <td>False</td>\n",
              "      <td>False</td>\n",
              "      <td>False</td>\n",
              "    </tr>\n",
              "    <tr>\n",
              "      <th>9</th>\n",
              "      <td>False</td>\n",
              "      <td>False</td>\n",
              "      <td>True</td>\n",
              "      <td>False</td>\n",
              "      <td>False</td>\n",
              "      <td>False</td>\n",
              "    </tr>\n",
              "  </tbody>\n",
              "</table>\n",
              "</div>"
            ],
            "text/plain": [
              "   ranking  project  language  stars  stars_today  forks\n",
              "0    False    False     False  False        False  False\n",
              "1    False    False     False  False        False  False\n",
              "2    False    False     False  False        False  False\n",
              "3    False    False      True  False        False  False\n",
              "4    False    False     False  False        False  False\n",
              "5    False    False     False  False        False  False\n",
              "6    False    False     False  False        False  False\n",
              "7    False    False     False  False        False  False\n",
              "8    False    False     False  False        False  False\n",
              "9    False    False      True  False        False  False"
            ]
          },
          "metadata": {},
          "execution_count": 63
        }
      ]
    },
    {
      "cell_type": "code",
      "metadata": {
        "id": "7ZryEd_VcCcb",
        "colab": {
          "base_uri": "https://localhost:8080/"
        },
        "outputId": "133e687c-e9cd-41ed-f68b-c2c6b0295613"
      },
      "source": [
        "github_df.isnull().any()"
      ],
      "execution_count": null,
      "outputs": [
        {
          "output_type": "execute_result",
          "data": {
            "text/plain": [
              "ranking        False\n",
              "project        False\n",
              "language        True\n",
              "stars          False\n",
              "stars_today    False\n",
              "forks          False\n",
              "dtype: bool"
            ]
          },
          "metadata": {},
          "execution_count": 65
        }
      ]
    },
    {
      "cell_type": "code",
      "metadata": {
        "id": "iMCvrmJlckpe",
        "colab": {
          "base_uri": "https://localhost:8080/"
        },
        "outputId": "82a7a4e7-29f1-48f0-d6ce-54a58828dff0"
      },
      "source": [
        "github_df.isnull().any().any()"
      ],
      "execution_count": null,
      "outputs": [
        {
          "output_type": "execute_result",
          "data": {
            "text/plain": [
              "True"
            ]
          },
          "metadata": {},
          "execution_count": 66
        }
      ]
    },
    {
      "cell_type": "code",
      "metadata": {
        "id": "u1XLCTuic8Du"
      },
      "source": [
        "def has_null(df: pd.DataFrame) -> bool:\n",
        "  return df.isnull().any().any()"
      ],
      "execution_count": null,
      "outputs": []
    },
    {
      "cell_type": "code",
      "metadata": {
        "id": "_8B_M-qZdG6p",
        "colab": {
          "base_uri": "https://localhost:8080/"
        },
        "outputId": "24dfa226-7026-481d-da7c-83085a7dd910"
      },
      "source": [
        "has_null(df=github_df)"
      ],
      "execution_count": null,
      "outputs": [
        {
          "output_type": "execute_result",
          "data": {
            "text/plain": [
              "True"
            ]
          },
          "metadata": {},
          "execution_count": 68
        }
      ]
    },
    {
      "cell_type": "markdown",
      "metadata": {
        "id": "fNrHY7J417Ve"
      },
      "source": [
        "#### 3.2.2 Remoção "
      ]
    },
    {
      "cell_type": "markdown",
      "metadata": {
        "id": "_oYYwO3N17Ve"
      },
      "source": [
        "*   **Exemplo**: Remoção de linhas com algum valor nulo com o método `dropna`:"
      ]
    },
    {
      "cell_type": "code",
      "metadata": {
        "id": "zuQqbatS3WSi",
        "colab": {
          "base_uri": "https://localhost:8080/",
          "height": 297
        },
        "outputId": "80929543-5680-4b5b-e36e-bb39b7457f80"
      },
      "source": [
        "github_df.dropna()"
      ],
      "execution_count": null,
      "outputs": [
        {
          "output_type": "execute_result",
          "data": {
            "text/html": [
              "<div>\n",
              "<style scoped>\n",
              "    .dataframe tbody tr th:only-of-type {\n",
              "        vertical-align: middle;\n",
              "    }\n",
              "\n",
              "    .dataframe tbody tr th {\n",
              "        vertical-align: top;\n",
              "    }\n",
              "\n",
              "    .dataframe thead th {\n",
              "        text-align: right;\n",
              "    }\n",
              "</style>\n",
              "<table border=\"1\" class=\"dataframe\">\n",
              "  <thead>\n",
              "    <tr style=\"text-align: right;\">\n",
              "      <th></th>\n",
              "      <th>ranking</th>\n",
              "      <th>project</th>\n",
              "      <th>language</th>\n",
              "      <th>stars</th>\n",
              "      <th>stars_today</th>\n",
              "      <th>forks</th>\n",
              "    </tr>\n",
              "  </thead>\n",
              "  <tbody>\n",
              "    <tr>\n",
              "      <th>0</th>\n",
              "      <td>1</td>\n",
              "      <td>plow</td>\n",
              "      <td>go</td>\n",
              "      <td>1304</td>\n",
              "      <td>574</td>\n",
              "      <td>38</td>\n",
              "    </tr>\n",
              "    <tr>\n",
              "      <th>1</th>\n",
              "      <td>2</td>\n",
              "      <td>n8n</td>\n",
              "      <td>typescript</td>\n",
              "      <td>15668</td>\n",
              "      <td>280</td>\n",
              "      <td>1370</td>\n",
              "    </tr>\n",
              "    <tr>\n",
              "      <th>2</th>\n",
              "      <td>3</td>\n",
              "      <td>slides</td>\n",
              "      <td>go</td>\n",
              "      <td>3218</td>\n",
              "      <td>265</td>\n",
              "      <td>80</td>\n",
              "    </tr>\n",
              "    <tr>\n",
              "      <th>4</th>\n",
              "      <td>5</td>\n",
              "      <td>pytorch-image-models</td>\n",
              "      <td>python</td>\n",
              "      <td>11065</td>\n",
              "      <td>101</td>\n",
              "      <td>1646</td>\n",
              "    </tr>\n",
              "    <tr>\n",
              "      <th>5</th>\n",
              "      <td>6</td>\n",
              "      <td>javascript-algorithms</td>\n",
              "      <td>javascript</td>\n",
              "      <td>110768</td>\n",
              "      <td>248</td>\n",
              "      <td>18331</td>\n",
              "    </tr>\n",
              "    <tr>\n",
              "      <th>6</th>\n",
              "      <td>7</td>\n",
              "      <td>paddleclas</td>\n",
              "      <td>python</td>\n",
              "      <td>1429</td>\n",
              "      <td>283</td>\n",
              "      <td>323</td>\n",
              "    </tr>\n",
              "    <tr>\n",
              "      <th>7</th>\n",
              "      <td>8</td>\n",
              "      <td>reddit_sentiment_trader</td>\n",
              "      <td>python</td>\n",
              "      <td>369</td>\n",
              "      <td>71</td>\n",
              "      <td>60</td>\n",
              "    </tr>\n",
              "    <tr>\n",
              "      <th>8</th>\n",
              "      <td>9</td>\n",
              "      <td>augly</td>\n",
              "      <td>python</td>\n",
              "      <td>2849</td>\n",
              "      <td>393</td>\n",
              "      <td>99</td>\n",
              "    </tr>\n",
              "  </tbody>\n",
              "</table>\n",
              "</div>"
            ],
            "text/plain": [
              "   ranking                  project    language   stars  stars_today  forks\n",
              "0        1                     plow          go    1304          574     38\n",
              "1        2                      n8n  typescript   15668          280   1370\n",
              "2        3                   slides          go    3218          265     80\n",
              "4        5     pytorch-image-models      python   11065          101   1646\n",
              "5        6    javascript-algorithms  javascript  110768          248  18331\n",
              "6        7               paddleclas      python    1429          283    323\n",
              "7        8  reddit_sentiment_trader      python     369           71     60\n",
              "8        9                    augly      python    2849          393     99"
            ]
          },
          "metadata": {},
          "execution_count": 59
        }
      ]
    },
    {
      "cell_type": "code",
      "metadata": {
        "id": "pVbfeSbBq8Th",
        "colab": {
          "base_uri": "https://localhost:8080/"
        },
        "outputId": "b65cc00d-6b6f-43b6-a8d3-20cebca1d1dd"
      },
      "source": [
        "has_null(df=github_df.dropna())"
      ],
      "execution_count": null,
      "outputs": [
        {
          "output_type": "execute_result",
          "data": {
            "text/plain": [
              "False"
            ]
          },
          "metadata": {},
          "execution_count": 60
        }
      ]
    },
    {
      "cell_type": "markdown",
      "metadata": {
        "id": "WaYRDfOa17Vg"
      },
      "source": [
        "#### 3.2.3 Preenchimento "
      ]
    },
    {
      "cell_type": "markdown",
      "metadata": {
        "id": "lsHwn5YW17Vg"
      },
      "source": [
        "*   **Exemplo**: Preenchimento valores nulos com o método `fillna`:"
      ]
    },
    {
      "cell_type": "code",
      "metadata": {
        "id": "_5KzgV2r17Vg",
        "colab": {
          "base_uri": "https://localhost:8080/",
          "height": 359
        },
        "outputId": "cc17d4a5-13f1-40ec-f80a-b5087222cf53"
      },
      "source": [
        "github_df.fillna('')"
      ],
      "execution_count": null,
      "outputs": [
        {
          "output_type": "execute_result",
          "data": {
            "text/html": [
              "<div>\n",
              "<style scoped>\n",
              "    .dataframe tbody tr th:only-of-type {\n",
              "        vertical-align: middle;\n",
              "    }\n",
              "\n",
              "    .dataframe tbody tr th {\n",
              "        vertical-align: top;\n",
              "    }\n",
              "\n",
              "    .dataframe thead th {\n",
              "        text-align: right;\n",
              "    }\n",
              "</style>\n",
              "<table border=\"1\" class=\"dataframe\">\n",
              "  <thead>\n",
              "    <tr style=\"text-align: right;\">\n",
              "      <th></th>\n",
              "      <th>ranking</th>\n",
              "      <th>project</th>\n",
              "      <th>language</th>\n",
              "      <th>stars</th>\n",
              "      <th>stars_today</th>\n",
              "      <th>forks</th>\n",
              "    </tr>\n",
              "  </thead>\n",
              "  <tbody>\n",
              "    <tr>\n",
              "      <th>0</th>\n",
              "      <td>1</td>\n",
              "      <td>plow</td>\n",
              "      <td>go</td>\n",
              "      <td>1304</td>\n",
              "      <td>574</td>\n",
              "      <td>38</td>\n",
              "    </tr>\n",
              "    <tr>\n",
              "      <th>1</th>\n",
              "      <td>2</td>\n",
              "      <td>n8n</td>\n",
              "      <td>typescript</td>\n",
              "      <td>15668</td>\n",
              "      <td>280</td>\n",
              "      <td>1370</td>\n",
              "    </tr>\n",
              "    <tr>\n",
              "      <th>2</th>\n",
              "      <td>3</td>\n",
              "      <td>slides</td>\n",
              "      <td>go</td>\n",
              "      <td>3218</td>\n",
              "      <td>265</td>\n",
              "      <td>80</td>\n",
              "    </tr>\n",
              "    <tr>\n",
              "      <th>3</th>\n",
              "      <td>4</td>\n",
              "      <td>defi-developer-road-map</td>\n",
              "      <td></td>\n",
              "      <td>636</td>\n",
              "      <td>247</td>\n",
              "      <td>49</td>\n",
              "    </tr>\n",
              "    <tr>\n",
              "      <th>4</th>\n",
              "      <td>5</td>\n",
              "      <td>pytorch-image-models</td>\n",
              "      <td>python</td>\n",
              "      <td>11065</td>\n",
              "      <td>101</td>\n",
              "      <td>1646</td>\n",
              "    </tr>\n",
              "    <tr>\n",
              "      <th>5</th>\n",
              "      <td>6</td>\n",
              "      <td>javascript-algorithms</td>\n",
              "      <td>javascript</td>\n",
              "      <td>110768</td>\n",
              "      <td>248</td>\n",
              "      <td>18331</td>\n",
              "    </tr>\n",
              "    <tr>\n",
              "      <th>6</th>\n",
              "      <td>7</td>\n",
              "      <td>paddleclas</td>\n",
              "      <td>python</td>\n",
              "      <td>1429</td>\n",
              "      <td>283</td>\n",
              "      <td>323</td>\n",
              "    </tr>\n",
              "    <tr>\n",
              "      <th>7</th>\n",
              "      <td>8</td>\n",
              "      <td>reddit_sentiment_trader</td>\n",
              "      <td>python</td>\n",
              "      <td>369</td>\n",
              "      <td>71</td>\n",
              "      <td>60</td>\n",
              "    </tr>\n",
              "    <tr>\n",
              "      <th>8</th>\n",
              "      <td>9</td>\n",
              "      <td>augly</td>\n",
              "      <td>python</td>\n",
              "      <td>2849</td>\n",
              "      <td>393</td>\n",
              "      <td>99</td>\n",
              "    </tr>\n",
              "    <tr>\n",
              "      <th>9</th>\n",
              "      <td>10</td>\n",
              "      <td>self-taught-guide-to-cloud-computing</td>\n",
              "      <td></td>\n",
              "      <td>863</td>\n",
              "      <td>179</td>\n",
              "      <td>84</td>\n",
              "    </tr>\n",
              "  </tbody>\n",
              "</table>\n",
              "</div>"
            ],
            "text/plain": [
              "   ranking                               project  ... stars_today  forks\n",
              "0        1                                  plow  ...         574     38\n",
              "1        2                                   n8n  ...         280   1370\n",
              "2        3                                slides  ...         265     80\n",
              "3        4               defi-developer-road-map  ...         247     49\n",
              "4        5                  pytorch-image-models  ...         101   1646\n",
              "5        6                 javascript-algorithms  ...         248  18331\n",
              "6        7                            paddleclas  ...         283    323\n",
              "7        8               reddit_sentiment_trader  ...          71     60\n",
              "8        9                                 augly  ...         393     99\n",
              "9       10  self-taught-guide-to-cloud-computing  ...         179     84\n",
              "\n",
              "[10 rows x 6 columns]"
            ]
          },
          "metadata": {},
          "execution_count": 61
        }
      ]
    },
    {
      "cell_type": "code",
      "metadata": {
        "id": "n8_o3eNxd67Y",
        "colab": {
          "base_uri": "https://localhost:8080/"
        },
        "outputId": "380e8631-ca86-4223-f36a-5ab4e6fe678b"
      },
      "source": [
        "has_null(df=github_df.fillna(''))"
      ],
      "execution_count": null,
      "outputs": [
        {
          "output_type": "execute_result",
          "data": {
            "text/plain": [
              "False"
            ]
          },
          "metadata": {},
          "execution_count": 62
        }
      ]
    }
  ]
}