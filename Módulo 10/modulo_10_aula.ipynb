{
  "nbformat": 4,
  "nbformat_minor": 0,
  "metadata": {
    "colab": {
      "name": "modulo_10_aula.ipynb",
      "provenance": [],
      "collapsed_sections": []
    },
    "kernelspec": {
      "name": "python3",
      "display_name": "Python 3"
    }
  },
  "cells": [
    {
      "cell_type": "markdown",
      "metadata": {
        "id": "KJqp9AANOCtf"
      },
      "source": [
        "<img src=\"https://raw.githubusercontent.com/andre-marcos-perez/ebac-course-utils/main/media/logo/newebac_logo_black_half.png\" alt=\"ebac-logo\">\n",
        "\n",
        "---\n",
        "\n",
        "# **Módulo** | Análise de Dados: Coleta de Dados I\n",
        "Caderno de **Aula**<br> \n",
        "Professor [André Perez](https://www.linkedin.com/in/andremarcosperez/)\n",
        "\n",
        "---"
      ]
    },
    {
      "cell_type": "markdown",
      "metadata": {
        "id": "d9jDtUbDOE1-"
      },
      "source": [
        "# **Tópicos**\n",
        "\n",
        "<ol type=\"1\">\n",
        "  <li>Arquivos CSV;</li>\n",
        "  <li>Arquivos Texto;</li>\n",
        "  <li>Arquivos Excel.</li>\n",
        "</ol>"
      ]
    },
    {
      "cell_type": "markdown",
      "metadata": {
        "id": "SmoHgt-lwkpD"
      },
      "source": [
        "---"
      ]
    },
    {
      "cell_type": "markdown",
      "metadata": {
        "id": "GABI6OW8OfQ2"
      },
      "source": [
        "# **Aulas**"
      ]
    },
    {
      "cell_type": "markdown",
      "metadata": {
        "id": "eJ283bopLqLU"
      },
      "source": [
        "## 0\\. Estruturas de dados"
      ]
    },
    {
      "cell_type": "markdown",
      "metadata": {
        "id": "0gmSAOdOLqLU"
      },
      "source": [
        "*   **Não estruturado**: texto, imagem, aúdio, etc.\n",
        "*   **Semi estruturado**: html, json, etc.\n",
        "*   **Estruturado**: tabelas, planilhas, etc.\n",
        "\n"
      ]
    },
    {
      "cell_type": "markdown",
      "metadata": {
        "id": "muD1vxozykSC"
      },
      "source": [
        "## 1\\. Arquivos CSV"
      ]
    },
    {
      "cell_type": "markdown",
      "metadata": {
        "id": "5a3_syBIP6yO"
      },
      "source": [
        "### **1.1. Formato** "
      ]
    },
    {
      "cell_type": "markdown",
      "metadata": {
        "id": "NglCEvJDmqkw"
      },
      "source": [
        "Um arquivo **csv** é um tipo de arquivo de **texto** com uma estrutura específica (**estruturado**) para organizar os dados num formato tabular: \n"
      ]
    },
    {
      "cell_type": "markdown",
      "metadata": {
        "id": "vQgT8F82xi5t"
      },
      "source": [
        "*   **Linhas** são separadas pelo caracter de nova linha `'\\n'`, normalmente a primeira coluna é o cabeçalho (*header*);\n",
        "*   **Colunas** por um separador: `','` (mais comum), `';'`, etc."
      ]
    },
    {
      "cell_type": "markdown",
      "metadata": {
        "id": "4x0_bwpUxT5i"
      },
      "source": [
        "É um tipo de arquivo muito utilizado (talvez o mais utilizado) para armazenar dados no mundo analítico.\n"
      ]
    },
    {
      "cell_type": "markdown",
      "metadata": {
        "id": "7yJy2iraWZbC"
      },
      "source": [
        "**Arquivo CSV:** banco.csv"
      ]
    },
    {
      "cell_type": "code",
      "metadata": {
        "id": "vr4DaExbiyCr",
        "colab": {
          "base_uri": "https://localhost:8080/"
        },
        "outputId": "faabf33f-2f95-4cea-fa8b-7fbc25222359"
      },
      "source": [
        "%%writefile banco.csv\n",
        "age,job,marital,education,default,balance,housing,loan\n",
        "30,unemployed,married,primary,no,1787,no,no\n",
        "33,services,married,secondary,no,4789,yes,yes\n",
        "35,management,single,tertiary,no,1350,yes,no\n",
        "30,management,married,tertiary,no,1476,yes,yes\n",
        "59,blue-collar,married,secondary,no,0,yes,no\n",
        "35,management,single,tertiary,no,747,no,no\n",
        "36,self-employed,married,tertiary,no,307,yes,no\n",
        "39,technician,married,secondary,no,147,yes,no\n",
        "41,entrepreneur,married,tertiary,no,221,yes,no\n",
        "43,services,married,primary,no,-88,yes,yes"
      ],
      "execution_count": 1,
      "outputs": [
        {
          "output_type": "stream",
          "text": [
            "Writing banco.csv\n"
          ],
          "name": "stdout"
        }
      ]
    },
    {
      "cell_type": "markdown",
      "metadata": {
        "id": "3fUEwRtVnx-7"
      },
      "source": [
        "**Exemplo**: Extraindo os valores da primeira coluna (idade)."
      ]
    },
    {
      "cell_type": "code",
      "metadata": {
        "id": "SpHHPRUOn8pZ",
        "colab": {
          "base_uri": "https://localhost:8080/"
        },
        "outputId": "0dc3e5d5-6d6e-4f52-92a3-1cf402c82e51"
      },
      "source": [
        "idades = []\n",
        "\n",
        "with open(file='./banco.csv', mode='r', encoding='utf8') as arquivo:\n",
        "  cabecalho = arquivo.readline().split(sep=',')\n",
        "  indice_idade = cabecalho.index('age')\n",
        "  linha = arquivo.readline()\n",
        "  while linha:\n",
        "    idade = linha.split(sep=',')[indice_idade]\n",
        "    idades.append(idade)\n",
        "    linha = arquivo.readline()\n",
        "\n",
        "print(idades)"
      ],
      "execution_count": 2,
      "outputs": [
        {
          "output_type": "stream",
          "text": [
            "['30', '33', '35', '30', '59', '35', '36', '39', '41', '43']\n"
          ],
          "name": "stdout"
        }
      ]
    },
    {
      "cell_type": "markdown",
      "metadata": {
        "id": "XzwBhy0w0H5w"
      },
      "source": [
        "**Exemplo**: Tipo dos dados."
      ]
    },
    {
      "cell_type": "code",
      "metadata": {
        "id": "J1RrAx2EzRkx",
        "colab": {
          "base_uri": "https://localhost:8080/"
        },
        "outputId": "78537f23-055c-418b-a7c8-ca4b950cc388"
      },
      "source": [
        "tipos_idades = set(map(lambda idade: type(idade), idades))\n",
        "print(tipos_idades)"
      ],
      "execution_count": 3,
      "outputs": [
        {
          "output_type": "stream",
          "text": [
            "{<class 'str'>}\n"
          ],
          "name": "stdout"
        }
      ]
    },
    {
      "cell_type": "markdown",
      "metadata": {
        "id": "XEIQR9Sy0NlX"
      },
      "source": [
        "**Exemplo**: Média das idades."
      ]
    },
    {
      "cell_type": "code",
      "metadata": {
        "id": "OpiYzubszamX",
        "colab": {
          "base_uri": "https://localhost:8080/"
        },
        "outputId": "106596fb-fb59-4182-9780-2c55a645b38a"
      },
      "source": [
        "from functools import reduce\n",
        "\n",
        "soma_idades = reduce(lambda idade_a, idade_b: idade_a + idade_b, map(lambda idade: int(idade), idades))\n",
        "qtd_idades = len(idades)\n",
        "\n",
        "media_idades = soma_idades / qtd_idades\n",
        "print(f\"A média das idades é de {media_idades}.\")"
      ],
      "execution_count": 4,
      "outputs": [
        {
          "output_type": "stream",
          "text": [
            "A média das idades é de 38.1.\n"
          ],
          "name": "stdout"
        }
      ]
    },
    {
      "cell_type": "markdown",
      "metadata": {
        "id": "E6D5rjlESJ1A"
      },
      "source": [
        "### **1.2. Pacote CSV** "
      ]
    },
    {
      "cell_type": "markdown",
      "metadata": {
        "id": "N0DOVccZ0bXA"
      },
      "source": [
        "Pacote nativo do Python que facilita a leitura de arquivos no formato CSV."
      ]
    },
    {
      "cell_type": "code",
      "metadata": {
        "id": "kZxaere104cn",
        "colab": {
          "base_uri": "https://localhost:8080/"
        },
        "outputId": "e9d24b45-50ac-4ca5-df4c-497ef8d19398"
      },
      "source": [
        "import csv\n",
        "\n",
        "saldos = None\n",
        "\n",
        "with open(file='./banco.csv', mode='r', encoding='utf8') as arquivo:\n",
        "  leitor_csv_iter = csv.reader(arquivo, delimiter=',')\n",
        "  cabecalho = next(leitor_csv_iter)\n",
        "  indice_saldo = cabecalho.index('balance')\n",
        "  saldos = [linha[indice_saldo] for linha in leitor_csv_iter]\n",
        "  \n",
        "print(saldos)\n"
      ],
      "execution_count": 5,
      "outputs": [
        {
          "output_type": "stream",
          "text": [
            "['1787', '4789', '1350', '1476', '0', '747', '307', '147', '221', '-88']\n"
          ],
          "name": "stdout"
        }
      ]
    },
    {
      "cell_type": "markdown",
      "metadata": {
        "id": "ZCHftIYB3Cgs"
      },
      "source": [
        "**Exemplo**: Média dos saldos."
      ]
    },
    {
      "cell_type": "code",
      "metadata": {
        "id": "mF4DSwhc3ChM",
        "colab": {
          "base_uri": "https://localhost:8080/"
        },
        "outputId": "08668fff-3945-4e27-f43b-15ac03d2be4d"
      },
      "source": [
        "from functools import reduce\n",
        "\n",
        "soma_saldos = reduce(lambda saldo_a, saldo_b: saldo_a + saldo_b, map(lambda saldo: int(saldo), saldos))\n",
        "qtd_saldos = len(saldos)\n",
        "\n",
        "media_saldos = soma_saldos / qtd_saldos\n",
        "print(f\"A média dos saldos é de {media_saldos}.\")"
      ],
      "execution_count": 6,
      "outputs": [
        {
          "output_type": "stream",
          "text": [
            "A média dos saldos é de 1073.6.\n"
          ],
          "name": "stdout"
        }
      ]
    },
    {
      "cell_type": "markdown",
      "metadata": {
        "id": "wPPSfrtUEPp-"
      },
      "source": [
        "---\n",
        "**(by VRO) Extrair a coluna job utilizando os dois métodos anteriores** "
      ]
    },
    {
      "cell_type": "markdown",
      "metadata": {
        "id": "Yli2F7y1FOhK"
      },
      "source": [
        "*Método mais manual:*"
      ]
    },
    {
      "cell_type": "code",
      "metadata": {
        "colab": {
          "base_uri": "https://localhost:8080/"
        },
        "id": "oobbaWL5EiNk",
        "outputId": "679dc41e-b661-4488-8991-d6a0b88273d6"
      },
      "source": [
        "jobs = []\n",
        "\n",
        "with open(file='./banco.csv', mode='r', encoding='utf8') as arquivo:\n",
        "  cabecalho = arquivo.readline().split(sep=',')\n",
        "  indice_job = cabecalho.index('job')\n",
        "  linha = arquivo.readline()\n",
        "  while linha:\n",
        "    job = linha.split(sep=',')[indice_job]\n",
        "    jobs.append(job)\n",
        "    linha = arquivo.readline()\n",
        "\n",
        "print(f'Extraindo \"jobs\":')\n",
        "jobs"
      ],
      "execution_count": 19,
      "outputs": [
        {
          "output_type": "stream",
          "text": [
            "Extraindo \"jobs\":\n"
          ],
          "name": "stdout"
        },
        {
          "output_type": "execute_result",
          "data": {
            "text/plain": [
              "['unemployed',\n",
              " 'services',\n",
              " 'management',\n",
              " 'management',\n",
              " 'blue-collar',\n",
              " 'management',\n",
              " 'self-employed',\n",
              " 'technician',\n",
              " 'entrepreneur',\n",
              " 'services']"
            ]
          },
          "metadata": {
            "tags": []
          },
          "execution_count": 19
        }
      ]
    },
    {
      "cell_type": "code",
      "metadata": {
        "colab": {
          "base_uri": "https://localhost:8080/"
        },
        "id": "sSD7qIztH_X3",
        "outputId": "bd8f99bf-0cca-4aff-94bb-232c0249a8a3"
      },
      "source": [
        "educations = []\n",
        "\n",
        "with open(file='./banco.csv', mode='r', encoding='utf8') as fp:\n",
        "  cabecalho = fp.readline().split(sep=',')\n",
        "  education_indice = cabecalho.index('education') \n",
        "  linha = fp.readline()\n",
        "  while linha:\n",
        "    education = linha.split(sep=',')[education_indice]\n",
        "    educations.append(education)\n",
        "    linha = fp.readline()\n",
        "\n",
        "print(f'Extraindo \"educations\":')\n",
        "educations"
      ],
      "execution_count": 18,
      "outputs": [
        {
          "output_type": "stream",
          "text": [
            "Extraindo \"educations\":\n"
          ],
          "name": "stdout"
        },
        {
          "output_type": "execute_result",
          "data": {
            "text/plain": [
              "['primary',\n",
              " 'secondary',\n",
              " 'tertiary',\n",
              " 'tertiary',\n",
              " 'secondary',\n",
              " 'tertiary',\n",
              " 'tertiary',\n",
              " 'secondary',\n",
              " 'tertiary',\n",
              " 'primary']"
            ]
          },
          "metadata": {
            "tags": []
          },
          "execution_count": 18
        }
      ]
    },
    {
      "cell_type": "markdown",
      "metadata": {
        "id": "dneLLOLEIKsu"
      },
      "source": [
        "*Método com o pacote csv:*"
      ]
    },
    {
      "cell_type": "code",
      "metadata": {
        "colab": {
          "base_uri": "https://localhost:8080/"
        },
        "id": "AsGEK8lNIUqZ",
        "outputId": "47891758-a8ad-4099-88ba-5bb57a8d0f2d"
      },
      "source": [
        "import csv\n",
        "\n",
        "all_housing = []\n",
        "\n",
        "with open(file='./banco.csv', mode='r', encoding='utf8') as fp:\n",
        "  iterador = csv.reader(fp, delimiter=',')\n",
        "  cabecalho = next(iterador)\n",
        "  indice_housing = cabecalho.index('housing')\n",
        "  all_housing = [linha[indice_housing] for linha in iterador]\n",
        "\n",
        "print(f'All Housing Information:\\n{all_housing}')"
      ],
      "execution_count": 23,
      "outputs": [
        {
          "output_type": "stream",
          "text": [
            "All Housing Information:\n",
            "['no', 'yes', 'yes', 'yes', 'yes', 'no', 'yes', 'yes', 'yes', 'yes']\n"
          ],
          "name": "stdout"
        }
      ]
    },
    {
      "cell_type": "markdown",
      "metadata": {
        "id": "4rRCvy_UURrM"
      },
      "source": [
        "## 2\\. Arquivos de Texto"
      ]
    },
    {
      "cell_type": "markdown",
      "metadata": {
        "id": "78RHF81A3tat"
      },
      "source": [
        "### **2.1. Formato** "
      ]
    },
    {
      "cell_type": "markdown",
      "metadata": {
        "id": "i3f-X7y23onm"
      },
      "source": [
        "Um arquivo **texto** é um tipo de arquivo de **texto** sem uma estrutura definida (**não estruturado**). \n"
      ]
    },
    {
      "cell_type": "markdown",
      "metadata": {
        "id": "nKDF9EBH3onp"
      },
      "source": [
        "**Arquivo TXT:** nubank.txt"
      ]
    },
    {
      "cell_type": "code",
      "metadata": {
        "id": "HLqVHEHZ3onq",
        "colab": {
          "base_uri": "https://localhost:8080/"
        },
        "outputId": "dad92d4c-ed22-4ab9-dfc7-f7e7436d5a4f"
      },
      "source": [
        "%%writefile nubank.txt\n",
        "Como você prefere falar com a gente?\n",
        "\n",
        "E-mail\n",
        "Tem alguma dúvida? Podemos te ajudar pelo nosso canal de email.\n",
        "meajuda@nubank.com.br\n",
        "\n",
        "Telefone\n",
        "Você pode ligar para o 0800 do Nubank a qualquer hora através do número abaixo.\n",
        "0800 608 6236\n",
        "\n",
        "Chat\n",
        "Precisa de uma ajuda agora? Entre em contato com nosso atendimento através do chat.\n",
        "Basta abrir o chat no app.\n",
        "\n",
        "Siga o @Nubank\n",
        "Saiba das novidades e receba dicas na nossas redes sociais e também na NuCommunity, a comunidade online oficial do Nubank.\n",
        "\n",
        "Imprensa\n",
        "Reunimos todas as informações para você aqui.\n",
        "press@nu.bank\n",
        "\n",
        "Ouvidoria\n",
        "Já conversou conosco e mesmo assim não\n",
        "conseguiu resolver o que precisava? Nossa\n",
        "Ouvidoria pode avaliar seu caso.\n",
        "0800 887 0463\n",
        "ouvidoria@nubank.com.br\n",
        "\n",
        "Atendemos em dias úteis das 9h às 18h\n",
        "(horário de São Paulo/SP).\n",
        "\n",
        "Parcerias\n",
        "Se você tem uma proposta de patrocínio, parceria\n",
        "ou publicidade, fale conosco por aqui: marketing@nubank.com.br"
      ],
      "execution_count": 25,
      "outputs": [
        {
          "output_type": "stream",
          "text": [
            "Writing nubank.txt\n"
          ],
          "name": "stdout"
        }
      ]
    },
    {
      "cell_type": "markdown",
      "metadata": {
        "id": "O-JG_E4L544d"
      },
      "source": [
        "**Exemplo**: Extrair e-mails de um arquivo de texto."
      ]
    },
    {
      "cell_type": "markdown",
      "metadata": {
        "id": "QCrzgZbU69Ig"
      },
      "source": [
        "*   Extrair as linhas do arquivo."
      ]
    },
    {
      "cell_type": "code",
      "metadata": {
        "id": "Hy_rF7FQ6BrX"
      },
      "source": [
        "with open(file='./nubank.txt', mode='r', encoding='utf8') as arquivo:\n",
        "  linhas = arquivo.readlines()\n",
        "  \n",
        "print(linhas)"
      ],
      "execution_count": null,
      "outputs": []
    },
    {
      "cell_type": "markdown",
      "metadata": {
        "id": "rxXsHlff7DmY"
      },
      "source": [
        "*   Limpar as linhas do caracter de nova linha `'\\n'`"
      ]
    },
    {
      "cell_type": "code",
      "metadata": {
        "id": "N9WKt87x6Yow"
      },
      "source": [
        "linhas = filter(lambda linha: linha != '\\n', linhas)\n",
        "linhas = map(lambda linha: linha.strip(), linhas)\n",
        "linhas = list(linhas)\n",
        "\n",
        "print(linhas)"
      ],
      "execution_count": null,
      "outputs": []
    },
    {
      "cell_type": "markdown",
      "metadata": {
        "id": "_Z4jaljo7KVb"
      },
      "source": [
        "*   Extrair linhas com o texto `'.com'`\n",
        "\n"
      ]
    },
    {
      "cell_type": "code",
      "metadata": {
        "id": "bgEgYJzi6dbb"
      },
      "source": [
        "linhas_com_email = filter(lambda linha: '.com' in linha, linhas)\n",
        "linhas_com_email = list(linhas_com_email)\n",
        "\n",
        "print(linhas_com_email)"
      ],
      "execution_count": null,
      "outputs": []
    },
    {
      "cell_type": "markdown",
      "metadata": {
        "id": "_eWR9end70bs"
      },
      "source": [
        "*   Extrair emails das linhas com o texto `'.com'`"
      ]
    },
    {
      "cell_type": "code",
      "metadata": {
        "id": "_txxRRMf73qs"
      },
      "source": [
        "emails_extraidos = []\n",
        "\n",
        "for linha_com_email in linhas_com_email:\n",
        "\n",
        "  palavras = linha_com_email.split(sep=' ')\n",
        "  emails = filter(lambda palavra: '@' in palavra, palavras)\n",
        "  emails_extraidos = emails_extraidos + list(emails)\n",
        "\n",
        "print(emails_extraidos)"
      ],
      "execution_count": null,
      "outputs": []
    },
    {
      "cell_type": "markdown",
      "metadata": {
        "id": "xH2Qp34Y89JV"
      },
      "source": [
        "*   E o press@nu.bank? :("
      ]
    },
    {
      "cell_type": "markdown",
      "metadata": {
        "id": "Y1W9Hv8fURrZ"
      },
      "source": [
        "### **2.2. Regex** "
      ]
    },
    {
      "cell_type": "markdown",
      "metadata": {
        "id": "eltKbftn9gRB"
      },
      "source": [
        "É um algoritmo de busca de padrões em strings e é implementado nativamente em diversas linguagens de programação. Você pode ler mais sobre regex neste [link](https://medium.com/javarevisited/7-best-regular-expression-courses-for-developers-to-learn-in-2021-9b8cb37bb3a5) e testar seu regex na ferramenta online deste [link](https://regexr.com/)."
      ]
    },
    {
      "cell_type": "markdown",
      "metadata": {
        "id": "Rs6sc6iB0lwe"
      },
      "source": [
        "```python\n",
        "import re\n",
        "\n",
        "lista_padroes = re.findall('<string de busca>', texto)\n",
        "```"
      ]
    },
    {
      "cell_type": "markdown",
      "metadata": {
        "id": "7Okm1Rfc_TEp"
      },
      "source": [
        "**Exemplo**: Extrair e-mails de um arquivo de texto."
      ]
    },
    {
      "cell_type": "markdown",
      "metadata": {
        "id": "zfRfm7aQ_VkP"
      },
      "source": [
        "*   String de busca."
      ]
    },
    {
      "cell_type": "markdown",
      "metadata": {
        "id": "p-Wpm_Sa_iTv"
      },
      "source": [
        "Para encontrar emails no arquivo de texto, vamos utilizar string de busca `'\\S+@\\S+'`, onde:\n",
        "\n",
        "*   `\\S+` encontra um sequencia de caracteres sem espaço;\n",
        "*   `@` encontra o caracter '@'\n",
        "*   `\\S+` encontra um sequencia de caracteres sem espaço.\n",
        "\n"
      ]
    },
    {
      "cell_type": "markdown",
      "metadata": {
        "id": "qj3KsdlE_bXv"
      },
      "source": [
        "*   Código de extração."
      ]
    },
    {
      "cell_type": "code",
      "metadata": {
        "id": "aVdsjOJQ9Ks1",
        "colab": {
          "base_uri": "https://localhost:8080/"
        },
        "outputId": "07c97177-1b12-4eb9-d5c5-35f0495cbf11"
      },
      "source": [
        "import re\n",
        "\n",
        "with open(file='./nubank.txt', mode='r', encoding='utf8') as arquivo:\n",
        "  texto = arquivo.read()\n",
        "  \n",
        "emails_extraidos = re.findall('\\S+@\\S+', texto)\n",
        "print(emails_extraidos)"
      ],
      "execution_count": 26,
      "outputs": [
        {
          "output_type": "stream",
          "text": [
            "['meajuda@nubank.com.br', 'press@nu.bank', 'ouvidoria@nubank.com.br', 'marketing@nubank.com.br']\n"
          ],
          "name": "stdout"
        }
      ]
    },
    {
      "cell_type": "markdown",
      "metadata": {
        "id": "eiya3-46OA3W"
      },
      "source": [
        "---\n",
        "**(by VRO) Extrair informações de um txt qualquer utilizando o regex:**"
      ]
    },
    {
      "cell_type": "markdown",
      "metadata": {
        "id": "7arADrq3QBmV"
      },
      "source": [
        "*Escrevendo um arquivo.txt*"
      ]
    },
    {
      "cell_type": "code",
      "metadata": {
        "colab": {
          "base_uri": "https://localhost:8080/"
        },
        "id": "JrsT-iaoOMjW",
        "outputId": "2b1d8255-302e-4a6c-9d3c-6d2d2beb3925"
      },
      "source": [
        "%%writefile ceramica.txt\n",
        "Associação Brasileira de Cerâmica\n",
        "Av. Prof. Almeida Prado, 532 - IPT - Prédio 36 - 2º Andar - Sala 03 , Cidade Universitária - 05508-901 - São Paulo/SP -Brazil, Tel./Fax: +55 (11) 3768-7101 / +55 (11) 3768-4284 - São Paulo - SP - Brazil\n",
        "E-mail: ceram.abc@gmail.com Acompanhe os números deste periódico no seu leitor de RSS\n",
        "SciELO - Scientific Electronic Library Online\n",
        "Av. Onze de Junho, 269 - Vila Clementino 04041-050 São Paulo SP - Brasil\n",
        "E-mail: scielo@scielo.org"
      ],
      "execution_count": 27,
      "outputs": [
        {
          "output_type": "stream",
          "text": [
            "Writing ceramica.txt\n"
          ],
          "name": "stdout"
        }
      ]
    },
    {
      "cell_type": "markdown",
      "metadata": {
        "id": "gJ8viinoQVLn"
      },
      "source": [
        "\n",
        "\n",
        "```\n",
        "import re\n",
        "\n",
        "#ABRIR/LER ARQUIVO.TXT\n",
        "#EXTRAIR USANDO O MÉTODO 'FINDALL'\n",
        "#PRINTAR NA TELA\n",
        "```\n",
        "\n"
      ]
    },
    {
      "cell_type": "code",
      "metadata": {
        "colab": {
          "base_uri": "https://localhost:8080/"
        },
        "id": "qvpgiEr_QPqF",
        "outputId": "a9694828-054d-46c0-ba0a-d35c42578dd8"
      },
      "source": [
        "import re\n",
        "\n",
        "with open(file='./ceramica.txt', mode='r', encoding='utf8') as fp:\n",
        "  texto_ceramica = fp.read()\n",
        "\n",
        "emails_ceramica_inicial = re.findall('\\S+@\\S+', texto_ceramica)\n",
        "print(emails_ceramica_inicial)"
      ],
      "execution_count": 34,
      "outputs": [
        {
          "output_type": "stream",
          "text": [
            "['ceram.abc@gmail.com', 'scielo@scielo.org']\n"
          ],
          "name": "stdout"
        }
      ]
    },
    {
      "cell_type": "markdown",
      "metadata": {
        "id": "HahH9APnRrm7"
      },
      "source": [
        "**Salvando essas informaçoes em um arquivo.csv:**"
      ]
    },
    {
      "cell_type": "code",
      "metadata": {
        "id": "-BfdHXdIR392"
      },
      "source": [
        "import csv\n",
        "\n",
        "with open(file='./emails_ceramica_home.csv', mode='w', encoding='utf8') as fp:\n",
        "  escritor = csv.writer(fp, delimiter=',')\n",
        "  escritor.writerows([['email']] + list(map(lambda email: [email], emails_ceramica_inicial)))"
      ],
      "execution_count": 39,
      "outputs": []
    },
    {
      "cell_type": "markdown",
      "metadata": {
        "id": "gKgVyxCpQQln"
      },
      "source": [
        "---"
      ]
    },
    {
      "cell_type": "markdown",
      "metadata": {
        "id": "4OXhYF5pO_Bd"
      },
      "source": [
        "*   Codigo para salvar em um arquivo csv."
      ]
    },
    {
      "cell_type": "code",
      "metadata": {
        "id": "_TeE-RHsPDO8"
      },
      "source": [
        "import csv\n",
        "\n",
        "with open(file='./nubank.csv', mode='w', encoding='utf8') as arquivo:\n",
        "  escritor_csv = csv.writer(arquivo, delimiter=';')\n",
        "  escritor_csv.writerows([['email']] + list(map(lambda email_extraido: [email_extraido], emails_extraidos)))"
      ],
      "execution_count": 45,
      "outputs": []
    },
    {
      "cell_type": "markdown",
      "metadata": {
        "id": "1GcMXpvFBBB6"
      },
      "source": [
        "**Exemplo**: Extrair perfil de redes sociais."
      ]
    },
    {
      "cell_type": "code",
      "metadata": {
        "id": "46JMH2wUBNSA"
      },
      "source": [
        "import re\n",
        "\n",
        "with open(file='./nubank.txt', mode='r', encoding='utf8') as arquivo:\n",
        "  texto = arquivo.read()\n",
        "  \n",
        "perfil_extraidos = re.findall('@\\S+', texto)\n",
        "perfil_extraidos = filter(lambda perfil: '.' not in perfil, perfil_extraidos)\n",
        "perfil_extraidos = list(perfil_extraidos)\n",
        "\n",
        "print(perfil_extraidos)"
      ],
      "execution_count": null,
      "outputs": []
    },
    {
      "cell_type": "markdown",
      "metadata": {
        "id": "ELgoMRAAUSjv"
      },
      "source": [
        "## 3\\. Arquivos Excel"
      ]
    },
    {
      "cell_type": "markdown",
      "metadata": {
        "id": "gdukZft-DRcG"
      },
      "source": [
        "### **3.1. Formato** "
      ]
    },
    {
      "cell_type": "markdown",
      "metadata": {
        "id": "zRXV0SW5DRcg"
      },
      "source": [
        "Um arquivo tabular nativo do Windows, sistema operacional da Microsoft.\n",
        "\n",
        "\n"
      ]
    },
    {
      "cell_type": "markdown",
      "metadata": {
        "id": "xMIEZoXoDRcg"
      },
      "source": [
        "**Arquivo Excel:** banco.xlsx"
      ]
    },
    {
      "cell_type": "markdown",
      "metadata": {
        "id": "jh99AkwpENHa"
      },
      "source": [
        "![Screenshot from 2021-06-19 03-57-15.png](data:image/png;base64,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)"
      ]
    },
    {
      "cell_type": "markdown",
      "metadata": {
        "id": "Myq13VgoM5pU"
      },
      "source": [
        "\n",
        "\n",
        "*   Download\n",
        "\n"
      ]
    },
    {
      "cell_type": "code",
      "metadata": {
        "id": "0VOn3nFZDRch"
      },
      "source": [
        "!wget --show-progress --continue -O ./banco.xlsx https://raw.githubusercontent.com/andre-marcos-perez/ebac-course-utils/main/dataset/banco.xlsx"
      ],
      "execution_count": null,
      "outputs": []
    },
    {
      "cell_type": "markdown",
      "metadata": {
        "id": "NxrikQCDGiU5"
      },
      "source": [
        "### **2.2. Pacote openpyxl** "
      ]
    },
    {
      "cell_type": "markdown",
      "metadata": {
        "id": "26pAIk2JGiU6"
      },
      "source": [
        "Pacote Python para interagir com planilhas excel. A documentação pode ser encontrada neste [link](https://openpyxl.readthedocs.io/en/stable/index.html)."
      ]
    },
    {
      "cell_type": "code",
      "metadata": {
        "id": "kDhUOlqoGveZ"
      },
      "source": [
        "!pip install openpyxl"
      ],
      "execution_count": null,
      "outputs": []
    },
    {
      "cell_type": "markdown",
      "metadata": {
        "id": "Vx-lQHLyMXS_"
      },
      "source": [
        "**Exemplo**: Média dos saldos."
      ]
    },
    {
      "cell_type": "code",
      "metadata": {
        "id": "Y5H7le-dGzKT"
      },
      "source": [
        "from openpyxl import load_workbook\n",
        "\n",
        "planilhas = load_workbook(filename='banco.xlsx')\n",
        "planilha = planilhas.active"
      ],
      "execution_count": null,
      "outputs": []
    },
    {
      "cell_type": "code",
      "metadata": {
        "id": "i6hDYYAZJ35Q"
      },
      "source": [
        "saldos = []\n",
        "\n",
        "cabecalho = next(planilha.values)\n",
        "indice_saldo = cabecalho.index('balance')\n",
        "saldos = [linha[indice_saldo] for linha in planilha.values if linha[indice_saldo] != 'balance']\n",
        "\n",
        "print(saldos)"
      ],
      "execution_count": null,
      "outputs": []
    },
    {
      "cell_type": "markdown",
      "metadata": {
        "id": "jRIV_gkyMFU6"
      },
      "source": [
        "**Exemplo**: Tipo dos dados."
      ]
    },
    {
      "cell_type": "code",
      "metadata": {
        "id": "6YqcDBSiMFVb"
      },
      "source": [
        "print(set(map(lambda saldo: type(saldo), saldos)))"
      ],
      "execution_count": null,
      "outputs": []
    },
    {
      "cell_type": "markdown",
      "metadata": {
        "id": "-BqareFkMgSy"
      },
      "source": [
        "**Exemplo**: Média dos saldos."
      ]
    },
    {
      "cell_type": "code",
      "metadata": {
        "id": "PjhO_1XkMgSz"
      },
      "source": [
        "from functools import reduce\n",
        "\n",
        "soma_saldos = reduce(lambda saldo_a, saldo_b: saldo_a + saldo_b, saldos)\n",
        "qtd_saldos = len(saldos)\n",
        "\n",
        "media_saldos = soma_saldos / qtd_saldos\n",
        "print(f\"A média dos saldos é de {media_saldos}.\")"
      ],
      "execution_count": null,
      "outputs": []
    }
  ]
}