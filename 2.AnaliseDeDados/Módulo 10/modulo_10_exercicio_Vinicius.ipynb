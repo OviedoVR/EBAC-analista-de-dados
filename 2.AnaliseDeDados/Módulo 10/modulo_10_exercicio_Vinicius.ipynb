{
  "nbformat": 4,
  "nbformat_minor": 0,
  "metadata": {
    "colab": {
      "name": "modulo_10_exercicio_Vinicius.ipynb",
      "provenance": [],
      "collapsed_sections": []
    },
    "kernelspec": {
      "name": "python3",
      "display_name": "Python 3"
    }
  },
  "cells": [
    {
      "cell_type": "markdown",
      "metadata": {
        "id": "KJqp9AANOCtf"
      },
      "source": [
        "<img src=\"https://raw.githubusercontent.com/andre-marcos-perez/ebac-course-utils/main/media/logo/newebac_logo_black_half.png\" alt=\"ebac-logo\">\n",
        "\n",
        "---\n",
        "\n",
        "# **Módulo** | Análise de Dados: Coleta de Dados I\n",
        "Caderno de **Exercícios**<br> \n",
        "Professor [André Perez](https://www.linkedin.com/in/andremarcosperez/)\n",
        "\n",
        "---"
      ]
    },
    {
      "cell_type": "markdown",
      "metadata": {
        "id": "d9jDtUbDOE1-"
      },
      "source": [
        "# **Tópicos**\n",
        "\n",
        "<ol type=\"1\">\n",
        "  <li>Arquivos CSV;</li>\n",
        "  <li>Arquivos Texto;</li>\n",
        "  <li>Arquivos Excel.</li>\n",
        "</ol>"
      ]
    },
    {
      "cell_type": "markdown",
      "metadata": {
        "id": "SmoHgt-lwkpD"
      },
      "source": [
        "---"
      ]
    },
    {
      "cell_type": "markdown",
      "metadata": {
        "id": "GABI6OW8OfQ2"
      },
      "source": [
        "# **Exercícios**"
      ]
    },
    {
      "cell_type": "markdown",
      "metadata": {
        "id": "muD1vxozykSC"
      },
      "source": [
        "## 0\\. Preparando o ambiente"
      ]
    },
    {
      "cell_type": "markdown",
      "metadata": {
        "id": "ByX7SUjNKk2K"
      },
      "source": [
        "Vamos explorar dados de crédito presentes no arquivo `credito.xlsx` ([link](https://raw.githubusercontent.com/andre-marcos-perez/ebac-course-utils/develop/dataset/credito.xlsx)). Os dados estão no formato de **Excel** (XLSX) e contém informações sobre clientes de uma instituição financeira. Em especial, estamos interessados em explicar a segunda coluna, chamada de **default**, que indica se um cliente é adimplente (`default = 0`), ou inadimplente (`default = 1`), ou seja, queremos entender o porque um cliente deixa de honrar com suas dívidas baseado no comportamento de outros atributos, como salário, escolaridade e movimentação financeira. Uma descrição completa dos atributos está abaixo."
      ]
    },
    {
      "cell_type": "markdown",
      "metadata": {
        "id": "Z5Fd0NSVLnwE"
      },
      "source": [
        "\n",
        "\n",
        "| Coluna  | Descrição |\n",
        "| ------- | --------- |\n",
        "| id      | Número da conta |\n",
        "| default | Indica se o cliente é adimplente (0) ou inadimplente (1) |\n",
        "| idade   | --- |\n",
        "| sexo    | --- |\n",
        "| depedentes | --- |\n",
        "| escolaridade | --- |\n",
        "| estado_civil | --- |\n",
        "| salario_anual | Faixa do salario mensal multiplicado por 12 |\n",
        "| tipo_cartao | Categoria do cartao: blue, silver, gold e platinium |\n",
        "| meses_de_relacionamento | Quantidade de meses desde a abertura da conta |\n",
        "| qtd_produtos | Quantidade de produtos contratados |\n",
        "| iteracoes_12m | Quantidade de iteracoes com o cliente no último ano |\n",
        "| meses_inativo_12m | Quantidade de meses que o cliente ficou inativo no último ano |\n",
        "| limite_credito | Valor do limite do cartão de crédito |\n",
        "| valor_transacoes_12m | Soma total do valor das transações no cartão de crédito no último ano |\n",
        "| qtd_transacoes_12m | Quantidade total de transações no cartão de crédito no último ano |\n",
        "\n"
      ]
    },
    {
      "cell_type": "markdown",
      "metadata": {
        "id": "peEbZE2vcMaH"
      },
      "source": [
        "Faça o download do arquivo `credito.xlsx` com a célula de código abaixo."
      ]
    },
    {
      "cell_type": "code",
      "metadata": {
        "id": "hyG8xFuWc16L",
        "colab": {
          "base_uri": "https://localhost:8080/"
        },
        "outputId": "bbd98ef6-52e0-43d7-8923-1f0d2bc3c4be"
      },
      "source": [
        "!wget --show-progress --continue -O ./credito.xlsx https://raw.githubusercontent.com/andre-marcos-perez/ebac-course-utils/main/dataset/credito.xlsx"
      ],
      "execution_count": null,
      "outputs": [
        {
          "output_type": "stream",
          "text": [
            "--2021-08-10 12:47:54--  https://raw.githubusercontent.com/andre-marcos-perez/ebac-course-utils/main/dataset/credito.xlsx\n",
            "Resolving raw.githubusercontent.com (raw.githubusercontent.com)... 185.199.110.133, 185.199.111.133, 185.199.108.133, ...\n",
            "Connecting to raw.githubusercontent.com (raw.githubusercontent.com)|185.199.110.133|:443... connected.\n",
            "HTTP request sent, awaiting response... 416 Range Not Satisfiable\n",
            "\n",
            "    The file is already fully retrieved; nothing to do.\n",
            "\n"
          ],
          "name": "stdout"
        }
      ]
    },
    {
      "cell_type": "markdown",
      "metadata": {
        "id": "zMN1Q3jdwoJm"
      },
      "source": [
        "---"
      ]
    },
    {
      "cell_type": "markdown",
      "metadata": {
        "id": "GWgNoJN8DHyY"
      },
      "source": [
        "## 1\\. Excel para CSV"
      ]
    },
    {
      "cell_type": "markdown",
      "metadata": {
        "id": "YynK1vf2DHyj"
      },
      "source": [
        "Utilizando o pacote Python `openpyxl` visto em aula, extraia os seguintes as colunas `id`, `sexo` e `idade` para dos clientes inadimplentes (`default = 1`) e solteiros (`estado_civil = 'solteiro'`). Salves os dados extraídos no arquivo csv `credito.csv` separado por `;`. Exemplo do cabeçalho e das três primeiras linhas:\n",
        "\n",
        "```\n",
        "id;sexo;idade\n",
        "767712558;59;M\n",
        "713741358;46;M\n",
        "772390908;59;M\n",
        "```\n",
        "\n",
        "**Dica:** O arquivo csv `credito.csv` deve ter 669 linhas, contando com o cabeçalho.\n",
        "\n",
        "**Nota:** Escreva o código da sua solução abaixo em uma ou mais células, você não precisa enviar o arquivo csv gerado."
      ]
    },
    {
      "cell_type": "code",
      "metadata": {
        "id": "hVK8QyFvE-wk"
      },
      "source": [
        "# solução do exercício 1\n",
        "from openpyxl import load_workbook\n",
        "\n",
        "planilhas = load_workbook(filename='credito.xlsx')\n",
        "planilha_credito = planilhas.active\n",
        "\n",
        "id_clientes = []\n",
        "sexo_clientes = []\n",
        "idade_clientes = []\n",
        "\n",
        "cabecalho = next(planilha_credito.values)\n",
        "\n",
        "#Craindo indices para inadimplência e estado civil:\n",
        "indice_default= cabecalho.index('default')\n",
        "indice_estado_civil= cabecalho.index('estado_civil')\n",
        "\n",
        "#Extraindo o ID dos clientes:\n",
        "indice_id= cabecalho.index('id')\n",
        "id_clientes = [linha[indice_id] for linha in planilha_credito.values if (linha[indice_id] != 'id') & (linha[indice_default] == 1) & (linha[indice_estado_civil] == 'solteiro')]\n",
        "\n",
        "#Extraindo o sexo:\n",
        "indice_sexo = cabecalho.index('sexo')\n",
        "sexo_clientes = [linha[indice_sexo] for linha in planilha_credito.values if (linha[indice_sexo] != 'sexo') & (linha[indice_default] == 1) & (linha[indice_estado_civil] == 'solteiro')]\n",
        "\n",
        "#Extraindo a idade:\n",
        "indice_idade = cabecalho.index('idade')\n",
        "idade_clientes = [linha[indice_idade] for linha in planilha_credito.values if (linha[indice_idade] != 'idade') & (linha[indice_default] == 1) & (linha[indice_estado_civil] == 'solteiro')]"
      ],
      "execution_count": null,
      "outputs": []
    },
    {
      "cell_type": "markdown",
      "metadata": {
        "id": "Bw8ZjwR_9uPh"
      },
      "source": [
        "**Salvando o CSV:**"
      ]
    },
    {
      "cell_type": "code",
      "metadata": {
        "id": "j49wKRUt9wdI"
      },
      "source": [
        "import csv\n",
        "\n",
        "dados_clientes = [id_clientes, sexo_clientes, idade_clientes]\n",
        "\n",
        "with open(file='ID_sexo_idade_clientes.csv',mode='w',encoding='utf8') as fp:\n",
        "  escritor_csv = csv.writer(fp, delimiter=';')\n",
        "  escritor_csv.writerows([['id', 'sexo', 'idade']] + list(map(lambda id, sexo, idade: [id, sexo, idade], id_clientes, sexo_clientes, idade_clientes)))  "
      ],
      "execution_count": null,
      "outputs": []
    },
    {
      "cell_type": "markdown",
      "metadata": {
        "id": "waxn4B2UDHyl"
      },
      "source": [
        "---"
      ]
    },
    {
      "cell_type": "markdown",
      "metadata": {
        "id": "finLQoyyGVmk"
      },
      "source": [
        "## 2\\. Excel para JSON"
      ]
    },
    {
      "cell_type": "markdown",
      "metadata": {
        "id": "99BrnqR4GVmy"
      },
      "source": [
        "Como preparação para o próximo módulo, vamos trabalhar com o JSON, um formato semi-estruturado, muito utilizado em transmissão de dados da web e equivalente a um **dicionário** Python."
      ]
    },
    {
      "cell_type": "markdown",
      "metadata": {
        "id": "AQqks_tohV8k"
      },
      "source": [
        "Utilizando o pacote Python `openpyxl` visto em aula, extraia os dados das colunas `escolaridade` e `tipo_cartao`, removendo duplicados. Com os dados, construa o dicionário Python `credito` com a seguinte estrutura:\n",
        "\n",
        "```python\n",
        "credito = {\n",
        "  'tipo_cartao': ['silver', 'blue', 'gold', 'platinum'],\n",
        "  'escolaridade': ['doutorado', 'mestrado', 'na', 'sem educacao formal', 'graduacao', 'ensino medio']\n",
        "}\n",
        "```\n",
        "\n",
        "Para finalizar, utilize o código abaixo para converter o dicionário `credito` no formato JSON:\n",
        "\n",
        "```python\n",
        "import json\n",
        "\n",
        "credito_json = json.dumps(credito, indent=4)\n",
        "print(credito_json)\n",
        "```\n",
        "\n",
        "**Dica:** Sua solução deve gerar o dicionário Python `credito` igual ao exemplo mas a ordem dos elementos pode variar tranquilamente.\n",
        "\n",
        "**Dica:** Uma excelente forma de remover elementos duplicados de uma lista é convertê-la para `set` e depois para `list` novamente.\n",
        "\n"
      ]
    },
    {
      "cell_type": "code",
      "metadata": {
        "id": "pCMQ5vBPjSXn"
      },
      "source": [
        "# solução do exercício 2\n",
        "#from openpyxl import load_workbook\n",
        "\n",
        "planilhas = load_workbook(filename='credito.xlsx')\n",
        "planilha_credito = planilhas.active\n",
        "\n",
        "escolaridade = []\n",
        "tipo_cartao = []\n",
        "\n",
        "cabecalho = next(planilha_credito.values)\n",
        "\n",
        "#índices:\n",
        "indice_escolaridade = cabecalho.index('escolaridade')\n",
        "indice_cartao = cabecalho.index('tipo_cartao')\n",
        "\n",
        "#Extraindo as colunas de interesse:\n",
        "escolaridade = list(set([linha[indice_escolaridade] for linha in planilha_credito.values]))\n",
        "tipo_cartao = list(set([linha[indice_cartao] for linha in planilha_credito.values]))"
      ],
      "execution_count": null,
      "outputs": []
    },
    {
      "cell_type": "markdown",
      "metadata": {
        "id": "IBbVvQaGHB07"
      },
      "source": [
        "**Criando o dicionário:**"
      ]
    },
    {
      "cell_type": "code",
      "metadata": {
        "id": "4CkPVAlHGLlh"
      },
      "source": [
        "credito = {\n",
        "  'tipo_cartao': tipo_cartao,\n",
        "  'escolaridade': escolaridade\n",
        "}"
      ],
      "execution_count": null,
      "outputs": []
    },
    {
      "cell_type": "markdown",
      "metadata": {
        "id": "-bU4Z9jHHFeP"
      },
      "source": [
        "**Convertendo para json:***"
      ]
    },
    {
      "cell_type": "code",
      "metadata": {
        "colab": {
          "base_uri": "https://localhost:8080/"
        },
        "id": "XWofw9BQHIGn",
        "outputId": "1242a1d9-aeed-47eb-9ca2-2d13bf212066"
      },
      "source": [
        "import json\n",
        " \n",
        "credito_json = json.dumps(credito, indent=4)\n",
        "print(credito_json)"
      ],
      "execution_count": null,
      "outputs": [
        {
          "output_type": "stream",
          "text": [
            "{\n",
            "    \"tipo_cartao\": [\n",
            "        \"blue\",\n",
            "        \"tipo_cartao\",\n",
            "        \"platinum\",\n",
            "        \"gold\",\n",
            "        \"silver\"\n",
            "    ],\n",
            "    \"escolaridade\": [\n",
            "        \"sem educacao formal\",\n",
            "        \"na\",\n",
            "        \"ensino medio\",\n",
            "        \"graduacao\",\n",
            "        \"escolaridade\",\n",
            "        \"doutorado\",\n",
            "        \"mestrado\"\n",
            "    ]\n",
            "}\n"
          ],
          "name": "stdout"
        }
      ]
    },
    {
      "cell_type": "markdown",
      "metadata": {
        "id": "As3enQc2GVm1"
      },
      "source": [
        "---"
      ]
    },
    {
      "cell_type": "markdown",
      "metadata": {
        "id": "SS1PxxfHILHs"
      },
      "source": [
        "## 3\\. BÔNUS: Texto para CSV"
      ]
    },
    {
      "cell_type": "markdown",
      "metadata": {
        "id": "i3f-X7y23onm"
      },
      "source": [
        "No arquivo de texto `ebac.txt` você encontra o texto presente no rodapé da página de cursos da EBAC ([link](https://ebaconline.com.br/)).\n",
        "\n"
      ]
    },
    {
      "cell_type": "markdown",
      "metadata": {
        "id": "nKDF9EBH3onp"
      },
      "source": [
        "**Arquivo TXT:** ebac.txt"
      ]
    },
    {
      "cell_type": "code",
      "metadata": {
        "id": "Pyyj5VNnb16w",
        "colab": {
          "base_uri": "https://localhost:8080/"
        },
        "outputId": "80cd5b96-1138-4cc4-d774-08b1656e7e3e"
      },
      "source": [
        "%%writefile ebac.txt\n",
        "MÍDIAS SOCIAIS\n",
        "Instagram, Facebook, Youtube, LinkedIn \n",
        "\n",
        "CURSOS\n",
        "Software, Design, Marketing, Audiovisual, Programação & Data, Games\n",
        "\n",
        "WEBINARS\n",
        "Próximos, Anteriores\n",
        "\n",
        "SOBRE\n",
        "Sobre nós, Centro de carreiras, Vagas\n",
        "\n",
        "CONTATO\n",
        "WhatsApp +55 (11) 4200-2991\n",
        "Telefone +55 (11) 3030-3200\n",
        "\n",
        "BLOG\n",
        "Design, Audiovisual, Marketing"
      ],
      "execution_count": null,
      "outputs": [
        {
          "output_type": "stream",
          "text": [
            "Overwriting ebac.txt\n"
          ],
          "name": "stdout"
        }
      ]
    },
    {
      "cell_type": "markdown",
      "metadata": {
        "id": "R4hMJ6D2ILH3"
      },
      "source": [
        "Extraia os números de contato do arquivo texto `ebac.txt` e salve-os no arquivo csv `contato_ebac.csv` com o separador `;` no seguinte formato:\n",
        "\n",
        "```\n",
        "tipo;numero\n",
        "whatsapp;+551142002991\n",
        "telefone;+551130303200\n",
        "```\n",
        "\n",
        "**Nota:** Escreva o código da sua solução abaixo em uma ou mais células, você não precisa enviar o arquivo csv gerado."
      ]
    },
    {
      "cell_type": "code",
      "metadata": {
        "id": "ogZClDvTILH3"
      },
      "source": [
        "# solução do exercício 3 (bônus)\n",
        "import re\n",
        "\n",
        "with open(file='ebac.txt',mode='r',encoding='utf8') as fp:\n",
        "  texto_ebac = fp.read()\n",
        "\n",
        "tipo_numero = []\n",
        "numero = []\n",
        "\n",
        "tipo_numero_wpp = re.findall('WhatsApp', texto_ebac)\n",
        "tipo_numero_tel = re.findall('Telefone', texto_ebac)\n",
        "\n",
        "tipo_numero.append(tipo_numero_wpp)\n",
        "tipo_numero.append(tipo_numero_tel)\n",
        "\n",
        "numeros = re.findall('(?:\\+ *)?\\d[\\d\\- ]{7,}\\d', texto_ebac)\n",
        "\n",
        "with open(file='contato_ebac.csv', mode='w', encoding='utf8') as fp:\n",
        "  escreve_csv = csv.writer(fp, delimiter = ';')\n",
        "  escreve_csv.writerows([['tipo', 'numero']] + list(map(lambda tipo, num: [tipo, num], tipo_numero, numeros)))"
      ],
      "execution_count": null,
      "outputs": []
    },
    {
      "cell_type": "markdown",
      "metadata": {
        "id": "Fx--J2bOILH4"
      },
      "source": [
        "---"
      ]
    }
  ]
}