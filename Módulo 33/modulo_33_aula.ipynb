{
  "nbformat": 4,
  "nbformat_minor": 0,
  "metadata": {
    "colab": {
      "name": "modulo_33_aula.ipynb",
      "provenance": [],
      "collapsed_sections": [],
      "toc_visible": true
    },
    "kernelspec": {
      "name": "python3",
      "display_name": "Python 3"
    }
  },
  "cells": [
    {
      "cell_type": "markdown",
      "metadata": {
        "id": "KJqp9AANOCtf"
      },
      "source": [
        "<img src=\"https://raw.githubusercontent.com/andre-marcos-perez/ebac-course-utils/main/media/logo/newebac_logo_black_half.png\" alt=\"ebac-logo\">\n",
        "\n",
        "---\n",
        "\n",
        "# **Módulo** | SQL: Trabalhando com Múltiplas Tabelas\n",
        "Caderno de **Aula**<br> \n",
        "Professor [Mariane Neiva](www.linkedin.com/in/mariane-neiva)\n",
        "\n",
        "---"
      ]
    },
    {
      "cell_type": "markdown",
      "metadata": {
        "id": "d9jDtUbDOE1-"
      },
      "source": [
        "# **Tópicos**\n",
        "\n",
        "<ol type=\"1\">\n",
        "  <li>Union;</li>\n",
        "  <li>Junções: inner / cross;</li>\n",
        "  <li>Junções: left / right;</li>\n",
        "</ol>"
      ]
    },
    {
      "cell_type": "markdown",
      "metadata": {
        "id": "SmoHgt-lwkpD"
      },
      "source": [
        "---"
      ]
    },
    {
      "cell_type": "markdown",
      "metadata": {
        "id": "GABI6OW8OfQ2"
      },
      "source": [
        "# **Aulas**"
      ]
    },
    {
      "cell_type": "markdown",
      "metadata": {
        "id": "NF7Pdc6hJ8oF"
      },
      "source": [
        "Nessa aula, usaremos a seguinte tabela:"
      ]
    },
    {
      "cell_type": "markdown",
      "metadata": {
        "id": "QkH5jQruJG-L"
      },
      "source": [
        "```sql\n",
        "CREATE TABLE transacoes (\n",
        "  id_cliente INT, \n",
        "  id_transacao INT,\n",
        "  data_compra DATE,\n",
        "  valor FLOAT, \n",
        "  id_loja varchar(25)\n",
        ");\n",
        "```"
      ]
    },
    {
      "cell_type": "markdown",
      "metadata": {
        "id": "MLdOjQcDKCXc"
      },
      "source": [
        "Também temos os seguintes valores inseridos na tabela"
      ]
    },
    {
      "cell_type": "markdown",
      "metadata": {
        "id": "I34tqzZrKOma"
      },
      "source": [
        "```sql\n",
        "INSERT INTO transacoes VALUES (1,768805383,'2021-06-10',50.74,'magalu');\n",
        "INSERT INTO transacoes VALUES (2,768805399,'2021-06-13',30.90,'giraffas');\n",
        "INSERT INTO transacoes VALUES (3,818770008,'2021-06-05',110.00,'postoshell');\n",
        "INSERT INTO transacoes VALUES (1,76856563,'2021-07-10',2000.90,'magalu');\n",
        "INSERT INTO transacoes VALUES (1,767573759,'2021-06-20',15.70,'subway');\n",
        "INSERT INTO transacoes VALUES (3,818575758,'2021-06-25',2.99,'seveneleven');\n",
        "INSERT INTO transacoes VALUES (4,764545534,'2021-07-11',50.74,'extra');\n",
        "INSERT INTO transacoes VALUES (5,76766789,'2021-08-02',10.00,'subway');\n",
        "INSERT INTO transacoes VALUES (3,8154567758,'2021-08-15',1100.00,'shopee');\n",
        "```"
      ]
    },
    {
      "cell_type": "markdown",
      "metadata": {
        "id": "rRBLidUaK7NJ"
      },
      "source": [
        "Como resultado da função SELECT, temos a seguinte tabela:\n",
        "\n",
        "| id_cliente | id_transacao | data_compra |valor | id_loja |\n",
        "|------------|----------|----|-----| ------- |\n",
        "| 1| 768805383    | 2021-06-10    | 50.74 |magalu \n",
        "| 2 | 768805399    | 2021-06-13    |  30.90 | giraffas \n",
        "| 3 | 818770008    |2021-06-05   |  110.00 |  postoshell  \n",
        "|1 |76856563 | 2021-07-10 |2000.90 |magalu\n",
        "|1|767573759|2021-06-20|15.70|subway\n",
        "| 3|818575758|2021-06-25|2.99|seveneleven\n",
        " |4|764545534|2021-07-10|50.74|extra\n",
        "|5|76766789|2021-08-92|10.00|subway\n",
        "|3|8154567758|2021-08-15|1100.00|shopee "
      ]
    },
    {
      "cell_type": "markdown",
      "metadata": {
        "id": "x_81anuj4UFT"
      },
      "source": [
        "Além disso, também utilizaremos a tabela:\n",
        "\n",
        "```sql\n",
        "CREATE TABLE cliente (\n",
        "  id_cliente INT,  \n",
        "  nome varchar(25),\n",
        "  data_compra DATE,\n",
        "  valor_compra float, \n",
        "  loja_cadastro varchar(25)\n",
        ");\n",
        "```\n",
        "\n",
        "Teremos os seguintes dados na tabela:\n",
        "\n",
        "```sql\n",
        "INSERT INTO cliente VALUES (5,'jose', '2020-07-01',500.43,'cea');\n",
        "INSERT INTO cliente VALUES (1,'maria','2019-03-02',150.70,'riachuelo');\n",
        "INSERT INTO cliente VALUES (2,'valentina','2020-01-09',210.99,'zara');\n",
        "INSERT INTO cliente VALUES (4,'joana','2019-05-11',1300.50,'pontofrio');\n",
        "INSERT INTO cliente VALUES (6,'fernando','2020-03-02',86.55,'pontofrio'); \n",
        "```\n",
        "\n",
        "Como resultado temos:\n",
        "\n",
        "|id_cliente|nome|data_compra|valor_compra|loja_cadastro|\n",
        "|-|-|-|-|-|\n",
        "|5|jose|2020-07-01|500.43|cea|\n",
        "|1|maria|2019-03-02|150.70|riachuelo|\n",
        "|2|valentina|2020-01-09|210.99|zara|\n",
        "|4|joana|2019-05-11|1300.50|pontofrio|\n",
        "|6|fernando|2020-03-02|86.55|pontofrio|"
      ]
    },
    {
      "cell_type": "markdown",
      "metadata": {
        "id": "ok889VghEyKq"
      },
      "source": [
        "#1. Função UNION\n",
        "\n",
        "A função UNION combina colunas e mostra os valores das colunas sequencialmente. \n",
        "\n",
        "A função é utilizada junto com a função SELECT e estabelece algumas regras:\n",
        "\n",
        "\n",
        "1.   As seleções devem possuir o mesmo número de colunas\n",
        "2.   As colunas combinadas possuem o mesmo tipo de dado\n",
        "\n",
        "No SQL Server:\n",
        "\n",
        "```sql\n",
        "SELECT <colunas1> FROM <tabela1>\n",
        "UNION\n",
        "SELECT <colunas2>  FROM <tabela2>;\n",
        "```\n",
        "\n",
        "No exemplo\n",
        "\n",
        "```sql\n",
        "SELECT id_cliente FROM transacoes\n",
        "UNION\n",
        "SELECT id_cliente  FROM cliente;\n",
        "```\n",
        "\n",
        "Resultado:\n",
        "\n",
        "|id_cliente|\n",
        "|----------| \n",
        "|1|\n",
        "|2|\n",
        "|3|\n",
        "|4|\n",
        "|5|\n",
        "|6|\n"
      ]
    },
    {
      "cell_type": "markdown",
      "metadata": {
        "id": "GTLMydA69ZGT"
      },
      "source": [
        "Pelo resultado anterior, é possível reparar que os valores não se repetem. Mesmo que a tabela transações mostre id_cliente = 1 em três linhas, a seleção com UNION mostra o valor apenas uma vez. \n",
        "\n",
        "Para mostrar todos os valores, use **UNION ALL** ao invés de **UNION**"
      ]
    },
    {
      "cell_type": "markdown",
      "metadata": {
        "id": "eqtRcYZgF94g"
      },
      "source": [
        "# 2. **Junções: inner / cross**\n",
        "\n",
        "\n"
      ]
    },
    {
      "cell_type": "markdown",
      "metadata": {
        "id": "rQQ_R5ym-9yw"
      },
      "source": [
        "Lembra da união de conjuntos da matemática? Revisitaremos nessa aula."
      ]
    },
    {
      "cell_type": "markdown",
      "metadata": {
        "id": "3G086dzN-KHm"
      },
      "source": [
        "## 2.1 Função inner\n",
        "\n",
        "A função inner mostra as informações comuns em duas seleções. Para ilustrar podemos observar a imagem abaixo:\n",
        "\n",
        "![tabela1lower.png](data:image/png;base64,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)\n",
        "\n",
        "\n",
        "Para utilizar a função:\n",
        "```sql\n",
        "SELECT <colunas>\n",
        "FROM <tabela1>\n",
        "INNER JOIN <tabela2>\n",
        "ON <tabela1>.<coluna> = <tabela2>.<coluna>;\n",
        "``` \n",
        "\n",
        "No exemplo:\n",
        "\n",
        "```sql\n",
        "SELECT transacoes.id_cliente, cliente.nome\n",
        "FROM transacoes\n",
        "INNER JOIN cliente\n",
        "ON transacoes.id_cliente = cliente.id_cliente;\n",
        "```\n",
        "\n",
        "Resultado:\n",
        "\n",
        "|id_cliente|nome|\n",
        "|-----|-----|\n",
        "|1|maria|\n",
        "|2|valentina|\n",
        "|1|maria|\n",
        "|1|maria|\n",
        "|4|joana\n",
        "|5|jose|\n",
        "\n"
      ]
    },
    {
      "cell_type": "markdown",
      "metadata": {
        "id": "vwu6dwNs-N6c"
      },
      "source": [
        "## 2.2 Função cross\n",
        "\n",
        "A função cross realiza um cruzamento de dados de duas tabela. É possível unir todas as informações de uma tabela a outra como veremos no exemplo.\n",
        "\n",
        "```sql\n",
        "SELECT <colunas>\n",
        "FROM <tabela1>\n",
        "CROSS JOIN <tabela2>\n",
        "```\n",
        "\n",
        "No exemplo:\n",
        "```sql\n",
        "SELECT *\n",
        "FROM cliente\n",
        "CROSS JOIN transacoes\n",
        "```\n",
        "\n",
        "Parte do resultado: [clique aqui](https://drive.google.com/file/d/1nwjHByagyfL3R2gQm2ALQMverAVmk75J/view?usp=sharing) \n",
        "\n"
      ]
    },
    {
      "cell_type": "markdown",
      "metadata": {
        "id": "7eVF8T9P-RBr"
      },
      "source": [
        "# **3. Junções: left / right**\n",
        "\n",
        "Nesses dois modelos de junção, todas os dados selecionados de uma tabela serão mostrado enquanto apenas os dados comuns de outra serão selecionados. \n",
        "\n",
        "Vamos entender."
      ]
    },
    {
      "cell_type": "markdown",
      "metadata": {
        "id": "mIf7HNlr-X08"
      },
      "source": [
        "##3.1 Junção left\n",
        "\n",
        "Verifique a imagem abaixo:\n",
        "\n",
        "![leftjoin.png](data:image/png;base64,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)\n",
        "\n",
        "Nesse modelo, todos os dados da **tabela1** são mostrados enquanto apenas os dados da tabela2 que são comuns as duas tabelas são mostrados.\n",
        "\n",
        "No SQL Server: \n",
        "\n",
        "```sql\n",
        "SELECT <colunas>\n",
        "FROM <tabela1>\n",
        "LEFT JOIN <tabela2>\n",
        "ON <tabela1>.<nomecolunacomum> = <tabela2>.<nomecolunacomum>;\n",
        "```\n",
        "\n",
        "Exemplo:\n",
        "\n",
        "\n",
        "```sql\n",
        "SELECT *\n",
        "FROM transacoes\n",
        "LEFT JOIN cliente \n",
        "ON cliente.id_cliente = transacoes.id_cliente;\n",
        "```\n",
        "\n",
        "Resultado completo: [clique aqui](https://drive.google.com/file/d/1qoGtmKzNhSLME0igLrhoq-B97KaAj3h7/view?usp=sharing)"
      ]
    },
    {
      "cell_type": "markdown",
      "metadata": {
        "id": "Bh6zaK3c-aM_"
      },
      "source": [
        "## 3.2 Junção right\n",
        "\n",
        "Verifique a imagem abaixo:\n",
        "\n",
        "![rightjoin.png](data:image/png;base64,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)\n",
        "\n",
        "Nesse modelo, todos os dados da **tabela2** são mostrados enquanto apenas os dados da **tabela1** que são comuns as duas tabelas são mostrados.\n",
        "\n",
        "No SQL Server: \n",
        "\n",
        "```sql\n",
        "SELECT <colunas>\n",
        "FROM <tabela1>\n",
        "RIGHT JOIN <tabela2>\n",
        "ON <tabela1>.<nomecolunacomum> = <tabela2>.<nomecolunacomum>;\n",
        "```\n",
        "\n",
        "Exemplo:\n",
        "\n",
        "\n",
        "```sql\n",
        "SELECT *\n",
        "FROM transacoes\n",
        "RIGHT JOIN cliente \n",
        "ON cliente.id_cliente = transacoes.id_cliente;\n",
        "```\n",
        "\n",
        "Para ver o resultado: [clique aqui](https://drive.google.com/file/d/1MYKpGh9WW_j-MOVDvPptijTHY5FJSAQG/view?usp=sharing)\n",
        "\n",
        "> Atenção: o site [SQLiteonline](https://sqliteonline.com/) não possui a função RIGHT JOIN"
      ]
    }
  ]
}