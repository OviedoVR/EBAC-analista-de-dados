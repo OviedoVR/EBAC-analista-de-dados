{
  "nbformat": 4,
  "nbformat_minor": 0,
  "metadata": {
    "colab": {
      "name": "module_8_class.ipynb",
      "provenance": [],
      "collapsed_sections": [
        "RhqmXiHQo-is"
      ],
      "toc_visible": true
    },
    "kernelspec": {
      "name": "python3",
      "display_name": "Python 3"
    }
  },
  "cells": [
    {
      "cell_type": "markdown",
      "metadata": {
        "id": "KJqp9AANOCtf"
      },
      "source": [
        "<img src=\"https://raw.githubusercontent.com/andre-marcos-perez/ebac-course-utils/main/media/logo/newebac_logo_black_half.png\" alt=\"ebac-logo\">\n",
        "\n",
        "---\n",
        "\n",
        "# **Módulo** | Python: Tratamento de Erros\n",
        "Caderno de **Aula**<br> \n",
        "Professor [André Perez](https://www.linkedin.com/in/andremarcosperez/)\n",
        "\n",
        "---"
      ]
    },
    {
      "cell_type": "markdown",
      "metadata": {
        "id": "d9jDtUbDOE1-"
      },
      "source": [
        "# **Tópicos**\n",
        "\n",
        "<ol type=\"1\">\n",
        "  <li>Tipos de erros;</li>\n",
        "  <li>Erros de sintaxe;</li>\n",
        "  <li>Erros em tempo de execução.</li>\n",
        "</ol>"
      ]
    },
    {
      "cell_type": "markdown",
      "metadata": {
        "id": "SmoHgt-lwkpD"
      },
      "source": [
        "---"
      ]
    },
    {
      "cell_type": "markdown",
      "metadata": {
        "id": "GABI6OW8OfQ2"
      },
      "source": [
        "# **Aulas**"
      ]
    },
    {
      "cell_type": "markdown",
      "metadata": {
        "id": "muD1vxozykSC"
      },
      "source": [
        "## 1\\. Tipos de erros"
      ]
    },
    {
      "cell_type": "markdown",
      "metadata": {
        "id": "E6D5rjlESJ1A"
      },
      "source": [
        "### **1.1. Definição** "
      ]
    },
    {
      "cell_type": "markdown",
      "metadata": {
        "id": "shP6hHQDhjWb"
      },
      "source": [
        " - **Erros de sintaxe**: erros que ocorrem durante a escrita do código."
      ]
    },
    {
      "cell_type": "code",
      "metadata": {
        "id": "4Uf_FRiDnBGu"
      },
      "source": [
        "idade = 19\n",
        "\n",
        "if idade > 18\n",
        "  return True"
      ],
      "execution_count": null,
      "outputs": []
    },
    {
      "cell_type": "markdown",
      "metadata": {
        "id": "iAEv8XTbqJJD"
      },
      "source": [
        " - **Erros em tempo de execução**: erros que ocorrem durante a execução do código."
      ]
    },
    {
      "cell_type": "markdown",
      "metadata": {
        "id": "6hMXNDbxqQLm"
      },
      "source": [
        "Erros de uso incorreto de tipos de dados."
      ]
    },
    {
      "cell_type": "code",
      "metadata": {
        "id": "pp7zf0LZh3qc"
      },
      "source": [
        "print(1/0)"
      ],
      "execution_count": null,
      "outputs": []
    },
    {
      "cell_type": "markdown",
      "metadata": {
        "id": "YDUpNpizqVYi"
      },
      "source": [
        "Erros de lógica."
      ]
    },
    {
      "cell_type": "code",
      "metadata": {
        "id": "B_B8h-JoqeVB"
      },
      "source": [
        "i = 0\n",
        "while True:\n",
        "  ... # bloco de código\n",
        "  i += 1\n",
        "  if i > 10:\n",
        "    break"
      ],
      "execution_count": null,
      "outputs": []
    },
    {
      "cell_type": "markdown",
      "metadata": {
        "id": "4rRCvy_UURrM"
      },
      "source": [
        "## 2\\. Erros de sintaxe"
      ]
    },
    {
      "cell_type": "markdown",
      "metadata": {
        "id": "cOZDKbe6URrb"
      },
      "source": [
        "### **2.1. Definição** "
      ]
    },
    {
      "cell_type": "markdown",
      "metadata": {
        "id": "uKn9kMbENShL"
      },
      "source": [
        "São erros que ocorrem durante a escrita do código. O trecho do código **não é** executado."
      ]
    },
    {
      "cell_type": "code",
      "metadata": {
        "id": "lTXnq6g7ONuL"
      },
      "source": [
        "carrinho_compras = [{'id': 3184, 'preco': 37.65, 'qtd': 10}, {'id': 1203, 'preco': 81.20, 'qtd': 2}, {'id': 8921, 'preco': 15.90, 'qtd': 2}]"
      ],
      "execution_count": null,
      "outputs": []
    },
    {
      "cell_type": "markdown",
      "metadata": {
        "id": "UmVLiaQsN_Zp"
      },
      "source": [
        "**Exemplo**: Esquecer o 'dois pontos' `:` no final de estruturas de condição, repetição, etc."
      ]
    },
    {
      "cell_type": "code",
      "metadata": {
        "id": "vE8TMx-sOu2p"
      },
      "source": [
        "for produto in carrinho_compras\n",
        "  ..."
      ],
      "execution_count": null,
      "outputs": []
    },
    {
      "cell_type": "markdown",
      "metadata": {
        "id": "oQp56cFhNcT_"
      },
      "source": [
        "**Exemplo**: Condição lógica no `else` da estrutura de decisão `if-elif-else`."
      ]
    },
    {
      "cell_type": "code",
      "metadata": {
        "id": "SGumoycvN9z-"
      },
      "source": [
        "for produto in carrinho_compras:\n",
        "  if produto['id'] == 3184:\n",
        "    ...\n",
        "  else produto['id'] == 1203:\n",
        "    ..."
      ],
      "execution_count": null,
      "outputs": []
    },
    {
      "cell_type": "markdown",
      "metadata": {
        "id": "5q6xcwOWURrc"
      },
      "source": [
        "### **2.2. Manipulação** "
      ]
    },
    {
      "cell_type": "markdown",
      "metadata": {
        "id": "ELgoMRAAUSjv"
      },
      "source": [
        "## 3\\. Erros em tempo de execução"
      ]
    },
    {
      "cell_type": "markdown",
      "metadata": {
        "id": "CuLkQY76USjw"
      },
      "source": [
        "### **3.1. Motivação** "
      ]
    },
    {
      "cell_type": "markdown",
      "metadata": {
        "id": "uL8oZfAseZ1d"
      },
      "source": [
        "Você trabalha como analista de dados em uma empresa de telecomunicações. Você precisa fazer uma análise para o time de vendas do quanto a empresa vai receber este mês. Diariamente você recebe do time de engenharia os dados."
      ]
    },
    {
      "cell_type": "code",
      "metadata": {
        "id": "RxdmJ-rMeUYe"
      },
      "source": [
        "%%writefile telecom.csv\n",
        "customerID,PaymentMethod,MonthlyCharges,TotalCharges,Churn\n",
        "7010-BRBUU,Credit card (automatic),24.1,1734.65,No\n",
        "9688-YGXVR,Credit card (automatic),88.15,3973.2,No\n",
        "9286-DOJGF,Bank transfer (automatic),74.95,2869.85,Yes\n",
        "6994-KERXL,Electronic check,55.9,238.5,No\n",
        "2181-UAESM,Electronic check,53.45,119.5,No\n",
        "4312-GVYNH,Bank transfer (automatic),49.85,3370.2,No\n",
        "2495-KZNFB,Electronic check,90.65,2989.6,No\n",
        "4367-NHWMM,Mailed check,24.9,24.9,No\n",
        "8898-KASCD,Mailed check,35.55,1309.15,No"
      ],
      "execution_count": null,
      "outputs": []
    },
    {
      "cell_type": "code",
      "metadata": {
        "id": "wqjJOksXfV_Q"
      },
      "source": [
        "from functools import reduce\n",
        "\n",
        "def processar_faturas(nome_arquivo: str):\n",
        "\n",
        "  faturas = []\n",
        "\n",
        "  with open(file=nome_arquivo, mode='r', encoding='utf8') as arquivo:\n",
        "    linha = arquivo.readline()\n",
        "    linha = arquivo.readline()\n",
        "    while linha:\n",
        "      fatura = float(linha.strip().split(sep=',')[-3])\n",
        "      faturas.append(fatura)\n",
        "      linha = arquivo.readline()\n",
        "\n",
        "  total_a_pagar = reduce(lambda x, y: x + y, faturas)\n",
        "  total_a_pagar = round(total_a_pagar, 2)\n",
        "\n",
        "  return total_a_pagar"
      ],
      "execution_count": null,
      "outputs": []
    },
    {
      "cell_type": "code",
      "metadata": {
        "id": "CbUyxRG7gBaY"
      },
      "source": [
        "total_a_pagar = processar_faturas(nome_arquivo='./telecom.csv')\n",
        "print(total_a_pagar)"
      ],
      "execution_count": null,
      "outputs": []
    },
    {
      "cell_type": "markdown",
      "metadata": {
        "id": "wWph8dxKiwdj"
      },
      "source": [
        "Em um certo dia, você recebe uma base de dados com a coluna de faturas trocada pela de meios de pagamento."
      ]
    },
    {
      "cell_type": "code",
      "metadata": {
        "id": "b953SJgdi7b3"
      },
      "source": [
        "%%writefile telecom.csv\n",
        "customerID,MonthlyCharges,PaymentMethod,TotalCharges,Churn\n",
        "7010-BRBUU,24.1,Credit card (automatic),1734.65,No\n",
        "9688-YGXVR,88.15,Credit card (automatic),3973.2,No\n",
        "9286-DOJGF,74.95,Bank transfer (automatic),2869.85,Yes\n",
        "6994-KERXL,55.9,Electronic check,238.5,No\n",
        "2181-UAESM,53.45,Electronic check,119.5,No\n",
        "4312-GVYNH,49.85,Bank transfer (automatic),3370.2,No\n",
        "2495-KZNFB,90.65,Electronic check,2989.6,No\n",
        "4367-NHWMM,24.9,Mailed check,24.9,No\n",
        "8898-KASCD,35.55,Mailed check,1309.15,No"
      ],
      "execution_count": null,
      "outputs": []
    },
    {
      "cell_type": "markdown",
      "metadata": {
        "id": "JENLdmHkUSjx"
      },
      "source": [
        "### **3.2. Definição** "
      ]
    },
    {
      "cell_type": "markdown",
      "metadata": {
        "id": "D-chyvD3Tm7F"
      },
      "source": [
        "São erros que ocorrem durante a execução do código. O trecho do código **é** executado até o erro 'estourar'."
      ]
    },
    {
      "cell_type": "markdown",
      "metadata": {
        "id": "mywVr5t8T60j"
      },
      "source": [
        "Erros por uso incorreto de tipos de dados. 'Estoura' exceção. Podem ser manipulados ou passados para frente (`raise`)."
      ]
    },
    {
      "cell_type": "markdown",
      "metadata": {
        "id": "0je_kLq_myEV"
      },
      "source": [
        " - **Exemplo**: Erro de operações numéricas impossíveis"
      ]
    },
    {
      "cell_type": "code",
      "metadata": {
        "id": "2yXpo2dfmm1T"
      },
      "source": [
        "preco = 132.85\n",
        "pessoas = 0"
      ],
      "execution_count": null,
      "outputs": []
    },
    {
      "cell_type": "code",
      "metadata": {
        "id": "LsrxSe--nI6b"
      },
      "source": [
        "valor_por_pessoa = preco / pessoas"
      ],
      "execution_count": null,
      "outputs": []
    },
    {
      "cell_type": "markdown",
      "metadata": {
        "id": "paZfxkVzm3gW"
      },
      "source": [
        " - **Exemplo**: Erro por combinações de tipos diferentes"
      ]
    },
    {
      "cell_type": "code",
      "metadata": {
        "id": "rrlR9Xv6nErH"
      },
      "source": [
        "nome = 'Andre Perez'\n",
        "idade = True"
      ],
      "execution_count": null,
      "outputs": []
    },
    {
      "cell_type": "code",
      "metadata": {
        "id": "IT3ySwYxnX0j"
      },
      "source": [
        "apresentacao = 'Fala pessoal, meu nome é ' + nome + ' e eu tenho ' + idade + ' anos'"
      ],
      "execution_count": null,
      "outputs": []
    },
    {
      "cell_type": "markdown",
      "metadata": {
        "id": "PdIsskJNnors"
      },
      "source": [
        " - **Exemplo**: Erro de indexação de estrutura de dados"
      ]
    },
    {
      "cell_type": "code",
      "metadata": {
        "id": "AL0YPYtqntUc"
      },
      "source": [
        "anos = [2019, 2020, 2021]"
      ],
      "execution_count": null,
      "outputs": []
    },
    {
      "cell_type": "code",
      "metadata": {
        "id": "1mksjF3inyub"
      },
      "source": [
        "ano_atual = anos[3]\n",
        "print(ano_atual)"
      ],
      "execution_count": null,
      "outputs": []
    },
    {
      "cell_type": "code",
      "metadata": {
        "id": "RhjOE1jCn4ZA"
      },
      "source": [
        "cursos = {\n",
        "    'python': {\n",
        "        'nome': 'Python para Análise de Dados', 'duracao': 2.5\n",
        "    }, \n",
        "    'sql': {\n",
        "        'nome': 'SQL para Análise de Dados', 'duracao': 2\n",
        "    }\n",
        "}"
      ],
      "execution_count": null,
      "outputs": []
    },
    {
      "cell_type": "code",
      "metadata": {
        "id": "hUl1PmAAoSqt"
      },
      "source": [
        "curso_atual = cursos['python']\n",
        "print(curso_atual)"
      ],
      "execution_count": null,
      "outputs": []
    },
    {
      "cell_type": "code",
      "metadata": {
        "id": "z0enseDOV3a0"
      },
      "source": [
        "curso_atual = cursos['sql']\n",
        "print(curso_atual)"
      ],
      "execution_count": null,
      "outputs": []
    },
    {
      "cell_type": "code",
      "metadata": {
        "id": "n1-UUc0DV9BZ"
      },
      "source": [
        "curso_atual = cursos['analista']\n",
        "print(curso_atual)"
      ],
      "execution_count": null,
      "outputs": []
    },
    {
      "cell_type": "markdown",
      "metadata": {
        "id": "-NgAOdWLU3LC"
      },
      "source": [
        "**Erros de lógica**. Não 'estoura' exceção. A melhor forma de analise é usar a função `print` para verificar resultados intermediários."
      ]
    },
    {
      "cell_type": "markdown",
      "metadata": {
        "id": "Gjkc5K0jU6zR"
      },
      "source": [
        "   * **Exemplo**: Loops infinitos.\n"
      ]
    },
    {
      "cell_type": "code",
      "metadata": {
        "id": "XpKYdnYtXr8g"
      },
      "source": [
        "controle = 0\n",
        "while True:\n",
        "  ...\n",
        "  controle += 1\n",
        "  if controle > 10:\n",
        "    break"
      ],
      "execution_count": null,
      "outputs": []
    },
    {
      "cell_type": "code",
      "metadata": {
        "id": "FHQCpKBlUUoX"
      },
      "source": [
        "s = []\n",
        "while True:\n",
        "  s = s + (['CURSO DE PYTHON PARA ANALISE DE DADOS DA EBAC'] * (1000 * 1000 * 1000))"
      ],
      "execution_count": null,
      "outputs": []
    },
    {
      "cell_type": "markdown",
      "metadata": {
        "id": "7YZV1tgvXaTI"
      },
      "source": [
        " - **Exemplo**: Limites de coleções."
      ]
    },
    {
      "cell_type": "code",
      "metadata": {
        "id": "dhaKFGzLWcqy"
      },
      "source": [
        "carrinho_compras = [{'id': 3184, 'preco': 37.65, 'qtd': 10}, {'id': 1203, 'preco': 81.20, 'qtd': 2}, {'id': 8921, 'preco': 15.90, 'qtd': 2}]"
      ],
      "execution_count": null,
      "outputs": []
    },
    {
      "cell_type": "code",
      "metadata": {
        "id": "yLoXZTNlWdJI"
      },
      "source": [
        "valor_total = 0\n",
        "for indice in range(1, len(carrinho_compras)):\n",
        "  valor_total += carrinho_compras[indice]['preco'] * carrinho_compras[indice]['qtd']\n",
        "\n",
        "valor_total = round(valor_total, 2)\n",
        "print(valor_total)"
      ],
      "execution_count": null,
      "outputs": []
    },
    {
      "cell_type": "code",
      "metadata": {
        "id": "PUQAWph4XONE"
      },
      "source": [
        "valor_total = 0\n",
        "for produto in carrinho_compras:\n",
        "  valor_total += produto['preco'] * produto['qtd']\n",
        "\n",
        "valor_total = round(valor_total, 2)\n",
        "print(valor_total)"
      ],
      "execution_count": null,
      "outputs": []
    },
    {
      "cell_type": "code",
      "metadata": {
        "id": "f9N0g63TY8E4"
      },
      "source": [
        "valor_total = 0\n",
        "for indice in range(1, len(carrinho_compras)):\n",
        "  print(carrinho_compras[indice])\n",
        "  valor_total += carrinho_compras[indice]['preco'] * carrinho_compras[indice]['qtd']\n",
        "\n",
        "valor_total = round(valor_total, 2)\n",
        "print(valor_total)"
      ],
      "execution_count": null,
      "outputs": []
    },
    {
      "cell_type": "markdown",
      "metadata": {
        "id": "qcHSzY6kUSjy"
      },
      "source": [
        "### **3.3. Manipulação** "
      ]
    },
    {
      "cell_type": "markdown",
      "metadata": {
        "id": "5BkfnSNoTJEU"
      },
      "source": [
        " - Manipular o erro com a estrutura `try-catch-finally-else`."
      ]
    },
    {
      "cell_type": "code",
      "metadata": {
        "id": "65y8PZIwc0b9"
      },
      "source": [
        "anos = [2019, 2020, 2021]\n",
        "anos = {2019, 2020, 2021}\n",
        "\n",
        "try:\n",
        "  ano_atual = anos[3]\n",
        "  print(ano_atual)\n",
        "except IndexError:\n",
        "  print('Lista de anos é menor que o valor escolhido. Espera-se um valor entre 0 e ' + str(len(anos) - 1))\n",
        "except Exception as exc:\n",
        "  print(exc)"
      ],
      "execution_count": null,
      "outputs": []
    },
    {
      "cell_type": "markdown",
      "metadata": {
        "id": "DfORrkV1TSH2"
      },
      "source": [
        " - Passar o erro para frente com a estrutura `raise`."
      ]
    },
    {
      "cell_type": "code",
      "metadata": {
        "id": "BCEOeOu8dCJ_"
      },
      "source": [
        "anos = [2019, 2020, 2021]\n",
        "# anos = {2019, 2020, 2021}\n",
        "\n",
        "try:\n",
        "  ano_atual = anos[3]\n",
        "  print(ano_atual)\n",
        "except IndexError as exc:\n",
        "  raise Exception('Lista de anos é menor que o valor escolhido. Espera-se um valor entre 0 e ' + str(len(anos) - 1))\n",
        "except Exception as exc:\n",
        "  raise exc"
      ],
      "execution_count": null,
      "outputs": []
    },
    {
      "cell_type": "markdown",
      "metadata": {
        "id": "Nq0WCx8HUSjz"
      },
      "source": [
        "### **3.4. Revisitando a motivação** "
      ]
    },
    {
      "cell_type": "code",
      "metadata": {
        "id": "4HQXoxyVjU2g"
      },
      "source": [
        "faturas = []\n",
        "\n",
        "with open(file='./telecom.csv', mode='r', encoding='utf8') as arquivo:\n",
        "  linha = arquivo.readline()\n",
        "  linha = arquivo.readline()\n",
        "  while linha:\n",
        "    try:\n",
        "      fatura = float(linha.strip().split(sep=',')[-3])\n",
        "    except ValueError:\n",
        "      print('Falha ao processar as faturas! Abortando o processamento.')\n",
        "      break\n",
        "    else:\n",
        "      faturas.append(fatura)\n",
        "    linha = arquivo.readline()\n",
        "\n",
        "print(faturas)"
      ],
      "execution_count": null,
      "outputs": []
    },
    {
      "cell_type": "code",
      "metadata": {
        "id": "jUPom5w9knls"
      },
      "source": [
        "from functools import reduce\n",
        "\n",
        "def processar_faturas(nome_arquivo: str):\n",
        "\n",
        "  faturas = []\n",
        "\n",
        "  with open(file=nome_arquivo, mode='r', encoding='utf8') as arquivo:\n",
        "    linha = arquivo.readline()\n",
        "    linha = arquivo.readline()\n",
        "    while linha:\n",
        "      try:\n",
        "        fatura = float(linha.strip().split(sep=',')[-3])\n",
        "      except ValueError as exc:\n",
        "        raise ValueError(f'Falha ao processar as faturas devido ao seguinte erro: \"{exc}\"')\n",
        "      else:\n",
        "        faturas.append(fatura)\n",
        "      linha = arquivo.readline()\n",
        "\n",
        "  total_a_pagar = reduce(lambda x, y: x + y, faturas)\n",
        "  total_a_pagar = round(total_a_pagar, 2)\n",
        "\n",
        "  return total_a_pagar"
      ],
      "execution_count": null,
      "outputs": []
    },
    {
      "cell_type": "code",
      "metadata": {
        "id": "cpwr6hkZkz7S"
      },
      "source": [
        "try:\n",
        "  total_a_pagar = processar_faturas(nome_arquivo='./telecom.csv')\n",
        "except Exception as exc:\n",
        "  print(exc)\n",
        "else:\n",
        "  print(total_a_pagar)"
      ],
      "execution_count": null,
      "outputs": []
    }
  ]
}