{
  "nbformat": 4,
  "nbformat_minor": 0,
  "metadata": {
    "colab": {
      "provenance": [],
      "collapsed_sections": []
    },
    "kernelspec": {
      "name": "python3",
      "display_name": "Python 3"
    }
  },
  "cells": [
    {
      "cell_type": "markdown",
      "metadata": {
        "id": "KJqp9AANOCtf"
      },
      "source": [
        "<img src=\"https://raw.githubusercontent.com/andre-marcos-perez/ebac-course-utils/main/media/logo/newebac_logo_black_half.png\" alt=\"ebac-logo\">\n",
        "\n",
        "---\n",
        "\n",
        "# **Módulo** | Computação em Nuvem II\n",
        "Caderno de **Exercícios**<br> \n",
        "Professor [André Perez](https://www.linkedin.com/in/andremarcosperez/)\n",
        "\n",
        "---"
      ]
    },
    {
      "cell_type": "markdown",
      "metadata": {
        "id": "d9jDtUbDOE1-"
      },
      "source": [
        "# **Tópicos**\n",
        "\n",
        "<ol type=\"1\">\n",
        "  <li>AWS Lambda;</li>\n",
        "  <li>AWS Step Functions;</li>\n",
        "  <li>AWS EventBridge.</li>\n",
        "</ol>"
      ]
    },
    {
      "cell_type": "markdown",
      "metadata": {
        "id": "SmoHgt-lwkpD"
      },
      "source": [
        "---"
      ]
    },
    {
      "cell_type": "markdown",
      "metadata": {
        "id": "GABI6OW8OfQ2"
      },
      "source": [
        "# **Exercícios**"
      ]
    },
    {
      "cell_type": "markdown",
      "metadata": {
        "id": "ne7Ay0HKaGSv"
      },
      "source": [
        "## 1\\. AWS Lambda"
      ]
    },
    {
      "cell_type": "markdown",
      "metadata": {
        "id": "OQxOVktrzG9I"
      },
      "source": [
        "Replique as atividades do item 1.3 em sua conta."
      ]
    },
    {
      "cell_type": "markdown",
      "source": [
        "> **Extração dos dados da B3 (API)**"
      ],
      "metadata": {
        "id": "6-O-OYQlgFSp"
      }
    },
    {
      "cell_type": "code",
      "source": [
        "# -- Imports:\n",
        "import json\n",
        "import requests\n",
        "from datetime import datetime\n",
        "\n",
        "# -- API URL:\n",
        "URL = 'https://www2.cetip.com.br/ConsultarTaxaDi/ConsultarTaxaDICetip.aspx'\n",
        "\n",
        "# -- Consumindo os dados da API:\n",
        "try:\n",
        "  resposta = requests.get(URL)\n",
        "  resposta.raise_for_status()\n",
        "except Exception as exc:\n",
        "  raise(exc)\n",
        "else:\n",
        "    dados_b3_raw = json.loads(resposta.text)\n",
        "\n",
        "print(dados_b3_raw)"
      ],
      "metadata": {
        "colab": {
          "base_uri": "https://localhost:8080/"
        },
        "id": "JyK9QUK3fyaK",
        "outputId": "8099c2ff-e853-4f8d-ed69-8afe2f416aec"
      },
      "execution_count": null,
      "outputs": [
        {
          "output_type": "stream",
          "name": "stdout",
          "text": [
            "{'taxa': '13,65', 'dataTaxa': '01/09/2022', 'indice': '36.339,24', 'dataIndice': '02/09/2022'}\n"
          ]
        }
      ]
    },
    {
      "cell_type": "markdown",
      "source": [
        "> **Transformação**"
      ],
      "metadata": {
        "id": "YzbdZIZKg-Pb"
      }
    },
    {
      "cell_type": "code",
      "source": [
        "dados_b3 = dados_b3_raw.copy()\n",
        "\n",
        "# -- Substituindo pontos e víruglas:\n",
        "dados_b3['taxa'] = dados_b3['taxa'].replace(',','.')\n",
        "dados_b3['indice'] = dados_b3['indice'].replace('.','').replace(',','.')\n",
        "\n",
        "# Convertendo as os \"valores\" das \"keys\" 'dataTaxa' e 'dataIndice' para datetime:\n",
        "dados_b3['dataTaxa'] = datetime.strptime(dados_b3['dataTaxa'], '%d/%m/%Y').strftime('%Y-%m-%d')\n",
        "dados_b3['dataIndice'] = datetime.strptime(dados_b3['dataIndice'], '%d/%m/%Y').strftime('%Y-%m-%d')\n",
        "dados_b3"
      ],
      "metadata": {
        "colab": {
          "base_uri": "https://localhost:8080/"
        },
        "id": "ffD5-9xzhBfy",
        "outputId": "ac49041a-340f-4974-c608-835f2e9b2c54"
      },
      "execution_count": null,
      "outputs": [
        {
          "output_type": "execute_result",
          "data": {
            "text/plain": [
              "{'taxa': '13.65',\n",
              " 'dataTaxa': '2022-09-01',\n",
              " 'indice': '36339.24',\n",
              " 'dataIndice': '2022-09-02'}"
            ]
          },
          "metadata": {},
          "execution_count": 68
        }
      ]
    },
    {
      "cell_type": "markdown",
      "source": [
        "> **Criando uma data de refêrencia e um arquivo csv**"
      ],
      "metadata": {
        "id": "AVWmmjzEkYEE"
      }
    },
    {
      "cell_type": "code",
      "source": [
        "# --  Data de referências (hoje: data de criação do notebook):\n",
        "dados_b3['dataRef'] = datetime.now().strftime('%Y-%m-%d')\n",
        "\n",
        "# -- Arquivo csv para os dados transformados:\n",
        "dados_b3_csv = ','.join([valor for valor in dados_b3.values()])"
      ],
      "metadata": {
        "id": "Tx_hQ13ikdMR"
      },
      "execution_count": null,
      "outputs": []
    },
    {
      "cell_type": "markdown",
      "source": [
        "> **Printando dados consumidos, dados com `dataRef` e o csv**"
      ],
      "metadata": {
        "id": "m9lX0wj0lP8v"
      }
    },
    {
      "cell_type": "markdown",
      "source": [],
      "metadata": {
        "id": "qZElh820lLzy"
      }
    },
    {
      "cell_type": "code",
      "source": [
        "print(f'Dados consumidos da API da B3:\\n {dados_b3_raw} \\n')\n",
        "print(f'Dados transformados:\\n {dados_b3} \\n')\n",
        "print(f'Dados no formato csv:\\n {dados_b3_csv}')"
      ],
      "metadata": {
        "colab": {
          "base_uri": "https://localhost:8080/"
        },
        "id": "gTHee1-NlHm7",
        "outputId": "56999b5f-71f3-42ee-c505-bca587e2a5ac"
      },
      "execution_count": null,
      "outputs": [
        {
          "output_type": "stream",
          "name": "stdout",
          "text": [
            "Dados consumidos da API da B3:\n",
            " {'taxa': '13,65', 'dataTaxa': '01/09/2022', 'indice': '36.339,24', 'dataIndice': '02/09/2022'} \n",
            "\n",
            "Dados transformados:\n",
            " {'taxa': '13.65', 'dataTaxa': '2022-09-01', 'indice': '36339.24', 'dataIndice': '2022-09-02', 'dataRef': '2022-09-02'} \n",
            "\n",
            "Dados no formato csv:\n",
            " 13.65,2022-09-01,36339.24,2022-09-02,2022-09-02\n"
          ]
        }
      ]
    },
    {
      "cell_type": "markdown",
      "source": [
        "**AWS Lambda para o Bucket Bronze**"
      ],
      "metadata": {
        "id": "xdstkY0vnHOE"
      }
    },
    {
      "cell_type": "code",
      "source": [
        "import json\n",
        "import logging\n",
        "from datetime import datetime\n",
        "\n",
        "import boto3\n",
        "import urllib3\n",
        "from botocore.exceptions import ClientError\n",
        "\n",
        "\n",
        "def lambda_handler(event, context) -> bool:\n",
        "\n",
        "  # -- Setup:\n",
        "  URL = 'https://www2.cetip.com.br/ConsultarTaxaDi/ConsultarTaxaDICetip.aspx'\n",
        "  BUCKET_BRONZE = 'vinicius-dados-b3-bronze'\n",
        "\n",
        "  cliente = boto3.client('s3')\n",
        "\n",
        "  data = datetime.now().strftime('%Y-%m-%d')\n",
        "  nome_arquivo_json = f'dados-b3-{data}.json'\n",
        "\n",
        "  # -- Extract:\n",
        "  try:\n",
        "    http = urllib3.PoolManager()\n",
        "    response = http.request(url=URL, method='get')\n",
        "  except Exception as exc:\n",
        "    raise exc\n",
        "  else:\n",
        "    dados_b3 = json.loads(response.data.decode())\n",
        "    logging.info(msg=dados_b3)\n",
        "\n",
        "  # -- Load:\n",
        "  try:\n",
        "      with open(f'/tmp/{nome_arquivo_json}', mode='w', encoding='utf8') as fp:\n",
        "          json.dump(dados_b3, fp)\n",
        "      cliente.upload_file(Filename = f'/tmp/{nome_arquivo_json}', \n",
        "                          Bucket = BUCKET_BRONZE, \n",
        "                          Key = nome_arquivo_json)\n",
        "  except ClientError as exc:\n",
        "      raise exc\n",
        "\n",
        "  return json.dumps(dict(status=True))"
      ],
      "metadata": {
        "id": "__u1CfF8nNEQ"
      },
      "execution_count": null,
      "outputs": []
    },
    {
      "cell_type": "markdown",
      "source": [
        "**Print relacionado:** `Teste-lambda-bronze.png`"
      ],
      "metadata": {
        "id": "MC5_R2e7nL76"
      }
    },
    {
      "cell_type": "markdown",
      "source": [
        "**AWS Lambda para o Bucket Silver**"
      ],
      "metadata": {
        "id": "ED3Oyx-znTtR"
      }
    },
    {
      "cell_type": "code",
      "source": [
        "import json\n",
        "from datetime import datetime\n",
        "\n",
        "import boto3\n",
        "from botocore.exceptions import ClientError\n",
        "\n",
        "\n",
        "def lambda_handler(event, context) -> bool:\n",
        "\n",
        "  # -- Setup:\n",
        "  BUCKET_BRONZE = 'vinicius-dados-b3-bronze'\n",
        "  BUCKET_SILVER = 'vinicius-dados-b3-silver'\n",
        "\n",
        "  cliente = boto3.client('s3')\n",
        "\n",
        "  data = datetime.now().strftime('%Y-%m-%d')\n",
        "  nome_arquivo_csv = f'dados-b3-{data}.csv'\n",
        "  nome_arquivo_json = f'dados-b3-{data}.json'\n",
        "\n",
        "  # -- Extract:\n",
        "  cliente.download_file(BUCKET_BRONZE, nome_arquivo_json, f'/tmp/{nome_arquivo_json}')\n",
        "\n",
        "  with open(f\"/tmp/{nome_arquivo_json}\", mode='r', encoding='utf8') as fp:\n",
        "      dados_b3 = json.load(fp)\n",
        "\n",
        "  # -- Transform:\n",
        "  dados_b3['taxa'] = dados_b3['taxa'].replace(',', '.')\n",
        "  dados_b3['indice'] = dados_b3['indice'].replace('.', '').replace(',', '.')\n",
        "\n",
        "  dados_b3['dataTaxa'] = datetime.strptime(dados_b3['dataTaxa'], '%d/%m/%Y').strftime('%Y-%m-%d')\n",
        "  dados_b3['dataIndice'] = datetime.strptime(dados_b3['dataIndice'], '%d/%m/%Y').strftime('%Y-%m-%d')\n",
        "\n",
        "  # -- Load:\n",
        "  try:\n",
        "      with open(f'/tmp/{nome_arquivo_csv}', mode='w', encoding='utf8') as fp:\n",
        "          fp.write(','.join([v for v in dados_b3.values()]))\n",
        "      cliente.upload_file(Filename=f'/tmp/{nome_arquivo_csv}', \n",
        "                          Bucket=BUCKET_SILVER, \n",
        "                          Key=f'data_referencia={data}/{nome_arquivo_csv}')\n",
        "  except ClientError as exc:\n",
        "      raise exc\n",
        "\n",
        "  return json.dumps(dict(status=True))"
      ],
      "metadata": {
        "id": "RWrDYoTvnVyp"
      },
      "execution_count": null,
      "outputs": []
    },
    {
      "cell_type": "markdown",
      "source": [
        "**Print relacionado:** `Teste-lambda-silver.png`"
      ],
      "metadata": {
        "id": "-4toFAE7nW-p"
      }
    },
    {
      "cell_type": "markdown",
      "source": [
        "**AWS Lambda para o criar a tabela no AWS Athena**"
      ],
      "metadata": {
        "id": "k3sCUiMlnZfZ"
      }
    },
    {
      "cell_type": "code",
      "source": [
        "import json\n",
        "from datetime import datetime\n",
        "\n",
        "import boto3\n",
        "from botocore.exceptions import ClientError\n",
        "\n",
        "def lambda_handler(event, context) -> bool:\n",
        "\n",
        "  # -- Setup:\n",
        "  BUCKET_SILVER = 'vinicius-dados-b3-silver'\n",
        "\n",
        "  query = f\"\"\"\n",
        "  CREATE EXTERNAL TABLE IF NOT EXISTS dados_b3 (\n",
        "    taxa double, \n",
        "    data_taxa string, \n",
        "    indice double, \n",
        "    data_indice string\n",
        "  )\n",
        "  PARTITIONED BY (\n",
        "    data_referencia string\n",
        "  )\n",
        "  ROW FORMAT SERDE 'org.apache.hadoop.hive.serde2.OpenCSVSerde' \n",
        "  WITH SERDEPROPERTIES ('separatorChar'=',') \n",
        "  LOCATION 's3://{BUCKET_SILVER}/'\n",
        "  \"\"\"\n",
        "\n",
        "  cliente = boto3.client('athena')\n",
        "\n",
        "  # -- Create (SQL table):\n",
        "  try:\n",
        "    cliente.start_query_execution(\n",
        "      QueryString=query, \n",
        "      ResultConfiguration={'OutputLocation': 's3://vinicius-query-results/'}\n",
        "    )\n",
        "  except ClientError as exc:\n",
        "    raise exc\n",
        "\n",
        "  # -- Loading the partition:\n",
        "  try:\n",
        "    cliente.start_query_execution(\n",
        "      QueryString='MSCK REPAIR TABLE dados_b3', \n",
        "      ResultConfiguration={'OutputLocation': 's3://vinicius-query-results/'}\n",
        "    )\n",
        "  except ClientError as exc:\n",
        "    raise exc\n",
        "\n",
        "  return json.dumps(dict(status=True))"
      ],
      "metadata": {
        "id": "rlvVtQgZnhg6"
      },
      "execution_count": null,
      "outputs": []
    },
    {
      "cell_type": "markdown",
      "source": [
        "**Print relacionados:** `Buckets-S3.png` e `AWS-Athena.png`."
      ],
      "metadata": {
        "id": "Jm5T06lFniOi"
      }
    },
    {
      "cell_type": "markdown",
      "metadata": {
        "id": "EvJTE2FpaGeU"
      },
      "source": [
        "## 2\\. AWS Step Functions"
      ]
    },
    {
      "cell_type": "markdown",
      "source": [
        "Replique as atividades do item 2.3 em sua conta."
      ],
      "metadata": {
        "id": "uCpKzrB6njz5"
      }
    },
    {
      "cell_type": "markdown",
      "source": [
        "**Print relacionado**: `StepFunctions.png`."
      ],
      "metadata": {
        "id": "0NKdunWmpEtu"
      }
    },
    {
      "cell_type": "markdown",
      "metadata": {
        "id": "oVejInuPakz5"
      },
      "source": [
        "## 3\\. AWS EventBridge"
      ]
    },
    {
      "cell_type": "markdown",
      "metadata": {
        "id": "CZbuPphXakz7"
      },
      "source": [
        "Replique as atividades do item 3.3 em sua conta."
      ]
    },
    {
      "cell_type": "markdown",
      "source": [
        "**Print relacionado:** `EventBridge.png`."
      ],
      "metadata": {
        "id": "zuPOEqOHpy_Q"
      }
    }
  ]
}