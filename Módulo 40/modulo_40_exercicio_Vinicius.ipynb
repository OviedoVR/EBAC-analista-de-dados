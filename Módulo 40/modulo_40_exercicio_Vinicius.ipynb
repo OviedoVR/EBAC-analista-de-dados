{
  "nbformat": 4,
  "nbformat_minor": 0,
  "metadata": {
    "colab": {
      "provenance": [],
      "collapsed_sections": []
    },
    "kernelspec": {
      "name": "python3",
      "display_name": "Python 3"
    }
  },
  "cells": [
    {
      "cell_type": "markdown",
      "metadata": {
        "id": "KJqp9AANOCtf"
      },
      "source": [
        "<img src=\"https://raw.githubusercontent.com/andre-marcos-perez/ebac-course-utils/main/media/logo/newebac_logo_black_half.png\" alt=\"ebac-logo\">\n",
        "\n",
        "---\n",
        "\n",
        "# **Módulo** | Computação em Nuvem III\n",
        "Caderno de **Exercícios**<br> \n",
        "Professor [André Perez](https://www.linkedin.com/in/andremarcosperez/)\n",
        "\n",
        "---"
      ]
    },
    {
      "cell_type": "markdown",
      "metadata": {
        "id": "d9jDtUbDOE1-"
      },
      "source": [
        "# **Tópicos**\n",
        "\n",
        "<ol type=\"1\">\n",
        "  <li>AWS EC2;</li>\n",
        "  <li>AWS SageMaker;</li>\n",
        "  <li>AWS Acesso Externo.</li>\n",
        "</ol>"
      ]
    },
    {
      "cell_type": "markdown",
      "metadata": {
        "id": "SmoHgt-lwkpD"
      },
      "source": [
        "---"
      ]
    },
    {
      "cell_type": "markdown",
      "metadata": {
        "id": "GABI6OW8OfQ2"
      },
      "source": [
        "# **Exercícios**"
      ]
    },
    {
      "cell_type": "markdown",
      "metadata": {
        "id": "ne7Ay0HKaGSv"
      },
      "source": [
        "## 1\\. AWS SageMaker"
      ]
    },
    {
      "cell_type": "markdown",
      "metadata": {
        "id": "OQxOVktrzG9I"
      },
      "source": [
        "Replique as atividades do item 2.3 em sua conta."
      ]
    },
    {
      "cell_type": "markdown",
      "source": [
        "> **Objeto para o bucket do AWS S3**"
      ],
      "metadata": {
        "id": "5C9KSWymd8Em"
      }
    },
    {
      "cell_type": "code",
      "source": [
        "%%writefile cotacao.csv\n",
        "date,usd,eur,gbp\n",
        "2021-01-21,5.4582,6.1896,7.3980\n",
        "2021-01-20,5.4191,6.1290,7.3673\n",
        "2021-01-19,5.4383,6.1676,7.3994\n",
        "2021-01-18,5.5666,6.3042,7.5672"
      ],
      "metadata": {
        "colab": {
          "base_uri": "https://localhost:8080/"
        },
        "id": "wBWbiJOHd50R",
        "outputId": "dfb6015b-6eb6-4b52-96d9-b7198d7677c6"
      },
      "execution_count": 1,
      "outputs": [
        {
          "output_type": "stream",
          "name": "stdout",
          "text": [
            "Writing cotacao.csv\n"
          ]
        }
      ]
    },
    {
      "cell_type": "markdown",
      "source": [
        "```python\n",
        "Caminho bucket: 's3://ebac-m40-vinicius/'\n",
        "```\n",
        "**Print relacionado:** `Bucket.png`.\n"
      ],
      "metadata": {
        "id": "BCFuNAipeYzp"
      }
    },
    {
      "cell_type": "code",
      "source": [
        "# -- Código de leitura:\n",
        "import boto3\n",
        "import pandas as pd\n",
        "\n",
        "BUCKET = 'ebac-m40-vinicius'\n",
        "\n",
        "df = pd.read_csv(f's3://{BUCKET}/cotacao.csv')\n",
        "df.head()"
      ],
      "metadata": {
        "id": "5dCiI4KMfrLr"
      },
      "execution_count": null,
      "outputs": []
    },
    {
      "cell_type": "markdown",
      "source": [
        "**Prints relacionados:** `Bucket.png`, `Instancia-SageMaker.png` e `Notebook-SageMaker.png`.\n",
        "\n",
        "---\n",
        "\n",
        "Após a execução foi realizado o *Shut Down* do notebook e a máquina virtual foi **desligada**."
      ],
      "metadata": {
        "id": "Rzbb6T9ciblC"
      }
    },
    {
      "cell_type": "markdown",
      "metadata": {
        "id": "EvJTE2FpaGeU"
      },
      "source": [
        "## 2\\. AWS Acesso Externo"
      ]
    },
    {
      "cell_type": "markdown",
      "metadata": {
        "id": "ISYXZbomlb1x"
      },
      "source": [
        "Replique as atividades do item 3.1 em sua conta.\n"
      ]
    },
    {
      "cell_type": "code",
      "source": [
        "!pip install boto3"
      ],
      "metadata": {
        "id": "6GVj1DIujDj_"
      },
      "execution_count": null,
      "outputs": []
    },
    {
      "cell_type": "markdown",
      "source": [
        "> **Configuração das credenciais**"
      ],
      "metadata": {
        "id": "itOzYCf9jH7K"
      }
    },
    {
      "cell_type": "code",
      "source": [
        "# -- Chave de acesso (ID):\n",
        "from getpass import getpass\n",
        "aws_access_key_id = getpass()"
      ],
      "metadata": {
        "colab": {
          "base_uri": "https://localhost:8080/"
        },
        "id": "hjEQTlTwjNq-",
        "outputId": "2e785df6-891f-4154-8fcb-cfacdb8667a7"
      },
      "execution_count": 3,
      "outputs": [
        {
          "name": "stdout",
          "output_type": "stream",
          "text": [
            "··········\n"
          ]
        }
      ]
    },
    {
      "cell_type": "code",
      "source": [
        "# -- Chave de acesso (Chave Secreta):\n",
        "from getpass import getpass\n",
        "aws_secret_access_key = getpass()"
      ],
      "metadata": {
        "colab": {
          "base_uri": "https://localhost:8080/"
        },
        "id": "il7reh8Tjqx7",
        "outputId": "d6e56282-fe0a-4265-f602-8f55c0d14527"
      },
      "execution_count": 4,
      "outputs": [
        {
          "name": "stdout",
          "output_type": "stream",
          "text": [
            "··········\n"
          ]
        }
      ]
    },
    {
      "cell_type": "markdown",
      "source": [
        "**Print relacioando:** `Role-IAM.png`."
      ],
      "metadata": {
        "id": "grVxWlCClN8v"
      }
    },
    {
      "cell_type": "markdown",
      "source": [
        "> **Conectando e interagindo com o bucket do S3**"
      ],
      "metadata": {
        "id": "1JaUDyztj0oN"
      }
    },
    {
      "cell_type": "code",
      "source": [
        "import boto3\n",
        "import pandas as pd\n",
        "\n",
        "client = boto3.client(\n",
        "    's3',\n",
        "    aws_access_key_id = aws_access_key_id,\n",
        "    aws_secret_access_key = aws_secret_access_key\n",
        ")\n",
        "\n",
        "BUCKET = 'ebac-m40-vinicius'\n",
        "\n",
        "client.download_file(BUCKET, 'cotacao.csv', 'cotacao_aws.csv')"
      ],
      "metadata": {
        "id": "hHwsnhGckA3m"
      },
      "execution_count": 6,
      "outputs": []
    },
    {
      "cell_type": "code",
      "source": [
        "# -- Lendo com o pandas:\n",
        "dados_cotacoes = pd.read_csv('cotacao_aws.csv')\n",
        "dados_cotacoes.head()"
      ],
      "metadata": {
        "colab": {
          "base_uri": "https://localhost:8080/",
          "height": 175
        },
        "id": "E55zBKjZkm04",
        "outputId": "0d8395cf-9832-4505-a024-e90ef4d63683"
      },
      "execution_count": 7,
      "outputs": [
        {
          "output_type": "execute_result",
          "data": {
            "text/plain": [
              "         date     usd     eur     gbp\n",
              "0  2021-01-21  5.4582  6.1896  7.3980\n",
              "1  2021-01-20  5.4191  6.1290  7.3673\n",
              "2  2021-01-19  5.4383  6.1676  7.3994\n",
              "3  2021-01-18  5.5666  6.3042  7.5672"
            ],
            "text/html": [
              "\n",
              "  <div id=\"df-c453e8d3-1ab1-4d63-968c-9e275a9ea987\">\n",
              "    <div class=\"colab-df-container\">\n",
              "      <div>\n",
              "<style scoped>\n",
              "    .dataframe tbody tr th:only-of-type {\n",
              "        vertical-align: middle;\n",
              "    }\n",
              "\n",
              "    .dataframe tbody tr th {\n",
              "        vertical-align: top;\n",
              "    }\n",
              "\n",
              "    .dataframe thead th {\n",
              "        text-align: right;\n",
              "    }\n",
              "</style>\n",
              "<table border=\"1\" class=\"dataframe\">\n",
              "  <thead>\n",
              "    <tr style=\"text-align: right;\">\n",
              "      <th></th>\n",
              "      <th>date</th>\n",
              "      <th>usd</th>\n",
              "      <th>eur</th>\n",
              "      <th>gbp</th>\n",
              "    </tr>\n",
              "  </thead>\n",
              "  <tbody>\n",
              "    <tr>\n",
              "      <th>0</th>\n",
              "      <td>2021-01-21</td>\n",
              "      <td>5.4582</td>\n",
              "      <td>6.1896</td>\n",
              "      <td>7.3980</td>\n",
              "    </tr>\n",
              "    <tr>\n",
              "      <th>1</th>\n",
              "      <td>2021-01-20</td>\n",
              "      <td>5.4191</td>\n",
              "      <td>6.1290</td>\n",
              "      <td>7.3673</td>\n",
              "    </tr>\n",
              "    <tr>\n",
              "      <th>2</th>\n",
              "      <td>2021-01-19</td>\n",
              "      <td>5.4383</td>\n",
              "      <td>6.1676</td>\n",
              "      <td>7.3994</td>\n",
              "    </tr>\n",
              "    <tr>\n",
              "      <th>3</th>\n",
              "      <td>2021-01-18</td>\n",
              "      <td>5.5666</td>\n",
              "      <td>6.3042</td>\n",
              "      <td>7.5672</td>\n",
              "    </tr>\n",
              "  </tbody>\n",
              "</table>\n",
              "</div>\n",
              "      <button class=\"colab-df-convert\" onclick=\"convertToInteractive('df-c453e8d3-1ab1-4d63-968c-9e275a9ea987')\"\n",
              "              title=\"Convert this dataframe to an interactive table.\"\n",
              "              style=\"display:none;\">\n",
              "        \n",
              "  <svg xmlns=\"http://www.w3.org/2000/svg\" height=\"24px\"viewBox=\"0 0 24 24\"\n",
              "       width=\"24px\">\n",
              "    <path d=\"M0 0h24v24H0V0z\" fill=\"none\"/>\n",
              "    <path d=\"M18.56 5.44l.94 2.06.94-2.06 2.06-.94-2.06-.94-.94-2.06-.94 2.06-2.06.94zm-11 1L8.5 8.5l.94-2.06 2.06-.94-2.06-.94L8.5 2.5l-.94 2.06-2.06.94zm10 10l.94 2.06.94-2.06 2.06-.94-2.06-.94-.94-2.06-.94 2.06-2.06.94z\"/><path d=\"M17.41 7.96l-1.37-1.37c-.4-.4-.92-.59-1.43-.59-.52 0-1.04.2-1.43.59L10.3 9.45l-7.72 7.72c-.78.78-.78 2.05 0 2.83L4 21.41c.39.39.9.59 1.41.59.51 0 1.02-.2 1.41-.59l7.78-7.78 2.81-2.81c.8-.78.8-2.07 0-2.86zM5.41 20L4 18.59l7.72-7.72 1.47 1.35L5.41 20z\"/>\n",
              "  </svg>\n",
              "      </button>\n",
              "      \n",
              "  <style>\n",
              "    .colab-df-container {\n",
              "      display:flex;\n",
              "      flex-wrap:wrap;\n",
              "      gap: 12px;\n",
              "    }\n",
              "\n",
              "    .colab-df-convert {\n",
              "      background-color: #E8F0FE;\n",
              "      border: none;\n",
              "      border-radius: 50%;\n",
              "      cursor: pointer;\n",
              "      display: none;\n",
              "      fill: #1967D2;\n",
              "      height: 32px;\n",
              "      padding: 0 0 0 0;\n",
              "      width: 32px;\n",
              "    }\n",
              "\n",
              "    .colab-df-convert:hover {\n",
              "      background-color: #E2EBFA;\n",
              "      box-shadow: 0px 1px 2px rgba(60, 64, 67, 0.3), 0px 1px 3px 1px rgba(60, 64, 67, 0.15);\n",
              "      fill: #174EA6;\n",
              "    }\n",
              "\n",
              "    [theme=dark] .colab-df-convert {\n",
              "      background-color: #3B4455;\n",
              "      fill: #D2E3FC;\n",
              "    }\n",
              "\n",
              "    [theme=dark] .colab-df-convert:hover {\n",
              "      background-color: #434B5C;\n",
              "      box-shadow: 0px 1px 3px 1px rgba(0, 0, 0, 0.15);\n",
              "      filter: drop-shadow(0px 1px 2px rgba(0, 0, 0, 0.3));\n",
              "      fill: #FFFFFF;\n",
              "    }\n",
              "  </style>\n",
              "\n",
              "      <script>\n",
              "        const buttonEl =\n",
              "          document.querySelector('#df-c453e8d3-1ab1-4d63-968c-9e275a9ea987 button.colab-df-convert');\n",
              "        buttonEl.style.display =\n",
              "          google.colab.kernel.accessAllowed ? 'block' : 'none';\n",
              "\n",
              "        async function convertToInteractive(key) {\n",
              "          const element = document.querySelector('#df-c453e8d3-1ab1-4d63-968c-9e275a9ea987');\n",
              "          const dataTable =\n",
              "            await google.colab.kernel.invokeFunction('convertToInteractive',\n",
              "                                                     [key], {});\n",
              "          if (!dataTable) return;\n",
              "\n",
              "          const docLinkHtml = 'Like what you see? Visit the ' +\n",
              "            '<a target=\"_blank\" href=https://colab.research.google.com/notebooks/data_table.ipynb>data table notebook</a>'\n",
              "            + ' to learn more about interactive tables.';\n",
              "          element.innerHTML = '';\n",
              "          dataTable['output_type'] = 'display_data';\n",
              "          await google.colab.output.renderOutput(dataTable, element);\n",
              "          const docLink = document.createElement('div');\n",
              "          docLink.innerHTML = docLinkHtml;\n",
              "          element.appendChild(docLink);\n",
              "        }\n",
              "      </script>\n",
              "    </div>\n",
              "  </div>\n",
              "  "
            ]
          },
          "metadata": {},
          "execution_count": 7
        }
      ]
    }
  ]
}