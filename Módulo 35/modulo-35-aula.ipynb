{
  "nbformat": 4,
  "nbformat_minor": 0,
  "metadata": {
    "colab": {
      "name": "SQL-modulo_8_aula.ipynb",
      "provenance": [],
      "collapsed_sections": [],
      "toc_visible": true
    },
    "kernelspec": {
      "name": "python3",
      "display_name": "Python 3"
    }
  },
  "cells": [
    {
      "cell_type": "markdown",
      "metadata": {
        "id": "KJqp9AANOCtf"
      },
      "source": [
        "<img src=\"https://raw.githubusercontent.com/andre-marcos-perez/ebac-course-utils/main/media/logo/newebac_logo_black_half.png\" alt=\"ebac-logo\">\n",
        "\n",
        "---\n",
        "\n",
        "# **Módulo** | SQL: Projeto Final\n",
        "Caderno de **Aula**<br> \n",
        "Professor [Mariane Neiva](www.linkedin.com/in/mariane-neiva)\n",
        "\n",
        "---"
      ]
    },
    {
      "cell_type": "markdown",
      "metadata": {
        "id": "d9jDtUbDOE1-"
      },
      "source": [
        "# **Tópicos**\n",
        "\n",
        "<ol type=\"1\">\n",
        "  <li>Introdução aos Kaggle;</li>\n",
        "  <li>Exploração de dados e análise de dados (EDA)</li>\n",
        "  <li>Storytelling</li>\n",
        "</ol>"
      ]
    },
    {
      "cell_type": "markdown",
      "metadata": {
        "id": "SmoHgt-lwkpD"
      },
      "source": [
        "---"
      ]
    },
    {
      "cell_type": "markdown",
      "metadata": {
        "id": "eqtRcYZgF94g"
      },
      "source": [
        "# **1. Plataforma Kaggle**\n",
        "\n",
        "> **História**\n",
        "\n",
        "O [Kaggle](https://en.wikipedia.org/wiki/Kaggle) foi fundada em 2010 por [Anthony Goldbloom](https://en.wikipedia.org/wiki/Anthony_Goldbloom) e adquirida em 2017 pelo Google. \n",
        "\n",
        "> **O que é?**\n",
        "\n",
        "É  uma comunidade de programadores (principalmente voltada pra Data Science) que possui diversas bases de dados, competições, códigos e troca de informações entre desenvolvedores. Existem inclusive competições com prêmios e patrocinadas por grandes empresas.\n",
        "\n",
        "> **Por que utilizar?**\n",
        "\n",
        "Plataforma mundialmente conhecida, você pode construir seu portfólio por meio de notebooks e descobrir novos datasets. Você também pode utilizar o Kaggle para obter inspirações e ver como outros cientistas de dados/analistas desenvolver suas análises e insights\n",
        "\n",
        "> **Prática:**\n",
        "\n",
        "Vamos explorar o Kaggle? Faça sua conta [aqui!](https://www.kaggle.com/)\n",
        "\n",
        "\n",
        "\n"
      ]
    },
    {
      "cell_type": "markdown",
      "metadata": {
        "id": "mkUQit9oOhmh"
      },
      "source": [
        "# **2. Exploração e análise de dados**\n",
        "\n",
        "> **Por quê?**\n",
        "\n",
        "* Para entender o que temos na mão, precisamos explorar os dados. \n",
        "* Para ter insights sobre os dados, precisamos analisá-los. \n",
        "\n",
        "Muitas vezes, é a partir da analise explortatória inicial que conseguimos desenvolver as perguntas de negócio, o ponto chave para a análise de dados! \n",
        "\n",
        "> **O que é?**\n",
        "\n",
        "A exploração de dados é uma investigação das principais características dos dados. Nessa fase, você pode entender:\n",
        "* variáveis individuais \n",
        "* relação entre varíaveis\n",
        "* quais variáveis são mais importantes \n",
        "* quais variáveis tem valores nulos\n",
        "* como minimizar possíveis erros\n",
        "* busca de outliers\n",
        "\n",
        "Na análise de dados, fazemos as perguntas aos dados e utilizamos ferramentas de matemática/estatística para responde-las.  Você pode utilizar funções como:\n",
        "* análise de distribuição dos dados\n",
        "* valor médio/desvio\n",
        "* padrões (análise preditiva)\n",
        "* maiores/menos vendas dado categorias/condições\n",
        "\n",
        "\n",
        "> **Pontos chaves para não esquecer**\n",
        "\n",
        "* Você pode utilizar o Kaggle para ter ideias de como fazer a EDA e a análise de dados \n",
        "* *Garbage in, garbage out* -   \n",
        "* Sempre que puder, visualize graficamente os dados (Você pode utilizar uma linguagem de programação ou o CSV com  o retorno do SELECT no EXCEL) \n",
        "* Não há necessidade de usar todos os dados que você tem! Explore as informações, separe as perguntas e use as colunas certas\n",
        "* As vezes é preciso coletar mais dados. \n",
        "* 80% exploração, limpeza e tratamento, 20% análise \n",
        "\n",
        "* Não deixe de documentar tudo (falaremos na próxima aula)\n",
        "\n",
        "> **Prática:** vamos para nosso projeto de EDA + Análise?\n",
        "\n"
      ]
    },
    {
      "cell_type": "markdown",
      "metadata": {
        "id": "VGsbySyaXu1R"
      },
      "source": [
        "# **3. Storytelling**\n",
        "\n",
        "Não basta apenas codificar, é importante entender, documentar e contar os resultados. \n",
        "\n",
        "O processo de comunicação dos resultados é chamada de **storytelling**. \n",
        "\n",
        "Mas não é apenas falar os comandos, é sobre **contar uma história**.\n",
        "\n",
        "É como se você tivesse contando uma história para uma criança mesmo: como problemas, emoção, com descobertas e a mágica no final. [A jornada do herói!](https://pt.wikipedia.org/wiki/Monomito)\n",
        "\n",
        "Em análise de dados, você pode contar com as ferramentas que você tiver: slides, texto, animações, dashboards, etc. \n",
        "\n",
        "Alguns pontos importantes para lembrar no storytelling que tem tudo a ver com a exploração e análise de dados. Apesar das histórias de contos de fada serem floreadas com as cores e detalhes de cada planta na floresta, nem tudo aqui é relevante. \n",
        "\n",
        "Escolher o que mostrar e como mostrar pode fazer seu insight ser ou não convincente para quem está ouvindo: ou seja, encontrar o equilibrio entre o que colocar e o que não colocar na sua história de dados é importante!\n",
        "\n",
        "Para aprofundar, o livro [Storytelling with data](https://www.amazon.com.br/Storytelling-com-Dados-Visualiza%C3%A7%C3%A3o-Profissionais/dp/8550804681/ref=sr_1_1?adgrpid=82022319300&dchild=1&gclid=Cj0KCQjwxdSHBhCdARIsAG6zhlX2Mew8T9Ui09rWJwwYRBgIgj80Ol-yoZlAXSSuID3DF-V8jxJwwJQaAh8DEALw_wcB&hvadid=425954612556&hvdev=c&hvlocphy=1001769&hvnetw=g&hvqmt=e&hvrand=1506147827657889437&hvtargid=kwd-297573901809&hydadcr=5653_11235203&keywords=storytelling+with+data&qid=1626727530&sr=8-1) nos auxilia a escolher os melhores gráficos para contar os resultados e exibi-los da forma mais apropriada!\n",
        "\n",
        "> **Na prática:** Depois de toda EDA e Análise de dados feita com os dados da parte prática do módulo, conte cada um dos passos em um notebook Kaggle! Você pode inserir gráficos, figuras, explicar o passo-a-passo e o que for necessário para encantar os leitores (ou os recrutadores!).\n",
        "\n",
        "> Link para o projeto feito na aula [aqui](https://www.kaggle.com/marianeneiva/credit-eda-and-analysis)"
      ]
    }
  ]
}