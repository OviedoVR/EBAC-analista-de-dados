{
  "nbformat": 4,
  "nbformat_minor": 0,
  "metadata": {
    "colab": {
      "name": "modulo_9_aula.ipynb",
      "provenance": [],
      "collapsed_sections": []
    },
    "kernelspec": {
      "name": "python3",
      "display_name": "Python 3"
    }
  },
  "cells": [
    {
      "cell_type": "markdown",
      "metadata": {
        "id": "KJqp9AANOCtf"
      },
      "source": [
        "<img src=\"https://raw.githubusercontent.com/andre-marcos-perez/ebac-course-utils/main/media/logo/newebac_logo_black_half.png\" alt=\"ebac-logo\">\n",
        "\n",
        "---\n",
        "\n",
        "# **Módulo** | Python: Scripting\n",
        "Caderno de **Aula**<br> \n",
        "Professor [André Perez](https://www.linkedin.com/in/andremarcosperez/)\n",
        "\n",
        "---"
      ]
    },
    {
      "cell_type": "markdown",
      "metadata": {
        "id": "d9jDtUbDOE1-"
      },
      "source": [
        "# **Tópicos**\n",
        "\n",
        "<ol type=\"1\">\n",
        "  <li>Instalando o Python na própria máquina;</li>\n",
        "  <li>Executando código Python no terminal;</li>\n",
        "  <li>Criando arquivos de script Python.</li>\n",
        "</ol>"
      ]
    },
    {
      "cell_type": "markdown",
      "metadata": {
        "id": "SmoHgt-lwkpD"
      },
      "source": [
        "---"
      ]
    },
    {
      "cell_type": "markdown",
      "metadata": {
        "id": "GABI6OW8OfQ2"
      },
      "source": [
        "# **Aulas**"
      ]
    },
    {
      "cell_type": "markdown",
      "metadata": {
        "id": "muD1vxozykSC"
      },
      "source": [
        "## 1\\. Instalando o Python na própria máquina"
      ]
    },
    {
      "cell_type": "markdown",
      "metadata": {
        "id": "5a3_syBIP6yO"
      },
      "source": [
        "### **1.1. Google Colab** "
      ]
    },
    {
      "cell_type": "markdown",
      "metadata": {
        "id": "NglCEvJDmqkw"
      },
      "source": [
        "Python e o PIP já vem instalado na máquina virtual provisionada."
      ]
    },
    {
      "cell_type": "markdown",
      "metadata": {
        "id": "-KB6vKKpzPul"
      },
      "source": [
        "**Exemplo:** Conferir a versão do Python via Python."
      ]
    },
    {
      "cell_type": "code",
      "metadata": {
        "id": "s3TYcbzAlgxe"
      },
      "source": [
        "import platform"
      ],
      "execution_count": null,
      "outputs": []
    },
    {
      "cell_type": "code",
      "metadata": {
        "id": "Bqz8RRXwljEe"
      },
      "source": [
        "print(platform.python_version())"
      ],
      "execution_count": null,
      "outputs": []
    },
    {
      "cell_type": "code",
      "metadata": {
        "id": "DocJCahczia4"
      },
      "source": [
        "print(platform.system())"
      ],
      "execution_count": null,
      "outputs": []
    },
    {
      "cell_type": "markdown",
      "metadata": {
        "id": "rqJ0dUCKzYH-"
      },
      "source": [
        "**Exemplo:** Conferir a versão do Python via Bash (linguagem nativa do Linux)."
      ]
    },
    {
      "cell_type": "code",
      "metadata": {
        "id": "FGXZX082mp5C"
      },
      "source": [
        "!python -V"
      ],
      "execution_count": null,
      "outputs": []
    },
    {
      "cell_type": "markdown",
      "metadata": {
        "id": "kinhTHAfZC4u"
      },
      "source": [
        "**Exemplo:** Conferir a versão do PIP via Bash (linguagem nativa do Linux)."
      ]
    },
    {
      "cell_type": "code",
      "metadata": {
        "id": "R4JABHTlZCA8"
      },
      "source": [
        "!pip -V"
      ],
      "execution_count": null,
      "outputs": []
    },
    {
      "cell_type": "markdown",
      "metadata": {
        "id": "E6D5rjlESJ1A"
      },
      "source": [
        "### **1.2. Máquina Local** "
      ]
    },
    {
      "cell_type": "markdown",
      "metadata": {
        "id": "N0DOVccZ0bXA"
      },
      "source": [
        "Verifique se você já tem o Python e o PIP instalado na sua máquina. Para verificar a instalação, abrir o terminal (windows `cmd` ou linux/macos `terminal`) e executar o seguinte comando."
      ]
    },
    {
      "cell_type": "markdown",
      "metadata": {
        "id": "Rs6sc6iB0lwe"
      },
      "source": [
        "```shell\n",
        "python -V\n",
        "pip -V\n",
        "```"
      ]
    },
    {
      "cell_type": "markdown",
      "metadata": {
        "id": "bO66G3v8qMBu"
      },
      "source": [
        "Se não o tiver instalado, acessar o site oficial do Python ([link](https://www.python.org/)) e instalar o software para o seu sistema operacional. Um excelente tutorial se encontra neste [link](https://realpython.com/installing-python/). Para verificar a instalação, abrir o terminal (windows `cmd` ou linux/mcos `terminal`) e executar o seguinte comando."
      ]
    },
    {
      "cell_type": "markdown",
      "metadata": {
        "id": "g8G-7pIh09ex"
      },
      "source": [
        "```shell\n",
        "python -V\n",
        "pip -V\n",
        "```"
      ]
    },
    {
      "cell_type": "markdown",
      "metadata": {
        "id": "4rRCvy_UURrM"
      },
      "source": [
        "## 2\\. Executando código Python no terminal"
      ]
    },
    {
      "cell_type": "markdown",
      "metadata": {
        "id": "78RHF81A3tat"
      },
      "source": [
        "### **2.1. Google Colab** "
      ]
    },
    {
      "cell_type": "markdown",
      "metadata": {
        "id": "1vEmGlO93vtT"
      },
      "source": [
        "O software do Python já vem \"aberto\" para ser utilizado."
      ]
    },
    {
      "cell_type": "code",
      "metadata": {
        "id": "MkVUiWgKaD_Q"
      },
      "source": [
        "from datetime import datetime\n",
        "\n",
        "print(datetime.now().year)"
      ],
      "execution_count": null,
      "outputs": []
    },
    {
      "cell_type": "markdown",
      "metadata": {
        "id": "Y1W9Hv8fURrZ"
      },
      "source": [
        "### **2.2. Máquina Local** "
      ]
    },
    {
      "cell_type": "markdown",
      "metadata": {
        "id": "ZiSmb3nK3GWT"
      },
      "source": [
        "\n",
        "\n",
        "1.   Criar uma pasta (sugestão);\n",
        "2.   Abrir o terminal nesta pasta (windows `shift + right click` ou linux/macos `right click`);\n",
        "3.   Executar o seguinte comando:\n",
        "\n",
        "```shell\n",
        "python\n",
        "```\n",
        "\n",
        "Para 'sair' do Python, basta fechar o terminal ou digitar o seguinte código:\n",
        "\n",
        "```shell\n",
        "quit()\n",
        "```"
      ]
    },
    {
      "cell_type": "markdown",
      "metadata": {
        "id": "ELgoMRAAUSjv"
      },
      "source": [
        "## 3\\. Criando arquivos de script Python"
      ]
    },
    {
      "cell_type": "markdown",
      "metadata": {
        "id": "CuLkQY76USjw"
      },
      "source": [
        "### **3.1. Google Colab** "
      ]
    },
    {
      "cell_type": "markdown",
      "metadata": {
        "id": "kPErDtG7aOC9"
      },
      "source": [
        "1. Criar um arquivo de *script* com a extensão `py` seguindo as boas práticas do PEP 8 ([link](https://www.python.org/dev/peps/pep-0008/));\n",
        "2. Executar com o seguinte comando:\n",
        "\n",
        "```shell\n",
        "!python arquivo.py\n",
        "```"
      ]
    },
    {
      "cell_type": "markdown",
      "metadata": {
        "id": "03ML7gkSTj67"
      },
      "source": [
        "---\n",
        "\n",
        "**Testando o datetime** (by VRO):"
      ]
    },
    {
      "cell_type": "code",
      "metadata": {
        "colab": {
          "base_uri": "https://localhost:8080/"
        },
        "id": "F6O1QmQCTDcX",
        "outputId": "5581d9ba-10f0-49d7-eda2-27431d4e0f16"
      },
      "source": [
        "from datetime import datetime as dt\n",
        "\n",
        "data_hora = dt.now()\n",
        "data = dt.strftime(data_hora, '%Y/%m/%d')\n",
        "hora = dt.strftime(data_hora, '%H:%M:%S')\n",
        "print(data + ' ' + hora)"
      ],
      "execution_count": 4,
      "outputs": [
        {
          "output_type": "stream",
          "text": [
            "2021/07/23 12:19:13\n"
          ],
          "name": "stdout"
        }
      ]
    },
    {
      "cell_type": "markdown",
      "metadata": {
        "id": "JwPaoFI3TrYs"
      },
      "source": [
        "---"
      ]
    },
    {
      "cell_type": "markdown",
      "metadata": {
        "id": "JgdHa-4LaxWP"
      },
      "source": [
        "**Exemplo:** *Script* para extrair a taxa CDI do site da B3."
      ]
    },
    {
      "cell_type": "code",
      "metadata": {
        "id": "3FBTK2tJn4Ii"
      },
      "source": [
        "import os\n",
        "import json\n",
        "from datetime import datetime\n",
        "\n",
        "import requests\n",
        "\n",
        "URL = 'https://www2.cetip.com.br/ConsultarTaxaDi/ConsultarTaxaDICetip.aspx'\n",
        "\n",
        "# Criando a variável data e hora \n",
        "\n",
        "data_e_hora = datetime.now()\n",
        "data = datetime.strftime(data_e_hora, '%Y/%m/%d')\n",
        "hora = datetime.strftime(data_e_hora, '%H:%M:%S')\n",
        "\n",
        "# Captando a taxa CDI do site da B3\n",
        "\n",
        "try:\n",
        "  response = requests.get(URL)\n",
        "  response.raise_for_status()\n",
        "except requests.HTTPError as exc:\n",
        "  print(\"Dado não encontrado, continuando.\")\n",
        "  cdi = None\n",
        "except Exception as exc:\n",
        "  print(\"Erro, parando a execução.\")\n",
        "  raise exc\n",
        "else:\n",
        "  dado = json.loads(response.text)\n",
        "  cdi = float(dado['taxa'].replace(',', '.'))\n",
        "\n",
        "# Verificando se o arquivo \"taxa-cdi.csv\" existe\n",
        "\n",
        "if os.path.exists('./taxa-cdi.csv') == False:\n",
        "\n",
        "  with open(file='./taxa-cdi.csv', mode='w', encoding='utf8') as fp:\n",
        "    fp.write('data,hora,taxa\\n')\n",
        "\n",
        "# Salvando dados no arquivo \"taxa-cdi.csv\"\n",
        "\n",
        "with open(file='./taxa-cdi.csv', mode='a', encoding='utf8') as fp:\n",
        "  fp.write(f'{data},{hora},{cdi}\\n')\n",
        "\n",
        "print(\"Sucesso\")\n",
        "#OBS: criar o script com esse código."
      ],
      "execution_count": null,
      "outputs": []
    },
    {
      "cell_type": "markdown",
      "metadata": {
        "id": "EkdZ57_4oFCx"
      },
      "source": [
        "Vamos criar o arquivo de *script* `extrair-cdi.py`."
      ]
    },
    {
      "cell_type": "code",
      "metadata": {
        "id": "yxJhF3FibJ7z",
        "colab": {
          "base_uri": "https://localhost:8080/"
        },
        "outputId": "29900850-1d19-40f0-b105-80352cc49b05"
      },
      "source": [
        "!python extrair_cdi.py"
      ],
      "execution_count": 12,
      "outputs": [
        {
          "output_type": "stream",
          "text": [
            "Sucesso\n"
          ],
          "name": "stdout"
        }
      ]
    },
    {
      "cell_type": "markdown",
      "metadata": {
        "id": "c-WTpJfhgDdT"
      },
      "source": [
        "**Exemplo:** Script com argumentos."
      ]
    },
    {
      "cell_type": "code",
      "metadata": {
        "id": "evmryzUPgM46"
      },
      "source": [
        "from sys import argv\n",
        "\n",
        "print(argv)\n",
        "print(type(argv))"
      ],
      "execution_count": null,
      "outputs": []
    },
    {
      "cell_type": "markdown",
      "metadata": {
        "id": "HgoqZ2xIk-8B"
      },
      "source": [
        "Vamos criar o arquivo de *script* `args.py`."
      ]
    },
    {
      "cell_type": "code",
      "metadata": {
        "id": "C9ogUVFYklNE"
      },
      "source": [
        "!python args.py"
      ],
      "execution_count": null,
      "outputs": []
    },
    {
      "cell_type": "markdown",
      "metadata": {
        "id": "Q9YetD1EPi_N"
      },
      "source": [
        "**Exemplo:** *Script* para gerar um grafico da taxa CDI do site da B3."
      ]
    },
    {
      "cell_type": "code",
      "metadata": {
        "id": "LxVdaEGMMgW5"
      },
      "source": [
        "import csv\n",
        "from sys import argv\n",
        "\n",
        "import seaborn as sns\n",
        "\n",
        "# Extraindo as colunas hora e taxa\n",
        "\n",
        "horas = []\n",
        "taxas = []\n",
        "\n",
        "with open(file='./taxa-cdi.csv', mode='r', encoding='utf8') as fp:\n",
        "  linha = fp.readline()\n",
        "  linha = fp.readline()\n",
        "  while linha:\n",
        "    linha_separada = linha.split(sep=',')\n",
        "    hora = linha_separada[1]\n",
        "    horas.append(hora)\n",
        "    taxa = float(linha_separada[2])\n",
        "    taxas.append(taxa)\n",
        "    linha = fp.readline()\n",
        "\n",
        "# Salvando no grafico\n",
        "\n",
        "grafico = sns.lineplot(x=horas, y=taxas)\n",
        "grafico.get_figure().savefig(f\"{argv[1]}.png\")"
      ],
      "execution_count": null,
      "outputs": []
    },
    {
      "cell_type": "markdown",
      "metadata": {
        "id": "JELUKH9pPz9p"
      },
      "source": [
        "Vamos criar o arquivo de *script* `cdi-grafico.py`."
      ]
    },
    {
      "cell_type": "code",
      "metadata": {
        "id": "ERCSXm2AP6uD"
      },
      "source": [
        "!python cdi-grafico.py 'dia-10'"
      ],
      "execution_count": 14,
      "outputs": []
    },
    {
      "cell_type": "markdown",
      "metadata": {
        "id": "g2aUZy_X4Wvb"
      },
      "source": [
        "### **3.2. Máquina Local** "
      ]
    },
    {
      "cell_type": "markdown",
      "metadata": {
        "id": "BSYPE9fyf11V"
      },
      "source": [
        "Mesma dinâmica!"
      ]
    },
    {
      "cell_type": "markdown",
      "metadata": {
        "id": "vSGm2638ibKP"
      },
      "source": [
        "### **3.3. Ferramenta de Desenvolvimento Local** "
      ]
    },
    {
      "cell_type": "markdown",
      "metadata": {
        "id": "AX5SWKd4ijlB"
      },
      "source": [
        "As IDEs (Integrated Development Environment) são ferramentas completas de desenvolvimento de código em software.\n",
        "\n",
        "*   **PyCharm** da JetBrains ([link](https://www.jetbrains.com/));\n",
        "*   **Visual Studio Code** da Microsoft ([link](https://code.visualstudio.com/)).\n",
        "\n"
      ]
    }
  ]
}