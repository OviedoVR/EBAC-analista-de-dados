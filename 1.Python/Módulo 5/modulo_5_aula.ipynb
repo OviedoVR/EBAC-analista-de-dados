{
  "nbformat": 4,
  "nbformat_minor": 0,
  "metadata": {
    "colab": {
      "name": "modulo_5_aula.ipynb",
      "provenance": [],
      "collapsed_sections": [],
      "toc_visible": true
    },
    "kernelspec": {
      "name": "python3",
      "display_name": "Python 3"
    }
  },
  "cells": [
    {
      "cell_type": "markdown",
      "metadata": {
        "id": "KJqp9AANOCtf"
      },
      "source": [
        "<img src=\"https://raw.githubusercontent.com/andre-marcos-perez/ebac-course-utils/main/media/logo/newebac_logo_black_half.png\" alt=\"ebac-logo\">\n",
        "\n",
        "---\n",
        "\n",
        "# **Módulo** | Python: Programação Funcional\n",
        "Caderno de **Aula**<br> \n",
        "Professor [André Perez](https://www.linkedin.com/in/andremarcosperez/)\n",
        "\n",
        "---"
      ]
    },
    {
      "cell_type": "markdown",
      "metadata": {
        "id": "d9jDtUbDOE1-"
      },
      "source": [
        "# **Tópicos**\n",
        "\n",
        "<ol type=\"1\">\n",
        "  <li>Função lambda;</li>\n",
        "  <li>Função map;</li>\n",
        "  <li>Função filter;</li>\n",
        "  <li>Função reduce.</li>\n",
        "</ol>"
      ]
    },
    {
      "cell_type": "markdown",
      "metadata": {
        "id": "SmoHgt-lwkpD"
      },
      "source": [
        "---"
      ]
    },
    {
      "cell_type": "markdown",
      "metadata": {
        "id": "GABI6OW8OfQ2"
      },
      "source": [
        "# **Aulas**"
      ]
    },
    {
      "cell_type": "markdown",
      "metadata": {
        "id": "SB6t60yExrvH"
      },
      "source": [
        "## 0\\. Paradigmas de Programação"
      ]
    },
    {
      "cell_type": "markdown",
      "metadata": {
        "id": "UlwvYXdqxzEe"
      },
      "source": [
        "Estilos de programação.\n",
        "\n",
        "1.   Imperativa;\n",
        "2.   Funcional;\n",
        "3.   Orientada a objetos.\n",
        "\n"
      ]
    },
    {
      "cell_type": "markdown",
      "metadata": {
        "id": "Z1zeqH6gzCam"
      },
      "source": [
        "O Python é uma linguagem [multi-paradigma](https://en.wikipedia.org/wiki/Python_(programming_language))."
      ]
    },
    {
      "cell_type": "markdown",
      "metadata": {
        "id": "8oxkS64ky-oS"
      },
      "source": [
        "\n",
        "\n",
        "![Screenshot from 2021-03-29 22-42-04.png](data:image/png;base64,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)"
      ]
    },
    {
      "cell_type": "markdown",
      "metadata": {
        "id": "tL-rmLDH0NDx"
      },
      "source": [
        "Este módulo é sobre **programação funcional**, que é o estilo que busca manipular dados com muitas e pequenas funções."
      ]
    },
    {
      "cell_type": "markdown",
      "metadata": {
        "id": "muD1vxozykSC"
      },
      "source": [
        "## 1\\. Função lambda"
      ]
    },
    {
      "cell_type": "markdown",
      "metadata": {
        "id": "E6D5rjlESJ1A"
      },
      "source": [
        "### **1.1. Definição** "
      ]
    },
    {
      "cell_type": "markdown",
      "metadata": {
        "id": "WH7mnNwBiPJM"
      },
      "source": [
        "Função anônima (sem nome) com bloco de código super enxuto e que pode ser salva em uma variável. Em geral é utilizada com outros métodos funcionais como `map`, `filter`, e `reduce`."
      ]
    },
    {
      "cell_type": "markdown",
      "metadata": {
        "id": "Ue8w9NGLit7L"
      },
      "source": [
        "```python\n",
        "variavel = lambda params: expressão\n",
        "```"
      ]
    },
    {
      "cell_type": "markdown",
      "metadata": {
        "id": "CoWkK5FYlB1J"
      },
      "source": [
        "**Exemplo**: Função `lambda` para extrair provedor de e-mail."
      ]
    },
    {
      "cell_type": "code",
      "metadata": {
        "id": "FxehjSvzitMU"
      },
      "source": [
        "extrair_provedor_email = lambda email: email.split(sep='@')[-1]"
      ],
      "execution_count": null,
      "outputs": []
    },
    {
      "cell_type": "code",
      "metadata": {
        "id": "twp1ku8rjUUD",
        "colab": {
          "base_uri": "https://localhost:8080/"
        },
        "outputId": "67c21bad-7480-42d2-f024-801411be5d88"
      },
      "source": [
        "email = 'andre.perez@gmail.com'\n",
        "print(email)\n",
        "\n",
        "provedor_email = extrair_provedor_email(email)\n",
        "print(provedor_email)"
      ],
      "execution_count": null,
      "outputs": [
        {
          "output_type": "stream",
          "text": [
            "andre.perez@gmail.com\n",
            "gmail.com\n"
          ],
          "name": "stdout"
        }
      ]
    },
    {
      "cell_type": "markdown",
      "metadata": {
        "id": "04ExYGYhxFak"
      },
      "source": [
        "---"
      ]
    },
    {
      "cell_type": "code",
      "metadata": {
        "colab": {
          "base_uri": "https://localhost:8080/"
        },
        "id": "c46HhbBIxGbL",
        "outputId": "5def4798-0c95-498b-b888-58a299358d72"
      },
      "source": [
        "cidade_estado = 'Santa Maria, Rio Grande do Sul' \n",
        "\n",
        "extrai_cidade = lambda cidade_estado: cidade_estado.split(sep=', ')[0]\n",
        "extrai_estado = lambda cidade_estado: cidade_estado.split(sep=', ')[1]\n",
        "print(extrai_cidade(cidade_estado))\n",
        "print(extrai_estado(cidade_estado))"
      ],
      "execution_count": null,
      "outputs": [
        {
          "output_type": "stream",
          "text": [
            "Santa Maria\n",
            "Rio Grande do Sul\n"
          ],
          "name": "stdout"
        }
      ]
    },
    {
      "cell_type": "markdown",
      "metadata": {
        "id": "1E0ZrJjij6Dh"
      },
      "source": [
        "**Exemplo**: Função `lamba` com estruturas condicionais."
      ]
    },
    {
      "cell_type": "code",
      "metadata": {
        "id": "4taFAg0djjRi"
      },
      "source": [
        "numero_e_par = lambda numero: True if numero % 2 == 0 else False"
      ],
      "execution_count": null,
      "outputs": []
    },
    {
      "cell_type": "code",
      "metadata": {
        "id": "ZZYLIphikWW0"
      },
      "source": [
        "numeros = range(0, 10)"
      ],
      "execution_count": null,
      "outputs": []
    },
    {
      "cell_type": "code",
      "metadata": {
        "id": "NTSGFCfqkel9",
        "colab": {
          "base_uri": "https://localhost:8080/"
        },
        "outputId": "249e2e35-e3c9-40cc-c3f2-9ebd865bb127"
      },
      "source": [
        "for numero in numeros:\n",
        "  if numero_e_par(numero) == True:\n",
        "    print(f'O número {numero} é par!')"
      ],
      "execution_count": null,
      "outputs": [
        {
          "output_type": "stream",
          "text": [
            "O número 0 é par!\n",
            "O número 2 é par!\n",
            "O número 4 é par!\n",
            "O número 6 é par!\n",
            "O número 8 é par!\n"
          ],
          "name": "stdout"
        }
      ]
    },
    {
      "cell_type": "markdown",
      "metadata": {
        "id": "wNkFG1qKSU9M"
      },
      "source": [
        "### **1.2. Função de alta ordem** "
      ]
    },
    {
      "cell_type": "markdown",
      "metadata": {
        "id": "vtilAzzIl7ty"
      },
      "source": [
        "São funções que recebem outras funções para parâmetro ou retornam outra função."
      ]
    },
    {
      "cell_type": "markdown",
      "metadata": {
        "id": "vNmME7aAmInY"
      },
      "source": [
        "**Exemplo**: Juros compostos dinâmico."
      ]
    },
    {
      "cell_type": "markdown",
      "metadata": {
        "id": "PR-if4iKbp2i"
      },
      "source": [
        " - Definição."
      ]
    },
    {
      "cell_type": "code",
      "metadata": {
        "id": "VFJ2d9_UmOft"
      },
      "source": [
        "def retorno(juros: float):\n",
        "  return lambda investimento: investimento * (1 + juros)"
      ],
      "execution_count": null,
      "outputs": []
    },
    {
      "cell_type": "markdown",
      "metadata": {
        "id": "Bivb4Ig2bs8i"
      },
      "source": [
        " - Instanciação."
      ]
    },
    {
      "cell_type": "code",
      "metadata": {
        "id": "Zgc4vFgzm0Fd"
      },
      "source": [
        "retorno_5_porcento = retorno(juros=0.05)\n",
        "retorno_10_porcento = retorno(juros=0.10)"
      ],
      "execution_count": null,
      "outputs": []
    },
    {
      "cell_type": "code",
      "metadata": {
        "id": "-EyITLHbm8QS",
        "colab": {
          "base_uri": "https://localhost:8080/"
        },
        "outputId": "39ea6728-3712-4bdd-facd-e316d7c3599b"
      },
      "source": [
        "valor_final = retorno_5_porcento(investimento=1000)\n",
        "print(valor_final)\n",
        "\n",
        "valor_final = retorno_10_porcento(investimento=1000)\n",
        "print(valor_final)"
      ],
      "execution_count": null,
      "outputs": [
        {
          "output_type": "stream",
          "text": [
            "1050.0\n",
            "1100.0\n"
          ],
          "name": "stdout"
        }
      ]
    },
    {
      "cell_type": "markdown",
      "metadata": {
        "id": "l-l2Khvxb058"
      },
      "source": [
        " - Uso."
      ]
    },
    {
      "cell_type": "code",
      "metadata": {
        "id": "2xa0CmgwnWjt",
        "colab": {
          "base_uri": "https://localhost:8080/"
        },
        "outputId": "4bf1c720-e19e-4d0e-b6ee-fd916458a830"
      },
      "source": [
        "anos = 10\n",
        "valor_inicial = 1000\n",
        "valor_final = valor_inicial\n",
        "\n",
        "for ano in range(1, anos+1):\n",
        "  valor_final = retorno_5_porcento(investimento=valor_final)\n",
        "\n",
        "valor_final = round(valor_final, 2)\n",
        "print(valor_final)"
      ],
      "execution_count": null,
      "outputs": [
        {
          "output_type": "stream",
          "text": [
            "1628.89\n"
          ],
          "name": "stdout"
        }
      ]
    },
    {
      "cell_type": "code",
      "metadata": {
        "id": "SLDy8fqI6v-F",
        "colab": {
          "base_uri": "https://localhost:8080/"
        },
        "outputId": "a06b9d82-ed5f-4bac-c4c3-218016dad441"
      },
      "source": [
        "anos = 10\n",
        "valor_inicial = 1000\n",
        "valor_final = valor_inicial\n",
        "\n",
        "for ano in range(1, anos+1):\n",
        "  valor_final = retorno_10_porcento(investimento=valor_final)\n",
        "\n",
        "valor_final = round(valor_final, 2)\n",
        "print(valor_final)"
      ],
      "execution_count": null,
      "outputs": [
        {
          "output_type": "stream",
          "text": [
            "2593.74\n"
          ],
          "name": "stdout"
        }
      ]
    },
    {
      "cell_type": "markdown",
      "metadata": {
        "id": "nxyoqiOF1kxM"
      },
      "source": [
        "---\n",
        "\n",
        "**Exemplo**: a função abaixo contempla uma função para retornar a área de uma figura geométrica com lados ***a*** e retorna uma funação *lambda* para calcular o volume (com base em uma cota ***z***). - by VRO.\n",
        "\n",
        "---\n"
      ]
    },
    {
      "cell_type": "code",
      "metadata": {
        "id": "kSYGB5-X1TbU"
      },
      "source": [
        "def area(a: float):\n",
        "  return lambda z: z*a*a"
      ],
      "execution_count": null,
      "outputs": []
    },
    {
      "cell_type": "code",
      "metadata": {
        "id": "bdawfLzu1nNW"
      },
      "source": [
        "a_equal_5 = area(5)\n",
        "a_equal_20 = area(20)"
      ],
      "execution_count": null,
      "outputs": []
    },
    {
      "cell_type": "code",
      "metadata": {
        "colab": {
          "base_uri": "https://localhost:8080/"
        },
        "id": "VTxOBiJW13yd",
        "outputId": "54745236-34ea-4ef9-ad8b-bdcb94f1ff79"
      },
      "source": [
        "volume_z_equal_10 = a_equal_5(z=10)\n",
        "print(volume_z_equal_10)\n",
        "\n",
        "volume_z_equal_50 = a_equal_20(z=50)\n",
        "print(volume_z_equal_50) "
      ],
      "execution_count": null,
      "outputs": [
        {
          "output_type": "stream",
          "text": [
            "250\n",
            "20000\n"
          ],
          "name": "stdout"
        }
      ]
    },
    {
      "cell_type": "markdown",
      "metadata": {
        "id": "4rRCvy_UURrM"
      },
      "source": [
        "## 2\\. Função map"
      ]
    },
    {
      "cell_type": "markdown",
      "metadata": {
        "id": "Y1W9Hv8fURrZ"
      },
      "source": [
        "### **2.1. Definição** "
      ]
    },
    {
      "cell_type": "markdown",
      "metadata": {
        "id": "ZKyNtSjsR5lZ"
      },
      "source": [
        "Aplica uma função em todos os elementos de uma coleção (`list`, `dict`, etc.) e retorna **todos** os elementos transformados."
      ]
    },
    {
      "cell_type": "markdown",
      "metadata": {
        "id": "iJXLrXXeR5P1"
      },
      "source": [
        "```python\n",
        "variavel = map(função, coleção)\n",
        "```"
      ]
    },
    {
      "cell_type": "code",
      "metadata": {
        "id": "pH0O5qTxhr_9",
        "colab": {
          "base_uri": "https://localhost:8080/"
        },
        "outputId": "8a65e2a0-0a12-472e-86c0-7311845f109d"
      },
      "source": [
        "numeros = [1, 2, 3]\n",
        "\n",
        "numeros_ao_cubo = map(lambda num: num ** 3, numeros)\n",
        "\n",
        "print(list(numeros_ao_cubo))"
      ],
      "execution_count": null,
      "outputs": [
        {
          "output_type": "stream",
          "text": [
            "[1, 8, 27]\n"
          ],
          "name": "stdout"
        }
      ]
    },
    {
      "cell_type": "code",
      "metadata": {
        "colab": {
          "base_uri": "https://localhost:8080/"
        },
        "id": "JFVLxMrp5ILv",
        "outputId": "8e14d7ef-62d8-40c8-be53-54f7d77cb7a0"
      },
      "source": [
        "x = [0, 50, 100, 150, 200, 250, 300, 350,\n",
        "     400, 450, 500, 550, 600, 650, 700]\n",
        "\n",
        "x_ao_quadrado = map(lambda xi: xi**2, x)\n",
        "print(list(x_ao_quadrado))"
      ],
      "execution_count": null,
      "outputs": [
        {
          "output_type": "stream",
          "text": [
            "[0, 2500, 10000, 22500, 40000, 62500, 90000, 122500, 160000, 202500, 250000, 302500, 360000, 422500, 490000]\n"
          ],
          "name": "stdout"
        }
      ]
    },
    {
      "cell_type": "markdown",
      "metadata": {
        "id": "SyLaQ3YIg01s"
      },
      "source": [
        "### **2.2. Função de alta ordem** "
      ]
    },
    {
      "cell_type": "markdown",
      "metadata": {
        "id": "Bo4yLVhWeV7g"
      },
      "source": [
        "**Exemplo**: Função `lambda` para extrair provedor de e-mail (1 parâmetro)."
      ]
    },
    {
      "cell_type": "code",
      "metadata": {
        "id": "S55Q0alJduN0"
      },
      "source": [
        "emails = ['andre.perez@gmail.com', 'andre.perez@live.com', 'andre.perez@yahoo.com']\n",
        "extrair_provedor_email = lambda email: email.split(sep='@')[-1]"
      ],
      "execution_count": null,
      "outputs": []
    },
    {
      "cell_type": "code",
      "metadata": {
        "id": "opaCXNW4eQVo",
        "colab": {
          "base_uri": "https://localhost:8080/"
        },
        "outputId": "8dc20f0c-1a54-44d2-f90a-0734bf3c1d70"
      },
      "source": [
        "provedores = []\n",
        "for email in emails:\n",
        "  provedor = extrair_provedor_email(email)\n",
        "  provedores.append(provedor)\n",
        "\n",
        "print(provedores)"
      ],
      "execution_count": null,
      "outputs": [
        {
          "output_type": "stream",
          "text": [
            "['gmail.com', 'live.com', 'yahoo.com']\n"
          ],
          "name": "stdout"
        }
      ]
    },
    {
      "cell_type": "code",
      "metadata": {
        "id": "jxN5-iiTexxj",
        "colab": {
          "base_uri": "https://localhost:8080/"
        },
        "outputId": "0144d37c-8240-430b-a1cc-263d0e3979e1"
      },
      "source": [
        "provedores = map(extrair_provedor_email, emails)\n",
        "print(provedores)"
      ],
      "execution_count": null,
      "outputs": [
        {
          "output_type": "stream",
          "text": [
            "<map object at 0x7f08022c1050>\n"
          ],
          "name": "stdout"
        }
      ]
    },
    {
      "cell_type": "code",
      "metadata": {
        "id": "170a0sYve9lF",
        "colab": {
          "base_uri": "https://localhost:8080/"
        },
        "outputId": "b7e9f667-4a75-4974-c35d-62494e6c3578"
      },
      "source": [
        "provedores = list(map(extrair_provedor_email, emails))\n",
        "print(provedores)"
      ],
      "execution_count": null,
      "outputs": [
        {
          "output_type": "stream",
          "text": [
            "['gmail.com', 'live.com', 'yahoo.com']\n"
          ],
          "name": "stdout"
        }
      ]
    },
    {
      "cell_type": "code",
      "metadata": {
        "id": "3OyM_eU1fBYH",
        "colab": {
          "base_uri": "https://localhost:8080/"
        },
        "outputId": "c2c99072-daee-4c93-9d22-1a5bce960b9d"
      },
      "source": [
        "provedores = map(lambda email: email.split(sep='@')[-1], emails)\n",
        "...\n",
        "print(list(provedores))"
      ],
      "execution_count": null,
      "outputs": [
        {
          "output_type": "stream",
          "text": [
            "['gmail.com', 'live.com', 'yahoo.com']\n"
          ],
          "name": "stdout"
        }
      ]
    },
    {
      "cell_type": "markdown",
      "metadata": {
        "id": "hnfQVJGzfXDP"
      },
      "source": [
        "- **Exemplo**: Investimento (Mais de 1 parâmetros)."
      ]
    },
    {
      "cell_type": "code",
      "metadata": {
        "id": "G9stBKyHfc5-",
        "colab": {
          "base_uri": "https://localhost:8080/"
        },
        "outputId": "28a7f5a2-526f-4818-ccd8-8e8b32489b33"
      },
      "source": [
        "anos = [10, 10, 10]\n",
        "taxas_juros = [0.05, 0.10, 0.15]\n",
        "valores_iniciais = [1000, 1000, 1000]\n",
        "\n",
        "def retorno(valor_inicial: float, taxa_juros: float, anos: int) -> float:\n",
        "  valor_final = valor_inicial\n",
        "  for ano in range(1,anos+1):\n",
        "    valor_final = valor_final * (1+taxa_juros)\n",
        "  return round(valor_final, 2)\n",
        "\n",
        "cenarios = list(map(retorno, valores_iniciais, taxas_juros, anos))\n",
        "print(cenarios)"
      ],
      "execution_count": null,
      "outputs": [
        {
          "output_type": "stream",
          "text": [
            "[1628.89, 2593.74, 4045.56]\n"
          ],
          "name": "stdout"
        }
      ]
    },
    {
      "cell_type": "markdown",
      "metadata": {
        "id": "EKYqmZ9m9adM"
      },
      "source": [
        "--- \n",
        "**by VRO**:\n",
        "\n",
        "Criar um função para retornar a **Resolutividade Interna** (equação abaixo) de uma equipe de **Engenharia Clínica**, tendo como base dados sobre as **Ordens de Serviço (OS)** para *manutenção corretiva* de equipamentos médico-hospitalares durante 10 meses. Considere o cenário de que o número de OS abertas é um número médio e constante e que, em todas as OS concluídas, a manutenção foi realizada com sucesso.\n",
        "\n",
        "\\begin{equation}\n",
        "Resolutividade \\ Interna \\ (\\%) = \\frac{OS_{concluidas}}{OS_{abertas}}\n",
        "\\end{equation}\n",
        "\n",
        "---\n",
        "\n",
        "\n"
      ]
    },
    {
      "cell_type": "code",
      "metadata": {
        "colab": {
          "base_uri": "https://localhost:8080/"
        },
        "id": "fwuPteX1-cww",
        "outputId": "1c22f03e-e6d4-4993-ddbd-af47f3a51464"
      },
      "source": [
        "OS_abertas = [50, 50, 50, 50, 50, 50, 50, 50, 50, 50]\n",
        "OS_concluidas = [40, 45, 30, 32, 42, 48, 39, 35, 22, 41]\n",
        "Mes = ['Mês 1', 'Mês 2', 'Mês 3', 'Mês 4', 'Mês 5',\n",
        "       'Mês 6', 'Mês 7', 'Mês 8 ', 'Mês 9', 'Mês 10']\n",
        "\n",
        "def Resolutividade(qtd_OS_abertas: float, qtd_OS_concluidas: float) -> float:\n",
        "  for OS_concluida in OS_concluidas:\n",
        "    qtd_OS_concluida = qtd_OS_concluidas\n",
        "    Resolutividade = qtd_OS_concluidas / qtd_OS_abertas * 100\n",
        "    return round(Resolutividade, 2)\n",
        "\n",
        "Resolutividades_mensais = list(map(Resolutividade, OS_abertas, OS_concluidas))\n",
        "\n",
        "for Resolutividade_mensal in Resolutividades_mensais:\n",
        "  print(f'Resolutividade Interna: {Resolutividade_mensal}%' )"
      ],
      "execution_count": null,
      "outputs": [
        {
          "output_type": "stream",
          "text": [
            "Resolutividade Interna: 80.0%\n",
            "Resolutividade Interna: 90.0%\n",
            "Resolutividade Interna: 60.0%\n",
            "Resolutividade Interna: 64.0%\n",
            "Resolutividade Interna: 84.0%\n",
            "Resolutividade Interna: 96.0%\n",
            "Resolutividade Interna: 78.0%\n",
            "Resolutividade Interna: 70.0%\n",
            "Resolutividade Interna: 44.0%\n",
            "Resolutividade Interna: 82.0%\n"
          ],
          "name": "stdout"
        }
      ]
    },
    {
      "cell_type": "code",
      "metadata": {
        "colab": {
          "base_uri": "https://localhost:8080/",
          "height": 319
        },
        "id": "AlUAnClpFUat",
        "outputId": "02071fc6-cb85-40c7-f5cc-59844e7b0842"
      },
      "source": [
        "import matplotlib.pyplot as plt\n",
        "import numpy as np\n",
        "from IPython import display\n",
        "display.set_matplotlib_formats('svg')\n",
        "\n",
        "plt.figure(figsize=(9,3))\n",
        "plt.title(\"Resolutividade Interna da equipe de Engenharia Clínica\",\n",
        "          weight='bold', fontsize=12)\n",
        "plt.xlabel('Mês', fontsize=10)\n",
        "plt.ylabel('Resolutivade Interna (%)', fontsize=10)\n",
        "plt.bar(Mes, Resolutividades_mensais,color='lightblue',edgecolor='k',lw=1.25)\n",
        "#plt.axhline(mean(Resolutividades_mensais),color='k',lw=1.05, ls='dashed')\n",
        "#plt.text(1.70,78,'Média',weight='bold')\n",
        "plt.show()"
      ],
      "execution_count": null,
      "outputs": [
        {
          "output_type": "display_data",
          "data": {
            "text/plain": [
              "<Figure size 648x216 with 1 Axes>"
            ],
            "image/svg+xml": "<?xml version=\"1.0\" encoding=\"utf-8\" standalone=\"no\"?>\n<!DOCTYPE svg PUBLIC \"-//W3C//DTD SVG 1.1//EN\"\n  \"http://www.w3.org/Graphics/SVG/1.1/DTD/svg11.dtd\">\n<!-- Created with matplotlib (https://matplotlib.org/) -->\n<svg height=\"223.434375pt\" version=\"1.1\" viewBox=\"0 0 556.365625 223.434375\" width=\"556.365625pt\" xmlns=\"http://www.w3.org/2000/svg\" xmlns:xlink=\"http://www.w3.org/1999/xlink\">\n <defs>\n  <style type=\"text/css\">\n*{stroke-linecap:butt;stroke-linejoin:round;}\n  </style>\n </defs>\n <g id=\"figure_1\">\n  <g id=\"patch_1\">\n   <path d=\"M 0 223.434375 \nL 556.365625 223.434375 \nL 556.365625 0 \nL 0 0 \nz\n\" style=\"fill:none;\"/>\n  </g>\n  <g id=\"axes_1\">\n   <g id=\"patch_2\">\n    <path d=\"M 46.965625 185.878125 \nL 549.165625 185.878125 \nL 549.165625 22.798125 \nL 46.965625 22.798125 \nz\n\" style=\"fill:#ffffff;\"/>\n   </g>\n   <g id=\"patch_3\">\n    <path clip-path=\"url(#p10833e2066)\" d=\"M 69.792898 185.878125 \nL 107.061914 185.878125 \nL 107.061914 56.449554 \nL 69.792898 56.449554 \nz\n\" style=\"fill:#add8e6;stroke:#000000;stroke-linejoin:miter;stroke-width:1.25;\"/>\n   </g>\n   <g id=\"patch_4\">\n    <path clip-path=\"url(#p10833e2066)\" d=\"M 116.379169 185.878125 \nL 153.648185 185.878125 \nL 153.648185 40.270982 \nL 116.379169 40.270982 \nz\n\" style=\"fill:#add8e6;stroke:#000000;stroke-linejoin:miter;stroke-width:1.25;\"/>\n   </g>\n   <g id=\"patch_5\">\n    <path clip-path=\"url(#p10833e2066)\" d=\"M 162.965439 185.878125 \nL 200.234456 185.878125 \nL 200.234456 88.806696 \nL 162.965439 88.806696 \nz\n\" style=\"fill:#add8e6;stroke:#000000;stroke-linejoin:miter;stroke-width:1.25;\"/>\n   </g>\n   <g id=\"patch_6\">\n    <path clip-path=\"url(#p10833e2066)\" d=\"M 209.55171 185.878125 \nL 246.820727 185.878125 \nL 246.820727 82.335268 \nL 209.55171 82.335268 \nz\n\" style=\"fill:#add8e6;stroke:#000000;stroke-linejoin:miter;stroke-width:1.25;\"/>\n   </g>\n   <g id=\"patch_7\">\n    <path clip-path=\"url(#p10833e2066)\" d=\"M 256.137981 185.878125 \nL 293.406998 185.878125 \nL 293.406998 49.978125 \nL 256.137981 49.978125 \nz\n\" style=\"fill:#add8e6;stroke:#000000;stroke-linejoin:miter;stroke-width:1.25;\"/>\n   </g>\n   <g id=\"patch_8\">\n    <path clip-path=\"url(#p10833e2066)\" d=\"M 302.724252 185.878125 \nL 339.993269 185.878125 \nL 339.993269 30.563839 \nL 302.724252 30.563839 \nz\n\" style=\"fill:#add8e6;stroke:#000000;stroke-linejoin:miter;stroke-width:1.25;\"/>\n   </g>\n   <g id=\"patch_9\">\n    <path clip-path=\"url(#p10833e2066)\" d=\"M 349.310523 185.878125 \nL 386.57954 185.878125 \nL 386.57954 59.685268 \nL 349.310523 59.685268 \nz\n\" style=\"fill:#add8e6;stroke:#000000;stroke-linejoin:miter;stroke-width:1.25;\"/>\n   </g>\n   <g id=\"patch_10\">\n    <path clip-path=\"url(#p10833e2066)\" d=\"M 395.896794 185.878125 \nL 433.165811 185.878125 \nL 433.165811 72.628125 \nL 395.896794 72.628125 \nz\n\" style=\"fill:#add8e6;stroke:#000000;stroke-linejoin:miter;stroke-width:1.25;\"/>\n   </g>\n   <g id=\"patch_11\">\n    <path clip-path=\"url(#p10833e2066)\" d=\"M 442.483065 185.878125 \nL 479.752081 185.878125 \nL 479.752081 114.692411 \nL 442.483065 114.692411 \nz\n\" style=\"fill:#add8e6;stroke:#000000;stroke-linejoin:miter;stroke-width:1.25;\"/>\n   </g>\n   <g id=\"patch_12\">\n    <path clip-path=\"url(#p10833e2066)\" d=\"M 489.069336 185.878125 \nL 526.338352 185.878125 \nL 526.338352 53.213839 \nL 489.069336 53.213839 \nz\n\" style=\"fill:#add8e6;stroke:#000000;stroke-linejoin:miter;stroke-width:1.25;\"/>\n   </g>\n   <g id=\"matplotlib.axis_1\">\n    <g id=\"xtick_1\">\n     <g id=\"line2d_1\">\n      <defs>\n       <path d=\"M 0 0 \nL 0 3.5 \n\" id=\"m161bf2dbd6\" style=\"stroke:#000000;stroke-width:0.8;\"/>\n      </defs>\n      <g>\n       <use style=\"stroke:#000000;stroke-width:0.8;\" x=\"88.427406\" xlink:href=\"#m161bf2dbd6\" y=\"185.878125\"/>\n      </g>\n     </g>\n     <g id=\"text_1\">\n      <!-- Mês 1 -->\n      <defs>\n       <path d=\"M 9.8125 72.90625 \nL 24.515625 72.90625 \nL 43.109375 23.296875 \nL 61.8125 72.90625 \nL 76.515625 72.90625 \nL 76.515625 0 \nL 66.890625 0 \nL 66.890625 64.015625 \nL 48.09375 14.015625 \nL 38.1875 14.015625 \nL 19.390625 64.015625 \nL 19.390625 0 \nL 9.8125 0 \nz\n\" id=\"DejaVuSans-77\"/>\n       <path d=\"M 56.203125 29.59375 \nL 56.203125 25.203125 \nL 14.890625 25.203125 \nQ 15.484375 15.921875 20.484375 11.0625 \nQ 25.484375 6.203125 34.421875 6.203125 \nQ 39.59375 6.203125 44.453125 7.46875 \nQ 49.3125 8.734375 54.109375 11.28125 \nL 54.109375 2.78125 \nQ 49.265625 0.734375 44.1875 -0.34375 \nQ 39.109375 -1.421875 33.890625 -1.421875 \nQ 20.796875 -1.421875 13.15625 6.1875 \nQ 5.515625 13.8125 5.515625 26.8125 \nQ 5.515625 40.234375 12.765625 48.109375 \nQ 20.015625 56 32.328125 56 \nQ 43.359375 56 49.78125 48.890625 \nQ 56.203125 41.796875 56.203125 29.59375 \nz\nM 47.21875 32.234375 \nQ 47.125 39.59375 43.09375 43.984375 \nQ 39.0625 48.390625 32.421875 48.390625 \nQ 24.90625 48.390625 20.390625 44.140625 \nQ 15.875 39.890625 15.1875 32.171875 \nz\nM 28.140625 79.984375 \nL 35.359375 79.984375 \nL 47.328125 61.625 \nL 40.546875 61.625 \nL 31.75 73.578125 \nL 22.96875 61.625 \nL 16.171875 61.625 \nz\n\" id=\"DejaVuSans-234\"/>\n       <path d=\"M 44.28125 53.078125 \nL 44.28125 44.578125 \nQ 40.484375 46.53125 36.375 47.5 \nQ 32.28125 48.484375 27.875 48.484375 \nQ 21.1875 48.484375 17.84375 46.4375 \nQ 14.5 44.390625 14.5 40.28125 \nQ 14.5 37.15625 16.890625 35.375 \nQ 19.28125 33.59375 26.515625 31.984375 \nL 29.59375 31.296875 \nQ 39.15625 29.25 43.1875 25.515625 \nQ 47.21875 21.78125 47.21875 15.09375 \nQ 47.21875 7.46875 41.1875 3.015625 \nQ 35.15625 -1.421875 24.609375 -1.421875 \nQ 20.21875 -1.421875 15.453125 -0.5625 \nQ 10.6875 0.296875 5.421875 2 \nL 5.421875 11.28125 \nQ 10.40625 8.6875 15.234375 7.390625 \nQ 20.0625 6.109375 24.8125 6.109375 \nQ 31.15625 6.109375 34.5625 8.28125 \nQ 37.984375 10.453125 37.984375 14.40625 \nQ 37.984375 18.0625 35.515625 20.015625 \nQ 33.0625 21.96875 24.703125 23.78125 \nL 21.578125 24.515625 \nQ 13.234375 26.265625 9.515625 29.90625 \nQ 5.8125 33.546875 5.8125 39.890625 \nQ 5.8125 47.609375 11.28125 51.796875 \nQ 16.75 56 26.8125 56 \nQ 31.78125 56 36.171875 55.265625 \nQ 40.578125 54.546875 44.28125 53.078125 \nz\n\" id=\"DejaVuSans-115\"/>\n       <path id=\"DejaVuSans-32\"/>\n       <path d=\"M 12.40625 8.296875 \nL 28.515625 8.296875 \nL 28.515625 63.921875 \nL 10.984375 60.40625 \nL 10.984375 69.390625 \nL 28.421875 72.90625 \nL 38.28125 72.90625 \nL 38.28125 8.296875 \nL 54.390625 8.296875 \nL 54.390625 0 \nL 12.40625 0 \nz\n\" id=\"DejaVuSans-49\"/>\n      </defs>\n      <g transform=\"translate(73.661781 200.476562)scale(0.1 -0.1)\">\n       <use xlink:href=\"#DejaVuSans-77\"/>\n       <use x=\"86.279297\" xlink:href=\"#DejaVuSans-234\"/>\n       <use x=\"147.802734\" xlink:href=\"#DejaVuSans-115\"/>\n       <use x=\"199.902344\" xlink:href=\"#DejaVuSans-32\"/>\n       <use x=\"231.689453\" xlink:href=\"#DejaVuSans-49\"/>\n      </g>\n     </g>\n    </g>\n    <g id=\"xtick_2\">\n     <g id=\"line2d_2\">\n      <g>\n       <use style=\"stroke:#000000;stroke-width:0.8;\" x=\"135.013677\" xlink:href=\"#m161bf2dbd6\" y=\"185.878125\"/>\n      </g>\n     </g>\n     <g id=\"text_2\">\n      <!-- Mês 2 -->\n      <defs>\n       <path d=\"M 19.1875 8.296875 \nL 53.609375 8.296875 \nL 53.609375 0 \nL 7.328125 0 \nL 7.328125 8.296875 \nQ 12.9375 14.109375 22.625 23.890625 \nQ 32.328125 33.6875 34.8125 36.53125 \nQ 39.546875 41.84375 41.421875 45.53125 \nQ 43.3125 49.21875 43.3125 52.78125 \nQ 43.3125 58.59375 39.234375 62.25 \nQ 35.15625 65.921875 28.609375 65.921875 \nQ 23.96875 65.921875 18.8125 64.3125 \nQ 13.671875 62.703125 7.8125 59.421875 \nL 7.8125 69.390625 \nQ 13.765625 71.78125 18.9375 73 \nQ 24.125 74.21875 28.421875 74.21875 \nQ 39.75 74.21875 46.484375 68.546875 \nQ 53.21875 62.890625 53.21875 53.421875 \nQ 53.21875 48.921875 51.53125 44.890625 \nQ 49.859375 40.875 45.40625 35.40625 \nQ 44.1875 33.984375 37.640625 27.21875 \nQ 31.109375 20.453125 19.1875 8.296875 \nz\n\" id=\"DejaVuSans-50\"/>\n      </defs>\n      <g transform=\"translate(120.248052 200.476562)scale(0.1 -0.1)\">\n       <use xlink:href=\"#DejaVuSans-77\"/>\n       <use x=\"86.279297\" xlink:href=\"#DejaVuSans-234\"/>\n       <use x=\"147.802734\" xlink:href=\"#DejaVuSans-115\"/>\n       <use x=\"199.902344\" xlink:href=\"#DejaVuSans-32\"/>\n       <use x=\"231.689453\" xlink:href=\"#DejaVuSans-50\"/>\n      </g>\n     </g>\n    </g>\n    <g id=\"xtick_3\">\n     <g id=\"line2d_3\">\n      <g>\n       <use style=\"stroke:#000000;stroke-width:0.8;\" x=\"181.599948\" xlink:href=\"#m161bf2dbd6\" y=\"185.878125\"/>\n      </g>\n     </g>\n     <g id=\"text_3\">\n      <!-- Mês 3 -->\n      <defs>\n       <path d=\"M 40.578125 39.3125 \nQ 47.65625 37.796875 51.625 33 \nQ 55.609375 28.21875 55.609375 21.1875 \nQ 55.609375 10.40625 48.1875 4.484375 \nQ 40.765625 -1.421875 27.09375 -1.421875 \nQ 22.515625 -1.421875 17.65625 -0.515625 \nQ 12.796875 0.390625 7.625 2.203125 \nL 7.625 11.71875 \nQ 11.71875 9.328125 16.59375 8.109375 \nQ 21.484375 6.890625 26.8125 6.890625 \nQ 36.078125 6.890625 40.9375 10.546875 \nQ 45.796875 14.203125 45.796875 21.1875 \nQ 45.796875 27.640625 41.28125 31.265625 \nQ 36.765625 34.90625 28.71875 34.90625 \nL 20.21875 34.90625 \nL 20.21875 43.015625 \nL 29.109375 43.015625 \nQ 36.375 43.015625 40.234375 45.921875 \nQ 44.09375 48.828125 44.09375 54.296875 \nQ 44.09375 59.90625 40.109375 62.90625 \nQ 36.140625 65.921875 28.71875 65.921875 \nQ 24.65625 65.921875 20.015625 65.03125 \nQ 15.375 64.15625 9.8125 62.3125 \nL 9.8125 71.09375 \nQ 15.4375 72.65625 20.34375 73.4375 \nQ 25.25 74.21875 29.59375 74.21875 \nQ 40.828125 74.21875 47.359375 69.109375 \nQ 53.90625 64.015625 53.90625 55.328125 \nQ 53.90625 49.265625 50.4375 45.09375 \nQ 46.96875 40.921875 40.578125 39.3125 \nz\n\" id=\"DejaVuSans-51\"/>\n      </defs>\n      <g transform=\"translate(166.834323 200.476562)scale(0.1 -0.1)\">\n       <use xlink:href=\"#DejaVuSans-77\"/>\n       <use x=\"86.279297\" xlink:href=\"#DejaVuSans-234\"/>\n       <use x=\"147.802734\" xlink:href=\"#DejaVuSans-115\"/>\n       <use x=\"199.902344\" xlink:href=\"#DejaVuSans-32\"/>\n       <use x=\"231.689453\" xlink:href=\"#DejaVuSans-51\"/>\n      </g>\n     </g>\n    </g>\n    <g id=\"xtick_4\">\n     <g id=\"line2d_4\">\n      <g>\n       <use style=\"stroke:#000000;stroke-width:0.8;\" x=\"228.186219\" xlink:href=\"#m161bf2dbd6\" y=\"185.878125\"/>\n      </g>\n     </g>\n     <g id=\"text_4\">\n      <!-- Mês 4 -->\n      <defs>\n       <path d=\"M 37.796875 64.3125 \nL 12.890625 25.390625 \nL 37.796875 25.390625 \nz\nM 35.203125 72.90625 \nL 47.609375 72.90625 \nL 47.609375 25.390625 \nL 58.015625 25.390625 \nL 58.015625 17.1875 \nL 47.609375 17.1875 \nL 47.609375 0 \nL 37.796875 0 \nL 37.796875 17.1875 \nL 4.890625 17.1875 \nL 4.890625 26.703125 \nz\n\" id=\"DejaVuSans-52\"/>\n      </defs>\n      <g transform=\"translate(213.420594 200.476562)scale(0.1 -0.1)\">\n       <use xlink:href=\"#DejaVuSans-77\"/>\n       <use x=\"86.279297\" xlink:href=\"#DejaVuSans-234\"/>\n       <use x=\"147.802734\" xlink:href=\"#DejaVuSans-115\"/>\n       <use x=\"199.902344\" xlink:href=\"#DejaVuSans-32\"/>\n       <use x=\"231.689453\" xlink:href=\"#DejaVuSans-52\"/>\n      </g>\n     </g>\n    </g>\n    <g id=\"xtick_5\">\n     <g id=\"line2d_5\">\n      <g>\n       <use style=\"stroke:#000000;stroke-width:0.8;\" x=\"274.77249\" xlink:href=\"#m161bf2dbd6\" y=\"185.878125\"/>\n      </g>\n     </g>\n     <g id=\"text_5\">\n      <!-- Mês 5 -->\n      <defs>\n       <path d=\"M 10.796875 72.90625 \nL 49.515625 72.90625 \nL 49.515625 64.59375 \nL 19.828125 64.59375 \nL 19.828125 46.734375 \nQ 21.96875 47.46875 24.109375 47.828125 \nQ 26.265625 48.1875 28.421875 48.1875 \nQ 40.625 48.1875 47.75 41.5 \nQ 54.890625 34.8125 54.890625 23.390625 \nQ 54.890625 11.625 47.5625 5.09375 \nQ 40.234375 -1.421875 26.90625 -1.421875 \nQ 22.3125 -1.421875 17.546875 -0.640625 \nQ 12.796875 0.140625 7.71875 1.703125 \nL 7.71875 11.625 \nQ 12.109375 9.234375 16.796875 8.0625 \nQ 21.484375 6.890625 26.703125 6.890625 \nQ 35.15625 6.890625 40.078125 11.328125 \nQ 45.015625 15.765625 45.015625 23.390625 \nQ 45.015625 31 40.078125 35.4375 \nQ 35.15625 39.890625 26.703125 39.890625 \nQ 22.75 39.890625 18.8125 39.015625 \nQ 14.890625 38.140625 10.796875 36.28125 \nz\n\" id=\"DejaVuSans-53\"/>\n      </defs>\n      <g transform=\"translate(260.006865 200.476562)scale(0.1 -0.1)\">\n       <use xlink:href=\"#DejaVuSans-77\"/>\n       <use x=\"86.279297\" xlink:href=\"#DejaVuSans-234\"/>\n       <use x=\"147.802734\" xlink:href=\"#DejaVuSans-115\"/>\n       <use x=\"199.902344\" xlink:href=\"#DejaVuSans-32\"/>\n       <use x=\"231.689453\" xlink:href=\"#DejaVuSans-53\"/>\n      </g>\n     </g>\n    </g>\n    <g id=\"xtick_6\">\n     <g id=\"line2d_6\">\n      <g>\n       <use style=\"stroke:#000000;stroke-width:0.8;\" x=\"321.35876\" xlink:href=\"#m161bf2dbd6\" y=\"185.878125\"/>\n      </g>\n     </g>\n     <g id=\"text_6\">\n      <!-- Mês 6 -->\n      <defs>\n       <path d=\"M 33.015625 40.375 \nQ 26.375 40.375 22.484375 35.828125 \nQ 18.609375 31.296875 18.609375 23.390625 \nQ 18.609375 15.53125 22.484375 10.953125 \nQ 26.375 6.390625 33.015625 6.390625 \nQ 39.65625 6.390625 43.53125 10.953125 \nQ 47.40625 15.53125 47.40625 23.390625 \nQ 47.40625 31.296875 43.53125 35.828125 \nQ 39.65625 40.375 33.015625 40.375 \nz\nM 52.59375 71.296875 \nL 52.59375 62.3125 \nQ 48.875 64.0625 45.09375 64.984375 \nQ 41.3125 65.921875 37.59375 65.921875 \nQ 27.828125 65.921875 22.671875 59.328125 \nQ 17.53125 52.734375 16.796875 39.40625 \nQ 19.671875 43.65625 24.015625 45.921875 \nQ 28.375 48.1875 33.59375 48.1875 \nQ 44.578125 48.1875 50.953125 41.515625 \nQ 57.328125 34.859375 57.328125 23.390625 \nQ 57.328125 12.15625 50.6875 5.359375 \nQ 44.046875 -1.421875 33.015625 -1.421875 \nQ 20.359375 -1.421875 13.671875 8.265625 \nQ 6.984375 17.96875 6.984375 36.375 \nQ 6.984375 53.65625 15.1875 63.9375 \nQ 23.390625 74.21875 37.203125 74.21875 \nQ 40.921875 74.21875 44.703125 73.484375 \nQ 48.484375 72.75 52.59375 71.296875 \nz\n\" id=\"DejaVuSans-54\"/>\n      </defs>\n      <g transform=\"translate(306.593135 200.476562)scale(0.1 -0.1)\">\n       <use xlink:href=\"#DejaVuSans-77\"/>\n       <use x=\"86.279297\" xlink:href=\"#DejaVuSans-234\"/>\n       <use x=\"147.802734\" xlink:href=\"#DejaVuSans-115\"/>\n       <use x=\"199.902344\" xlink:href=\"#DejaVuSans-32\"/>\n       <use x=\"231.689453\" xlink:href=\"#DejaVuSans-54\"/>\n      </g>\n     </g>\n    </g>\n    <g id=\"xtick_7\">\n     <g id=\"line2d_7\">\n      <g>\n       <use style=\"stroke:#000000;stroke-width:0.8;\" x=\"367.945031\" xlink:href=\"#m161bf2dbd6\" y=\"185.878125\"/>\n      </g>\n     </g>\n     <g id=\"text_7\">\n      <!-- Mês 7 -->\n      <defs>\n       <path d=\"M 8.203125 72.90625 \nL 55.078125 72.90625 \nL 55.078125 68.703125 \nL 28.609375 0 \nL 18.3125 0 \nL 43.21875 64.59375 \nL 8.203125 64.59375 \nz\n\" id=\"DejaVuSans-55\"/>\n      </defs>\n      <g transform=\"translate(353.179406 200.476562)scale(0.1 -0.1)\">\n       <use xlink:href=\"#DejaVuSans-77\"/>\n       <use x=\"86.279297\" xlink:href=\"#DejaVuSans-234\"/>\n       <use x=\"147.802734\" xlink:href=\"#DejaVuSans-115\"/>\n       <use x=\"199.902344\" xlink:href=\"#DejaVuSans-32\"/>\n       <use x=\"231.689453\" xlink:href=\"#DejaVuSans-55\"/>\n      </g>\n     </g>\n    </g>\n    <g id=\"xtick_8\">\n     <g id=\"line2d_8\">\n      <g>\n       <use style=\"stroke:#000000;stroke-width:0.8;\" x=\"414.531302\" xlink:href=\"#m161bf2dbd6\" y=\"185.878125\"/>\n      </g>\n     </g>\n     <g id=\"text_8\">\n      <!-- Mês 8  -->\n      <defs>\n       <path d=\"M 31.78125 34.625 \nQ 24.75 34.625 20.71875 30.859375 \nQ 16.703125 27.09375 16.703125 20.515625 \nQ 16.703125 13.921875 20.71875 10.15625 \nQ 24.75 6.390625 31.78125 6.390625 \nQ 38.8125 6.390625 42.859375 10.171875 \nQ 46.921875 13.96875 46.921875 20.515625 \nQ 46.921875 27.09375 42.890625 30.859375 \nQ 38.875 34.625 31.78125 34.625 \nz\nM 21.921875 38.8125 \nQ 15.578125 40.375 12.03125 44.71875 \nQ 8.5 49.078125 8.5 55.328125 \nQ 8.5 64.0625 14.71875 69.140625 \nQ 20.953125 74.21875 31.78125 74.21875 \nQ 42.671875 74.21875 48.875 69.140625 \nQ 55.078125 64.0625 55.078125 55.328125 \nQ 55.078125 49.078125 51.53125 44.71875 \nQ 48 40.375 41.703125 38.8125 \nQ 48.828125 37.15625 52.796875 32.3125 \nQ 56.78125 27.484375 56.78125 20.515625 \nQ 56.78125 9.90625 50.3125 4.234375 \nQ 43.84375 -1.421875 31.78125 -1.421875 \nQ 19.734375 -1.421875 13.25 4.234375 \nQ 6.78125 9.90625 6.78125 20.515625 \nQ 6.78125 27.484375 10.78125 32.3125 \nQ 14.796875 37.15625 21.921875 38.8125 \nz\nM 18.3125 54.390625 \nQ 18.3125 48.734375 21.84375 45.5625 \nQ 25.390625 42.390625 31.78125 42.390625 \nQ 38.140625 42.390625 41.71875 45.5625 \nQ 45.3125 48.734375 45.3125 54.390625 \nQ 45.3125 60.0625 41.71875 63.234375 \nQ 38.140625 66.40625 31.78125 66.40625 \nQ 25.390625 66.40625 21.84375 63.234375 \nQ 18.3125 60.0625 18.3125 54.390625 \nz\n\" id=\"DejaVuSans-56\"/>\n      </defs>\n      <g transform=\"translate(398.176615 200.476562)scale(0.1 -0.1)\">\n       <use xlink:href=\"#DejaVuSans-77\"/>\n       <use x=\"86.279297\" xlink:href=\"#DejaVuSans-234\"/>\n       <use x=\"147.802734\" xlink:href=\"#DejaVuSans-115\"/>\n       <use x=\"199.902344\" xlink:href=\"#DejaVuSans-32\"/>\n       <use x=\"231.689453\" xlink:href=\"#DejaVuSans-56\"/>\n       <use x=\"295.3125\" xlink:href=\"#DejaVuSans-32\"/>\n      </g>\n     </g>\n    </g>\n    <g id=\"xtick_9\">\n     <g id=\"line2d_9\">\n      <g>\n       <use style=\"stroke:#000000;stroke-width:0.8;\" x=\"461.117573\" xlink:href=\"#m161bf2dbd6\" y=\"185.878125\"/>\n      </g>\n     </g>\n     <g id=\"text_9\">\n      <!-- Mês 9 -->\n      <defs>\n       <path d=\"M 10.984375 1.515625 \nL 10.984375 10.5 \nQ 14.703125 8.734375 18.5 7.8125 \nQ 22.3125 6.890625 25.984375 6.890625 \nQ 35.75 6.890625 40.890625 13.453125 \nQ 46.046875 20.015625 46.78125 33.40625 \nQ 43.953125 29.203125 39.59375 26.953125 \nQ 35.25 24.703125 29.984375 24.703125 \nQ 19.046875 24.703125 12.671875 31.3125 \nQ 6.296875 37.9375 6.296875 49.421875 \nQ 6.296875 60.640625 12.9375 67.421875 \nQ 19.578125 74.21875 30.609375 74.21875 \nQ 43.265625 74.21875 49.921875 64.515625 \nQ 56.59375 54.828125 56.59375 36.375 \nQ 56.59375 19.140625 48.40625 8.859375 \nQ 40.234375 -1.421875 26.421875 -1.421875 \nQ 22.703125 -1.421875 18.890625 -0.6875 \nQ 15.09375 0.046875 10.984375 1.515625 \nz\nM 30.609375 32.421875 \nQ 37.25 32.421875 41.125 36.953125 \nQ 45.015625 41.5 45.015625 49.421875 \nQ 45.015625 57.28125 41.125 61.84375 \nQ 37.25 66.40625 30.609375 66.40625 \nQ 23.96875 66.40625 20.09375 61.84375 \nQ 16.21875 57.28125 16.21875 49.421875 \nQ 16.21875 41.5 20.09375 36.953125 \nQ 23.96875 32.421875 30.609375 32.421875 \nz\n\" id=\"DejaVuSans-57\"/>\n      </defs>\n      <g transform=\"translate(446.351948 200.476562)scale(0.1 -0.1)\">\n       <use xlink:href=\"#DejaVuSans-77\"/>\n       <use x=\"86.279297\" xlink:href=\"#DejaVuSans-234\"/>\n       <use x=\"147.802734\" xlink:href=\"#DejaVuSans-115\"/>\n       <use x=\"199.902344\" xlink:href=\"#DejaVuSans-32\"/>\n       <use x=\"231.689453\" xlink:href=\"#DejaVuSans-57\"/>\n      </g>\n     </g>\n    </g>\n    <g id=\"xtick_10\">\n     <g id=\"line2d_10\">\n      <g>\n       <use style=\"stroke:#000000;stroke-width:0.8;\" x=\"507.703844\" xlink:href=\"#m161bf2dbd6\" y=\"185.878125\"/>\n      </g>\n     </g>\n     <g id=\"text_10\">\n      <!-- Mês 10 -->\n      <defs>\n       <path d=\"M 31.78125 66.40625 \nQ 24.171875 66.40625 20.328125 58.90625 \nQ 16.5 51.421875 16.5 36.375 \nQ 16.5 21.390625 20.328125 13.890625 \nQ 24.171875 6.390625 31.78125 6.390625 \nQ 39.453125 6.390625 43.28125 13.890625 \nQ 47.125 21.390625 47.125 36.375 \nQ 47.125 51.421875 43.28125 58.90625 \nQ 39.453125 66.40625 31.78125 66.40625 \nz\nM 31.78125 74.21875 \nQ 44.046875 74.21875 50.515625 64.515625 \nQ 56.984375 54.828125 56.984375 36.375 \nQ 56.984375 17.96875 50.515625 8.265625 \nQ 44.046875 -1.421875 31.78125 -1.421875 \nQ 19.53125 -1.421875 13.0625 8.265625 \nQ 6.59375 17.96875 6.59375 36.375 \nQ 6.59375 54.828125 13.0625 64.515625 \nQ 19.53125 74.21875 31.78125 74.21875 \nz\n\" id=\"DejaVuSans-48\"/>\n      </defs>\n      <g transform=\"translate(489.756969 200.476562)scale(0.1 -0.1)\">\n       <use xlink:href=\"#DejaVuSans-77\"/>\n       <use x=\"86.279297\" xlink:href=\"#DejaVuSans-234\"/>\n       <use x=\"147.802734\" xlink:href=\"#DejaVuSans-115\"/>\n       <use x=\"199.902344\" xlink:href=\"#DejaVuSans-32\"/>\n       <use x=\"231.689453\" xlink:href=\"#DejaVuSans-49\"/>\n       <use x=\"295.3125\" xlink:href=\"#DejaVuSans-48\"/>\n      </g>\n     </g>\n    </g>\n    <g id=\"text_11\">\n     <!-- Mês -->\n     <g transform=\"translate(288.070313 214.154688)scale(0.1 -0.1)\">\n      <use xlink:href=\"#DejaVuSans-77\"/>\n      <use x=\"86.279297\" xlink:href=\"#DejaVuSans-234\"/>\n      <use x=\"147.802734\" xlink:href=\"#DejaVuSans-115\"/>\n     </g>\n    </g>\n   </g>\n   <g id=\"matplotlib.axis_2\">\n    <g id=\"ytick_1\">\n     <g id=\"line2d_11\">\n      <defs>\n       <path d=\"M 0 0 \nL -3.5 0 \n\" id=\"mcebd5d3724\" style=\"stroke:#000000;stroke-width:0.8;\"/>\n      </defs>\n      <g>\n       <use style=\"stroke:#000000;stroke-width:0.8;\" x=\"46.965625\" xlink:href=\"#mcebd5d3724\" y=\"185.878125\"/>\n      </g>\n     </g>\n     <g id=\"text_12\">\n      <!-- 0 -->\n      <g transform=\"translate(33.603125 189.677344)scale(0.1 -0.1)\">\n       <use xlink:href=\"#DejaVuSans-48\"/>\n      </g>\n     </g>\n    </g>\n    <g id=\"ytick_2\">\n     <g id=\"line2d_12\">\n      <g>\n       <use style=\"stroke:#000000;stroke-width:0.8;\" x=\"46.965625\" xlink:href=\"#mcebd5d3724\" y=\"153.520982\"/>\n      </g>\n     </g>\n     <g id=\"text_13\">\n      <!-- 20 -->\n      <g transform=\"translate(27.240625 157.320201)scale(0.1 -0.1)\">\n       <use xlink:href=\"#DejaVuSans-50\"/>\n       <use x=\"63.623047\" xlink:href=\"#DejaVuSans-48\"/>\n      </g>\n     </g>\n    </g>\n    <g id=\"ytick_3\">\n     <g id=\"line2d_13\">\n      <g>\n       <use style=\"stroke:#000000;stroke-width:0.8;\" x=\"46.965625\" xlink:href=\"#mcebd5d3724\" y=\"121.163839\"/>\n      </g>\n     </g>\n     <g id=\"text_14\">\n      <!-- 40 -->\n      <g transform=\"translate(27.240625 124.963058)scale(0.1 -0.1)\">\n       <use xlink:href=\"#DejaVuSans-52\"/>\n       <use x=\"63.623047\" xlink:href=\"#DejaVuSans-48\"/>\n      </g>\n     </g>\n    </g>\n    <g id=\"ytick_4\">\n     <g id=\"line2d_14\">\n      <g>\n       <use style=\"stroke:#000000;stroke-width:0.8;\" x=\"46.965625\" xlink:href=\"#mcebd5d3724\" y=\"88.806696\"/>\n      </g>\n     </g>\n     <g id=\"text_15\">\n      <!-- 60 -->\n      <g transform=\"translate(27.240625 92.605915)scale(0.1 -0.1)\">\n       <use xlink:href=\"#DejaVuSans-54\"/>\n       <use x=\"63.623047\" xlink:href=\"#DejaVuSans-48\"/>\n      </g>\n     </g>\n    </g>\n    <g id=\"ytick_5\">\n     <g id=\"line2d_15\">\n      <g>\n       <use style=\"stroke:#000000;stroke-width:0.8;\" x=\"46.965625\" xlink:href=\"#mcebd5d3724\" y=\"56.449554\"/>\n      </g>\n     </g>\n     <g id=\"text_16\">\n      <!-- 80 -->\n      <g transform=\"translate(27.240625 60.248772)scale(0.1 -0.1)\">\n       <use xlink:href=\"#DejaVuSans-56\"/>\n       <use x=\"63.623047\" xlink:href=\"#DejaVuSans-48\"/>\n      </g>\n     </g>\n    </g>\n    <g id=\"ytick_6\">\n     <g id=\"line2d_16\">\n      <g>\n       <use style=\"stroke:#000000;stroke-width:0.8;\" x=\"46.965625\" xlink:href=\"#mcebd5d3724\" y=\"24.092411\"/>\n      </g>\n     </g>\n     <g id=\"text_17\">\n      <!-- 100 -->\n      <g transform=\"translate(20.878125 27.891629)scale(0.1 -0.1)\">\n       <use xlink:href=\"#DejaVuSans-49\"/>\n       <use x=\"63.623047\" xlink:href=\"#DejaVuSans-48\"/>\n       <use x=\"127.246094\" xlink:href=\"#DejaVuSans-48\"/>\n      </g>\n     </g>\n    </g>\n    <g id=\"text_18\">\n     <!-- Resolutivade Interna (%) -->\n     <defs>\n      <path d=\"M 44.390625 34.1875 \nQ 47.5625 33.109375 50.5625 29.59375 \nQ 53.5625 26.078125 56.59375 19.921875 \nL 66.609375 0 \nL 56 0 \nL 46.6875 18.703125 \nQ 43.0625 26.03125 39.671875 28.421875 \nQ 36.28125 30.8125 30.421875 30.8125 \nL 19.671875 30.8125 \nL 19.671875 0 \nL 9.8125 0 \nL 9.8125 72.90625 \nL 32.078125 72.90625 \nQ 44.578125 72.90625 50.734375 67.671875 \nQ 56.890625 62.453125 56.890625 51.90625 \nQ 56.890625 45.015625 53.6875 40.46875 \nQ 50.484375 35.9375 44.390625 34.1875 \nz\nM 19.671875 64.796875 \nL 19.671875 38.921875 \nL 32.078125 38.921875 \nQ 39.203125 38.921875 42.84375 42.21875 \nQ 46.484375 45.515625 46.484375 51.90625 \nQ 46.484375 58.296875 42.84375 61.546875 \nQ 39.203125 64.796875 32.078125 64.796875 \nz\n\" id=\"DejaVuSans-82\"/>\n      <path d=\"M 56.203125 29.59375 \nL 56.203125 25.203125 \nL 14.890625 25.203125 \nQ 15.484375 15.921875 20.484375 11.0625 \nQ 25.484375 6.203125 34.421875 6.203125 \nQ 39.59375 6.203125 44.453125 7.46875 \nQ 49.3125 8.734375 54.109375 11.28125 \nL 54.109375 2.78125 \nQ 49.265625 0.734375 44.1875 -0.34375 \nQ 39.109375 -1.421875 33.890625 -1.421875 \nQ 20.796875 -1.421875 13.15625 6.1875 \nQ 5.515625 13.8125 5.515625 26.8125 \nQ 5.515625 40.234375 12.765625 48.109375 \nQ 20.015625 56 32.328125 56 \nQ 43.359375 56 49.78125 48.890625 \nQ 56.203125 41.796875 56.203125 29.59375 \nz\nM 47.21875 32.234375 \nQ 47.125 39.59375 43.09375 43.984375 \nQ 39.0625 48.390625 32.421875 48.390625 \nQ 24.90625 48.390625 20.390625 44.140625 \nQ 15.875 39.890625 15.1875 32.171875 \nz\n\" id=\"DejaVuSans-101\"/>\n      <path d=\"M 30.609375 48.390625 \nQ 23.390625 48.390625 19.1875 42.75 \nQ 14.984375 37.109375 14.984375 27.296875 \nQ 14.984375 17.484375 19.15625 11.84375 \nQ 23.34375 6.203125 30.609375 6.203125 \nQ 37.796875 6.203125 41.984375 11.859375 \nQ 46.1875 17.53125 46.1875 27.296875 \nQ 46.1875 37.015625 41.984375 42.703125 \nQ 37.796875 48.390625 30.609375 48.390625 \nz\nM 30.609375 56 \nQ 42.328125 56 49.015625 48.375 \nQ 55.71875 40.765625 55.71875 27.296875 \nQ 55.71875 13.875 49.015625 6.21875 \nQ 42.328125 -1.421875 30.609375 -1.421875 \nQ 18.84375 -1.421875 12.171875 6.21875 \nQ 5.515625 13.875 5.515625 27.296875 \nQ 5.515625 40.765625 12.171875 48.375 \nQ 18.84375 56 30.609375 56 \nz\n\" id=\"DejaVuSans-111\"/>\n      <path d=\"M 9.421875 75.984375 \nL 18.40625 75.984375 \nL 18.40625 0 \nL 9.421875 0 \nz\n\" id=\"DejaVuSans-108\"/>\n      <path d=\"M 8.5 21.578125 \nL 8.5 54.6875 \nL 17.484375 54.6875 \nL 17.484375 21.921875 \nQ 17.484375 14.15625 20.5 10.265625 \nQ 23.53125 6.390625 29.59375 6.390625 \nQ 36.859375 6.390625 41.078125 11.03125 \nQ 45.3125 15.671875 45.3125 23.6875 \nL 45.3125 54.6875 \nL 54.296875 54.6875 \nL 54.296875 0 \nL 45.3125 0 \nL 45.3125 8.40625 \nQ 42.046875 3.421875 37.71875 1 \nQ 33.40625 -1.421875 27.6875 -1.421875 \nQ 18.265625 -1.421875 13.375 4.4375 \nQ 8.5 10.296875 8.5 21.578125 \nz\nM 31.109375 56 \nz\n\" id=\"DejaVuSans-117\"/>\n      <path d=\"M 18.3125 70.21875 \nL 18.3125 54.6875 \nL 36.8125 54.6875 \nL 36.8125 47.703125 \nL 18.3125 47.703125 \nL 18.3125 18.015625 \nQ 18.3125 11.328125 20.140625 9.421875 \nQ 21.96875 7.515625 27.59375 7.515625 \nL 36.8125 7.515625 \nL 36.8125 0 \nL 27.59375 0 \nQ 17.1875 0 13.234375 3.875 \nQ 9.28125 7.765625 9.28125 18.015625 \nL 9.28125 47.703125 \nL 2.6875 47.703125 \nL 2.6875 54.6875 \nL 9.28125 54.6875 \nL 9.28125 70.21875 \nz\n\" id=\"DejaVuSans-116\"/>\n      <path d=\"M 9.421875 54.6875 \nL 18.40625 54.6875 \nL 18.40625 0 \nL 9.421875 0 \nz\nM 9.421875 75.984375 \nL 18.40625 75.984375 \nL 18.40625 64.59375 \nL 9.421875 64.59375 \nz\n\" id=\"DejaVuSans-105\"/>\n      <path d=\"M 2.984375 54.6875 \nL 12.5 54.6875 \nL 29.59375 8.796875 \nL 46.6875 54.6875 \nL 56.203125 54.6875 \nL 35.6875 0 \nL 23.484375 0 \nz\n\" id=\"DejaVuSans-118\"/>\n      <path d=\"M 34.28125 27.484375 \nQ 23.390625 27.484375 19.1875 25 \nQ 14.984375 22.515625 14.984375 16.5 \nQ 14.984375 11.71875 18.140625 8.90625 \nQ 21.296875 6.109375 26.703125 6.109375 \nQ 34.1875 6.109375 38.703125 11.40625 \nQ 43.21875 16.703125 43.21875 25.484375 \nL 43.21875 27.484375 \nz\nM 52.203125 31.203125 \nL 52.203125 0 \nL 43.21875 0 \nL 43.21875 8.296875 \nQ 40.140625 3.328125 35.546875 0.953125 \nQ 30.953125 -1.421875 24.3125 -1.421875 \nQ 15.921875 -1.421875 10.953125 3.296875 \nQ 6 8.015625 6 15.921875 \nQ 6 25.140625 12.171875 29.828125 \nQ 18.359375 34.515625 30.609375 34.515625 \nL 43.21875 34.515625 \nL 43.21875 35.40625 \nQ 43.21875 41.609375 39.140625 45 \nQ 35.0625 48.390625 27.6875 48.390625 \nQ 23 48.390625 18.546875 47.265625 \nQ 14.109375 46.140625 10.015625 43.890625 \nL 10.015625 52.203125 \nQ 14.9375 54.109375 19.578125 55.046875 \nQ 24.21875 56 28.609375 56 \nQ 40.484375 56 46.34375 49.84375 \nQ 52.203125 43.703125 52.203125 31.203125 \nz\n\" id=\"DejaVuSans-97\"/>\n      <path d=\"M 45.40625 46.390625 \nL 45.40625 75.984375 \nL 54.390625 75.984375 \nL 54.390625 0 \nL 45.40625 0 \nL 45.40625 8.203125 \nQ 42.578125 3.328125 38.25 0.953125 \nQ 33.9375 -1.421875 27.875 -1.421875 \nQ 17.96875 -1.421875 11.734375 6.484375 \nQ 5.515625 14.40625 5.515625 27.296875 \nQ 5.515625 40.1875 11.734375 48.09375 \nQ 17.96875 56 27.875 56 \nQ 33.9375 56 38.25 53.625 \nQ 42.578125 51.265625 45.40625 46.390625 \nz\nM 14.796875 27.296875 \nQ 14.796875 17.390625 18.875 11.75 \nQ 22.953125 6.109375 30.078125 6.109375 \nQ 37.203125 6.109375 41.296875 11.75 \nQ 45.40625 17.390625 45.40625 27.296875 \nQ 45.40625 37.203125 41.296875 42.84375 \nQ 37.203125 48.484375 30.078125 48.484375 \nQ 22.953125 48.484375 18.875 42.84375 \nQ 14.796875 37.203125 14.796875 27.296875 \nz\n\" id=\"DejaVuSans-100\"/>\n      <path d=\"M 9.8125 72.90625 \nL 19.671875 72.90625 \nL 19.671875 0 \nL 9.8125 0 \nz\n\" id=\"DejaVuSans-73\"/>\n      <path d=\"M 54.890625 33.015625 \nL 54.890625 0 \nL 45.90625 0 \nL 45.90625 32.71875 \nQ 45.90625 40.484375 42.875 44.328125 \nQ 39.84375 48.1875 33.796875 48.1875 \nQ 26.515625 48.1875 22.3125 43.546875 \nQ 18.109375 38.921875 18.109375 30.90625 \nL 18.109375 0 \nL 9.078125 0 \nL 9.078125 54.6875 \nL 18.109375 54.6875 \nL 18.109375 46.1875 \nQ 21.34375 51.125 25.703125 53.5625 \nQ 30.078125 56 35.796875 56 \nQ 45.21875 56 50.046875 50.171875 \nQ 54.890625 44.34375 54.890625 33.015625 \nz\n\" id=\"DejaVuSans-110\"/>\n      <path d=\"M 41.109375 46.296875 \nQ 39.59375 47.171875 37.8125 47.578125 \nQ 36.03125 48 33.890625 48 \nQ 26.265625 48 22.1875 43.046875 \nQ 18.109375 38.09375 18.109375 28.8125 \nL 18.109375 0 \nL 9.078125 0 \nL 9.078125 54.6875 \nL 18.109375 54.6875 \nL 18.109375 46.1875 \nQ 20.953125 51.171875 25.484375 53.578125 \nQ 30.03125 56 36.53125 56 \nQ 37.453125 56 38.578125 55.875 \nQ 39.703125 55.765625 41.0625 55.515625 \nz\n\" id=\"DejaVuSans-114\"/>\n      <path d=\"M 31 75.875 \nQ 24.46875 64.65625 21.28125 53.65625 \nQ 18.109375 42.671875 18.109375 31.390625 \nQ 18.109375 20.125 21.3125 9.0625 \nQ 24.515625 -2 31 -13.1875 \nL 23.1875 -13.1875 \nQ 15.875 -1.703125 12.234375 9.375 \nQ 8.59375 20.453125 8.59375 31.390625 \nQ 8.59375 42.28125 12.203125 53.3125 \nQ 15.828125 64.359375 23.1875 75.875 \nz\n\" id=\"DejaVuSans-40\"/>\n      <path d=\"M 72.703125 32.078125 \nQ 68.453125 32.078125 66.03125 28.46875 \nQ 63.625 24.859375 63.625 18.40625 \nQ 63.625 12.0625 66.03125 8.421875 \nQ 68.453125 4.78125 72.703125 4.78125 \nQ 76.859375 4.78125 79.265625 8.421875 \nQ 81.6875 12.0625 81.6875 18.40625 \nQ 81.6875 24.8125 79.265625 28.4375 \nQ 76.859375 32.078125 72.703125 32.078125 \nz\nM 72.703125 38.28125 \nQ 80.421875 38.28125 84.953125 32.90625 \nQ 89.5 27.546875 89.5 18.40625 \nQ 89.5 9.28125 84.9375 3.921875 \nQ 80.375 -1.421875 72.703125 -1.421875 \nQ 64.890625 -1.421875 60.34375 3.921875 \nQ 55.8125 9.28125 55.8125 18.40625 \nQ 55.8125 27.59375 60.375 32.9375 \nQ 64.9375 38.28125 72.703125 38.28125 \nz\nM 22.3125 68.015625 \nQ 18.109375 68.015625 15.6875 64.375 \nQ 13.28125 60.75 13.28125 54.390625 \nQ 13.28125 47.953125 15.671875 44.328125 \nQ 18.0625 40.71875 22.3125 40.71875 \nQ 26.5625 40.71875 28.96875 44.328125 \nQ 31.390625 47.953125 31.390625 54.390625 \nQ 31.390625 60.6875 28.953125 64.34375 \nQ 26.515625 68.015625 22.3125 68.015625 \nz\nM 66.40625 74.21875 \nL 74.21875 74.21875 \nL 28.609375 -1.421875 \nL 20.796875 -1.421875 \nz\nM 22.3125 74.21875 \nQ 30.03125 74.21875 34.609375 68.875 \nQ 39.203125 63.53125 39.203125 54.390625 \nQ 39.203125 45.171875 34.640625 39.84375 \nQ 30.078125 34.515625 22.3125 34.515625 \nQ 14.546875 34.515625 10.03125 39.859375 \nQ 5.515625 45.21875 5.515625 54.390625 \nQ 5.515625 63.484375 10.046875 68.84375 \nQ 14.59375 74.21875 22.3125 74.21875 \nz\n\" id=\"DejaVuSans-37\"/>\n      <path d=\"M 8.015625 75.875 \nL 15.828125 75.875 \nQ 23.140625 64.359375 26.78125 53.3125 \nQ 30.421875 42.28125 30.421875 31.390625 \nQ 30.421875 20.453125 26.78125 9.375 \nQ 23.140625 -1.703125 15.828125 -13.1875 \nL 8.015625 -13.1875 \nQ 14.5 -2 17.703125 9.0625 \nQ 20.90625 20.125 20.90625 31.390625 \nQ 20.90625 42.671875 17.703125 53.65625 \nQ 14.5 64.65625 8.015625 75.875 \nz\n\" id=\"DejaVuSans-41\"/>\n     </defs>\n     <g transform=\"translate(14.798438 166.220937)rotate(-90)scale(0.1 -0.1)\">\n      <use xlink:href=\"#DejaVuSans-82\"/>\n      <use x=\"64.982422\" xlink:href=\"#DejaVuSans-101\"/>\n      <use x=\"126.505859\" xlink:href=\"#DejaVuSans-115\"/>\n      <use x=\"178.605469\" xlink:href=\"#DejaVuSans-111\"/>\n      <use x=\"239.787109\" xlink:href=\"#DejaVuSans-108\"/>\n      <use x=\"267.570312\" xlink:href=\"#DejaVuSans-117\"/>\n      <use x=\"330.949219\" xlink:href=\"#DejaVuSans-116\"/>\n      <use x=\"370.158203\" xlink:href=\"#DejaVuSans-105\"/>\n      <use x=\"397.941406\" xlink:href=\"#DejaVuSans-118\"/>\n      <use x=\"457.121094\" xlink:href=\"#DejaVuSans-97\"/>\n      <use x=\"518.400391\" xlink:href=\"#DejaVuSans-100\"/>\n      <use x=\"581.876953\" xlink:href=\"#DejaVuSans-101\"/>\n      <use x=\"643.400391\" xlink:href=\"#DejaVuSans-32\"/>\n      <use x=\"675.1875\" xlink:href=\"#DejaVuSans-73\"/>\n      <use x=\"704.679688\" xlink:href=\"#DejaVuSans-110\"/>\n      <use x=\"768.058594\" xlink:href=\"#DejaVuSans-116\"/>\n      <use x=\"807.267578\" xlink:href=\"#DejaVuSans-101\"/>\n      <use x=\"868.791016\" xlink:href=\"#DejaVuSans-114\"/>\n      <use x=\"908.154297\" xlink:href=\"#DejaVuSans-110\"/>\n      <use x=\"971.533203\" xlink:href=\"#DejaVuSans-97\"/>\n      <use x=\"1032.8125\" xlink:href=\"#DejaVuSans-32\"/>\n      <use x=\"1064.599609\" xlink:href=\"#DejaVuSans-40\"/>\n      <use x=\"1103.613281\" xlink:href=\"#DejaVuSans-37\"/>\n      <use x=\"1198.632812\" xlink:href=\"#DejaVuSans-41\"/>\n     </g>\n    </g>\n   </g>\n   <g id=\"patch_13\">\n    <path d=\"M 46.965625 185.878125 \nL 46.965625 22.798125 \n\" style=\"fill:none;stroke:#000000;stroke-linecap:square;stroke-linejoin:miter;stroke-width:0.8;\"/>\n   </g>\n   <g id=\"patch_14\">\n    <path d=\"M 549.165625 185.878125 \nL 549.165625 22.798125 \n\" style=\"fill:none;stroke:#000000;stroke-linecap:square;stroke-linejoin:miter;stroke-width:0.8;\"/>\n   </g>\n   <g id=\"patch_15\">\n    <path d=\"M 46.965625 185.878125 \nL 549.165625 185.878125 \n\" style=\"fill:none;stroke:#000000;stroke-linecap:square;stroke-linejoin:miter;stroke-width:0.8;\"/>\n   </g>\n   <g id=\"patch_16\">\n    <path d=\"M 46.965625 22.798125 \nL 549.165625 22.798125 \n\" style=\"fill:none;stroke:#000000;stroke-linecap:square;stroke-linejoin:miter;stroke-width:0.8;\"/>\n   </g>\n   <g id=\"text_19\">\n    <!-- Resolutividade Interna da equipe de Engenharia Clínica -->\n    <defs>\n     <path d=\"M 35.890625 40.578125 \nQ 41.796875 40.578125 44.359375 42.765625 \nQ 46.921875 44.96875 46.921875 50 \nQ 46.921875 54.984375 44.359375 57.125 \nQ 41.796875 59.28125 35.890625 59.28125 \nL 27.984375 59.28125 \nL 27.984375 40.578125 \nz\nM 27.984375 27.59375 \nL 27.984375 0 \nL 9.1875 0 \nL 9.1875 72.90625 \nL 37.890625 72.90625 \nQ 52.296875 72.90625 59 68.0625 \nQ 65.71875 63.234375 65.71875 52.78125 \nQ 65.71875 45.5625 62.21875 40.921875 \nQ 58.734375 36.28125 51.703125 34.078125 \nQ 55.5625 33.203125 58.609375 30.09375 \nQ 61.671875 27 64.796875 20.703125 \nL 75 0 \nL 54.984375 0 \nL 46.09375 18.109375 \nQ 43.40625 23.578125 40.640625 25.578125 \nQ 37.890625 27.59375 33.296875 27.59375 \nz\n\" id=\"DejaVuSans-Bold-82\"/>\n     <path d=\"M 62.984375 27.484375 \nL 62.984375 22.515625 \nL 22.125 22.515625 \nQ 22.75 16.359375 26.5625 13.28125 \nQ 30.375 10.203125 37.203125 10.203125 \nQ 42.71875 10.203125 48.5 11.84375 \nQ 54.296875 13.484375 60.40625 16.796875 \nL 60.40625 3.328125 \nQ 54.203125 0.984375 48 -0.21875 \nQ 41.796875 -1.421875 35.59375 -1.421875 \nQ 20.75 -1.421875 12.515625 6.125 \nQ 4.296875 13.671875 4.296875 27.296875 \nQ 4.296875 40.671875 12.375 48.328125 \nQ 20.453125 56 34.625 56 \nQ 47.515625 56 55.25 48.234375 \nQ 62.984375 40.484375 62.984375 27.484375 \nz\nM 45.015625 33.296875 \nQ 45.015625 38.28125 42.109375 41.328125 \nQ 39.203125 44.390625 34.515625 44.390625 \nQ 29.4375 44.390625 26.265625 41.53125 \nQ 23.09375 38.671875 22.3125 33.296875 \nz\n\" id=\"DejaVuSans-Bold-101\"/>\n     <path d=\"M 51.125 52.984375 \nL 51.125 39.703125 \nQ 45.515625 42.046875 40.28125 43.21875 \nQ 35.0625 44.390625 30.421875 44.390625 \nQ 25.4375 44.390625 23.015625 43.140625 \nQ 20.609375 41.890625 20.609375 39.3125 \nQ 20.609375 37.203125 22.4375 36.078125 \nQ 24.265625 34.96875 29 34.421875 \nL 32.078125 33.984375 \nQ 45.515625 32.28125 50.140625 28.375 \nQ 54.78125 24.46875 54.78125 16.109375 \nQ 54.78125 7.375 48.328125 2.96875 \nQ 41.890625 -1.421875 29.109375 -1.421875 \nQ 23.6875 -1.421875 17.890625 -0.5625 \nQ 12.109375 0.296875 6 2 \nL 6 15.28125 \nQ 11.234375 12.75 16.71875 11.46875 \nQ 22.21875 10.203125 27.875 10.203125 \nQ 33.015625 10.203125 35.59375 11.609375 \nQ 38.1875 13.03125 38.1875 15.828125 \nQ 38.1875 18.171875 36.40625 19.3125 \nQ 34.625 20.453125 29.296875 21.09375 \nL 26.21875 21.484375 \nQ 14.546875 22.953125 9.859375 26.90625 \nQ 5.171875 30.859375 5.171875 38.921875 \nQ 5.171875 47.609375 11.125 51.796875 \nQ 17.09375 56 29.390625 56 \nQ 34.234375 56 39.546875 55.265625 \nQ 44.875 54.546875 51.125 52.984375 \nz\n\" id=\"DejaVuSans-Bold-115\"/>\n     <path d=\"M 34.421875 43.5 \nQ 28.609375 43.5 25.5625 39.328125 \nQ 22.515625 35.15625 22.515625 27.296875 \nQ 22.515625 19.4375 25.5625 15.25 \nQ 28.609375 11.078125 34.421875 11.078125 \nQ 40.140625 11.078125 43.15625 15.25 \nQ 46.1875 19.4375 46.1875 27.296875 \nQ 46.1875 35.15625 43.15625 39.328125 \nQ 40.140625 43.5 34.421875 43.5 \nz\nM 34.421875 56 \nQ 48.53125 56 56.46875 48.375 \nQ 64.40625 40.765625 64.40625 27.296875 \nQ 64.40625 13.8125 56.46875 6.1875 \nQ 48.53125 -1.421875 34.421875 -1.421875 \nQ 20.265625 -1.421875 12.28125 6.1875 \nQ 4.296875 13.8125 4.296875 27.296875 \nQ 4.296875 40.765625 12.28125 48.375 \nQ 20.265625 56 34.421875 56 \nz\n\" id=\"DejaVuSans-Bold-111\"/>\n     <path d=\"M 8.40625 75.984375 \nL 25.875 75.984375 \nL 25.875 0 \nL 8.40625 0 \nz\n\" id=\"DejaVuSans-Bold-108\"/>\n     <path d=\"M 7.8125 21.296875 \nL 7.8125 54.6875 \nL 25.390625 54.6875 \nL 25.390625 49.21875 \nQ 25.390625 44.78125 25.34375 38.0625 \nQ 25.296875 31.34375 25.296875 29.109375 \nQ 25.296875 22.515625 25.640625 19.609375 \nQ 25.984375 16.703125 26.8125 15.375 \nQ 27.875 13.671875 29.609375 12.734375 \nQ 31.34375 11.8125 33.59375 11.8125 \nQ 39.0625 11.8125 42.1875 16.015625 \nQ 45.3125 20.21875 45.3125 27.6875 \nL 45.3125 54.6875 \nL 62.796875 54.6875 \nL 62.796875 0 \nL 45.3125 0 \nL 45.3125 7.90625 \nQ 41.359375 3.125 36.9375 0.84375 \nQ 32.515625 -1.421875 27.203125 -1.421875 \nQ 17.71875 -1.421875 12.765625 4.390625 \nQ 7.8125 10.203125 7.8125 21.296875 \nz\n\" id=\"DejaVuSans-Bold-117\"/>\n     <path d=\"M 27.484375 70.21875 \nL 27.484375 54.6875 \nL 45.515625 54.6875 \nL 45.515625 42.1875 \nL 27.484375 42.1875 \nL 27.484375 19 \nQ 27.484375 15.1875 29 13.84375 \nQ 30.515625 12.5 35.015625 12.5 \nL 44 12.5 \nL 44 0 \nL 29 0 \nQ 18.65625 0 14.328125 4.3125 \nQ 10.015625 8.640625 10.015625 19 \nL 10.015625 42.1875 \nL 1.3125 42.1875 \nL 1.3125 54.6875 \nL 10.015625 54.6875 \nL 10.015625 70.21875 \nz\n\" id=\"DejaVuSans-Bold-116\"/>\n     <path d=\"M 8.40625 54.6875 \nL 25.875 54.6875 \nL 25.875 0 \nL 8.40625 0 \nz\nM 8.40625 75.984375 \nL 25.875 75.984375 \nL 25.875 61.71875 \nL 8.40625 61.71875 \nz\n\" id=\"DejaVuSans-Bold-105\"/>\n     <path d=\"M 1.515625 54.6875 \nL 19 54.6875 \nL 32.625 16.890625 \nL 46.1875 54.6875 \nL 63.71875 54.6875 \nL 42.1875 0 \nL 23 0 \nz\n\" id=\"DejaVuSans-Bold-118\"/>\n     <path d=\"M 45.609375 46.6875 \nL 45.609375 75.984375 \nL 63.1875 75.984375 \nL 63.1875 0 \nL 45.609375 0 \nL 45.609375 7.90625 \nQ 42 3.078125 37.640625 0.828125 \nQ 33.296875 -1.421875 27.59375 -1.421875 \nQ 17.484375 -1.421875 10.984375 6.609375 \nQ 4.5 14.65625 4.5 27.296875 \nQ 4.5 39.9375 10.984375 47.96875 \nQ 17.484375 56 27.59375 56 \nQ 33.25 56 37.625 53.734375 \nQ 42 51.46875 45.609375 46.6875 \nz\nM 34.078125 11.28125 \nQ 39.703125 11.28125 42.65625 15.375 \nQ 45.609375 19.484375 45.609375 27.296875 \nQ 45.609375 35.109375 42.65625 39.203125 \nQ 39.703125 43.3125 34.078125 43.3125 \nQ 28.515625 43.3125 25.5625 39.203125 \nQ 22.609375 35.109375 22.609375 27.296875 \nQ 22.609375 19.484375 25.5625 15.375 \nQ 28.515625 11.28125 34.078125 11.28125 \nz\n\" id=\"DejaVuSans-Bold-100\"/>\n     <path d=\"M 32.90625 24.609375 \nQ 27.4375 24.609375 24.671875 22.75 \nQ 21.921875 20.90625 21.921875 17.28125 \nQ 21.921875 13.96875 24.140625 12.078125 \nQ 26.375 10.203125 30.328125 10.203125 \nQ 35.25 10.203125 38.625 13.734375 \nQ 42 17.28125 42 22.609375 \nL 42 24.609375 \nz\nM 59.625 31.203125 \nL 59.625 0 \nL 42 0 \nL 42 8.109375 \nQ 38.484375 3.125 34.078125 0.84375 \nQ 29.6875 -1.421875 23.390625 -1.421875 \nQ 14.890625 -1.421875 9.59375 3.53125 \nQ 4.296875 8.5 4.296875 16.40625 \nQ 4.296875 26.03125 10.90625 30.515625 \nQ 17.53125 35.015625 31.6875 35.015625 \nL 42 35.015625 \nL 42 36.375 \nQ 42 40.53125 38.71875 42.453125 \nQ 35.453125 44.390625 28.515625 44.390625 \nQ 22.90625 44.390625 18.0625 43.265625 \nQ 13.234375 42.140625 9.078125 39.890625 \nL 9.078125 53.21875 \nQ 14.703125 54.59375 20.359375 55.296875 \nQ 26.03125 56 31.6875 56 \nQ 46.484375 56 53.046875 50.171875 \nQ 59.625 44.34375 59.625 31.203125 \nz\n\" id=\"DejaVuSans-Bold-97\"/>\n     <path id=\"DejaVuSans-Bold-32\"/>\n     <path d=\"M 9.1875 72.90625 \nL 27.984375 72.90625 \nL 27.984375 0 \nL 9.1875 0 \nz\n\" id=\"DejaVuSans-Bold-73\"/>\n     <path d=\"M 63.375 33.296875 \nL 63.375 0 \nL 45.796875 0 \nL 45.796875 5.421875 \nL 45.796875 25.484375 \nQ 45.796875 32.5625 45.484375 35.25 \nQ 45.171875 37.9375 44.390625 39.203125 \nQ 43.359375 40.921875 41.59375 41.875 \nQ 39.84375 42.828125 37.59375 42.828125 \nQ 32.125 42.828125 29 38.59375 \nQ 25.875 34.375 25.875 26.90625 \nL 25.875 0 \nL 8.40625 0 \nL 8.40625 54.6875 \nL 25.875 54.6875 \nL 25.875 46.6875 \nQ 29.828125 51.46875 34.265625 53.734375 \nQ 38.71875 56 44.09375 56 \nQ 53.5625 56 58.46875 50.1875 \nQ 63.375 44.390625 63.375 33.296875 \nz\n\" id=\"DejaVuSans-Bold-110\"/>\n     <path d=\"M 49.03125 39.796875 \nQ 46.734375 40.875 44.453125 41.375 \nQ 42.1875 41.890625 39.890625 41.890625 \nQ 33.15625 41.890625 29.515625 37.5625 \nQ 25.875 33.25 25.875 25.203125 \nL 25.875 0 \nL 8.40625 0 \nL 8.40625 54.6875 \nL 25.875 54.6875 \nL 25.875 45.703125 \nQ 29.25 51.078125 33.609375 53.53125 \nQ 37.984375 56 44.09375 56 \nQ 44.96875 56 45.984375 55.921875 \nQ 47.015625 55.859375 48.96875 55.609375 \nz\n\" id=\"DejaVuSans-Bold-114\"/>\n     <path d=\"M 34.078125 43.3125 \nQ 28.515625 43.3125 25.5625 39.203125 \nQ 22.609375 35.109375 22.609375 27.296875 \nQ 22.609375 19.484375 25.5625 15.375 \nQ 28.515625 11.28125 34.078125 11.28125 \nQ 39.703125 11.28125 42.65625 15.375 \nQ 45.609375 19.484375 45.609375 27.296875 \nQ 45.609375 35.109375 42.65625 39.203125 \nQ 39.703125 43.3125 34.078125 43.3125 \nz\nM 45.609375 7.90625 \nQ 42 3.078125 37.640625 0.828125 \nQ 33.296875 -1.421875 27.59375 -1.421875 \nQ 17.484375 -1.421875 10.984375 6.609375 \nQ 4.5 14.65625 4.5 27.296875 \nQ 4.5 39.9375 10.984375 47.921875 \nQ 17.484375 55.90625 27.59375 55.90625 \nQ 33.296875 55.90625 37.640625 53.65625 \nQ 42 51.421875 45.609375 46.578125 \nL 45.609375 54.6875 \nL 63.1875 54.6875 \nL 63.1875 -20.796875 \nL 45.609375 -20.796875 \nz\n\" id=\"DejaVuSans-Bold-113\"/>\n     <path d=\"M 25.875 7.90625 \nL 25.875 -20.796875 \nL 8.40625 -20.796875 \nL 8.40625 54.6875 \nL 25.875 54.6875 \nL 25.875 46.6875 \nQ 29.5 51.46875 33.890625 53.734375 \nQ 38.28125 56 44 56 \nQ 54.109375 56 60.59375 47.96875 \nQ 67.09375 39.9375 67.09375 27.296875 \nQ 67.09375 14.65625 60.59375 6.609375 \nQ 54.109375 -1.421875 44 -1.421875 \nQ 38.28125 -1.421875 33.890625 0.84375 \nQ 29.5 3.125 25.875 7.90625 \nz\nM 37.5 43.3125 \nQ 31.890625 43.3125 28.875 39.1875 \nQ 25.875 35.0625 25.875 27.296875 \nQ 25.875 19.53125 28.875 15.40625 \nQ 31.890625 11.28125 37.5 11.28125 \nQ 43.109375 11.28125 46.0625 15.375 \nQ 49.03125 19.484375 49.03125 27.296875 \nQ 49.03125 35.109375 46.0625 39.203125 \nQ 43.109375 43.3125 37.5 43.3125 \nz\n\" id=\"DejaVuSans-Bold-112\"/>\n     <path d=\"M 9.1875 72.90625 \nL 59.90625 72.90625 \nL 59.90625 58.6875 \nL 27.984375 58.6875 \nL 27.984375 45.125 \nL 58.015625 45.125 \nL 58.015625 30.90625 \nL 27.984375 30.90625 \nL 27.984375 14.203125 \nL 60.984375 14.203125 \nL 60.984375 0 \nL 9.1875 0 \nz\n\" id=\"DejaVuSans-Bold-69\"/>\n     <path d=\"M 45.609375 9.28125 \nQ 42 4.5 37.640625 2.25 \nQ 33.296875 0 27.59375 0 \nQ 17.578125 0 11.03125 7.875 \nQ 4.5 15.765625 4.5 27.984375 \nQ 4.5 40.234375 11.03125 48.0625 \nQ 17.578125 55.90625 27.59375 55.90625 \nQ 33.296875 55.90625 37.640625 53.65625 \nQ 42 51.421875 45.609375 46.578125 \nL 45.609375 54.6875 \nL 63.1875 54.6875 \nL 63.1875 5.515625 \nQ 63.1875 -7.671875 54.859375 -14.625 \nQ 46.53125 -21.578125 30.71875 -21.578125 \nQ 25.59375 -21.578125 20.796875 -20.796875 \nQ 16.015625 -20.015625 11.1875 -18.40625 \nL 11.1875 -4.78125 \nQ 15.765625 -7.421875 20.15625 -8.71875 \nQ 24.5625 -10.015625 29 -10.015625 \nQ 37.59375 -10.015625 41.59375 -6.25 \nQ 45.609375 -2.484375 45.609375 5.515625 \nz\nM 34.078125 43.3125 \nQ 28.65625 43.3125 25.625 39.296875 \nQ 22.609375 35.296875 22.609375 27.984375 \nQ 22.609375 20.453125 25.53125 16.578125 \nQ 28.46875 12.703125 34.078125 12.703125 \nQ 39.546875 12.703125 42.578125 16.703125 \nQ 45.609375 20.703125 45.609375 27.984375 \nQ 45.609375 35.296875 42.578125 39.296875 \nQ 39.546875 43.3125 34.078125 43.3125 \nz\n\" id=\"DejaVuSans-Bold-103\"/>\n     <path d=\"M 63.375 33.296875 \nL 63.375 0 \nL 45.796875 0 \nL 45.796875 5.421875 \nL 45.796875 25.390625 \nQ 45.796875 32.5625 45.484375 35.25 \nQ 45.171875 37.9375 44.390625 39.203125 \nQ 43.359375 40.921875 41.59375 41.875 \nQ 39.84375 42.828125 37.59375 42.828125 \nQ 32.125 42.828125 29 38.59375 \nQ 25.875 34.375 25.875 26.90625 \nL 25.875 0 \nL 8.40625 0 \nL 8.40625 75.984375 \nL 25.875 75.984375 \nL 25.875 46.6875 \nQ 29.828125 51.46875 34.265625 53.734375 \nQ 38.71875 56 44.09375 56 \nQ 53.5625 56 58.46875 50.1875 \nQ 63.375 44.390625 63.375 33.296875 \nz\n\" id=\"DejaVuSans-Bold-104\"/>\n     <path d=\"M 67 4 \nQ 61.8125 1.3125 56.203125 -0.046875 \nQ 50.59375 -1.421875 44.484375 -1.421875 \nQ 26.265625 -1.421875 15.625 8.765625 \nQ 4.984375 18.953125 4.984375 36.375 \nQ 4.984375 53.859375 15.625 64.03125 \nQ 26.265625 74.21875 44.484375 74.21875 \nQ 50.59375 74.21875 56.203125 72.84375 \nQ 61.8125 71.484375 67 68.796875 \nL 67 53.71875 \nQ 61.765625 57.28125 56.6875 58.9375 \nQ 51.609375 60.59375 46 60.59375 \nQ 35.9375 60.59375 30.171875 54.140625 \nQ 24.421875 47.703125 24.421875 36.375 \nQ 24.421875 25.09375 30.171875 18.640625 \nQ 35.9375 12.203125 46 12.203125 \nQ 51.609375 12.203125 56.6875 13.859375 \nQ 61.765625 15.53125 67 19.09375 \nz\n\" id=\"DejaVuSans-Bold-67\"/>\n     <path d=\"M 8.40625 54.6875 \nL 25.875 54.6875 \nL 25.875 0 \nL 8.40625 0 \nz\nM 24.84375 79.984375 \nL 38.65625 79.984375 \nL 20.640625 61.625 \nL 11.078125 61.625 \nz\n\" id=\"DejaVuSans-Bold-237\"/>\n     <path d=\"M 52.59375 52.984375 \nL 52.59375 38.71875 \nQ 49.03125 41.15625 45.4375 42.328125 \nQ 41.84375 43.5 37.984375 43.5 \nQ 30.671875 43.5 26.59375 39.234375 \nQ 22.515625 34.96875 22.515625 27.296875 \nQ 22.515625 19.625 26.59375 15.34375 \nQ 30.671875 11.078125 37.984375 11.078125 \nQ 42.09375 11.078125 45.78125 12.296875 \nQ 49.46875 13.53125 52.59375 15.921875 \nL 52.59375 1.609375 \nQ 48.484375 0.09375 44.265625 -0.65625 \nQ 40.046875 -1.421875 35.796875 -1.421875 \nQ 21 -1.421875 12.640625 6.171875 \nQ 4.296875 13.765625 4.296875 27.296875 \nQ 4.296875 40.828125 12.640625 48.40625 \nQ 21 56 35.796875 56 \nQ 40.09375 56 44.265625 55.25 \nQ 48.4375 54.5 52.59375 52.984375 \nz\n\" id=\"DejaVuSans-Bold-99\"/>\n    </defs>\n    <g transform=\"translate(109.894375 16.798125)scale(0.12 -0.12)\">\n     <use xlink:href=\"#DejaVuSans-Bold-82\"/>\n     <use x=\"77.001953\" xlink:href=\"#DejaVuSans-Bold-101\"/>\n     <use x=\"144.824219\" xlink:href=\"#DejaVuSans-Bold-115\"/>\n     <use x=\"204.345703\" xlink:href=\"#DejaVuSans-Bold-111\"/>\n     <use x=\"273.046875\" xlink:href=\"#DejaVuSans-Bold-108\"/>\n     <use x=\"307.324219\" xlink:href=\"#DejaVuSans-Bold-117\"/>\n     <use x=\"378.515625\" xlink:href=\"#DejaVuSans-Bold-116\"/>\n     <use x=\"426.318359\" xlink:href=\"#DejaVuSans-Bold-105\"/>\n     <use x=\"460.595703\" xlink:href=\"#DejaVuSans-Bold-118\"/>\n     <use x=\"525.78125\" xlink:href=\"#DejaVuSans-Bold-105\"/>\n     <use x=\"560.058594\" xlink:href=\"#DejaVuSans-Bold-100\"/>\n     <use x=\"631.640625\" xlink:href=\"#DejaVuSans-Bold-97\"/>\n     <use x=\"699.121094\" xlink:href=\"#DejaVuSans-Bold-100\"/>\n     <use x=\"770.703125\" xlink:href=\"#DejaVuSans-Bold-101\"/>\n     <use x=\"838.525391\" xlink:href=\"#DejaVuSans-Bold-32\"/>\n     <use x=\"873.339844\" xlink:href=\"#DejaVuSans-Bold-73\"/>\n     <use x=\"910.546875\" xlink:href=\"#DejaVuSans-Bold-110\"/>\n     <use x=\"981.738281\" xlink:href=\"#DejaVuSans-Bold-116\"/>\n     <use x=\"1029.541016\" xlink:href=\"#DejaVuSans-Bold-101\"/>\n     <use x=\"1097.363281\" xlink:href=\"#DejaVuSans-Bold-114\"/>\n     <use x=\"1146.679688\" xlink:href=\"#DejaVuSans-Bold-110\"/>\n     <use x=\"1217.871094\" xlink:href=\"#DejaVuSans-Bold-97\"/>\n     <use x=\"1285.351562\" xlink:href=\"#DejaVuSans-Bold-32\"/>\n     <use x=\"1320.166016\" xlink:href=\"#DejaVuSans-Bold-100\"/>\n     <use x=\"1391.748047\" xlink:href=\"#DejaVuSans-Bold-97\"/>\n     <use x=\"1459.228516\" xlink:href=\"#DejaVuSans-Bold-32\"/>\n     <use x=\"1494.042969\" xlink:href=\"#DejaVuSans-Bold-101\"/>\n     <use x=\"1561.865234\" xlink:href=\"#DejaVuSans-Bold-113\"/>\n     <use x=\"1633.447266\" xlink:href=\"#DejaVuSans-Bold-117\"/>\n     <use x=\"1704.638672\" xlink:href=\"#DejaVuSans-Bold-105\"/>\n     <use x=\"1738.916016\" xlink:href=\"#DejaVuSans-Bold-112\"/>\n     <use x=\"1810.498047\" xlink:href=\"#DejaVuSans-Bold-101\"/>\n     <use x=\"1878.320312\" xlink:href=\"#DejaVuSans-Bold-32\"/>\n     <use x=\"1913.134766\" xlink:href=\"#DejaVuSans-Bold-100\"/>\n     <use x=\"1984.716797\" xlink:href=\"#DejaVuSans-Bold-101\"/>\n     <use x=\"2052.539062\" xlink:href=\"#DejaVuSans-Bold-32\"/>\n     <use x=\"2087.353516\" xlink:href=\"#DejaVuSans-Bold-69\"/>\n     <use x=\"2155.664062\" xlink:href=\"#DejaVuSans-Bold-110\"/>\n     <use x=\"2226.855469\" xlink:href=\"#DejaVuSans-Bold-103\"/>\n     <use x=\"2298.4375\" xlink:href=\"#DejaVuSans-Bold-101\"/>\n     <use x=\"2366.259766\" xlink:href=\"#DejaVuSans-Bold-110\"/>\n     <use x=\"2437.451172\" xlink:href=\"#DejaVuSans-Bold-104\"/>\n     <use x=\"2508.642578\" xlink:href=\"#DejaVuSans-Bold-97\"/>\n     <use x=\"2576.123047\" xlink:href=\"#DejaVuSans-Bold-114\"/>\n     <use x=\"2625.439453\" xlink:href=\"#DejaVuSans-Bold-105\"/>\n     <use x=\"2659.716797\" xlink:href=\"#DejaVuSans-Bold-97\"/>\n     <use x=\"2727.197266\" xlink:href=\"#DejaVuSans-Bold-32\"/>\n     <use x=\"2762.011719\" xlink:href=\"#DejaVuSans-Bold-67\"/>\n     <use x=\"2835.400391\" xlink:href=\"#DejaVuSans-Bold-108\"/>\n     <use x=\"2869.677734\" xlink:href=\"#DejaVuSans-Bold-237\"/>\n     <use x=\"2903.955078\" xlink:href=\"#DejaVuSans-Bold-110\"/>\n     <use x=\"2975.146484\" xlink:href=\"#DejaVuSans-Bold-105\"/>\n     <use x=\"3009.423828\" xlink:href=\"#DejaVuSans-Bold-99\"/>\n     <use x=\"3068.701172\" xlink:href=\"#DejaVuSans-Bold-97\"/>\n    </g>\n   </g>\n  </g>\n </g>\n <defs>\n  <clipPath id=\"p10833e2066\">\n   <rect height=\"163.08\" width=\"502.2\" x=\"46.965625\" y=\"22.798125\"/>\n  </clipPath>\n </defs>\n</svg>\n"
          },
          "metadata": {
            "tags": [],
            "needs_background": "light"
          }
        }
      ]
    },
    {
      "cell_type": "markdown",
      "metadata": {
        "id": "ELgoMRAAUSjv"
      },
      "source": [
        "## 3\\. Função filter"
      ]
    },
    {
      "cell_type": "markdown",
      "metadata": {
        "id": "CuLkQY76USjw"
      },
      "source": [
        "### **3.1. Definição** "
      ]
    },
    {
      "cell_type": "markdown",
      "metadata": {
        "id": "YlVK531qSI_e"
      },
      "source": [
        "Aplica uma função lógica (que retorna um booleano) em todos os elementos de uma coleção (`list`, `dict`, etc.) e retorna **apenas** aqueles que resultaram em verdadeiro (`True`)."
      ]
    },
    {
      "cell_type": "markdown",
      "metadata": {
        "id": "CXonwzEsSJae"
      },
      "source": [
        "```python\n",
        "variavel = filter(função, coleção)\n",
        "```"
      ]
    },
    {
      "cell_type": "code",
      "metadata": {
        "id": "Be55OiGdiMWV"
      },
      "source": [
        "numeros = [1, 2, 3]\n",
        "\n",
        "numeros_par = filter(lambda num: num % 2 == 0, numeros)\n",
        "\n",
        "print(list(numeros_par))"
      ],
      "execution_count": null,
      "outputs": []
    },
    {
      "cell_type": "code",
      "metadata": {
        "id": "dHmNQ-93x-jB"
      },
      "source": [
        "xi = [1, 7, 14, 22, 21, 25, 35, 38, 40]\n",
        "\n",
        "multiplo_de_7 = filter(lambda xj: (xj % 7 == 0) & (xj % 2 !=0) , xi)\n",
        "print(list(multiplo_de_7))"
      ],
      "execution_count": null,
      "outputs": []
    },
    {
      "cell_type": "markdown",
      "metadata": {
        "id": "JENLdmHkUSjx"
      },
      "source": [
        "### **3.2. Função de alta ordem** "
      ]
    },
    {
      "cell_type": "markdown",
      "metadata": {
        "id": "9x372m2QifF-"
      },
      "source": [
        "**Exemplo**: Função `lambda` para extrair provedor de e-mail."
      ]
    },
    {
      "cell_type": "code",
      "metadata": {
        "id": "tFbNPPqhifGK"
      },
      "source": [
        "emails = ['andre.perez@gmail.com', 'andre.perez@live.com', 'andre.perez@yahoo.com']\n",
        "provedor_da_google = lambda email: 'gmail' in email"
      ],
      "execution_count": null,
      "outputs": []
    },
    {
      "cell_type": "code",
      "metadata": {
        "id": "sJa1F9BbifGK",
        "colab": {
          "base_uri": "https://localhost:8080/"
        },
        "outputId": "1182f540-9cc7-4e09-ea5e-4060a497b887"
      },
      "source": [
        "emails_google = []\n",
        "for email in emails:\n",
        "  if provedor_da_google(email) == True:\n",
        "    emails_google.append(email)\n",
        "\n",
        "print(emails_google)"
      ],
      "execution_count": null,
      "outputs": [
        {
          "output_type": "stream",
          "text": [
            "['andre.perez@gmail.com']\n"
          ],
          "name": "stdout"
        }
      ]
    },
    {
      "cell_type": "code",
      "metadata": {
        "id": "FSqNr4uEifGL",
        "colab": {
          "base_uri": "https://localhost:8080/"
        },
        "outputId": "a3c5396c-4d6f-47aa-8fdb-cb1ceca0d087"
      },
      "source": [
        "emails_google = filter(provedor_da_google, emails)\n",
        "print(emails_google)"
      ],
      "execution_count": null,
      "outputs": [
        {
          "output_type": "stream",
          "text": [
            "<filter object at 0x7f0801a50750>\n"
          ],
          "name": "stdout"
        }
      ]
    },
    {
      "cell_type": "code",
      "metadata": {
        "id": "ANQk4e1mifGM"
      },
      "source": [
        "emails_google = list(filter(provedor_da_google, emails))\n",
        "print(emails_google)"
      ],
      "execution_count": null,
      "outputs": []
    },
    {
      "cell_type": "code",
      "metadata": {
        "id": "pjosB1-CifGN"
      },
      "source": [
        "emails_google = filter(lambda email: 'gmail' in email, emails)\n",
        "...\n",
        "print(list(emails_google))"
      ],
      "execution_count": null,
      "outputs": []
    },
    {
      "cell_type": "markdown",
      "metadata": {
        "id": "o3o_8Fwj1LxZ"
      },
      "source": [
        "---\n",
        "**by VRO**:\n",
        "\n",
        "Criar um funação filter para retornar uma lista de valores pares e múltiplos de 7, a partir de uma coleção de 15 elementos."
      ]
    },
    {
      "cell_type": "code",
      "metadata": {
        "colab": {
          "base_uri": "https://localhost:8080/"
        },
        "id": "08JGbntu1LHf",
        "outputId": "ad8034d5-0ec6-4172-aeae-3269d5a505c8"
      },
      "source": [
        "n = [1, 5, 7, 14, 12, 16, 21, 28, 35, 42, 54, 56, 70, 75, 72]\n",
        "multiplo_7_par = list(filter(lambda xt: (xt % 7 ==0) & (xt % 2 == 0), n))\n",
        "print(multiplo_7_par)"
      ],
      "execution_count": null,
      "outputs": [
        {
          "output_type": "stream",
          "text": [
            "[14, 28, 42, 56, 70]\n"
          ],
          "name": "stdout"
        }
      ]
    },
    {
      "cell_type": "markdown",
      "metadata": {
        "id": "f20ThY5WXmns"
      },
      "source": [
        "## 4\\. Função reduce"
      ]
    },
    {
      "cell_type": "markdown",
      "metadata": {
        "id": "FlUhkpdwXmoJ"
      },
      "source": [
        "### **4.1. Definição** "
      ]
    },
    {
      "cell_type": "markdown",
      "metadata": {
        "id": "dyJvRiX_SNyu"
      },
      "source": [
        "Aplica uma função a todos os elemento de uma coleção, dois a dois, e retorna **apenas** um elemento."
      ]
    },
    {
      "cell_type": "markdown",
      "metadata": {
        "id": "9OavzMW5SMwE"
      },
      "source": [
        "```python\n",
        "variavel = reduce(função, coleção)\n",
        "```"
      ]
    },
    {
      "cell_type": "code",
      "metadata": {
        "id": "v3rKJJ62TxuY"
      },
      "source": [
        "numeros = [1, 2, 3]"
      ],
      "execution_count": null,
      "outputs": []
    },
    {
      "cell_type": "code",
      "metadata": {
        "id": "WA7m8-4mT9Tp",
        "colab": {
          "base_uri": "https://localhost:8080/"
        },
        "outputId": "7046e415-3f03-4e76-d7e6-30ee0189f031"
      },
      "source": [
        "from functools import reduce\n",
        "\n",
        "soma = reduce(lambda x, y: x + y, numeros)\n",
        "print(soma)"
      ],
      "execution_count": null,
      "outputs": [
        {
          "output_type": "stream",
          "text": [
            "6\n"
          ],
          "name": "stdout"
        }
      ]
    },
    {
      "cell_type": "markdown",
      "metadata": {
        "id": "mU0sJeoCXmoK"
      },
      "source": [
        "### **4.2. Função de alta ordem** "
      ]
    },
    {
      "cell_type": "markdown",
      "metadata": {
        "id": "as2Afz0XnAgf"
      },
      "source": [
        "**Exemplo**: Encontrar maior número em uma lista."
      ]
    },
    {
      "cell_type": "code",
      "metadata": {
        "id": "yTB_nTeek53N",
        "colab": {
          "base_uri": "https://localhost:8080/"
        },
        "outputId": "3ba31427-fe37-4ec2-eb36-f128dbfcb50b"
      },
      "source": [
        "def maior_entre(primeiro: int, segundo: int) -> int:\n",
        "  return primeiro if primeiro >= segundo else segundo\n",
        "\n",
        "primeiro = 11\n",
        "segundo = 11\n",
        "\n",
        "print(maior_entre(primeiro=primeiro, segundo=segundo))"
      ],
      "execution_count": null,
      "outputs": [
        {
          "output_type": "stream",
          "text": [
            "11\n"
          ],
          "name": "stdout"
        }
      ]
    },
    {
      "cell_type": "code",
      "metadata": {
        "id": "xox2zGiYoMHN",
        "colab": {
          "base_uri": "https://localhost:8080/"
        },
        "outputId": "258db5cb-d1ba-4d0b-8dfd-d6a3b513e736"
      },
      "source": [
        "from random import random\n",
        "\n",
        "print(random())"
      ],
      "execution_count": null,
      "outputs": [
        {
          "output_type": "stream",
          "text": [
            "0.5070517149729191\n"
          ],
          "name": "stdout"
        }
      ]
    },
    {
      "cell_type": "markdown",
      "metadata": {
        "id": "WGIfyioY4hpq"
      },
      "source": [
        "**Nota**: O *underline* signifia que não estamos interessados no primeiro elemento."
      ]
    },
    {
      "cell_type": "code",
      "metadata": {
        "id": "Y3c7wLUok5TF",
        "colab": {
          "base_uri": "https://localhost:8080/"
        },
        "outputId": "0c30d4ae-8562-44bf-9293-92e7c7f9b95d"
      },
      "source": [
        "from random import random\n",
        "\n",
        "numeros = [round(100 * random()) for _ in range(0, 100)]\n",
        "print(numeros)"
      ],
      "execution_count": null,
      "outputs": [
        {
          "output_type": "stream",
          "text": [
            "[6, 90, 79, 38, 96, 48, 61, 33, 6, 34, 72, 99, 92, 26, 33, 99, 58, 17, 19, 86, 6, 30, 38, 6, 76, 99, 36, 6, 5, 57, 60, 7, 76, 55, 58, 9, 12, 61, 83, 11, 58, 50, 59, 58, 43, 37, 75, 10, 43, 53, 43, 37, 1, 37, 60, 14, 91, 89, 16, 96, 3, 1, 28, 0, 23, 40, 1, 19, 82, 75, 83, 87, 35, 12, 99, 25, 85, 3, 67, 43, 23, 20, 91, 79, 50, 79, 59, 35, 81, 44, 19, 9, 31, 45, 68, 90, 46, 66, 29, 58]\n"
          ],
          "name": "stdout"
        }
      ]
    },
    {
      "cell_type": "code",
      "metadata": {
        "id": "ryN5pCgxpAzu"
      },
      "source": [
        "maior_numero = reduce(maior_entre, numeros)\n",
        "print(maior_numero)"
      ],
      "execution_count": null,
      "outputs": []
    },
    {
      "cell_type": "code",
      "metadata": {
        "id": "pM94lHjMpUKP"
      },
      "source": [
        "maior_numero = reduce(lambda primeiro, segundo: primeiro if primeiro >= segundo else segundo, numeros)\n",
        "print(maior_numero)"
      ],
      "execution_count": null,
      "outputs": []
    },
    {
      "cell_type": "code",
      "metadata": {
        "colab": {
          "base_uri": "https://localhost:8080/",
          "height": 414
        },
        "id": "znoBH0Z_5LgW",
        "outputId": "a7f0ad3f-32b8-4159-f847-fec2a38c54ff"
      },
      "source": [
        "import pandas as pd\n",
        "import seaborn as sns\n",
        "from pylab import *\n",
        "rc('axes', lw=1.5)\n",
        "plt.rcParams['axes.facecolor']='white'\n",
        "\n",
        "x = [round(50 * random()) for _ in range(0,10)]\n",
        "y = [round(200 * random()) for _ in range(40,50)]  \n",
        "data = {'xi': x, 'yi': y}\n",
        "dados = pd.DataFrame(data)\n",
        "plt.figure(figsize=(8,6))\n",
        "#plt.plot(x,y,'o', color = 'k')\n",
        "sns.regplot(x='xi',y='yi',data=dados)\n",
        "plt.xticks(weight='bold',fontsize=14)\n",
        "plt.yticks(weight='bold',fontsize=14)\n",
        "plt.xlabel('x',fontsize=15)\n",
        "plt.ylabel('x',fontsize=15)"
      ],
      "execution_count": null,
      "outputs": [
        {
          "output_type": "execute_result",
          "data": {
            "text/plain": [
              "Text(0, 0.5, 'x')"
            ]
          },
          "metadata": {
            "tags": []
          },
          "execution_count": 18
        },
        {
          "output_type": "display_data",
          "data": {
            "image/png": "[encoded data removed]",
            "text/plain": [
              "<Figure size 576x432 with 1 Axes>"
            ]
          },
          "metadata": {
            "tags": [],
            "needs_background": "light"
          }
        }
      ]
    },
    {
      "cell_type": "markdown",
      "metadata": {
        "id": "wvSFdbFd1PNc"
      },
      "source": [
        "### **4.3. Compossibilidade** "
      ]
    },
    {
      "cell_type": "markdown",
      "metadata": {
        "id": "Yi1Vm2oM1aNr"
      },
      "source": [
        "**Exemplo**: Combinação de métodos funcionais."
      ]
    },
    {
      "cell_type": "code",
      "metadata": {
        "id": "lXL2sHbU1eAk",
        "colab": {
          "base_uri": "https://localhost:8080/"
        },
        "outputId": "b9af2861-d34b-4d61-c097-e25a614ccd72"
      },
      "source": [
        "from random import random\n",
        "\n",
        "numeros = [round(100 * random()) for _ in range(0, 100)]\n",
        "print(numeros)"
      ],
      "execution_count": null,
      "outputs": [
        {
          "output_type": "stream",
          "text": [
            "[93, 25, 80, 71, 29, 49, 38, 42, 45, 54, 95, 85, 23, 19, 75, 72, 87, 83, 16, 7, 44, 4, 50, 53, 25, 78, 55, 19, 65, 59, 74, 14, 70, 10, 47, 84, 52, 63, 54, 15, 68, 68, 24, 96, 90, 75, 10, 98, 2, 92, 62, 10, 52, 46, 64, 44, 41, 1, 70, 95, 59, 45, 75, 71, 83, 70, 34, 16, 80, 96, 57, 33, 5, 67, 23, 23, 38, 62, 56, 66, 17, 49, 25, 29, 18, 91, 28, 99, 31, 47, 89, 15, 62, 70, 15, 85, 36, 35, 44, 93]\n"
          ],
          "name": "stdout"
        }
      ]
    },
    {
      "cell_type": "markdown",
      "metadata": {
        "id": "_3AbFgxg1gpY"
      },
      "source": [
        " - Eleve os números ao quadrado."
      ]
    },
    {
      "cell_type": "code",
      "metadata": {
        "id": "s5bMYqwU1ksA"
      },
      "source": [
        "numeros_ao_quadrado = map(lambda numero: numero ** 2, numeros)"
      ],
      "execution_count": null,
      "outputs": []
    },
    {
      "cell_type": "markdown",
      "metadata": {
        "id": "FZmElWY41tau"
      },
      "source": [
        " - Filtra os números ímpares."
      ]
    },
    {
      "cell_type": "code",
      "metadata": {
        "id": "z_RJi_sA13Rx"
      },
      "source": [
        "numeros_impares = filter(lambda numero: numero % 2 != 0, numeros_ao_quadrado)"
      ],
      "execution_count": null,
      "outputs": []
    },
    {
      "cell_type": "markdown",
      "metadata": {
        "id": "GKlr1_aB2DpY"
      },
      "source": [
        " - Soma todos os números."
      ]
    },
    {
      "cell_type": "code",
      "metadata": {
        "id": "LFsZpnMG2Nfs",
        "colab": {
          "base_uri": "https://localhost:8080/"
        },
        "outputId": "0322c84b-0520-4bfa-c452-d1c122b6ec47"
      },
      "source": [
        "soma_numeros = reduce(lambda x, y: x + y, numeros_impares)\n",
        "print(soma_numeros)"
      ],
      "execution_count": null,
      "outputs": [
        {
          "output_type": "stream",
          "text": [
            "177964\n"
          ],
          "name": "stdout"
        }
      ]
    },
    {
      "cell_type": "markdown",
      "metadata": {
        "id": "doCn6uUL2Y3x"
      },
      "source": [
        " - Todos os métodos de uma vez."
      ]
    },
    {
      "cell_type": "code",
      "metadata": {
        "id": "q1-5TW0H2ceS",
        "colab": {
          "base_uri": "https://localhost:8080/"
        },
        "outputId": "74fb32e2-91cd-4fbc-dac0-95f767307d6e"
      },
      "source": [
        "soma_numeros = reduce(lambda x, y: x + y, filter(lambda numero: numero % 2 != 0, map(lambda numero: numero ** 2, numeros)))\n",
        "print(soma_numeros)"
      ],
      "execution_count": null,
      "outputs": [
        {
          "output_type": "stream",
          "text": [
            "177964\n"
          ],
          "name": "stdout"
        }
      ]
    }
  ]
}