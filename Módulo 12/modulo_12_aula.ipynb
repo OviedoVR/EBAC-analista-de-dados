{
  "nbformat": 4,
  "nbformat_minor": 0,
  "metadata": {
    "colab": {
      "name": "modulo_12_aula.ipynb",
      "provenance": [],
      "collapsed_sections": []
    },
    "kernelspec": {
      "name": "python3",
      "display_name": "Python 3"
    }
  },
  "cells": [
    {
      "cell_type": "markdown",
      "metadata": {
        "id": "KJqp9AANOCtf"
      },
      "source": [
        "<img src=\"https://raw.githubusercontent.com/andre-marcos-perez/ebac-course-utils/main/media/logo/newebac_logo_black_half.png\" alt=\"ebac-logo\">\n",
        "\n",
        "---\n",
        "\n",
        "# **Módulo** | Análise de Dados: Data Wrangling I\n",
        "Caderno de **Aula**<br> \n",
        "Professor [André Perez](https://www.linkedin.com/in/andremarcosperez/)\n",
        "\n",
        "---"
      ]
    },
    {
      "cell_type": "markdown",
      "metadata": {
        "id": "d9jDtUbDOE1-"
      },
      "source": [
        "# **Tópicos**\n",
        "\n",
        "<ol type=\"1\">\n",
        "  <li>DataFrame Pandas;</li>\n",
        "  <li>Selecão e Filtros;</li>\n",
        "  <li>Inserção, Deleção e Atualização.</li>\n",
        "</ol>"
      ]
    },
    {
      "cell_type": "markdown",
      "metadata": {
        "id": "SmoHgt-lwkpD"
      },
      "source": [
        "---"
      ]
    },
    {
      "cell_type": "markdown",
      "metadata": {
        "id": "GABI6OW8OfQ2"
      },
      "source": [
        "# **Aulas**"
      ]
    },
    {
      "cell_type": "markdown",
      "metadata": {
        "id": "eJ283bopLqLU"
      },
      "source": [
        "## 0\\. Estruturas de dados"
      ]
    },
    {
      "cell_type": "markdown",
      "metadata": {
        "id": "0gmSAOdOLqLU"
      },
      "source": [
        "*   **Não estruturado**: texto, imagem, aúdio, etc.\n",
        "*   **Semi estruturado**: html, json, etc.\n",
        "*   <font color='red'>**Estruturado**</font>: tabelas, planilhas, etc.\n",
        "\n"
      ]
    },
    {
      "cell_type": "markdown",
      "metadata": {
        "id": "muD1vxozykSC"
      },
      "source": [
        "## 1\\. DataFrame Pandas"
      ]
    },
    {
      "cell_type": "markdown",
      "metadata": {
        "id": "5a3_syBIP6yO"
      },
      "source": [
        "### **1.1. Pacote Pandas** "
      ]
    },
    {
      "cell_type": "markdown",
      "metadata": {
        "id": "NglCEvJDmqkw"
      },
      "source": [
        "Pacote Python para manipulação de dados (talvez o mais utilizado). A documentação pode ser encontrada neste [link](https://pandas.pydata.org/docs/). A abstração base do pandas é o DataFrame, uma estrutura de dados Python de duas dimensões utilizado para representar tabelas."
      ]
    },
    {
      "cell_type": "markdown",
      "metadata": {
        "id": "EP1UwLRR5_qg"
      },
      "source": [
        "**Exemplo**: Criar um DataFrame Pandas a partir de um dicionário Python."
      ]
    },
    {
      "cell_type": "code",
      "metadata": {
        "id": "HJ48vl_aTEge"
      },
      "source": [
        "transacoes = dict(\n",
        "    id=[571, 572, 573], \n",
        "    data=['19-01-2021', '19-01-2021', '23-01-2021'], \n",
        "    valor=[371.30, 57.19, 101.21], \n",
        "    categoria=['supermercado', 'farmacia', 'outros']\n",
        ")"
      ],
      "execution_count": 2,
      "outputs": []
    },
    {
      "cell_type": "code",
      "metadata": {
        "id": "23fdzehj6JV9"
      },
      "source": [
        "import pandas as pd\n",
        "\n",
        "transacoes_df = pd.DataFrame(transacoes)"
      ],
      "execution_count": 3,
      "outputs": []
    },
    {
      "cell_type": "code",
      "metadata": {
        "id": "gX5RBXW2X7a_",
        "colab": {
          "base_uri": "https://localhost:8080/",
          "height": 142
        },
        "outputId": "6ecf3551-a2d6-444a-e01e-1c4b4eac4a15"
      },
      "source": [
        "transacoes_df"
      ],
      "execution_count": 4,
      "outputs": [
        {
          "output_type": "execute_result",
          "data": {
            "text/html": [
              "<div>\n",
              "<style scoped>\n",
              "    .dataframe tbody tr th:only-of-type {\n",
              "        vertical-align: middle;\n",
              "    }\n",
              "\n",
              "    .dataframe tbody tr th {\n",
              "        vertical-align: top;\n",
              "    }\n",
              "\n",
              "    .dataframe thead th {\n",
              "        text-align: right;\n",
              "    }\n",
              "</style>\n",
              "<table border=\"1\" class=\"dataframe\">\n",
              "  <thead>\n",
              "    <tr style=\"text-align: right;\">\n",
              "      <th></th>\n",
              "      <th>id</th>\n",
              "      <th>data</th>\n",
              "      <th>valor</th>\n",
              "      <th>categoria</th>\n",
              "    </tr>\n",
              "  </thead>\n",
              "  <tbody>\n",
              "    <tr>\n",
              "      <th>0</th>\n",
              "      <td>571</td>\n",
              "      <td>19-01-2021</td>\n",
              "      <td>371.30</td>\n",
              "      <td>supermercado</td>\n",
              "    </tr>\n",
              "    <tr>\n",
              "      <th>1</th>\n",
              "      <td>572</td>\n",
              "      <td>19-01-2021</td>\n",
              "      <td>57.19</td>\n",
              "      <td>farmacia</td>\n",
              "    </tr>\n",
              "    <tr>\n",
              "      <th>2</th>\n",
              "      <td>573</td>\n",
              "      <td>23-01-2021</td>\n",
              "      <td>101.21</td>\n",
              "      <td>outros</td>\n",
              "    </tr>\n",
              "  </tbody>\n",
              "</table>\n",
              "</div>"
            ],
            "text/plain": [
              "    id        data   valor     categoria\n",
              "0  571  19-01-2021  371.30  supermercado\n",
              "1  572  19-01-2021   57.19      farmacia\n",
              "2  573  23-01-2021  101.21        outros"
            ]
          },
          "metadata": {
            "tags": []
          },
          "execution_count": 4
        }
      ]
    },
    {
      "cell_type": "code",
      "metadata": {
        "id": "Zt_vgSKP1DvO",
        "colab": {
          "base_uri": "https://localhost:8080/"
        },
        "outputId": "5c4eccf4-5573-4e2d-b337-b20cf781efc7"
      },
      "source": [
        "type(transacoes_df)"
      ],
      "execution_count": 5,
      "outputs": [
        {
          "output_type": "execute_result",
          "data": {
            "text/plain": [
              "pandas.core.frame.DataFrame"
            ]
          },
          "metadata": {
            "tags": []
          },
          "execution_count": 5
        }
      ]
    },
    {
      "cell_type": "markdown",
      "metadata": {
        "id": "9nk_I8UBXvR1"
      },
      "source": [
        "*   Atributos"
      ]
    },
    {
      "cell_type": "code",
      "metadata": {
        "id": "93vD-4Lk6ggW",
        "colab": {
          "base_uri": "https://localhost:8080/"
        },
        "outputId": "49eec497-fa9b-4280-97e7-0cb86d903b72"
      },
      "source": [
        "transacoes_df.columns"
      ],
      "execution_count": 6,
      "outputs": [
        {
          "output_type": "execute_result",
          "data": {
            "text/plain": [
              "Index(['id', 'data', 'valor', 'categoria'], dtype='object')"
            ]
          },
          "metadata": {
            "tags": []
          },
          "execution_count": 6
        }
      ]
    },
    {
      "cell_type": "code",
      "metadata": {
        "id": "wKoZZi1O6e9K",
        "colab": {
          "base_uri": "https://localhost:8080/"
        },
        "outputId": "63a5dedb-3c31-408b-cc9b-5237bcc8214a"
      },
      "source": [
        "transacoes_df.dtypes"
      ],
      "execution_count": 7,
      "outputs": [
        {
          "output_type": "execute_result",
          "data": {
            "text/plain": [
              "id             int64\n",
              "data          object\n",
              "valor        float64\n",
              "categoria     object\n",
              "dtype: object"
            ]
          },
          "metadata": {
            "tags": []
          },
          "execution_count": 7
        }
      ]
    },
    {
      "cell_type": "code",
      "metadata": {
        "id": "MnmheK4RXIbP",
        "colab": {
          "base_uri": "https://localhost:8080/"
        },
        "outputId": "3535b100-ce7a-44ea-de5a-9a3d07da7da5"
      },
      "source": [
        "transacoes_df.index"
      ],
      "execution_count": 8,
      "outputs": [
        {
          "output_type": "execute_result",
          "data": {
            "text/plain": [
              "RangeIndex(start=0, stop=3, step=1)"
            ]
          },
          "metadata": {
            "tags": []
          },
          "execution_count": 8
        }
      ]
    },
    {
      "cell_type": "code",
      "metadata": {
        "id": "z80OUyVzYvaJ",
        "colab": {
          "base_uri": "https://localhost:8080/"
        },
        "outputId": "d7c45f89-4089-4660-9d1b-f6ca5997909a"
      },
      "source": [
        "transacoes_df.shape"
      ],
      "execution_count": 9,
      "outputs": [
        {
          "output_type": "execute_result",
          "data": {
            "text/plain": [
              "(3, 4)"
            ]
          },
          "metadata": {
            "tags": []
          },
          "execution_count": 9
        }
      ]
    },
    {
      "cell_type": "markdown",
      "metadata": {
        "id": "y2x2KF01Xp5a"
      },
      "source": [
        "*   Métodos"
      ]
    },
    {
      "cell_type": "code",
      "metadata": {
        "id": "Ahx_iHWH6ZxS",
        "colab": {
          "base_uri": "https://localhost:8080/",
          "height": 80
        },
        "outputId": "92c4a548-7b2f-455a-b311-dec03911d3a0"
      },
      "source": [
        "transacoes_df.head(n=1)"
      ],
      "execution_count": 10,
      "outputs": [
        {
          "output_type": "execute_result",
          "data": {
            "text/html": [
              "<div>\n",
              "<style scoped>\n",
              "    .dataframe tbody tr th:only-of-type {\n",
              "        vertical-align: middle;\n",
              "    }\n",
              "\n",
              "    .dataframe tbody tr th {\n",
              "        vertical-align: top;\n",
              "    }\n",
              "\n",
              "    .dataframe thead th {\n",
              "        text-align: right;\n",
              "    }\n",
              "</style>\n",
              "<table border=\"1\" class=\"dataframe\">\n",
              "  <thead>\n",
              "    <tr style=\"text-align: right;\">\n",
              "      <th></th>\n",
              "      <th>id</th>\n",
              "      <th>data</th>\n",
              "      <th>valor</th>\n",
              "      <th>categoria</th>\n",
              "    </tr>\n",
              "  </thead>\n",
              "  <tbody>\n",
              "    <tr>\n",
              "      <th>0</th>\n",
              "      <td>571</td>\n",
              "      <td>19-01-2021</td>\n",
              "      <td>371.3</td>\n",
              "      <td>supermercado</td>\n",
              "    </tr>\n",
              "  </tbody>\n",
              "</table>\n",
              "</div>"
            ],
            "text/plain": [
              "    id        data  valor     categoria\n",
              "0  571  19-01-2021  371.3  supermercado"
            ]
          },
          "metadata": {
            "tags": []
          },
          "execution_count": 10
        }
      ]
    },
    {
      "cell_type": "code",
      "metadata": {
        "id": "T8WvBj6rW1fg",
        "colab": {
          "base_uri": "https://localhost:8080/",
          "height": 142
        },
        "outputId": "3ed12535-b9ab-4c00-c12e-952ebd26d93c"
      },
      "source": [
        "transacoes_df.tail()"
      ],
      "execution_count": 11,
      "outputs": [
        {
          "output_type": "execute_result",
          "data": {
            "text/html": [
              "<div>\n",
              "<style scoped>\n",
              "    .dataframe tbody tr th:only-of-type {\n",
              "        vertical-align: middle;\n",
              "    }\n",
              "\n",
              "    .dataframe tbody tr th {\n",
              "        vertical-align: top;\n",
              "    }\n",
              "\n",
              "    .dataframe thead th {\n",
              "        text-align: right;\n",
              "    }\n",
              "</style>\n",
              "<table border=\"1\" class=\"dataframe\">\n",
              "  <thead>\n",
              "    <tr style=\"text-align: right;\">\n",
              "      <th></th>\n",
              "      <th>id</th>\n",
              "      <th>data</th>\n",
              "      <th>valor</th>\n",
              "      <th>categoria</th>\n",
              "    </tr>\n",
              "  </thead>\n",
              "  <tbody>\n",
              "    <tr>\n",
              "      <th>0</th>\n",
              "      <td>571</td>\n",
              "      <td>19-01-2021</td>\n",
              "      <td>371.30</td>\n",
              "      <td>supermercado</td>\n",
              "    </tr>\n",
              "    <tr>\n",
              "      <th>1</th>\n",
              "      <td>572</td>\n",
              "      <td>19-01-2021</td>\n",
              "      <td>57.19</td>\n",
              "      <td>farmacia</td>\n",
              "    </tr>\n",
              "    <tr>\n",
              "      <th>2</th>\n",
              "      <td>573</td>\n",
              "      <td>23-01-2021</td>\n",
              "      <td>101.21</td>\n",
              "      <td>outros</td>\n",
              "    </tr>\n",
              "  </tbody>\n",
              "</table>\n",
              "</div>"
            ],
            "text/plain": [
              "    id        data   valor     categoria\n",
              "0  571  19-01-2021  371.30  supermercado\n",
              "1  572  19-01-2021   57.19      farmacia\n",
              "2  573  23-01-2021  101.21        outros"
            ]
          },
          "metadata": {
            "tags": []
          },
          "execution_count": 11
        }
      ]
    },
    {
      "cell_type": "code",
      "metadata": {
        "id": "i5OFaXOA6ce7",
        "colab": {
          "base_uri": "https://localhost:8080/"
        },
        "outputId": "ffdcffa5-0f58-4415-9690-e2bc549d0a74"
      },
      "source": [
        "transacoes_df.info()"
      ],
      "execution_count": 12,
      "outputs": [
        {
          "output_type": "stream",
          "text": [
            "<class 'pandas.core.frame.DataFrame'>\n",
            "RangeIndex: 3 entries, 0 to 2\n",
            "Data columns (total 4 columns):\n",
            " #   Column     Non-Null Count  Dtype  \n",
            "---  ------     --------------  -----  \n",
            " 0   id         3 non-null      int64  \n",
            " 1   data       3 non-null      object \n",
            " 2   valor      3 non-null      float64\n",
            " 3   categoria  3 non-null      object \n",
            "dtypes: float64(1), int64(1), object(2)\n",
            "memory usage: 224.0+ bytes\n"
          ],
          "name": "stdout"
        }
      ]
    },
    {
      "cell_type": "code",
      "metadata": {
        "id": "OCO1dRpCHR7v",
        "colab": {
          "base_uri": "https://localhost:8080/",
          "height": 111
        },
        "outputId": "be148197-87d9-4162-a8a9-84a90ccf3c0c"
      },
      "source": [
        "transacoes_df[['id', 'valor']].describe().T # colunas numéricas"
      ],
      "execution_count": 84,
      "outputs": [
        {
          "output_type": "execute_result",
          "data": {
            "text/html": [
              "<div>\n",
              "<style scoped>\n",
              "    .dataframe tbody tr th:only-of-type {\n",
              "        vertical-align: middle;\n",
              "    }\n",
              "\n",
              "    .dataframe tbody tr th {\n",
              "        vertical-align: top;\n",
              "    }\n",
              "\n",
              "    .dataframe thead th {\n",
              "        text-align: right;\n",
              "    }\n",
              "</style>\n",
              "<table border=\"1\" class=\"dataframe\">\n",
              "  <thead>\n",
              "    <tr style=\"text-align: right;\">\n",
              "      <th></th>\n",
              "      <th>count</th>\n",
              "      <th>mean</th>\n",
              "      <th>std</th>\n",
              "      <th>min</th>\n",
              "      <th>25%</th>\n",
              "      <th>50%</th>\n",
              "      <th>75%</th>\n",
              "      <th>max</th>\n",
              "    </tr>\n",
              "  </thead>\n",
              "  <tbody>\n",
              "    <tr>\n",
              "      <th>id</th>\n",
              "      <td>3.0</td>\n",
              "      <td>572.000000</td>\n",
              "      <td>1.000000</td>\n",
              "      <td>571.00</td>\n",
              "      <td>571.5</td>\n",
              "      <td>572.00</td>\n",
              "      <td>572.500</td>\n",
              "      <td>573.0</td>\n",
              "    </tr>\n",
              "    <tr>\n",
              "      <th>valor</th>\n",
              "      <td>3.0</td>\n",
              "      <td>176.566667</td>\n",
              "      <td>170.074229</td>\n",
              "      <td>57.19</td>\n",
              "      <td>79.2</td>\n",
              "      <td>101.21</td>\n",
              "      <td>236.255</td>\n",
              "      <td>371.3</td>\n",
              "    </tr>\n",
              "  </tbody>\n",
              "</table>\n",
              "</div>"
            ],
            "text/plain": [
              "       count        mean         std     min    25%     50%      75%    max\n",
              "id       3.0  572.000000    1.000000  571.00  571.5  572.00  572.500  573.0\n",
              "valor    3.0  176.566667  170.074229   57.19   79.2  101.21  236.255  371.3"
            ]
          },
          "metadata": {
            "tags": []
          },
          "execution_count": 84
        }
      ]
    },
    {
      "cell_type": "code",
      "metadata": {
        "id": "dqwtAmLNHZmz",
        "colab": {
          "base_uri": "https://localhost:8080/",
          "height": 111
        },
        "outputId": "736378f8-f608-4af6-930c-5b6dc375d509"
      },
      "source": [
        "transacoes_df[['data', 'categoria']].describe().T # colunas categóricas"
      ],
      "execution_count": 14,
      "outputs": [
        {
          "output_type": "execute_result",
          "data": {
            "text/html": [
              "<div>\n",
              "<style scoped>\n",
              "    .dataframe tbody tr th:only-of-type {\n",
              "        vertical-align: middle;\n",
              "    }\n",
              "\n",
              "    .dataframe tbody tr th {\n",
              "        vertical-align: top;\n",
              "    }\n",
              "\n",
              "    .dataframe thead th {\n",
              "        text-align: right;\n",
              "    }\n",
              "</style>\n",
              "<table border=\"1\" class=\"dataframe\">\n",
              "  <thead>\n",
              "    <tr style=\"text-align: right;\">\n",
              "      <th></th>\n",
              "      <th>count</th>\n",
              "      <th>unique</th>\n",
              "      <th>top</th>\n",
              "      <th>freq</th>\n",
              "    </tr>\n",
              "  </thead>\n",
              "  <tbody>\n",
              "    <tr>\n",
              "      <th>data</th>\n",
              "      <td>3</td>\n",
              "      <td>2</td>\n",
              "      <td>19-01-2021</td>\n",
              "      <td>2</td>\n",
              "    </tr>\n",
              "    <tr>\n",
              "      <th>categoria</th>\n",
              "      <td>3</td>\n",
              "      <td>3</td>\n",
              "      <td>farmacia</td>\n",
              "      <td>1</td>\n",
              "    </tr>\n",
              "  </tbody>\n",
              "</table>\n",
              "</div>"
            ],
            "text/plain": [
              "          count unique         top freq\n",
              "data          3      2  19-01-2021    2\n",
              "categoria     3      3    farmacia    1"
            ]
          },
          "metadata": {
            "tags": []
          },
          "execution_count": 14
        }
      ]
    },
    {
      "cell_type": "markdown",
      "metadata": {
        "id": "eBpN50Xn692K"
      },
      "source": [
        "**Exemplo**: Criar um DataFrame Pandas a partir de um arquivo csv."
      ]
    },
    {
      "cell_type": "code",
      "metadata": {
        "id": "cbCLt_-N7TRg",
        "colab": {
          "base_uri": "https://localhost:8080/"
        },
        "outputId": "2548a67a-f9c3-4ec6-e45e-247777a7bcd9"
      },
      "source": [
        "%%writefile github.csv\n",
        "ranking;project;language;stars;stars_today;forks\n",
        "1;plow;go;1304;574;38\n",
        "2;n8n;typescript;15668;280;1370\n",
        "3;slides;go;3218;265;80\n",
        "4;defi-developer-road-map;;636;247;49\n",
        "5;pytorch-image-models;python;11065;101;1646\n",
        "6;javascript-algorithms;javascript;110768;248;18331\n",
        "7;paddleclas;python;1429;283;323\n",
        "8;reddit_sentiment_trader;python;369;71;60\n",
        "9;augly;python;2849;393;99\n",
        "10;self-taught-guide-to-cloud-computing;;863;179;84"
      ],
      "execution_count": 15,
      "outputs": [
        {
          "output_type": "stream",
          "text": [
            "Writing github.csv\n"
          ],
          "name": "stdout"
        }
      ]
    },
    {
      "cell_type": "code",
      "metadata": {
        "id": "75bCYCq79V7Y"
      },
      "source": [
        "import pandas as pd\n",
        "\n",
        "github_df = pd.read_csv('github.csv', sep=';')"
      ],
      "execution_count": 16,
      "outputs": []
    },
    {
      "cell_type": "code",
      "metadata": {
        "id": "64zzaltGaAPj",
        "colab": {
          "base_uri": "https://localhost:8080/",
          "height": 359
        },
        "outputId": "eb3f03fe-ed25-4ead-c6f2-344e1f48932b"
      },
      "source": [
        "github_df"
      ],
      "execution_count": 17,
      "outputs": [
        {
          "output_type": "execute_result",
          "data": {
            "text/html": [
              "<div>\n",
              "<style scoped>\n",
              "    .dataframe tbody tr th:only-of-type {\n",
              "        vertical-align: middle;\n",
              "    }\n",
              "\n",
              "    .dataframe tbody tr th {\n",
              "        vertical-align: top;\n",
              "    }\n",
              "\n",
              "    .dataframe thead th {\n",
              "        text-align: right;\n",
              "    }\n",
              "</style>\n",
              "<table border=\"1\" class=\"dataframe\">\n",
              "  <thead>\n",
              "    <tr style=\"text-align: right;\">\n",
              "      <th></th>\n",
              "      <th>ranking</th>\n",
              "      <th>project</th>\n",
              "      <th>language</th>\n",
              "      <th>stars</th>\n",
              "      <th>stars_today</th>\n",
              "      <th>forks</th>\n",
              "    </tr>\n",
              "  </thead>\n",
              "  <tbody>\n",
              "    <tr>\n",
              "      <th>0</th>\n",
              "      <td>1</td>\n",
              "      <td>plow</td>\n",
              "      <td>go</td>\n",
              "      <td>1304</td>\n",
              "      <td>574</td>\n",
              "      <td>38</td>\n",
              "    </tr>\n",
              "    <tr>\n",
              "      <th>1</th>\n",
              "      <td>2</td>\n",
              "      <td>n8n</td>\n",
              "      <td>typescript</td>\n",
              "      <td>15668</td>\n",
              "      <td>280</td>\n",
              "      <td>1370</td>\n",
              "    </tr>\n",
              "    <tr>\n",
              "      <th>2</th>\n",
              "      <td>3</td>\n",
              "      <td>slides</td>\n",
              "      <td>go</td>\n",
              "      <td>3218</td>\n",
              "      <td>265</td>\n",
              "      <td>80</td>\n",
              "    </tr>\n",
              "    <tr>\n",
              "      <th>3</th>\n",
              "      <td>4</td>\n",
              "      <td>defi-developer-road-map</td>\n",
              "      <td>NaN</td>\n",
              "      <td>636</td>\n",
              "      <td>247</td>\n",
              "      <td>49</td>\n",
              "    </tr>\n",
              "    <tr>\n",
              "      <th>4</th>\n",
              "      <td>5</td>\n",
              "      <td>pytorch-image-models</td>\n",
              "      <td>python</td>\n",
              "      <td>11065</td>\n",
              "      <td>101</td>\n",
              "      <td>1646</td>\n",
              "    </tr>\n",
              "    <tr>\n",
              "      <th>5</th>\n",
              "      <td>6</td>\n",
              "      <td>javascript-algorithms</td>\n",
              "      <td>javascript</td>\n",
              "      <td>110768</td>\n",
              "      <td>248</td>\n",
              "      <td>18331</td>\n",
              "    </tr>\n",
              "    <tr>\n",
              "      <th>6</th>\n",
              "      <td>7</td>\n",
              "      <td>paddleclas</td>\n",
              "      <td>python</td>\n",
              "      <td>1429</td>\n",
              "      <td>283</td>\n",
              "      <td>323</td>\n",
              "    </tr>\n",
              "    <tr>\n",
              "      <th>7</th>\n",
              "      <td>8</td>\n",
              "      <td>reddit_sentiment_trader</td>\n",
              "      <td>python</td>\n",
              "      <td>369</td>\n",
              "      <td>71</td>\n",
              "      <td>60</td>\n",
              "    </tr>\n",
              "    <tr>\n",
              "      <th>8</th>\n",
              "      <td>9</td>\n",
              "      <td>augly</td>\n",
              "      <td>python</td>\n",
              "      <td>2849</td>\n",
              "      <td>393</td>\n",
              "      <td>99</td>\n",
              "    </tr>\n",
              "    <tr>\n",
              "      <th>9</th>\n",
              "      <td>10</td>\n",
              "      <td>self-taught-guide-to-cloud-computing</td>\n",
              "      <td>NaN</td>\n",
              "      <td>863</td>\n",
              "      <td>179</td>\n",
              "      <td>84</td>\n",
              "    </tr>\n",
              "  </tbody>\n",
              "</table>\n",
              "</div>"
            ],
            "text/plain": [
              "   ranking                               project  ... stars_today  forks\n",
              "0        1                                  plow  ...         574     38\n",
              "1        2                                   n8n  ...         280   1370\n",
              "2        3                                slides  ...         265     80\n",
              "3        4               defi-developer-road-map  ...         247     49\n",
              "4        5                  pytorch-image-models  ...         101   1646\n",
              "5        6                 javascript-algorithms  ...         248  18331\n",
              "6        7                            paddleclas  ...         283    323\n",
              "7        8               reddit_sentiment_trader  ...          71     60\n",
              "8        9                                 augly  ...         393     99\n",
              "9       10  self-taught-guide-to-cloud-computing  ...         179     84\n",
              "\n",
              "[10 rows x 6 columns]"
            ]
          },
          "metadata": {
            "tags": []
          },
          "execution_count": 17
        }
      ]
    },
    {
      "cell_type": "code",
      "metadata": {
        "id": "Epc-QGsg1Jap",
        "colab": {
          "base_uri": "https://localhost:8080/"
        },
        "outputId": "230f7e3a-09ca-49c6-cac7-712a16af081e"
      },
      "source": [
        "type(github_df)"
      ],
      "execution_count": 18,
      "outputs": [
        {
          "output_type": "execute_result",
          "data": {
            "text/plain": [
              "pandas.core.frame.DataFrame"
            ]
          },
          "metadata": {
            "tags": []
          },
          "execution_count": 18
        }
      ]
    },
    {
      "cell_type": "markdown",
      "metadata": {
        "id": "KG4Jgd1baAP-"
      },
      "source": [
        "*   Atributos"
      ]
    },
    {
      "cell_type": "code",
      "metadata": {
        "id": "SBgGJyoEaAP-",
        "colab": {
          "base_uri": "https://localhost:8080/"
        },
        "outputId": "36da74c6-5442-4f8e-acc1-d7ed0209929a"
      },
      "source": [
        "github_df.columns"
      ],
      "execution_count": 19,
      "outputs": [
        {
          "output_type": "execute_result",
          "data": {
            "text/plain": [
              "Index(['ranking', 'project', 'language', 'stars', 'stars_today', 'forks'], dtype='object')"
            ]
          },
          "metadata": {
            "tags": []
          },
          "execution_count": 19
        }
      ]
    },
    {
      "cell_type": "code",
      "metadata": {
        "id": "NRnba9YSaAP-",
        "colab": {
          "base_uri": "https://localhost:8080/"
        },
        "outputId": "819ded3e-060e-4ac6-dc5c-848640d267b9"
      },
      "source": [
        "github_df.dtypes"
      ],
      "execution_count": 20,
      "outputs": [
        {
          "output_type": "execute_result",
          "data": {
            "text/plain": [
              "ranking         int64\n",
              "project        object\n",
              "language       object\n",
              "stars           int64\n",
              "stars_today     int64\n",
              "forks           int64\n",
              "dtype: object"
            ]
          },
          "metadata": {
            "tags": []
          },
          "execution_count": 20
        }
      ]
    },
    {
      "cell_type": "code",
      "metadata": {
        "id": "JWx30jKHaAP-",
        "colab": {
          "base_uri": "https://localhost:8080/"
        },
        "outputId": "8d2234a7-dd3f-4792-dd5f-d649b613c34e"
      },
      "source": [
        "github_df.index"
      ],
      "execution_count": 21,
      "outputs": [
        {
          "output_type": "execute_result",
          "data": {
            "text/plain": [
              "RangeIndex(start=0, stop=10, step=1)"
            ]
          },
          "metadata": {
            "tags": []
          },
          "execution_count": 21
        }
      ]
    },
    {
      "cell_type": "code",
      "metadata": {
        "id": "qo7zUrNXaAP_",
        "colab": {
          "base_uri": "https://localhost:8080/"
        },
        "outputId": "8733debb-de7e-4e9d-86a0-1cc703fca5da"
      },
      "source": [
        "github_df.shape"
      ],
      "execution_count": 22,
      "outputs": [
        {
          "output_type": "execute_result",
          "data": {
            "text/plain": [
              "(10, 6)"
            ]
          },
          "metadata": {
            "tags": []
          },
          "execution_count": 22
        }
      ]
    },
    {
      "cell_type": "markdown",
      "metadata": {
        "id": "hQSszBaeaAP_"
      },
      "source": [
        "*   Métodos"
      ]
    },
    {
      "cell_type": "code",
      "metadata": {
        "id": "IkGdt9AeaAP_",
        "colab": {
          "base_uri": "https://localhost:8080/",
          "height": 142
        },
        "outputId": "a226f796-5c47-4a39-888f-80853ad5a5e8"
      },
      "source": [
        "github_df.head(3)"
      ],
      "execution_count": 23,
      "outputs": [
        {
          "output_type": "execute_result",
          "data": {
            "text/html": [
              "<div>\n",
              "<style scoped>\n",
              "    .dataframe tbody tr th:only-of-type {\n",
              "        vertical-align: middle;\n",
              "    }\n",
              "\n",
              "    .dataframe tbody tr th {\n",
              "        vertical-align: top;\n",
              "    }\n",
              "\n",
              "    .dataframe thead th {\n",
              "        text-align: right;\n",
              "    }\n",
              "</style>\n",
              "<table border=\"1\" class=\"dataframe\">\n",
              "  <thead>\n",
              "    <tr style=\"text-align: right;\">\n",
              "      <th></th>\n",
              "      <th>ranking</th>\n",
              "      <th>project</th>\n",
              "      <th>language</th>\n",
              "      <th>stars</th>\n",
              "      <th>stars_today</th>\n",
              "      <th>forks</th>\n",
              "    </tr>\n",
              "  </thead>\n",
              "  <tbody>\n",
              "    <tr>\n",
              "      <th>0</th>\n",
              "      <td>1</td>\n",
              "      <td>plow</td>\n",
              "      <td>go</td>\n",
              "      <td>1304</td>\n",
              "      <td>574</td>\n",
              "      <td>38</td>\n",
              "    </tr>\n",
              "    <tr>\n",
              "      <th>1</th>\n",
              "      <td>2</td>\n",
              "      <td>n8n</td>\n",
              "      <td>typescript</td>\n",
              "      <td>15668</td>\n",
              "      <td>280</td>\n",
              "      <td>1370</td>\n",
              "    </tr>\n",
              "    <tr>\n",
              "      <th>2</th>\n",
              "      <td>3</td>\n",
              "      <td>slides</td>\n",
              "      <td>go</td>\n",
              "      <td>3218</td>\n",
              "      <td>265</td>\n",
              "      <td>80</td>\n",
              "    </tr>\n",
              "  </tbody>\n",
              "</table>\n",
              "</div>"
            ],
            "text/plain": [
              "   ranking project    language  stars  stars_today  forks\n",
              "0        1    plow          go   1304          574     38\n",
              "1        2     n8n  typescript  15668          280   1370\n",
              "2        3  slides          go   3218          265     80"
            ]
          },
          "metadata": {
            "tags": []
          },
          "execution_count": 23
        }
      ]
    },
    {
      "cell_type": "code",
      "metadata": {
        "id": "bNDEvGIBaAP_",
        "colab": {
          "base_uri": "https://localhost:8080/",
          "height": 111
        },
        "outputId": "b5973c28-5d69-4a6f-829f-71df50cd5cc9"
      },
      "source": [
        "github_df.tail(2)"
      ],
      "execution_count": 24,
      "outputs": [
        {
          "output_type": "execute_result",
          "data": {
            "text/html": [
              "<div>\n",
              "<style scoped>\n",
              "    .dataframe tbody tr th:only-of-type {\n",
              "        vertical-align: middle;\n",
              "    }\n",
              "\n",
              "    .dataframe tbody tr th {\n",
              "        vertical-align: top;\n",
              "    }\n",
              "\n",
              "    .dataframe thead th {\n",
              "        text-align: right;\n",
              "    }\n",
              "</style>\n",
              "<table border=\"1\" class=\"dataframe\">\n",
              "  <thead>\n",
              "    <tr style=\"text-align: right;\">\n",
              "      <th></th>\n",
              "      <th>ranking</th>\n",
              "      <th>project</th>\n",
              "      <th>language</th>\n",
              "      <th>stars</th>\n",
              "      <th>stars_today</th>\n",
              "      <th>forks</th>\n",
              "    </tr>\n",
              "  </thead>\n",
              "  <tbody>\n",
              "    <tr>\n",
              "      <th>8</th>\n",
              "      <td>9</td>\n",
              "      <td>augly</td>\n",
              "      <td>python</td>\n",
              "      <td>2849</td>\n",
              "      <td>393</td>\n",
              "      <td>99</td>\n",
              "    </tr>\n",
              "    <tr>\n",
              "      <th>9</th>\n",
              "      <td>10</td>\n",
              "      <td>self-taught-guide-to-cloud-computing</td>\n",
              "      <td>NaN</td>\n",
              "      <td>863</td>\n",
              "      <td>179</td>\n",
              "      <td>84</td>\n",
              "    </tr>\n",
              "  </tbody>\n",
              "</table>\n",
              "</div>"
            ],
            "text/plain": [
              "   ranking                               project  ... stars_today  forks\n",
              "8        9                                 augly  ...         393     99\n",
              "9       10  self-taught-guide-to-cloud-computing  ...         179     84\n",
              "\n",
              "[2 rows x 6 columns]"
            ]
          },
          "metadata": {
            "tags": []
          },
          "execution_count": 24
        }
      ]
    },
    {
      "cell_type": "code",
      "metadata": {
        "id": "IPOpuy5caAQA",
        "colab": {
          "base_uri": "https://localhost:8080/"
        },
        "outputId": "9ac14096-361f-45b1-a599-35c28ee26080"
      },
      "source": [
        "github_df.info()"
      ],
      "execution_count": 25,
      "outputs": [
        {
          "output_type": "stream",
          "text": [
            "<class 'pandas.core.frame.DataFrame'>\n",
            "RangeIndex: 10 entries, 0 to 9\n",
            "Data columns (total 6 columns):\n",
            " #   Column       Non-Null Count  Dtype \n",
            "---  ------       --------------  ----- \n",
            " 0   ranking      10 non-null     int64 \n",
            " 1   project      10 non-null     object\n",
            " 2   language     8 non-null      object\n",
            " 3   stars        10 non-null     int64 \n",
            " 4   stars_today  10 non-null     int64 \n",
            " 5   forks        10 non-null     int64 \n",
            "dtypes: int64(4), object(2)\n",
            "memory usage: 608.0+ bytes\n"
          ],
          "name": "stdout"
        }
      ]
    },
    {
      "cell_type": "code",
      "metadata": {
        "id": "COSsUPiuG0LX",
        "colab": {
          "base_uri": "https://localhost:8080/",
          "height": 111
        },
        "outputId": "40d4c836-c22d-4fa9-b0d0-48f95b0c313f"
      },
      "source": [
        "github_df[['project', 'language']].describe().T # colunas categóricas"
      ],
      "execution_count": 26,
      "outputs": [
        {
          "output_type": "execute_result",
          "data": {
            "text/html": [
              "<div>\n",
              "<style scoped>\n",
              "    .dataframe tbody tr th:only-of-type {\n",
              "        vertical-align: middle;\n",
              "    }\n",
              "\n",
              "    .dataframe tbody tr th {\n",
              "        vertical-align: top;\n",
              "    }\n",
              "\n",
              "    .dataframe thead th {\n",
              "        text-align: right;\n",
              "    }\n",
              "</style>\n",
              "<table border=\"1\" class=\"dataframe\">\n",
              "  <thead>\n",
              "    <tr style=\"text-align: right;\">\n",
              "      <th></th>\n",
              "      <th>count</th>\n",
              "      <th>unique</th>\n",
              "      <th>top</th>\n",
              "      <th>freq</th>\n",
              "    </tr>\n",
              "  </thead>\n",
              "  <tbody>\n",
              "    <tr>\n",
              "      <th>project</th>\n",
              "      <td>10</td>\n",
              "      <td>10</td>\n",
              "      <td>plow</td>\n",
              "      <td>1</td>\n",
              "    </tr>\n",
              "    <tr>\n",
              "      <th>language</th>\n",
              "      <td>8</td>\n",
              "      <td>4</td>\n",
              "      <td>python</td>\n",
              "      <td>4</td>\n",
              "    </tr>\n",
              "  </tbody>\n",
              "</table>\n",
              "</div>"
            ],
            "text/plain": [
              "         count unique     top freq\n",
              "project     10     10    plow    1\n",
              "language     8      4  python    4"
            ]
          },
          "metadata": {
            "tags": []
          },
          "execution_count": 26
        }
      ]
    },
    {
      "cell_type": "code",
      "metadata": {
        "id": "da_FFYmvGk02",
        "colab": {
          "base_uri": "https://localhost:8080/",
          "height": 173
        },
        "outputId": "1d2aba90-d45c-4624-cfda-eab7e05a8b10"
      },
      "source": [
        "github_df[['ranking', 'stars', 'stars_today', 'forks']].describe().T # colunas numéricas"
      ],
      "execution_count": 27,
      "outputs": [
        {
          "output_type": "execute_result",
          "data": {
            "text/html": [
              "<div>\n",
              "<style scoped>\n",
              "    .dataframe tbody tr th:only-of-type {\n",
              "        vertical-align: middle;\n",
              "    }\n",
              "\n",
              "    .dataframe tbody tr th {\n",
              "        vertical-align: top;\n",
              "    }\n",
              "\n",
              "    .dataframe thead th {\n",
              "        text-align: right;\n",
              "    }\n",
              "</style>\n",
              "<table border=\"1\" class=\"dataframe\">\n",
              "  <thead>\n",
              "    <tr style=\"text-align: right;\">\n",
              "      <th></th>\n",
              "      <th>count</th>\n",
              "      <th>mean</th>\n",
              "      <th>std</th>\n",
              "      <th>min</th>\n",
              "      <th>25%</th>\n",
              "      <th>50%</th>\n",
              "      <th>75%</th>\n",
              "      <th>max</th>\n",
              "    </tr>\n",
              "  </thead>\n",
              "  <tbody>\n",
              "    <tr>\n",
              "      <th>ranking</th>\n",
              "      <td>10.0</td>\n",
              "      <td>5.5</td>\n",
              "      <td>3.027650</td>\n",
              "      <td>1.0</td>\n",
              "      <td>3.25</td>\n",
              "      <td>5.5</td>\n",
              "      <td>7.75</td>\n",
              "      <td>10.0</td>\n",
              "    </tr>\n",
              "    <tr>\n",
              "      <th>stars</th>\n",
              "      <td>10.0</td>\n",
              "      <td>14816.9</td>\n",
              "      <td>34100.448392</td>\n",
              "      <td>369.0</td>\n",
              "      <td>973.25</td>\n",
              "      <td>2139.0</td>\n",
              "      <td>9103.25</td>\n",
              "      <td>110768.0</td>\n",
              "    </tr>\n",
              "    <tr>\n",
              "      <th>stars_today</th>\n",
              "      <td>10.0</td>\n",
              "      <td>264.1</td>\n",
              "      <td>143.351510</td>\n",
              "      <td>71.0</td>\n",
              "      <td>196.00</td>\n",
              "      <td>256.5</td>\n",
              "      <td>282.25</td>\n",
              "      <td>574.0</td>\n",
              "    </tr>\n",
              "    <tr>\n",
              "      <th>forks</th>\n",
              "      <td>10.0</td>\n",
              "      <td>2208.0</td>\n",
              "      <td>5695.945615</td>\n",
              "      <td>38.0</td>\n",
              "      <td>65.00</td>\n",
              "      <td>91.5</td>\n",
              "      <td>1108.25</td>\n",
              "      <td>18331.0</td>\n",
              "    </tr>\n",
              "  </tbody>\n",
              "</table>\n",
              "</div>"
            ],
            "text/plain": [
              "             count     mean           std  ...     50%      75%       max\n",
              "ranking       10.0      5.5      3.027650  ...     5.5     7.75      10.0\n",
              "stars         10.0  14816.9  34100.448392  ...  2139.0  9103.25  110768.0\n",
              "stars_today   10.0    264.1    143.351510  ...   256.5   282.25     574.0\n",
              "forks         10.0   2208.0   5695.945615  ...    91.5  1108.25   18331.0\n",
              "\n",
              "[4 rows x 8 columns]"
            ]
          },
          "metadata": {
            "tags": []
          },
          "execution_count": 27
        }
      ]
    },
    {
      "cell_type": "markdown",
      "metadata": {
        "id": "ymoAXSbFEcvt"
      },
      "source": [
        "### **1.2. Anatomia de um DataFrame** "
      ]
    },
    {
      "cell_type": "markdown",
      "metadata": {
        "id": "fBx76tlzEmaQ"
      },
      "source": [
        "*   **Série**: `Coluna` de um DataFrame;\n",
        "*   **Índice**: Indentificador de uma `linha` de um DataFrame."
      ]
    },
    {
      "cell_type": "code",
      "metadata": {
        "id": "oxYkPTvJE6Ug",
        "colab": {
          "base_uri": "https://localhost:8080/",
          "height": 359
        },
        "outputId": "00598d73-ced1-48ed-f28f-9fa219e6e4c1"
      },
      "source": [
        "github_df"
      ],
      "execution_count": 28,
      "outputs": [
        {
          "output_type": "execute_result",
          "data": {
            "text/html": [
              "<div>\n",
              "<style scoped>\n",
              "    .dataframe tbody tr th:only-of-type {\n",
              "        vertical-align: middle;\n",
              "    }\n",
              "\n",
              "    .dataframe tbody tr th {\n",
              "        vertical-align: top;\n",
              "    }\n",
              "\n",
              "    .dataframe thead th {\n",
              "        text-align: right;\n",
              "    }\n",
              "</style>\n",
              "<table border=\"1\" class=\"dataframe\">\n",
              "  <thead>\n",
              "    <tr style=\"text-align: right;\">\n",
              "      <th></th>\n",
              "      <th>ranking</th>\n",
              "      <th>project</th>\n",
              "      <th>language</th>\n",
              "      <th>stars</th>\n",
              "      <th>stars_today</th>\n",
              "      <th>forks</th>\n",
              "    </tr>\n",
              "  </thead>\n",
              "  <tbody>\n",
              "    <tr>\n",
              "      <th>0</th>\n",
              "      <td>1</td>\n",
              "      <td>plow</td>\n",
              "      <td>go</td>\n",
              "      <td>1304</td>\n",
              "      <td>574</td>\n",
              "      <td>38</td>\n",
              "    </tr>\n",
              "    <tr>\n",
              "      <th>1</th>\n",
              "      <td>2</td>\n",
              "      <td>n8n</td>\n",
              "      <td>typescript</td>\n",
              "      <td>15668</td>\n",
              "      <td>280</td>\n",
              "      <td>1370</td>\n",
              "    </tr>\n",
              "    <tr>\n",
              "      <th>2</th>\n",
              "      <td>3</td>\n",
              "      <td>slides</td>\n",
              "      <td>go</td>\n",
              "      <td>3218</td>\n",
              "      <td>265</td>\n",
              "      <td>80</td>\n",
              "    </tr>\n",
              "    <tr>\n",
              "      <th>3</th>\n",
              "      <td>4</td>\n",
              "      <td>defi-developer-road-map</td>\n",
              "      <td>NaN</td>\n",
              "      <td>636</td>\n",
              "      <td>247</td>\n",
              "      <td>49</td>\n",
              "    </tr>\n",
              "    <tr>\n",
              "      <th>4</th>\n",
              "      <td>5</td>\n",
              "      <td>pytorch-image-models</td>\n",
              "      <td>python</td>\n",
              "      <td>11065</td>\n",
              "      <td>101</td>\n",
              "      <td>1646</td>\n",
              "    </tr>\n",
              "    <tr>\n",
              "      <th>5</th>\n",
              "      <td>6</td>\n",
              "      <td>javascript-algorithms</td>\n",
              "      <td>javascript</td>\n",
              "      <td>110768</td>\n",
              "      <td>248</td>\n",
              "      <td>18331</td>\n",
              "    </tr>\n",
              "    <tr>\n",
              "      <th>6</th>\n",
              "      <td>7</td>\n",
              "      <td>paddleclas</td>\n",
              "      <td>python</td>\n",
              "      <td>1429</td>\n",
              "      <td>283</td>\n",
              "      <td>323</td>\n",
              "    </tr>\n",
              "    <tr>\n",
              "      <th>7</th>\n",
              "      <td>8</td>\n",
              "      <td>reddit_sentiment_trader</td>\n",
              "      <td>python</td>\n",
              "      <td>369</td>\n",
              "      <td>71</td>\n",
              "      <td>60</td>\n",
              "    </tr>\n",
              "    <tr>\n",
              "      <th>8</th>\n",
              "      <td>9</td>\n",
              "      <td>augly</td>\n",
              "      <td>python</td>\n",
              "      <td>2849</td>\n",
              "      <td>393</td>\n",
              "      <td>99</td>\n",
              "    </tr>\n",
              "    <tr>\n",
              "      <th>9</th>\n",
              "      <td>10</td>\n",
              "      <td>self-taught-guide-to-cloud-computing</td>\n",
              "      <td>NaN</td>\n",
              "      <td>863</td>\n",
              "      <td>179</td>\n",
              "      <td>84</td>\n",
              "    </tr>\n",
              "  </tbody>\n",
              "</table>\n",
              "</div>"
            ],
            "text/plain": [
              "   ranking                               project  ... stars_today  forks\n",
              "0        1                                  plow  ...         574     38\n",
              "1        2                                   n8n  ...         280   1370\n",
              "2        3                                slides  ...         265     80\n",
              "3        4               defi-developer-road-map  ...         247     49\n",
              "4        5                  pytorch-image-models  ...         101   1646\n",
              "5        6                 javascript-algorithms  ...         248  18331\n",
              "6        7                            paddleclas  ...         283    323\n",
              "7        8               reddit_sentiment_trader  ...          71     60\n",
              "8        9                                 augly  ...         393     99\n",
              "9       10  self-taught-guide-to-cloud-computing  ...         179     84\n",
              "\n",
              "[10 rows x 6 columns]"
            ]
          },
          "metadata": {
            "tags": []
          },
          "execution_count": 28
        }
      ]
    },
    {
      "cell_type": "markdown",
      "metadata": {
        "id": "4rRCvy_UURrM"
      },
      "source": [
        "## 2\\. Seleção e Filtros"
      ]
    },
    {
      "cell_type": "markdown",
      "metadata": {
        "id": "78RHF81A3tat"
      },
      "source": [
        "### **2.1. Série** "
      ]
    },
    {
      "cell_type": "markdown",
      "metadata": {
        "id": "bV_cw2IibzL8"
      },
      "source": [
        "Uma **série** é uma **coluna** de um **dataframe**. Para selecionar uma coluna utilizamos a seguinte notação (similiar a indexação de listas Python):\n",
        "\n",
        "```python\n",
        "serie = dataframe['<nome-da-coluna>']\n",
        "```\n",
        "\n",
        "**Nota**: Repare no uso das chaves simples `[ ]`."
      ]
    },
    {
      "cell_type": "markdown",
      "metadata": {
        "id": "Lo70QSOY6Xm0"
      },
      "source": [
        "*   **Exemplo**: Coluna linguagem de programação do dataframe `github_df`:"
      ]
    },
    {
      "cell_type": "code",
      "metadata": {
        "id": "0E_qlrvtayge"
      },
      "source": [
        "linguagem_serie = github_df['language']"
      ],
      "execution_count": 99,
      "outputs": []
    },
    {
      "cell_type": "code",
      "metadata": {
        "id": "jUGCDKX3001T",
        "colab": {
          "base_uri": "https://localhost:8080/"
        },
        "outputId": "4a366fca-410d-4117-80e5-f240e8cbe0a0"
      },
      "source": [
        "linguagem_serie"
      ],
      "execution_count": 100,
      "outputs": [
        {
          "output_type": "execute_result",
          "data": {
            "text/plain": [
              "0             go\n",
              "1     typescript\n",
              "2             go\n",
              "3            NaN\n",
              "4         python\n",
              "5     javascript\n",
              "6         python\n",
              "7         python\n",
              "8         python\n",
              "9            NaN\n",
              "10    typescript\n",
              "Name: language, dtype: object"
            ]
          },
          "metadata": {
            "tags": []
          },
          "execution_count": 100
        }
      ]
    },
    {
      "cell_type": "code",
      "metadata": {
        "id": "tBL9JNNJH5-X",
        "colab": {
          "base_uri": "https://localhost:8080/"
        },
        "outputId": "e5ae2673-429d-4fef-f0b0-b07f266a74f1"
      },
      "source": [
        "type(linguagem_serie)"
      ],
      "execution_count": 31,
      "outputs": [
        {
          "output_type": "execute_result",
          "data": {
            "text/plain": [
              "pandas.core.series.Series"
            ]
          },
          "metadata": {
            "tags": []
          },
          "execution_count": 31
        }
      ]
    },
    {
      "cell_type": "code",
      "metadata": {
        "colab": {
          "base_uri": "https://localhost:8080/"
        },
        "id": "BI-8zxXJdL-_",
        "outputId": "36e2e6a7-1608-4a3e-86c1-971e6c5afd2f"
      },
      "source": [
        "projeto_serie = github_df['project']\n",
        "projeto_serie"
      ],
      "execution_count": 32,
      "outputs": [
        {
          "output_type": "execute_result",
          "data": {
            "text/plain": [
              "0                                    plow\n",
              "1                                     n8n\n",
              "2                                  slides\n",
              "3                 defi-developer-road-map\n",
              "4                    pytorch-image-models\n",
              "5                   javascript-algorithms\n",
              "6                              paddleclas\n",
              "7                 reddit_sentiment_trader\n",
              "8                                   augly\n",
              "9    self-taught-guide-to-cloud-computing\n",
              "Name: project, dtype: object"
            ]
          },
          "metadata": {
            "tags": []
          },
          "execution_count": 32
        }
      ]
    },
    {
      "cell_type": "markdown",
      "metadata": {
        "id": "hsEYdMqZ-12v"
      },
      "source": [
        "#### 2.1.1 Seleção "
      ]
    },
    {
      "cell_type": "markdown",
      "metadata": {
        "id": "ZQ-RIHUl8I9V"
      },
      "source": [
        "*   **Exemplo**: Indexação simples com método `loc` (similar a lista Python):"
      ]
    },
    {
      "cell_type": "code",
      "metadata": {
        "id": "cyzctK3f2AB7"
      },
      "source": [
        "top_1_linguagem = linguagem_serie.loc[0]"
      ],
      "execution_count": 33,
      "outputs": []
    },
    {
      "cell_type": "code",
      "metadata": {
        "id": "1raP2AssItoH",
        "colab": {
          "base_uri": "https://localhost:8080/",
          "height": 35
        },
        "outputId": "150828ac-99d9-4ed9-9872-7d0d0d2a4033"
      },
      "source": [
        "top_1_linguagem"
      ],
      "execution_count": 34,
      "outputs": [
        {
          "output_type": "execute_result",
          "data": {
            "application/vnd.google.colaboratory.intrinsic+json": {
              "type": "string"
            },
            "text/plain": [
              "'go'"
            ]
          },
          "metadata": {
            "tags": []
          },
          "execution_count": 34
        }
      ]
    },
    {
      "cell_type": "code",
      "metadata": {
        "id": "yuQKYgwoIxqK",
        "colab": {
          "base_uri": "https://localhost:8080/"
        },
        "outputId": "b91d5a7f-f758-4880-9f76-7ec9b85aae18"
      },
      "source": [
        "type(top_1_linguagem)"
      ],
      "execution_count": 35,
      "outputs": [
        {
          "output_type": "execute_result",
          "data": {
            "text/plain": [
              "str"
            ]
          },
          "metadata": {
            "tags": []
          },
          "execution_count": 35
        }
      ]
    },
    {
      "cell_type": "code",
      "metadata": {
        "colab": {
          "base_uri": "https://localhost:8080/",
          "height": 35
        },
        "id": "Ke_ovwkveCgV",
        "outputId": "29dace6a-2a67-42ad-8841-ff5eec0423f1"
      },
      "source": [
        "#Extaindo a liguagem java:\n",
        "java_linguagem = linguagem_serie.loc[5]\n",
        "java_linguagem"
      ],
      "execution_count": 36,
      "outputs": [
        {
          "output_type": "execute_result",
          "data": {
            "application/vnd.google.colaboratory.intrinsic+json": {
              "type": "string"
            },
            "text/plain": [
              "'javascript'"
            ]
          },
          "metadata": {
            "tags": []
          },
          "execution_count": 36
        }
      ]
    },
    {
      "cell_type": "code",
      "metadata": {
        "colab": {
          "base_uri": "https://localhost:8080/"
        },
        "id": "put82OdGeXBU",
        "outputId": "ae0df26d-f1a9-478a-fb4e-b0c7a8a67853"
      },
      "source": [
        "#3 últimas linguagens:\n",
        "ultimas_3_linguagem = linguagem_serie.loc[7:9]\n",
        "ultimas_3_linguagem"
      ],
      "execution_count": 37,
      "outputs": [
        {
          "output_type": "execute_result",
          "data": {
            "text/plain": [
              "7    python\n",
              "8    python\n",
              "9       NaN\n",
              "Name: language, dtype: object"
            ]
          },
          "metadata": {
            "tags": []
          },
          "execution_count": 37
        }
      ]
    },
    {
      "cell_type": "markdown",
      "metadata": {
        "id": "EwG7rEpxASE4"
      },
      "source": [
        "*   **Exemplo**: Fatiamento ou *slicing* com método `loc` (similar a lista Python):"
      ]
    },
    {
      "cell_type": "code",
      "metadata": {
        "id": "u22eOpJJ3Sa_"
      },
      "source": [
        "top_5_linguagem = linguagem_serie.loc[0:5]"
      ],
      "execution_count": 38,
      "outputs": []
    },
    {
      "cell_type": "code",
      "metadata": {
        "id": "MHVFQycVI0bw",
        "colab": {
          "base_uri": "https://localhost:8080/"
        },
        "outputId": "79509af0-bc00-4f44-9e37-14aa87cfcc3d"
      },
      "source": [
        "top_5_linguagem"
      ],
      "execution_count": 39,
      "outputs": [
        {
          "output_type": "execute_result",
          "data": {
            "text/plain": [
              "0            go\n",
              "1    typescript\n",
              "2            go\n",
              "3           NaN\n",
              "4        python\n",
              "5    javascript\n",
              "Name: language, dtype: object"
            ]
          },
          "metadata": {
            "tags": []
          },
          "execution_count": 39
        }
      ]
    },
    {
      "cell_type": "code",
      "metadata": {
        "id": "Py31PNbGI00p",
        "colab": {
          "base_uri": "https://localhost:8080/"
        },
        "outputId": "39f660c0-39d5-4699-9c17-904d181dbd43"
      },
      "source": [
        "type(top_5_linguagem)"
      ],
      "execution_count": 40,
      "outputs": [
        {
          "output_type": "execute_result",
          "data": {
            "text/plain": [
              "pandas.core.series.Series"
            ]
          },
          "metadata": {
            "tags": []
          },
          "execution_count": 40
        }
      ]
    },
    {
      "cell_type": "markdown",
      "metadata": {
        "id": "c1w3aPRb_zyY"
      },
      "source": [
        "#### 2.1.2 Filtros "
      ]
    },
    {
      "cell_type": "markdown",
      "metadata": {
        "id": "JpwLeL7zAakW"
      },
      "source": [
        "*   **Exemplo**: Filtro funcional:"
      ]
    },
    {
      "cell_type": "code",
      "metadata": {
        "id": "_WS0rxAZCmU-",
        "colab": {
          "base_uri": "https://localhost:8080/"
        },
        "outputId": "1ef76ab0-a94e-4f26-a33d-a938864ef0a6"
      },
      "source": [
        "linguagem_serie[lambda linguagem: (linguagem == 'python') | (linguagem == 'javascript')]"
      ],
      "execution_count": 41,
      "outputs": [
        {
          "output_type": "execute_result",
          "data": {
            "text/plain": [
              "4        python\n",
              "5    javascript\n",
              "6        python\n",
              "7        python\n",
              "8        python\n",
              "Name: language, dtype: object"
            ]
          },
          "metadata": {
            "tags": []
          },
          "execution_count": 41
        }
      ]
    },
    {
      "cell_type": "markdown",
      "metadata": {
        "id": "73n8P5ShC38f"
      },
      "source": [
        "*   **Exemplo**: Filtro funcional com novos índices:"
      ]
    },
    {
      "cell_type": "code",
      "metadata": {
        "id": "d4TBy_4_B2uU",
        "colab": {
          "base_uri": "https://localhost:8080/"
        },
        "outputId": "0c551096-64f1-4b60-a400-81e935ebba22"
      },
      "source": [
        "linguagem_serie[lambda linguagem: (linguagem == 'python') | (linguagem == 'javascript')].reset_index(drop=True)\n",
        "#Com índices \"resetados\""
      ],
      "execution_count": 42,
      "outputs": [
        {
          "output_type": "execute_result",
          "data": {
            "text/plain": [
              "0        python\n",
              "1    javascript\n",
              "2        python\n",
              "3        python\n",
              "4        python\n",
              "Name: language, dtype: object"
            ]
          },
          "metadata": {
            "tags": []
          },
          "execution_count": 42
        }
      ]
    },
    {
      "cell_type": "markdown",
      "metadata": {
        "id": "fzU5v17l8kHf"
      },
      "source": [
        "### **2.2. DataFrame** "
      ]
    },
    {
      "cell_type": "markdown",
      "metadata": {
        "id": "XC2gIbHs8kHg"
      },
      "source": [
        "Um **conjunto** de **colunas** ou **séries** é um novo **dataframe**. Para selecionar um conjunto de colunas utilizamos a seguinte notação:\n",
        "\n",
        "```python\n",
        "novo_dataframe = dataframe[['<nome-da-coluna-a>', '<nome-da-coluna-b>', ...]]\n",
        "```\n",
        "\n",
        "**Nota**: Repare no uso das chaves duplas `[[ ]]`."
      ]
    },
    {
      "cell_type": "markdown",
      "metadata": {
        "id": "W9Moi_1-9Hr4"
      },
      "source": [
        "*   **Exemplo**: Colunas ranking e linguagem de programação do dataframe `github_df`:"
      ]
    },
    {
      "cell_type": "code",
      "metadata": {
        "id": "dO9sVjPa9HsZ"
      },
      "source": [
        "ranking_linguagem_df = github_df[['ranking', 'language']]"
      ],
      "execution_count": 98,
      "outputs": []
    },
    {
      "cell_type": "code",
      "metadata": {
        "id": "NqBRmkf3JEzh",
        "colab": {
          "base_uri": "https://localhost:8080/",
          "height": 359
        },
        "outputId": "c534d6f9-5f59-4f41-9059-2e62e5e7e479"
      },
      "source": [
        "ranking_linguagem_df"
      ],
      "execution_count": 44,
      "outputs": [
        {
          "output_type": "execute_result",
          "data": {
            "text/html": [
              "<div>\n",
              "<style scoped>\n",
              "    .dataframe tbody tr th:only-of-type {\n",
              "        vertical-align: middle;\n",
              "    }\n",
              "\n",
              "    .dataframe tbody tr th {\n",
              "        vertical-align: top;\n",
              "    }\n",
              "\n",
              "    .dataframe thead th {\n",
              "        text-align: right;\n",
              "    }\n",
              "</style>\n",
              "<table border=\"1\" class=\"dataframe\">\n",
              "  <thead>\n",
              "    <tr style=\"text-align: right;\">\n",
              "      <th></th>\n",
              "      <th>ranking</th>\n",
              "      <th>language</th>\n",
              "    </tr>\n",
              "  </thead>\n",
              "  <tbody>\n",
              "    <tr>\n",
              "      <th>0</th>\n",
              "      <td>1</td>\n",
              "      <td>go</td>\n",
              "    </tr>\n",
              "    <tr>\n",
              "      <th>1</th>\n",
              "      <td>2</td>\n",
              "      <td>typescript</td>\n",
              "    </tr>\n",
              "    <tr>\n",
              "      <th>2</th>\n",
              "      <td>3</td>\n",
              "      <td>go</td>\n",
              "    </tr>\n",
              "    <tr>\n",
              "      <th>3</th>\n",
              "      <td>4</td>\n",
              "      <td>NaN</td>\n",
              "    </tr>\n",
              "    <tr>\n",
              "      <th>4</th>\n",
              "      <td>5</td>\n",
              "      <td>python</td>\n",
              "    </tr>\n",
              "    <tr>\n",
              "      <th>5</th>\n",
              "      <td>6</td>\n",
              "      <td>javascript</td>\n",
              "    </tr>\n",
              "    <tr>\n",
              "      <th>6</th>\n",
              "      <td>7</td>\n",
              "      <td>python</td>\n",
              "    </tr>\n",
              "    <tr>\n",
              "      <th>7</th>\n",
              "      <td>8</td>\n",
              "      <td>python</td>\n",
              "    </tr>\n",
              "    <tr>\n",
              "      <th>8</th>\n",
              "      <td>9</td>\n",
              "      <td>python</td>\n",
              "    </tr>\n",
              "    <tr>\n",
              "      <th>9</th>\n",
              "      <td>10</td>\n",
              "      <td>NaN</td>\n",
              "    </tr>\n",
              "  </tbody>\n",
              "</table>\n",
              "</div>"
            ],
            "text/plain": [
              "   ranking    language\n",
              "0        1          go\n",
              "1        2  typescript\n",
              "2        3          go\n",
              "3        4         NaN\n",
              "4        5      python\n",
              "5        6  javascript\n",
              "6        7      python\n",
              "7        8      python\n",
              "8        9      python\n",
              "9       10         NaN"
            ]
          },
          "metadata": {
            "tags": []
          },
          "execution_count": 44
        }
      ]
    },
    {
      "cell_type": "code",
      "metadata": {
        "id": "_au_4EJC9HsZ",
        "colab": {
          "base_uri": "https://localhost:8080/"
        },
        "outputId": "a605aa6d-cf8f-4ebe-aad0-0405f1696ef1"
      },
      "source": [
        "type(ranking_linguagem_df)"
      ],
      "execution_count": 45,
      "outputs": [
        {
          "output_type": "execute_result",
          "data": {
            "text/plain": [
              "pandas.core.frame.DataFrame"
            ]
          },
          "metadata": {
            "tags": []
          },
          "execution_count": 45
        }
      ]
    },
    {
      "cell_type": "markdown",
      "metadata": {
        "id": "7icZ-XztJgrr"
      },
      "source": [
        "#### 2.2.1 Seleção "
      ]
    },
    {
      "cell_type": "markdown",
      "metadata": {
        "id": "wzoCWYcpJgrt"
      },
      "source": [
        "*   **Exemplo**: Indexação simples (linha) com método `loc` (similar a lista Python):"
      ]
    },
    {
      "cell_type": "code",
      "metadata": {
        "id": "cbEVqpxQJgrt"
      },
      "source": [
        "top_1_linguagem = ranking_linguagem_df.loc[0]"
      ],
      "execution_count": 46,
      "outputs": []
    },
    {
      "cell_type": "code",
      "metadata": {
        "id": "qMKBxt3fJgru",
        "colab": {
          "base_uri": "https://localhost:8080/"
        },
        "outputId": "a510c975-17a2-42b9-ec25-ce39fae58291"
      },
      "source": [
        "top_1_linguagem"
      ],
      "execution_count": 47,
      "outputs": [
        {
          "output_type": "execute_result",
          "data": {
            "text/plain": [
              "ranking      1\n",
              "language    go\n",
              "Name: 0, dtype: object"
            ]
          },
          "metadata": {
            "tags": []
          },
          "execution_count": 47
        }
      ]
    },
    {
      "cell_type": "code",
      "metadata": {
        "id": "0hEYyLVJJgrv",
        "colab": {
          "base_uri": "https://localhost:8080/"
        },
        "outputId": "67b80400-3589-4ca2-ba0b-8532c7cdc910"
      },
      "source": [
        "type(top_1_linguagem)"
      ],
      "execution_count": 48,
      "outputs": [
        {
          "output_type": "execute_result",
          "data": {
            "text/plain": [
              "pandas.core.series.Series"
            ]
          },
          "metadata": {
            "tags": []
          },
          "execution_count": 48
        }
      ]
    },
    {
      "cell_type": "markdown",
      "metadata": {
        "id": "cJlp7k7frtQn"
      },
      "source": [
        "*   **Exemplo**: Indexação simples (linha e coluna) com método `loc` (similar a lista Python):"
      ]
    },
    {
      "cell_type": "code",
      "metadata": {
        "id": "ysz6K-vyrtQ3"
      },
      "source": [
        "top_1_linguagem = github_df.loc[0, ['ranking', 'language']]"
      ],
      "execution_count": 49,
      "outputs": []
    },
    {
      "cell_type": "code",
      "metadata": {
        "id": "NVZIAd7WrtQ3",
        "colab": {
          "base_uri": "https://localhost:8080/"
        },
        "outputId": "e84c4732-7b0a-4905-d0e4-9eab9fec4689"
      },
      "source": [
        "top_1_linguagem"
      ],
      "execution_count": 50,
      "outputs": [
        {
          "output_type": "execute_result",
          "data": {
            "text/plain": [
              "ranking      1\n",
              "language    go\n",
              "Name: 0, dtype: object"
            ]
          },
          "metadata": {
            "tags": []
          },
          "execution_count": 50
        }
      ]
    },
    {
      "cell_type": "code",
      "metadata": {
        "id": "BQ_vQ7jPrtQ4",
        "colab": {
          "base_uri": "https://localhost:8080/"
        },
        "outputId": "f74eeaf7-0f9d-46d9-9cc0-99706fd98694"
      },
      "source": [
        "type(top_1_linguagem)"
      ],
      "execution_count": 51,
      "outputs": [
        {
          "output_type": "execute_result",
          "data": {
            "text/plain": [
              "pandas.core.series.Series"
            ]
          },
          "metadata": {
            "tags": []
          },
          "execution_count": 51
        }
      ]
    },
    {
      "cell_type": "markdown",
      "metadata": {
        "id": "TY5U3yQ1Jgrv"
      },
      "source": [
        "*   **Exemplo**: Fatiamento ou *slicing* (linhas) com método `loc` (similar a lista Python):"
      ]
    },
    {
      "cell_type": "code",
      "metadata": {
        "id": "v6s_MlyaJgrw"
      },
      "source": [
        "top_5_ranking_linguagem = ranking_linguagem_df.loc[0:5]"
      ],
      "execution_count": 52,
      "outputs": []
    },
    {
      "cell_type": "code",
      "metadata": {
        "id": "iEKc8FNJJgrx",
        "colab": {
          "base_uri": "https://localhost:8080/",
          "height": 235
        },
        "outputId": "ec4aace3-d2e6-457b-9f26-8bba0076ee6b"
      },
      "source": [
        "top_5_ranking_linguagem"
      ],
      "execution_count": 53,
      "outputs": [
        {
          "output_type": "execute_result",
          "data": {
            "text/html": [
              "<div>\n",
              "<style scoped>\n",
              "    .dataframe tbody tr th:only-of-type {\n",
              "        vertical-align: middle;\n",
              "    }\n",
              "\n",
              "    .dataframe tbody tr th {\n",
              "        vertical-align: top;\n",
              "    }\n",
              "\n",
              "    .dataframe thead th {\n",
              "        text-align: right;\n",
              "    }\n",
              "</style>\n",
              "<table border=\"1\" class=\"dataframe\">\n",
              "  <thead>\n",
              "    <tr style=\"text-align: right;\">\n",
              "      <th></th>\n",
              "      <th>ranking</th>\n",
              "      <th>language</th>\n",
              "    </tr>\n",
              "  </thead>\n",
              "  <tbody>\n",
              "    <tr>\n",
              "      <th>0</th>\n",
              "      <td>1</td>\n",
              "      <td>go</td>\n",
              "    </tr>\n",
              "    <tr>\n",
              "      <th>1</th>\n",
              "      <td>2</td>\n",
              "      <td>typescript</td>\n",
              "    </tr>\n",
              "    <tr>\n",
              "      <th>2</th>\n",
              "      <td>3</td>\n",
              "      <td>go</td>\n",
              "    </tr>\n",
              "    <tr>\n",
              "      <th>3</th>\n",
              "      <td>4</td>\n",
              "      <td>NaN</td>\n",
              "    </tr>\n",
              "    <tr>\n",
              "      <th>4</th>\n",
              "      <td>5</td>\n",
              "      <td>python</td>\n",
              "    </tr>\n",
              "    <tr>\n",
              "      <th>5</th>\n",
              "      <td>6</td>\n",
              "      <td>javascript</td>\n",
              "    </tr>\n",
              "  </tbody>\n",
              "</table>\n",
              "</div>"
            ],
            "text/plain": [
              "   ranking    language\n",
              "0        1          go\n",
              "1        2  typescript\n",
              "2        3          go\n",
              "3        4         NaN\n",
              "4        5      python\n",
              "5        6  javascript"
            ]
          },
          "metadata": {
            "tags": []
          },
          "execution_count": 53
        }
      ]
    },
    {
      "cell_type": "code",
      "metadata": {
        "id": "dKtC7REkJgrx",
        "colab": {
          "base_uri": "https://localhost:8080/"
        },
        "outputId": "74906c94-1b3d-4963-d79f-83302b802e74"
      },
      "source": [
        "type(top_5_ranking_linguagem)"
      ],
      "execution_count": 54,
      "outputs": [
        {
          "output_type": "execute_result",
          "data": {
            "text/plain": [
              "pandas.core.frame.DataFrame"
            ]
          },
          "metadata": {
            "tags": []
          },
          "execution_count": 54
        }
      ]
    },
    {
      "cell_type": "markdown",
      "metadata": {
        "id": "adXhM2I3rPY3"
      },
      "source": [
        "*   **Exemplo**: Fatiamento ou *slicing* (linhas e colunas) com método `loc` (similar a lista Python):"
      ]
    },
    {
      "cell_type": "code",
      "metadata": {
        "id": "9K7CVUcirPY4"
      },
      "source": [
        "top_5_ranking_linguagem = github_df.loc[0:5, ['ranking', 'language']]"
      ],
      "execution_count": 55,
      "outputs": []
    },
    {
      "cell_type": "code",
      "metadata": {
        "id": "QoWCUYqCrPY5",
        "colab": {
          "base_uri": "https://localhost:8080/",
          "height": 235
        },
        "outputId": "74d4e741-4dc6-44d6-dec3-4f42c4425ce4"
      },
      "source": [
        "top_5_ranking_linguagem"
      ],
      "execution_count": 56,
      "outputs": [
        {
          "output_type": "execute_result",
          "data": {
            "text/html": [
              "<div>\n",
              "<style scoped>\n",
              "    .dataframe tbody tr th:only-of-type {\n",
              "        vertical-align: middle;\n",
              "    }\n",
              "\n",
              "    .dataframe tbody tr th {\n",
              "        vertical-align: top;\n",
              "    }\n",
              "\n",
              "    .dataframe thead th {\n",
              "        text-align: right;\n",
              "    }\n",
              "</style>\n",
              "<table border=\"1\" class=\"dataframe\">\n",
              "  <thead>\n",
              "    <tr style=\"text-align: right;\">\n",
              "      <th></th>\n",
              "      <th>ranking</th>\n",
              "      <th>language</th>\n",
              "    </tr>\n",
              "  </thead>\n",
              "  <tbody>\n",
              "    <tr>\n",
              "      <th>0</th>\n",
              "      <td>1</td>\n",
              "      <td>go</td>\n",
              "    </tr>\n",
              "    <tr>\n",
              "      <th>1</th>\n",
              "      <td>2</td>\n",
              "      <td>typescript</td>\n",
              "    </tr>\n",
              "    <tr>\n",
              "      <th>2</th>\n",
              "      <td>3</td>\n",
              "      <td>go</td>\n",
              "    </tr>\n",
              "    <tr>\n",
              "      <th>3</th>\n",
              "      <td>4</td>\n",
              "      <td>NaN</td>\n",
              "    </tr>\n",
              "    <tr>\n",
              "      <th>4</th>\n",
              "      <td>5</td>\n",
              "      <td>python</td>\n",
              "    </tr>\n",
              "    <tr>\n",
              "      <th>5</th>\n",
              "      <td>6</td>\n",
              "      <td>javascript</td>\n",
              "    </tr>\n",
              "  </tbody>\n",
              "</table>\n",
              "</div>"
            ],
            "text/plain": [
              "   ranking    language\n",
              "0        1          go\n",
              "1        2  typescript\n",
              "2        3          go\n",
              "3        4         NaN\n",
              "4        5      python\n",
              "5        6  javascript"
            ]
          },
          "metadata": {
            "tags": []
          },
          "execution_count": 56
        }
      ]
    },
    {
      "cell_type": "code",
      "metadata": {
        "id": "TQYc9mkkrPY6",
        "colab": {
          "base_uri": "https://localhost:8080/"
        },
        "outputId": "4dddf7d7-54fa-4223-f3f0-5e4d2ee0e49e"
      },
      "source": [
        "type(top_5_ranking_linguagem)"
      ],
      "execution_count": 57,
      "outputs": [
        {
          "output_type": "execute_result",
          "data": {
            "text/plain": [
              "pandas.core.frame.DataFrame"
            ]
          },
          "metadata": {
            "tags": []
          },
          "execution_count": 57
        }
      ]
    },
    {
      "cell_type": "markdown",
      "metadata": {
        "id": "qvGeQLych-F-"
      },
      "source": [
        "**Exemplo - extração das linhas 1-5 para as colunas linguagem e estrelas:**"
      ]
    },
    {
      "cell_type": "code",
      "metadata": {
        "colab": {
          "base_uri": "https://localhost:8080/",
          "height": 204
        },
        "id": "57V41i1EhzAe",
        "outputId": "cbcd0bf6-91e6-4040-f1cf-fc8cd38556a7"
      },
      "source": [
        "languages_stars = github_df.loc[0:4,['language','stars']]\n",
        "languages_stars"
      ],
      "execution_count": 58,
      "outputs": [
        {
          "output_type": "execute_result",
          "data": {
            "text/html": [
              "<div>\n",
              "<style scoped>\n",
              "    .dataframe tbody tr th:only-of-type {\n",
              "        vertical-align: middle;\n",
              "    }\n",
              "\n",
              "    .dataframe tbody tr th {\n",
              "        vertical-align: top;\n",
              "    }\n",
              "\n",
              "    .dataframe thead th {\n",
              "        text-align: right;\n",
              "    }\n",
              "</style>\n",
              "<table border=\"1\" class=\"dataframe\">\n",
              "  <thead>\n",
              "    <tr style=\"text-align: right;\">\n",
              "      <th></th>\n",
              "      <th>language</th>\n",
              "      <th>stars</th>\n",
              "    </tr>\n",
              "  </thead>\n",
              "  <tbody>\n",
              "    <tr>\n",
              "      <th>0</th>\n",
              "      <td>go</td>\n",
              "      <td>1304</td>\n",
              "    </tr>\n",
              "    <tr>\n",
              "      <th>1</th>\n",
              "      <td>typescript</td>\n",
              "      <td>15668</td>\n",
              "    </tr>\n",
              "    <tr>\n",
              "      <th>2</th>\n",
              "      <td>go</td>\n",
              "      <td>3218</td>\n",
              "    </tr>\n",
              "    <tr>\n",
              "      <th>3</th>\n",
              "      <td>NaN</td>\n",
              "      <td>636</td>\n",
              "    </tr>\n",
              "    <tr>\n",
              "      <th>4</th>\n",
              "      <td>python</td>\n",
              "      <td>11065</td>\n",
              "    </tr>\n",
              "  </tbody>\n",
              "</table>\n",
              "</div>"
            ],
            "text/plain": [
              "     language  stars\n",
              "0          go   1304\n",
              "1  typescript  15668\n",
              "2          go   3218\n",
              "3         NaN    636\n",
              "4      python  11065"
            ]
          },
          "metadata": {
            "tags": []
          },
          "execution_count": 58
        }
      ]
    },
    {
      "cell_type": "markdown",
      "metadata": {
        "id": "72pCKmpiJgry"
      },
      "source": [
        "#### 2.2.2 Filtros "
      ]
    },
    {
      "cell_type": "markdown",
      "metadata": {
        "id": "o3Ozx__8Jgrz"
      },
      "source": [
        "*   **Exemplo**: Filtro com o método `query`:"
      ]
    },
    {
      "cell_type": "code",
      "metadata": {
        "id": "ZwKbySk_Jgr0",
        "colab": {
          "base_uri": "https://localhost:8080/",
          "height": 173
        },
        "outputId": "2720c5de-b144-4513-b011-0f14a81daec9"
      },
      "source": [
        "ranking_linguagem_df.query('language == \"python\"')"
      ],
      "execution_count": 59,
      "outputs": [
        {
          "output_type": "execute_result",
          "data": {
            "text/html": [
              "<div>\n",
              "<style scoped>\n",
              "    .dataframe tbody tr th:only-of-type {\n",
              "        vertical-align: middle;\n",
              "    }\n",
              "\n",
              "    .dataframe tbody tr th {\n",
              "        vertical-align: top;\n",
              "    }\n",
              "\n",
              "    .dataframe thead th {\n",
              "        text-align: right;\n",
              "    }\n",
              "</style>\n",
              "<table border=\"1\" class=\"dataframe\">\n",
              "  <thead>\n",
              "    <tr style=\"text-align: right;\">\n",
              "      <th></th>\n",
              "      <th>ranking</th>\n",
              "      <th>language</th>\n",
              "    </tr>\n",
              "  </thead>\n",
              "  <tbody>\n",
              "    <tr>\n",
              "      <th>4</th>\n",
              "      <td>5</td>\n",
              "      <td>python</td>\n",
              "    </tr>\n",
              "    <tr>\n",
              "      <th>6</th>\n",
              "      <td>7</td>\n",
              "      <td>python</td>\n",
              "    </tr>\n",
              "    <tr>\n",
              "      <th>7</th>\n",
              "      <td>8</td>\n",
              "      <td>python</td>\n",
              "    </tr>\n",
              "    <tr>\n",
              "      <th>8</th>\n",
              "      <td>9</td>\n",
              "      <td>python</td>\n",
              "    </tr>\n",
              "  </tbody>\n",
              "</table>\n",
              "</div>"
            ],
            "text/plain": [
              "   ranking language\n",
              "4        5   python\n",
              "6        7   python\n",
              "7        8   python\n",
              "8        9   python"
            ]
          },
          "metadata": {
            "tags": []
          },
          "execution_count": 59
        }
      ]
    },
    {
      "cell_type": "code",
      "metadata": {
        "id": "W_rWrIk6K1gQ",
        "colab": {
          "base_uri": "https://localhost:8080/",
          "height": 142
        },
        "outputId": "f35f8ef3-0e18-4d31-97b4-a6a9abfb3788"
      },
      "source": [
        "ranking_linguagem_df.query('language == \"python\" & ranking > 5')"
      ],
      "execution_count": 60,
      "outputs": [
        {
          "output_type": "execute_result",
          "data": {
            "text/html": [
              "<div>\n",
              "<style scoped>\n",
              "    .dataframe tbody tr th:only-of-type {\n",
              "        vertical-align: middle;\n",
              "    }\n",
              "\n",
              "    .dataframe tbody tr th {\n",
              "        vertical-align: top;\n",
              "    }\n",
              "\n",
              "    .dataframe thead th {\n",
              "        text-align: right;\n",
              "    }\n",
              "</style>\n",
              "<table border=\"1\" class=\"dataframe\">\n",
              "  <thead>\n",
              "    <tr style=\"text-align: right;\">\n",
              "      <th></th>\n",
              "      <th>ranking</th>\n",
              "      <th>language</th>\n",
              "    </tr>\n",
              "  </thead>\n",
              "  <tbody>\n",
              "    <tr>\n",
              "      <th>6</th>\n",
              "      <td>7</td>\n",
              "      <td>python</td>\n",
              "    </tr>\n",
              "    <tr>\n",
              "      <th>7</th>\n",
              "      <td>8</td>\n",
              "      <td>python</td>\n",
              "    </tr>\n",
              "    <tr>\n",
              "      <th>8</th>\n",
              "      <td>9</td>\n",
              "      <td>python</td>\n",
              "    </tr>\n",
              "  </tbody>\n",
              "</table>\n",
              "</div>"
            ],
            "text/plain": [
              "   ranking language\n",
              "6        7   python\n",
              "7        8   python\n",
              "8        9   python"
            ]
          },
          "metadata": {
            "tags": []
          },
          "execution_count": 60
        }
      ]
    },
    {
      "cell_type": "code",
      "metadata": {
        "id": "ufvbnj5PK9Ca",
        "colab": {
          "base_uri": "https://localhost:8080/",
          "height": 235
        },
        "outputId": "f3c58c4e-1d07-4f8f-c07a-bc22038a5baf"
      },
      "source": [
        "ranking_linguagem_df.query('language == \"python\" | language == \"go\"')"
      ],
      "execution_count": 61,
      "outputs": [
        {
          "output_type": "execute_result",
          "data": {
            "text/html": [
              "<div>\n",
              "<style scoped>\n",
              "    .dataframe tbody tr th:only-of-type {\n",
              "        vertical-align: middle;\n",
              "    }\n",
              "\n",
              "    .dataframe tbody tr th {\n",
              "        vertical-align: top;\n",
              "    }\n",
              "\n",
              "    .dataframe thead th {\n",
              "        text-align: right;\n",
              "    }\n",
              "</style>\n",
              "<table border=\"1\" class=\"dataframe\">\n",
              "  <thead>\n",
              "    <tr style=\"text-align: right;\">\n",
              "      <th></th>\n",
              "      <th>ranking</th>\n",
              "      <th>language</th>\n",
              "    </tr>\n",
              "  </thead>\n",
              "  <tbody>\n",
              "    <tr>\n",
              "      <th>0</th>\n",
              "      <td>1</td>\n",
              "      <td>go</td>\n",
              "    </tr>\n",
              "    <tr>\n",
              "      <th>2</th>\n",
              "      <td>3</td>\n",
              "      <td>go</td>\n",
              "    </tr>\n",
              "    <tr>\n",
              "      <th>4</th>\n",
              "      <td>5</td>\n",
              "      <td>python</td>\n",
              "    </tr>\n",
              "    <tr>\n",
              "      <th>6</th>\n",
              "      <td>7</td>\n",
              "      <td>python</td>\n",
              "    </tr>\n",
              "    <tr>\n",
              "      <th>7</th>\n",
              "      <td>8</td>\n",
              "      <td>python</td>\n",
              "    </tr>\n",
              "    <tr>\n",
              "      <th>8</th>\n",
              "      <td>9</td>\n",
              "      <td>python</td>\n",
              "    </tr>\n",
              "  </tbody>\n",
              "</table>\n",
              "</div>"
            ],
            "text/plain": [
              "   ranking language\n",
              "0        1       go\n",
              "2        3       go\n",
              "4        5   python\n",
              "6        7   python\n",
              "7        8   python\n",
              "8        9   python"
            ]
          },
          "metadata": {
            "tags": []
          },
          "execution_count": 61
        }
      ]
    },
    {
      "cell_type": "code",
      "metadata": {
        "colab": {
          "base_uri": "https://localhost:8080/",
          "height": 297
        },
        "id": "DOYl80jNij0l",
        "outputId": "3a7e0e41-ca88-4966-c371-25765d1cb4bf"
      },
      "source": [
        "forks_filtro = github_df.query('forks >= 80')\n",
        "forks_filtro[['forks']]"
      ],
      "execution_count": 88,
      "outputs": [
        {
          "output_type": "execute_result",
          "data": {
            "text/html": [
              "<div>\n",
              "<style scoped>\n",
              "    .dataframe tbody tr th:only-of-type {\n",
              "        vertical-align: middle;\n",
              "    }\n",
              "\n",
              "    .dataframe tbody tr th {\n",
              "        vertical-align: top;\n",
              "    }\n",
              "\n",
              "    .dataframe thead th {\n",
              "        text-align: right;\n",
              "    }\n",
              "</style>\n",
              "<table border=\"1\" class=\"dataframe\">\n",
              "  <thead>\n",
              "    <tr style=\"text-align: right;\">\n",
              "      <th></th>\n",
              "      <th>forks</th>\n",
              "    </tr>\n",
              "  </thead>\n",
              "  <tbody>\n",
              "    <tr>\n",
              "      <th>1</th>\n",
              "      <td>1370</td>\n",
              "    </tr>\n",
              "    <tr>\n",
              "      <th>2</th>\n",
              "      <td>80</td>\n",
              "    </tr>\n",
              "    <tr>\n",
              "      <th>4</th>\n",
              "      <td>1646</td>\n",
              "    </tr>\n",
              "    <tr>\n",
              "      <th>5</th>\n",
              "      <td>18331</td>\n",
              "    </tr>\n",
              "    <tr>\n",
              "      <th>6</th>\n",
              "      <td>323</td>\n",
              "    </tr>\n",
              "    <tr>\n",
              "      <th>8</th>\n",
              "      <td>99</td>\n",
              "    </tr>\n",
              "    <tr>\n",
              "      <th>9</th>\n",
              "      <td>84</td>\n",
              "    </tr>\n",
              "    <tr>\n",
              "      <th>10</th>\n",
              "      <td>115</td>\n",
              "    </tr>\n",
              "  </tbody>\n",
              "</table>\n",
              "</div>"
            ],
            "text/plain": [
              "    forks\n",
              "1    1370\n",
              "2      80\n",
              "4    1646\n",
              "5   18331\n",
              "6     323\n",
              "8      99\n",
              "9      84\n",
              "10    115"
            ]
          },
          "metadata": {
            "tags": []
          },
          "execution_count": 88
        }
      ]
    },
    {
      "cell_type": "markdown",
      "metadata": {
        "id": "ELgoMRAAUSjv"
      },
      "source": [
        "## 3\\. Inserção, Deleção e Atualização"
      ]
    },
    {
      "cell_type": "markdown",
      "metadata": {
        "id": "gdukZft-DRcG"
      },
      "source": [
        "### **3.1. Série** "
      ]
    },
    {
      "cell_type": "markdown",
      "metadata": {
        "id": "z--x9j7jNMFw"
      },
      "source": [
        "#### 3.1.1 Inserção "
      ]
    },
    {
      "cell_type": "markdown",
      "metadata": {
        "id": "owu5-rt-OW3D"
      },
      "source": [
        "*   **Exemplo**: Adição de elementos com o método `append`:"
      ]
    },
    {
      "cell_type": "code",
      "metadata": {
        "id": "yjlgmbEVMsMo",
        "colab": {
          "base_uri": "https://localhost:8080/"
        },
        "outputId": "471f4932-7566-49d8-a9c8-7537463e11f2"
      },
      "source": [
        "linguagem_serie.append(pd.Series(['java', 'python']), ignore_index=True)"
      ],
      "execution_count": 89,
      "outputs": [
        {
          "output_type": "execute_result",
          "data": {
            "text/plain": [
              "0            Go\n",
              "1    Typescript\n",
              "2            Go\n",
              "3           NaN\n",
              "4    javascript\n",
              "5           NaN\n",
              "6          java\n",
              "7          java\n",
              "8        python\n",
              "dtype: object"
            ]
          },
          "metadata": {
            "tags": []
          },
          "execution_count": 89
        }
      ]
    },
    {
      "cell_type": "markdown",
      "metadata": {
        "id": "MxvmKKUu7uel"
      },
      "source": [
        "**Adicionando liguagens LaTeX, Matlab e R**:"
      ]
    },
    {
      "cell_type": "code",
      "metadata": {
        "id": "_7nq9EE_NXbD"
      },
      "source": [
        "linguagem_serie = linguagem_serie.append(pd.Series(['LaTeX', 'Matlab', 'R']), ignore_index=True)"
      ],
      "execution_count": 103,
      "outputs": []
    },
    {
      "cell_type": "code",
      "metadata": {
        "colab": {
          "base_uri": "https://localhost:8080/"
        },
        "id": "p7LT5Stu7WQg",
        "outputId": "2b9e23dd-d073-4cc8-d051-98088c289fdb"
      },
      "source": [
        "linguagem_serie"
      ],
      "execution_count": 104,
      "outputs": [
        {
          "output_type": "execute_result",
          "data": {
            "text/plain": [
              "0             go\n",
              "1     typescript\n",
              "2             go\n",
              "3            NaN\n",
              "4         python\n",
              "5     javascript\n",
              "6         python\n",
              "7         python\n",
              "8         python\n",
              "9            NaN\n",
              "10    typescript\n",
              "11          java\n",
              "12         LaTeX\n",
              "13        Matlab\n",
              "14             R\n",
              "dtype: object"
            ]
          },
          "metadata": {
            "tags": []
          },
          "execution_count": 104
        }
      ]
    },
    {
      "cell_type": "markdown",
      "metadata": {
        "id": "dqaMZRtk8OHg"
      },
      "source": [
        "**Deletedando a linguagem LaTeX, já que é um sistema de tipografica programável**:"
      ]
    },
    {
      "cell_type": "code",
      "metadata": {
        "id": "k5lf6ReZNbjK",
        "colab": {
          "base_uri": "https://localhost:8080/"
        },
        "outputId": "7c783384-1296-4292-9a2e-9d09cb7a0a01"
      },
      "source": [
        "linguagem_serie = linguagem_serie[lambda linguagem: linguagem != 'LaTeX' ]\n",
        "linguagem_serie.tail()"
      ],
      "execution_count": 106,
      "outputs": [
        {
          "output_type": "execute_result",
          "data": {
            "text/plain": [
              "9            NaN\n",
              "10    typescript\n",
              "11          java\n",
              "13        Matlab\n",
              "14             R\n",
              "dtype: object"
            ]
          },
          "metadata": {
            "tags": []
          },
          "execution_count": 106
        }
      ]
    },
    {
      "cell_type": "markdown",
      "metadata": {
        "id": "bUB9ylHuN2rG"
      },
      "source": [
        "#### 3.1.2 Deleção "
      ]
    },
    {
      "cell_type": "markdown",
      "metadata": {
        "id": "tMakhpZBOlOS"
      },
      "source": [
        "*   **Exemplo**: Remoção de elementos com filtro funcional:"
      ]
    },
    {
      "cell_type": "code",
      "metadata": {
        "id": "AQJkyhOHOMtA"
      },
      "source": [
        "linguagem_serie = linguagem_serie[lambda linguagem: linguagem != 'python']"
      ],
      "execution_count": 67,
      "outputs": []
    },
    {
      "cell_type": "markdown",
      "metadata": {
        "id": "4YEeM0bHQPLY"
      },
      "source": [
        "#### 3.1.3 Atualização "
      ]
    },
    {
      "cell_type": "markdown",
      "metadata": {
        "id": "GM9HuwszQeBA"
      },
      "source": [
        "*   **Exemplo**: Atualização de elementos com indexação simples:"
      ]
    },
    {
      "cell_type": "code",
      "metadata": {
        "id": "UKOqx-xMQcz7"
      },
      "source": [
        "linguagem_serie.loc[0] = 'Go'"
      ],
      "execution_count": 107,
      "outputs": []
    },
    {
      "cell_type": "code",
      "metadata": {
        "id": "_G82hlrnQlAj",
        "colab": {
          "base_uri": "https://localhost:8080/"
        },
        "outputId": "afec7414-2afb-4b54-8c2f-362e398d232c"
      },
      "source": [
        "linguagem_serie"
      ],
      "execution_count": 108,
      "outputs": [
        {
          "output_type": "execute_result",
          "data": {
            "text/plain": [
              "0             Go\n",
              "1     typescript\n",
              "2             go\n",
              "3            NaN\n",
              "4         python\n",
              "5     javascript\n",
              "6         python\n",
              "7         python\n",
              "8         python\n",
              "9            NaN\n",
              "10    typescript\n",
              "11          java\n",
              "13        Matlab\n",
              "14             R\n",
              "dtype: object"
            ]
          },
          "metadata": {
            "tags": []
          },
          "execution_count": 108
        }
      ]
    },
    {
      "cell_type": "markdown",
      "metadata": {
        "id": "_wwufN-BQoaL"
      },
      "source": [
        "*   **Exemplo**: Atualização de elementos com fatiamento ou *slicing*:"
      ]
    },
    {
      "cell_type": "code",
      "metadata": {
        "id": "VyY2zhOoQoaN"
      },
      "source": [
        "linguagem_serie.loc[0:2] = pd.Series(['Go', 'Typescript', 'Go'])"
      ],
      "execution_count": 112,
      "outputs": []
    },
    {
      "cell_type": "code",
      "metadata": {
        "id": "xtsTMdm1QoaO",
        "colab": {
          "base_uri": "https://localhost:8080/"
        },
        "outputId": "b000e26f-40cb-4938-a27e-960bf44678a9"
      },
      "source": [
        "linguagem_serie[11:14] = pd.Series(['Matlab', 'Matlab','Matlab'])\n",
        "linguagem_serie"
      ],
      "execution_count": 116,
      "outputs": [
        {
          "output_type": "execute_result",
          "data": {
            "text/plain": [
              "0             Go\n",
              "1     Typescript\n",
              "2             Go\n",
              "3            NaN\n",
              "4         python\n",
              "5     javascript\n",
              "6         python\n",
              "7         python\n",
              "8         python\n",
              "9            NaN\n",
              "10    typescript\n",
              "11        Matlab\n",
              "13        Matlab\n",
              "14        Matlab\n",
              "dtype: object"
            ]
          },
          "metadata": {
            "tags": []
          },
          "execution_count": 116
        }
      ]
    },
    {
      "cell_type": "markdown",
      "metadata": {
        "id": "inQ16Lp-QPLZ"
      },
      "source": [
        "*   **Exemplo**: Atualização de elementos com filtro funcional:"
      ]
    },
    {
      "cell_type": "code",
      "metadata": {
        "id": "VVOTdQzaQPLa",
        "colab": {
          "base_uri": "https://localhost:8080/"
        },
        "outputId": "ed8eb35e-bfdb-4665-d3fa-c8cd17ea1935"
      },
      "source": [
        "linguagem_serie[lambda linguagem: linguagem == 'python'] = 'Python'"
      ],
      "execution_count": 122,
      "outputs": [
        {
          "output_type": "execute_result",
          "data": {
            "text/plain": [
              "10    False\n",
              "dtype: bool"
            ]
          },
          "metadata": {
            "tags": []
          },
          "execution_count": 122
        }
      ]
    },
    {
      "cell_type": "code",
      "metadata": {
        "id": "hQlJfZQY-L8X"
      },
      "source": [
        "linguagem_serie[lambda linguagem: linguagem == 'typescript'] = 'Typescript'"
      ],
      "execution_count": 125,
      "outputs": []
    },
    {
      "cell_type": "code",
      "metadata": {
        "id": "aOWzgPkVQXS8",
        "colab": {
          "base_uri": "https://localhost:8080/"
        },
        "outputId": "75394b81-1729-483d-baa8-84fc62840537"
      },
      "source": [
        "linguagem_serie"
      ],
      "execution_count": 126,
      "outputs": [
        {
          "output_type": "execute_result",
          "data": {
            "text/plain": [
              "0             Go\n",
              "1     Typescript\n",
              "2             Go\n",
              "3            NaN\n",
              "4         Python\n",
              "5     javascript\n",
              "6         Python\n",
              "7         Python\n",
              "8         Python\n",
              "9            NaN\n",
              "10    Typescript\n",
              "11        Matlab\n",
              "13        Matlab\n",
              "14        Matlab\n",
              "dtype: object"
            ]
          },
          "metadata": {
            "tags": []
          },
          "execution_count": 126
        }
      ]
    },
    {
      "cell_type": "markdown",
      "metadata": {
        "id": "j611vH5T17VR"
      },
      "source": [
        "### **3.2. DataFrame** "
      ]
    },
    {
      "cell_type": "markdown",
      "metadata": {
        "id": "fNrHY7J417Ve"
      },
      "source": [
        "#### 3.1.1 Inserção "
      ]
    },
    {
      "cell_type": "markdown",
      "metadata": {
        "id": "_oYYwO3N17Ve"
      },
      "source": [
        "*   **Exemplo**: Adição de linhas com o método `append`:"
      ]
    },
    {
      "cell_type": "code",
      "metadata": {
        "id": "zuQqbatS3WSi"
      },
      "source": [
        "projeto = dict(ranking=[11], project=['signoz'], language=['typescript'], stars=[2651], stars_today=[491], forks=[115])"
      ],
      "execution_count": 133,
      "outputs": []
    },
    {
      "cell_type": "code",
      "metadata": {
        "id": "pVbfeSbBq8Th",
        "colab": {
          "base_uri": "https://localhost:8080/",
          "height": 421
        },
        "outputId": "391f5e41-5ce9-4d47-89ac-0859054f416b"
      },
      "source": [
        "github_df.append(pd.DataFrame(projeto), ignore_index=True)"
      ],
      "execution_count": 134,
      "outputs": [
        {
          "output_type": "execute_result",
          "data": {
            "text/html": [
              "<div>\n",
              "<style scoped>\n",
              "    .dataframe tbody tr th:only-of-type {\n",
              "        vertical-align: middle;\n",
              "    }\n",
              "\n",
              "    .dataframe tbody tr th {\n",
              "        vertical-align: top;\n",
              "    }\n",
              "\n",
              "    .dataframe thead th {\n",
              "        text-align: right;\n",
              "    }\n",
              "</style>\n",
              "<table border=\"1\" class=\"dataframe\">\n",
              "  <thead>\n",
              "    <tr style=\"text-align: right;\">\n",
              "      <th></th>\n",
              "      <th>ranking</th>\n",
              "      <th>project</th>\n",
              "      <th>language</th>\n",
              "      <th>stars</th>\n",
              "      <th>stars_today</th>\n",
              "      <th>forks</th>\n",
              "      <th>(2, language)</th>\n",
              "    </tr>\n",
              "  </thead>\n",
              "  <tbody>\n",
              "    <tr>\n",
              "      <th>0</th>\n",
              "      <td>1</td>\n",
              "      <td>plow</td>\n",
              "      <td>go</td>\n",
              "      <td>1304</td>\n",
              "      <td>574</td>\n",
              "      <td>38</td>\n",
              "      <td>-</td>\n",
              "    </tr>\n",
              "    <tr>\n",
              "      <th>1</th>\n",
              "      <td>2</td>\n",
              "      <td>n8n</td>\n",
              "      <td>typescript</td>\n",
              "      <td>15668</td>\n",
              "      <td>280</td>\n",
              "      <td>1370</td>\n",
              "      <td>-</td>\n",
              "    </tr>\n",
              "    <tr>\n",
              "      <th>2</th>\n",
              "      <td>3</td>\n",
              "      <td>slides</td>\n",
              "      <td>-</td>\n",
              "      <td>3218</td>\n",
              "      <td>265</td>\n",
              "      <td>80</td>\n",
              "      <td>-</td>\n",
              "    </tr>\n",
              "    <tr>\n",
              "      <th>3</th>\n",
              "      <td>4</td>\n",
              "      <td>defi-developer-road-map</td>\n",
              "      <td>NaN</td>\n",
              "      <td>636</td>\n",
              "      <td>247</td>\n",
              "      <td>49</td>\n",
              "      <td>-</td>\n",
              "    </tr>\n",
              "    <tr>\n",
              "      <th>4</th>\n",
              "      <td>5</td>\n",
              "      <td>pytorch-image-models</td>\n",
              "      <td>python</td>\n",
              "      <td>11065</td>\n",
              "      <td>101</td>\n",
              "      <td>1646</td>\n",
              "      <td>-</td>\n",
              "    </tr>\n",
              "    <tr>\n",
              "      <th>5</th>\n",
              "      <td>6</td>\n",
              "      <td>javascript-algorithms</td>\n",
              "      <td>javascript</td>\n",
              "      <td>110768</td>\n",
              "      <td>248</td>\n",
              "      <td>18331</td>\n",
              "      <td>-</td>\n",
              "    </tr>\n",
              "    <tr>\n",
              "      <th>6</th>\n",
              "      <td>7</td>\n",
              "      <td>paddleclas</td>\n",
              "      <td>python</td>\n",
              "      <td>1429</td>\n",
              "      <td>283</td>\n",
              "      <td>323</td>\n",
              "      <td>-</td>\n",
              "    </tr>\n",
              "    <tr>\n",
              "      <th>7</th>\n",
              "      <td>8</td>\n",
              "      <td>reddit_sentiment_trader</td>\n",
              "      <td>python</td>\n",
              "      <td>369</td>\n",
              "      <td>71</td>\n",
              "      <td>60</td>\n",
              "      <td>-</td>\n",
              "    </tr>\n",
              "    <tr>\n",
              "      <th>8</th>\n",
              "      <td>9</td>\n",
              "      <td>augly</td>\n",
              "      <td>python</td>\n",
              "      <td>2849</td>\n",
              "      <td>393</td>\n",
              "      <td>99</td>\n",
              "      <td>-</td>\n",
              "    </tr>\n",
              "    <tr>\n",
              "      <th>9</th>\n",
              "      <td>10</td>\n",
              "      <td>self-taught-guide-to-cloud-computing</td>\n",
              "      <td>NaN</td>\n",
              "      <td>863</td>\n",
              "      <td>179</td>\n",
              "      <td>84</td>\n",
              "      <td>-</td>\n",
              "    </tr>\n",
              "    <tr>\n",
              "      <th>10</th>\n",
              "      <td>11</td>\n",
              "      <td>signoz</td>\n",
              "      <td>typescript</td>\n",
              "      <td>2651</td>\n",
              "      <td>491</td>\n",
              "      <td>115</td>\n",
              "      <td>-</td>\n",
              "    </tr>\n",
              "    <tr>\n",
              "      <th>11</th>\n",
              "      <td>11</td>\n",
              "      <td>signoz</td>\n",
              "      <td>typescript</td>\n",
              "      <td>2651</td>\n",
              "      <td>491</td>\n",
              "      <td>115</td>\n",
              "      <td>NaN</td>\n",
              "    </tr>\n",
              "  </tbody>\n",
              "</table>\n",
              "</div>"
            ],
            "text/plain": [
              "    ranking                               project  ...  forks  (2, language)\n",
              "0         1                                  plow  ...     38              -\n",
              "1         2                                   n8n  ...   1370              -\n",
              "2         3                                slides  ...     80              -\n",
              "3         4               defi-developer-road-map  ...     49              -\n",
              "4         5                  pytorch-image-models  ...   1646              -\n",
              "5         6                 javascript-algorithms  ...  18331              -\n",
              "6         7                            paddleclas  ...    323              -\n",
              "7         8               reddit_sentiment_trader  ...     60              -\n",
              "8         9                                 augly  ...     99              -\n",
              "9        10  self-taught-guide-to-cloud-computing  ...     84              -\n",
              "10       11                                signoz  ...    115              -\n",
              "11       11                                signoz  ...    115            NaN\n",
              "\n",
              "[12 rows x 7 columns]"
            ]
          },
          "metadata": {
            "tags": []
          },
          "execution_count": 134
        }
      ]
    },
    {
      "cell_type": "code",
      "metadata": {
        "id": "0qwcKClP17Vf"
      },
      "source": [
        "github_df = github_df.append(pd.DataFrame(projeto), ignore_index=True)"
      ],
      "execution_count": 138,
      "outputs": []
    },
    {
      "cell_type": "code",
      "metadata": {
        "id": "J_24ezqS17Vf",
        "colab": {
          "base_uri": "https://localhost:8080/",
          "height": 421
        },
        "outputId": "ffba521c-db13-46f8-985f-52d92dff13e3"
      },
      "source": [
        "github_df"
      ],
      "execution_count": 139,
      "outputs": [
        {
          "output_type": "execute_result",
          "data": {
            "text/html": [
              "<div>\n",
              "<style scoped>\n",
              "    .dataframe tbody tr th:only-of-type {\n",
              "        vertical-align: middle;\n",
              "    }\n",
              "\n",
              "    .dataframe tbody tr th {\n",
              "        vertical-align: top;\n",
              "    }\n",
              "\n",
              "    .dataframe thead th {\n",
              "        text-align: right;\n",
              "    }\n",
              "</style>\n",
              "<table border=\"1\" class=\"dataframe\">\n",
              "  <thead>\n",
              "    <tr style=\"text-align: right;\">\n",
              "      <th></th>\n",
              "      <th>ranking</th>\n",
              "      <th>project</th>\n",
              "      <th>language</th>\n",
              "      <th>stars</th>\n",
              "      <th>stars_today</th>\n",
              "      <th>forks</th>\n",
              "    </tr>\n",
              "  </thead>\n",
              "  <tbody>\n",
              "    <tr>\n",
              "      <th>0</th>\n",
              "      <td>1</td>\n",
              "      <td>plow</td>\n",
              "      <td>go</td>\n",
              "      <td>1304</td>\n",
              "      <td>574</td>\n",
              "      <td>38</td>\n",
              "    </tr>\n",
              "    <tr>\n",
              "      <th>1</th>\n",
              "      <td>2</td>\n",
              "      <td>n8n</td>\n",
              "      <td>typescript</td>\n",
              "      <td>15668</td>\n",
              "      <td>280</td>\n",
              "      <td>1370</td>\n",
              "    </tr>\n",
              "    <tr>\n",
              "      <th>2</th>\n",
              "      <td>3</td>\n",
              "      <td>slides</td>\n",
              "      <td>-</td>\n",
              "      <td>3218</td>\n",
              "      <td>265</td>\n",
              "      <td>80</td>\n",
              "    </tr>\n",
              "    <tr>\n",
              "      <th>3</th>\n",
              "      <td>4</td>\n",
              "      <td>defi-developer-road-map</td>\n",
              "      <td>NaN</td>\n",
              "      <td>636</td>\n",
              "      <td>247</td>\n",
              "      <td>49</td>\n",
              "    </tr>\n",
              "    <tr>\n",
              "      <th>4</th>\n",
              "      <td>5</td>\n",
              "      <td>pytorch-image-models</td>\n",
              "      <td>python</td>\n",
              "      <td>11065</td>\n",
              "      <td>101</td>\n",
              "      <td>1646</td>\n",
              "    </tr>\n",
              "    <tr>\n",
              "      <th>5</th>\n",
              "      <td>6</td>\n",
              "      <td>javascript-algorithms</td>\n",
              "      <td>javascript</td>\n",
              "      <td>110768</td>\n",
              "      <td>248</td>\n",
              "      <td>18331</td>\n",
              "    </tr>\n",
              "    <tr>\n",
              "      <th>6</th>\n",
              "      <td>7</td>\n",
              "      <td>paddleclas</td>\n",
              "      <td>python</td>\n",
              "      <td>1429</td>\n",
              "      <td>283</td>\n",
              "      <td>323</td>\n",
              "    </tr>\n",
              "    <tr>\n",
              "      <th>7</th>\n",
              "      <td>8</td>\n",
              "      <td>reddit_sentiment_trader</td>\n",
              "      <td>python</td>\n",
              "      <td>369</td>\n",
              "      <td>71</td>\n",
              "      <td>60</td>\n",
              "    </tr>\n",
              "    <tr>\n",
              "      <th>8</th>\n",
              "      <td>9</td>\n",
              "      <td>augly</td>\n",
              "      <td>python</td>\n",
              "      <td>2849</td>\n",
              "      <td>393</td>\n",
              "      <td>99</td>\n",
              "    </tr>\n",
              "    <tr>\n",
              "      <th>9</th>\n",
              "      <td>10</td>\n",
              "      <td>self-taught-guide-to-cloud-computing</td>\n",
              "      <td>NaN</td>\n",
              "      <td>863</td>\n",
              "      <td>179</td>\n",
              "      <td>84</td>\n",
              "    </tr>\n",
              "    <tr>\n",
              "      <th>10</th>\n",
              "      <td>11</td>\n",
              "      <td>signoz</td>\n",
              "      <td>typescript</td>\n",
              "      <td>2651</td>\n",
              "      <td>491</td>\n",
              "      <td>115</td>\n",
              "    </tr>\n",
              "    <tr>\n",
              "      <th>11</th>\n",
              "      <td>11</td>\n",
              "      <td>signoz</td>\n",
              "      <td>typescript</td>\n",
              "      <td>2651</td>\n",
              "      <td>491</td>\n",
              "      <td>115</td>\n",
              "    </tr>\n",
              "  </tbody>\n",
              "</table>\n",
              "</div>"
            ],
            "text/plain": [
              "    ranking                               project  ... stars_today  forks\n",
              "0         1                                  plow  ...         574     38\n",
              "1         2                                   n8n  ...         280   1370\n",
              "2         3                                slides  ...         265     80\n",
              "3         4               defi-developer-road-map  ...         247     49\n",
              "4         5                  pytorch-image-models  ...         101   1646\n",
              "5         6                 javascript-algorithms  ...         248  18331\n",
              "6         7                            paddleclas  ...         283    323\n",
              "7         8               reddit_sentiment_trader  ...          71     60\n",
              "8         9                                 augly  ...         393     99\n",
              "9        10  self-taught-guide-to-cloud-computing  ...         179     84\n",
              "10       11                                signoz  ...         491    115\n",
              "11       11                                signoz  ...         491    115\n",
              "\n",
              "[12 rows x 6 columns]"
            ]
          },
          "metadata": {
            "tags": []
          },
          "execution_count": 139
        }
      ]
    },
    {
      "cell_type": "markdown",
      "metadata": {
        "id": "WaYRDfOa17Vg"
      },
      "source": [
        "#### 3.1.2 Deleção "
      ]
    },
    {
      "cell_type": "markdown",
      "metadata": {
        "id": "lsHwn5YW17Vg"
      },
      "source": [
        "*   **Exemplo**: Remoção de linhas com o método `query`:"
      ]
    },
    {
      "cell_type": "code",
      "metadata": {
        "id": "_5KzgV2r17Vg",
        "colab": {
          "base_uri": "https://localhost:8080/",
          "height": 359
        },
        "outputId": "69f76e01-a422-4f45-b64e-eed94d28040b"
      },
      "source": [
        "github_df.query('language != \"Python\"')\n",
        "github_df.query('forks > 50')"
      ],
      "execution_count": 140,
      "outputs": [
        {
          "output_type": "execute_result",
          "data": {
            "text/html": [
              "<div>\n",
              "<style scoped>\n",
              "    .dataframe tbody tr th:only-of-type {\n",
              "        vertical-align: middle;\n",
              "    }\n",
              "\n",
              "    .dataframe tbody tr th {\n",
              "        vertical-align: top;\n",
              "    }\n",
              "\n",
              "    .dataframe thead th {\n",
              "        text-align: right;\n",
              "    }\n",
              "</style>\n",
              "<table border=\"1\" class=\"dataframe\">\n",
              "  <thead>\n",
              "    <tr style=\"text-align: right;\">\n",
              "      <th></th>\n",
              "      <th>ranking</th>\n",
              "      <th>project</th>\n",
              "      <th>language</th>\n",
              "      <th>stars</th>\n",
              "      <th>stars_today</th>\n",
              "      <th>forks</th>\n",
              "    </tr>\n",
              "  </thead>\n",
              "  <tbody>\n",
              "    <tr>\n",
              "      <th>1</th>\n",
              "      <td>2</td>\n",
              "      <td>n8n</td>\n",
              "      <td>typescript</td>\n",
              "      <td>15668</td>\n",
              "      <td>280</td>\n",
              "      <td>1370</td>\n",
              "    </tr>\n",
              "    <tr>\n",
              "      <th>2</th>\n",
              "      <td>3</td>\n",
              "      <td>slides</td>\n",
              "      <td>-</td>\n",
              "      <td>3218</td>\n",
              "      <td>265</td>\n",
              "      <td>80</td>\n",
              "    </tr>\n",
              "    <tr>\n",
              "      <th>4</th>\n",
              "      <td>5</td>\n",
              "      <td>pytorch-image-models</td>\n",
              "      <td>python</td>\n",
              "      <td>11065</td>\n",
              "      <td>101</td>\n",
              "      <td>1646</td>\n",
              "    </tr>\n",
              "    <tr>\n",
              "      <th>5</th>\n",
              "      <td>6</td>\n",
              "      <td>javascript-algorithms</td>\n",
              "      <td>javascript</td>\n",
              "      <td>110768</td>\n",
              "      <td>248</td>\n",
              "      <td>18331</td>\n",
              "    </tr>\n",
              "    <tr>\n",
              "      <th>6</th>\n",
              "      <td>7</td>\n",
              "      <td>paddleclas</td>\n",
              "      <td>python</td>\n",
              "      <td>1429</td>\n",
              "      <td>283</td>\n",
              "      <td>323</td>\n",
              "    </tr>\n",
              "    <tr>\n",
              "      <th>7</th>\n",
              "      <td>8</td>\n",
              "      <td>reddit_sentiment_trader</td>\n",
              "      <td>python</td>\n",
              "      <td>369</td>\n",
              "      <td>71</td>\n",
              "      <td>60</td>\n",
              "    </tr>\n",
              "    <tr>\n",
              "      <th>8</th>\n",
              "      <td>9</td>\n",
              "      <td>augly</td>\n",
              "      <td>python</td>\n",
              "      <td>2849</td>\n",
              "      <td>393</td>\n",
              "      <td>99</td>\n",
              "    </tr>\n",
              "    <tr>\n",
              "      <th>9</th>\n",
              "      <td>10</td>\n",
              "      <td>self-taught-guide-to-cloud-computing</td>\n",
              "      <td>NaN</td>\n",
              "      <td>863</td>\n",
              "      <td>179</td>\n",
              "      <td>84</td>\n",
              "    </tr>\n",
              "    <tr>\n",
              "      <th>10</th>\n",
              "      <td>11</td>\n",
              "      <td>signoz</td>\n",
              "      <td>typescript</td>\n",
              "      <td>2651</td>\n",
              "      <td>491</td>\n",
              "      <td>115</td>\n",
              "    </tr>\n",
              "    <tr>\n",
              "      <th>11</th>\n",
              "      <td>11</td>\n",
              "      <td>signoz</td>\n",
              "      <td>typescript</td>\n",
              "      <td>2651</td>\n",
              "      <td>491</td>\n",
              "      <td>115</td>\n",
              "    </tr>\n",
              "  </tbody>\n",
              "</table>\n",
              "</div>"
            ],
            "text/plain": [
              "    ranking                               project  ... stars_today  forks\n",
              "1         2                                   n8n  ...         280   1370\n",
              "2         3                                slides  ...         265     80\n",
              "4         5                  pytorch-image-models  ...         101   1646\n",
              "5         6                 javascript-algorithms  ...         248  18331\n",
              "6         7                            paddleclas  ...         283    323\n",
              "7         8               reddit_sentiment_trader  ...          71     60\n",
              "8         9                                 augly  ...         393     99\n",
              "9        10  self-taught-guide-to-cloud-computing  ...         179     84\n",
              "10       11                                signoz  ...         491    115\n",
              "11       11                                signoz  ...         491    115\n",
              "\n",
              "[10 rows x 6 columns]"
            ]
          },
          "metadata": {
            "tags": []
          },
          "execution_count": 140
        }
      ]
    },
    {
      "cell_type": "markdown",
      "metadata": {
        "id": "jVVopMlp17Vh"
      },
      "source": [
        "#### 3.1.3 Atualização "
      ]
    },
    {
      "cell_type": "markdown",
      "metadata": {
        "id": "aWD3-Vzr17Vh"
      },
      "source": [
        "*   **Exemplo**: Atualização de **um** elemento com o método `loc`:"
      ]
    },
    {
      "cell_type": "code",
      "metadata": {
        "id": "uBkSfRDXqDO7"
      },
      "source": [
        "github_df.loc[0, 'language'] = 'go'"
      ],
      "execution_count": 141,
      "outputs": []
    },
    {
      "cell_type": "code",
      "metadata": {
        "id": "AZ_meqgS17Vi",
        "colab": {
          "base_uri": "https://localhost:8080/",
          "height": 421
        },
        "outputId": "d0c8fd3b-716d-467d-d9c0-4faffe663609"
      },
      "source": [
        "github_df.loc[2, 'language'] = '-'\n",
        "github_df"
      ],
      "execution_count": 142,
      "outputs": [
        {
          "output_type": "execute_result",
          "data": {
            "text/html": [
              "<div>\n",
              "<style scoped>\n",
              "    .dataframe tbody tr th:only-of-type {\n",
              "        vertical-align: middle;\n",
              "    }\n",
              "\n",
              "    .dataframe tbody tr th {\n",
              "        vertical-align: top;\n",
              "    }\n",
              "\n",
              "    .dataframe thead th {\n",
              "        text-align: right;\n",
              "    }\n",
              "</style>\n",
              "<table border=\"1\" class=\"dataframe\">\n",
              "  <thead>\n",
              "    <tr style=\"text-align: right;\">\n",
              "      <th></th>\n",
              "      <th>ranking</th>\n",
              "      <th>project</th>\n",
              "      <th>language</th>\n",
              "      <th>stars</th>\n",
              "      <th>stars_today</th>\n",
              "      <th>forks</th>\n",
              "    </tr>\n",
              "  </thead>\n",
              "  <tbody>\n",
              "    <tr>\n",
              "      <th>0</th>\n",
              "      <td>1</td>\n",
              "      <td>plow</td>\n",
              "      <td>go</td>\n",
              "      <td>1304</td>\n",
              "      <td>574</td>\n",
              "      <td>38</td>\n",
              "    </tr>\n",
              "    <tr>\n",
              "      <th>1</th>\n",
              "      <td>2</td>\n",
              "      <td>n8n</td>\n",
              "      <td>typescript</td>\n",
              "      <td>15668</td>\n",
              "      <td>280</td>\n",
              "      <td>1370</td>\n",
              "    </tr>\n",
              "    <tr>\n",
              "      <th>2</th>\n",
              "      <td>3</td>\n",
              "      <td>slides</td>\n",
              "      <td>-</td>\n",
              "      <td>3218</td>\n",
              "      <td>265</td>\n",
              "      <td>80</td>\n",
              "    </tr>\n",
              "    <tr>\n",
              "      <th>3</th>\n",
              "      <td>4</td>\n",
              "      <td>defi-developer-road-map</td>\n",
              "      <td>NaN</td>\n",
              "      <td>636</td>\n",
              "      <td>247</td>\n",
              "      <td>49</td>\n",
              "    </tr>\n",
              "    <tr>\n",
              "      <th>4</th>\n",
              "      <td>5</td>\n",
              "      <td>pytorch-image-models</td>\n",
              "      <td>python</td>\n",
              "      <td>11065</td>\n",
              "      <td>101</td>\n",
              "      <td>1646</td>\n",
              "    </tr>\n",
              "    <tr>\n",
              "      <th>5</th>\n",
              "      <td>6</td>\n",
              "      <td>javascript-algorithms</td>\n",
              "      <td>javascript</td>\n",
              "      <td>110768</td>\n",
              "      <td>248</td>\n",
              "      <td>18331</td>\n",
              "    </tr>\n",
              "    <tr>\n",
              "      <th>6</th>\n",
              "      <td>7</td>\n",
              "      <td>paddleclas</td>\n",
              "      <td>python</td>\n",
              "      <td>1429</td>\n",
              "      <td>283</td>\n",
              "      <td>323</td>\n",
              "    </tr>\n",
              "    <tr>\n",
              "      <th>7</th>\n",
              "      <td>8</td>\n",
              "      <td>reddit_sentiment_trader</td>\n",
              "      <td>python</td>\n",
              "      <td>369</td>\n",
              "      <td>71</td>\n",
              "      <td>60</td>\n",
              "    </tr>\n",
              "    <tr>\n",
              "      <th>8</th>\n",
              "      <td>9</td>\n",
              "      <td>augly</td>\n",
              "      <td>python</td>\n",
              "      <td>2849</td>\n",
              "      <td>393</td>\n",
              "      <td>99</td>\n",
              "    </tr>\n",
              "    <tr>\n",
              "      <th>9</th>\n",
              "      <td>10</td>\n",
              "      <td>self-taught-guide-to-cloud-computing</td>\n",
              "      <td>NaN</td>\n",
              "      <td>863</td>\n",
              "      <td>179</td>\n",
              "      <td>84</td>\n",
              "    </tr>\n",
              "    <tr>\n",
              "      <th>10</th>\n",
              "      <td>11</td>\n",
              "      <td>signoz</td>\n",
              "      <td>typescript</td>\n",
              "      <td>2651</td>\n",
              "      <td>491</td>\n",
              "      <td>115</td>\n",
              "    </tr>\n",
              "    <tr>\n",
              "      <th>11</th>\n",
              "      <td>11</td>\n",
              "      <td>signoz</td>\n",
              "      <td>typescript</td>\n",
              "      <td>2651</td>\n",
              "      <td>491</td>\n",
              "      <td>115</td>\n",
              "    </tr>\n",
              "  </tbody>\n",
              "</table>\n",
              "</div>"
            ],
            "text/plain": [
              "    ranking                               project  ... stars_today  forks\n",
              "0         1                                  plow  ...         574     38\n",
              "1         2                                   n8n  ...         280   1370\n",
              "2         3                                slides  ...         265     80\n",
              "3         4               defi-developer-road-map  ...         247     49\n",
              "4         5                  pytorch-image-models  ...         101   1646\n",
              "5         6                 javascript-algorithms  ...         248  18331\n",
              "6         7                            paddleclas  ...         283    323\n",
              "7         8               reddit_sentiment_trader  ...          71     60\n",
              "8         9                                 augly  ...         393     99\n",
              "9        10  self-taught-guide-to-cloud-computing  ...         179     84\n",
              "10       11                                signoz  ...         491    115\n",
              "11       11                                signoz  ...         491    115\n",
              "\n",
              "[12 rows x 6 columns]"
            ]
          },
          "metadata": {
            "tags": []
          },
          "execution_count": 142
        }
      ]
    },
    {
      "cell_type": "markdown",
      "metadata": {
        "id": "8nPYCMeM17Vi"
      },
      "source": [
        "*   **Exemplo**: Atualização de **diversos** elementos com o método `apply`:"
      ]
    },
    {
      "cell_type": "code",
      "metadata": {
        "id": "38d2dB0317Vi"
      },
      "source": [
        "github_df['language'] = github_df['language'].apply(lambda linguagem: 'python' if linguagem == 'Python' else linguagem)"
      ],
      "execution_count": 82,
      "outputs": []
    },
    {
      "cell_type": "code",
      "metadata": {
        "id": "fqy4o5lM17Vj",
        "colab": {
          "base_uri": "https://localhost:8080/",
          "height": 421
        },
        "outputId": "5f86b0a6-1753-4f40-bd3b-dad0b100ce06"
      },
      "source": [
        "github_df['language'] = github_df['language'].apply(lambda linguagem: 'Java' if linguagem == 'javascript' else linguagem) \n",
        "github_df"
      ],
      "execution_count": 144,
      "outputs": [
        {
          "output_type": "execute_result",
          "data": {
            "text/html": [
              "<div>\n",
              "<style scoped>\n",
              "    .dataframe tbody tr th:only-of-type {\n",
              "        vertical-align: middle;\n",
              "    }\n",
              "\n",
              "    .dataframe tbody tr th {\n",
              "        vertical-align: top;\n",
              "    }\n",
              "\n",
              "    .dataframe thead th {\n",
              "        text-align: right;\n",
              "    }\n",
              "</style>\n",
              "<table border=\"1\" class=\"dataframe\">\n",
              "  <thead>\n",
              "    <tr style=\"text-align: right;\">\n",
              "      <th></th>\n",
              "      <th>ranking</th>\n",
              "      <th>project</th>\n",
              "      <th>language</th>\n",
              "      <th>stars</th>\n",
              "      <th>stars_today</th>\n",
              "      <th>forks</th>\n",
              "    </tr>\n",
              "  </thead>\n",
              "  <tbody>\n",
              "    <tr>\n",
              "      <th>0</th>\n",
              "      <td>1</td>\n",
              "      <td>plow</td>\n",
              "      <td>go</td>\n",
              "      <td>1304</td>\n",
              "      <td>574</td>\n",
              "      <td>38</td>\n",
              "    </tr>\n",
              "    <tr>\n",
              "      <th>1</th>\n",
              "      <td>2</td>\n",
              "      <td>n8n</td>\n",
              "      <td>typescript</td>\n",
              "      <td>15668</td>\n",
              "      <td>280</td>\n",
              "      <td>1370</td>\n",
              "    </tr>\n",
              "    <tr>\n",
              "      <th>2</th>\n",
              "      <td>3</td>\n",
              "      <td>slides</td>\n",
              "      <td>-</td>\n",
              "      <td>3218</td>\n",
              "      <td>265</td>\n",
              "      <td>80</td>\n",
              "    </tr>\n",
              "    <tr>\n",
              "      <th>3</th>\n",
              "      <td>4</td>\n",
              "      <td>defi-developer-road-map</td>\n",
              "      <td>NaN</td>\n",
              "      <td>636</td>\n",
              "      <td>247</td>\n",
              "      <td>49</td>\n",
              "    </tr>\n",
              "    <tr>\n",
              "      <th>4</th>\n",
              "      <td>5</td>\n",
              "      <td>pytorch-image-models</td>\n",
              "      <td>python</td>\n",
              "      <td>11065</td>\n",
              "      <td>101</td>\n",
              "      <td>1646</td>\n",
              "    </tr>\n",
              "    <tr>\n",
              "      <th>5</th>\n",
              "      <td>6</td>\n",
              "      <td>javascript-algorithms</td>\n",
              "      <td>Java</td>\n",
              "      <td>110768</td>\n",
              "      <td>248</td>\n",
              "      <td>18331</td>\n",
              "    </tr>\n",
              "    <tr>\n",
              "      <th>6</th>\n",
              "      <td>7</td>\n",
              "      <td>paddleclas</td>\n",
              "      <td>python</td>\n",
              "      <td>1429</td>\n",
              "      <td>283</td>\n",
              "      <td>323</td>\n",
              "    </tr>\n",
              "    <tr>\n",
              "      <th>7</th>\n",
              "      <td>8</td>\n",
              "      <td>reddit_sentiment_trader</td>\n",
              "      <td>python</td>\n",
              "      <td>369</td>\n",
              "      <td>71</td>\n",
              "      <td>60</td>\n",
              "    </tr>\n",
              "    <tr>\n",
              "      <th>8</th>\n",
              "      <td>9</td>\n",
              "      <td>augly</td>\n",
              "      <td>python</td>\n",
              "      <td>2849</td>\n",
              "      <td>393</td>\n",
              "      <td>99</td>\n",
              "    </tr>\n",
              "    <tr>\n",
              "      <th>9</th>\n",
              "      <td>10</td>\n",
              "      <td>self-taught-guide-to-cloud-computing</td>\n",
              "      <td>NaN</td>\n",
              "      <td>863</td>\n",
              "      <td>179</td>\n",
              "      <td>84</td>\n",
              "    </tr>\n",
              "    <tr>\n",
              "      <th>10</th>\n",
              "      <td>11</td>\n",
              "      <td>signoz</td>\n",
              "      <td>typescript</td>\n",
              "      <td>2651</td>\n",
              "      <td>491</td>\n",
              "      <td>115</td>\n",
              "    </tr>\n",
              "    <tr>\n",
              "      <th>11</th>\n",
              "      <td>11</td>\n",
              "      <td>signoz</td>\n",
              "      <td>typescript</td>\n",
              "      <td>2651</td>\n",
              "      <td>491</td>\n",
              "      <td>115</td>\n",
              "    </tr>\n",
              "  </tbody>\n",
              "</table>\n",
              "</div>"
            ],
            "text/plain": [
              "    ranking                               project  ... stars_today  forks\n",
              "0         1                                  plow  ...         574     38\n",
              "1         2                                   n8n  ...         280   1370\n",
              "2         3                                slides  ...         265     80\n",
              "3         4               defi-developer-road-map  ...         247     49\n",
              "4         5                  pytorch-image-models  ...         101   1646\n",
              "5         6                 javascript-algorithms  ...         248  18331\n",
              "6         7                            paddleclas  ...         283    323\n",
              "7         8               reddit_sentiment_trader  ...          71     60\n",
              "8         9                                 augly  ...         393     99\n",
              "9        10  self-taught-guide-to-cloud-computing  ...         179     84\n",
              "10       11                                signoz  ...         491    115\n",
              "11       11                                signoz  ...         491    115\n",
              "\n",
              "[12 rows x 6 columns]"
            ]
          },
          "metadata": {
            "tags": []
          },
          "execution_count": 144
        }
      ]
    }
  ]
}